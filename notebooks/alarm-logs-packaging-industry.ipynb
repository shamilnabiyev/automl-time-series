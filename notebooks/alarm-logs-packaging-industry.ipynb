{
 "cells": [
  {
   "cell_type": "markdown",
   "id": "7def422d",
   "metadata": {},
   "source": [
    "# Alarm Logs in Packaging Industry (ALPI)"
   ]
  },
  {
   "cell_type": "code",
   "execution_count": 1,
   "id": "bee73025",
   "metadata": {},
   "outputs": [],
   "source": [
    "import json\n",
    "import pandas as pd\n",
    "import numpy as np\n",
    "import matplotlib.pyplot as plt\n",
    "\n",
    "%matplotlib inline"
   ]
  },
  {
   "cell_type": "markdown",
   "id": "e75c1672",
   "metadata": {},
   "source": [
    "Dataset source: https://ieee-dataport.org/open-access/alarm-logs-packaging-industry-alpi"
   ]
  },
  {
   "cell_type": "code",
   "execution_count": 2,
   "id": "06ecc071",
   "metadata": {
    "scrolled": false
   },
   "outputs": [
    {
     "data": {
      "text/html": [
       "<div>\n",
       "<style scoped>\n",
       "    .dataframe tbody tr th:only-of-type {\n",
       "        vertical-align: middle;\n",
       "    }\n",
       "\n",
       "    .dataframe tbody tr th {\n",
       "        vertical-align: top;\n",
       "    }\n",
       "\n",
       "    .dataframe thead th {\n",
       "        text-align: right;\n",
       "    }\n",
       "</style>\n",
       "<table border=\"1\" class=\"dataframe\">\n",
       "  <thead>\n",
       "    <tr style=\"text-align: right;\">\n",
       "      <th></th>\n",
       "      <th>timestamp</th>\n",
       "      <th>alarm</th>\n",
       "      <th>serial</th>\n",
       "    </tr>\n",
       "  </thead>\n",
       "  <tbody>\n",
       "    <tr>\n",
       "      <th>0</th>\n",
       "      <td>2019-02-21 19:57:57.532</td>\n",
       "      <td>139</td>\n",
       "      <td>4</td>\n",
       "    </tr>\n",
       "    <tr>\n",
       "      <th>1</th>\n",
       "      <td>2019-02-21 19:58:28.293</td>\n",
       "      <td>139</td>\n",
       "      <td>4</td>\n",
       "    </tr>\n",
       "    <tr>\n",
       "      <th>2</th>\n",
       "      <td>2019-02-21 19:58:32.853</td>\n",
       "      <td>139</td>\n",
       "      <td>4</td>\n",
       "    </tr>\n",
       "    <tr>\n",
       "      <th>3</th>\n",
       "      <td>2019-02-21 19:59:05.387</td>\n",
       "      <td>139</td>\n",
       "      <td>4</td>\n",
       "    </tr>\n",
       "    <tr>\n",
       "      <th>4</th>\n",
       "      <td>2019-02-21 20:02:05.832</td>\n",
       "      <td>139</td>\n",
       "      <td>4</td>\n",
       "    </tr>\n",
       "  </tbody>\n",
       "</table>\n",
       "</div>"
      ],
      "text/plain": [
       "                timestamp  alarm  serial\n",
       "0 2019-02-21 19:57:57.532    139       4\n",
       "1 2019-02-21 19:58:28.293    139       4\n",
       "2 2019-02-21 19:58:32.853    139       4\n",
       "3 2019-02-21 19:59:05.387    139       4\n",
       "4 2019-02-21 20:02:05.832    139       4"
      ]
     },
     "metadata": {},
     "output_type": "display_data"
    },
    {
     "name": "stdout",
     "output_type": "stream",
     "text": [
      "Num. rows: 444834\n"
     ]
    }
   ],
   "source": [
    "data_path = \"../data/alarms-log-data/raw/alarms.csv\"\n",
    "df = pd.read_csv(data_path)\n",
    "df[\"timestamp\"] = pd.to_datetime(df[\"timestamp\"])\n",
    "\n",
    "display(df.head())\n",
    "print(\"Num. rows:\", len(df))"
   ]
  },
  {
   "cell_type": "code",
   "execution_count": 3,
   "id": "28a989aa",
   "metadata": {},
   "outputs": [
    {
     "data": {
      "text/html": [
       "<div>\n",
       "<style scoped>\n",
       "    .dataframe tbody tr th:only-of-type {\n",
       "        vertical-align: middle;\n",
       "    }\n",
       "\n",
       "    .dataframe tbody tr th {\n",
       "        vertical-align: top;\n",
       "    }\n",
       "\n",
       "    .dataframe thead th {\n",
       "        text-align: right;\n",
       "    }\n",
       "</style>\n",
       "<table border=\"1\" class=\"dataframe\">\n",
       "  <thead>\n",
       "    <tr style=\"text-align: right;\">\n",
       "      <th></th>\n",
       "      <th>timestamp</th>\n",
       "      <th>alarm</th>\n",
       "      <th>serial</th>\n",
       "    </tr>\n",
       "  </thead>\n",
       "  <tbody>\n",
       "    <tr>\n",
       "      <th>0</th>\n",
       "      <td>2019-02-21 19:57:58</td>\n",
       "      <td>139</td>\n",
       "      <td>4</td>\n",
       "    </tr>\n",
       "    <tr>\n",
       "      <th>1</th>\n",
       "      <td>2019-02-21 19:58:29</td>\n",
       "      <td>139</td>\n",
       "      <td>4</td>\n",
       "    </tr>\n",
       "    <tr>\n",
       "      <th>2</th>\n",
       "      <td>2019-02-21 19:58:33</td>\n",
       "      <td>139</td>\n",
       "      <td>4</td>\n",
       "    </tr>\n",
       "    <tr>\n",
       "      <th>3</th>\n",
       "      <td>2019-02-21 19:59:06</td>\n",
       "      <td>139</td>\n",
       "      <td>4</td>\n",
       "    </tr>\n",
       "    <tr>\n",
       "      <th>4</th>\n",
       "      <td>2019-02-21 20:02:06</td>\n",
       "      <td>139</td>\n",
       "      <td>4</td>\n",
       "    </tr>\n",
       "  </tbody>\n",
       "</table>\n",
       "</div>"
      ],
      "text/plain": [
       "            timestamp  alarm  serial\n",
       "0 2019-02-21 19:57:58    139       4\n",
       "1 2019-02-21 19:58:29    139       4\n",
       "2 2019-02-21 19:58:33    139       4\n",
       "3 2019-02-21 19:59:06    139       4\n",
       "4 2019-02-21 20:02:06    139       4"
      ]
     },
     "metadata": {},
     "output_type": "display_data"
    },
    {
     "name": "stdout",
     "output_type": "stream",
     "text": [
      "Num. rows: 442797\n"
     ]
    }
   ],
   "source": [
    "df_1sec = df.copy()\n",
    "df_1sec[\"timestamp\"] = df_1sec[\"timestamp\"].dt.ceil(freq='s')\n",
    "df_1sec = df_1sec.drop_duplicates()\n",
    "df_1sec = df_1sec.reset_index(drop=True)\n",
    "\n",
    "display(df_1sec.head())\n",
    "print(\"Num. rows:\", len(df_1sec))"
   ]
  },
  {
   "cell_type": "code",
   "execution_count": 4,
   "id": "c2c8fd15",
   "metadata": {},
   "outputs": [],
   "source": [
    "machines = df_1sec[\"serial\"].value_counts()\n",
    "machines = pd.DataFrame(machines)\n",
    "machines = machines.sort_values(by=[\"serial\"])\n",
    "# machines.head()"
   ]
  },
  {
   "cell_type": "code",
   "execution_count": 5,
   "id": "783064eb",
   "metadata": {},
   "outputs": [
    {
     "data": {
      "image/png": "[encoded data removed]",
      "text/plain": [
       "<Figure size 432x288 with 1 Axes>"
      ]
     },
     "metadata": {
      "needs_background": "light"
     },
     "output_type": "display_data"
    }
   ],
   "source": [
    "machine_ids = list(map(lambda x: str(x), machines.index))\n",
    "\n",
    "plt.bar(machine_ids, machines.serial)\n",
    "plt.title(\"Alarm occurrences for each machine ID\")\n",
    "plt.xlabel(\"Machine ID\")\n",
    "plt.ylabel(\"Alarm count\")\n",
    "plt.show()"
   ]
  },
  {
   "cell_type": "code",
   "execution_count": 6,
   "id": "b13e6fda",
   "metadata": {},
   "outputs": [],
   "source": [
    "alarms = df_1sec[\"alarm\"].value_counts()\n",
    "alarms = pd.DataFrame(alarms)\n",
    "alarms = alarms.sort_values(by=[\"alarm\"])\n",
    "# alarms.head()"
   ]
  },
  {
   "cell_type": "code",
   "execution_count": 7,
   "id": "3328cf5d",
   "metadata": {},
   "outputs": [
    {
     "data": {
      "image/png": "[encoded data removed]",
      "text/plain": [
       "<Figure size 432x288 with 1 Axes>"
      ]
     },
     "metadata": {
      "needs_background": "light"
     },
     "output_type": "display_data"
    }
   ],
   "source": [
    "alarm_ids = list(map(lambda x: str(x), alarms.index))\n",
    "\n",
    "top_n = 15\n",
    "plt.bar(alarm_ids[-top_n:], alarms.alarm[-top_n:])\n",
    "plt.title(f\" Top {top_n} alarm occurrences for all machines\")\n",
    "plt.xlabel(\"Alarm ID\")\n",
    "plt.ylabel(\"Count\")\n",
    "plt.show()"
   ]
  },
  {
   "cell_type": "code",
   "execution_count": 8,
   "id": "21a91e97",
   "metadata": {
    "scrolled": true
   },
   "outputs": [
    {
     "data": {
      "image/png": "[encoded data removed]",
      "text/plain": [
       "<Figure size 432x288 with 1 Axes>"
      ]
     },
     "metadata": {
      "needs_background": "light"
     },
     "output_type": "display_data"
    }
   ],
   "source": [
    "machine_6 = df_1sec[df_1sec[\"serial\"] == 6]\n",
    "\n",
    "alarms = machine_6[\"alarm\"].value_counts()\n",
    "alarms = pd.DataFrame(alarms)\n",
    "alarms = alarms.sort_values(by=[\"alarm\"])\n",
    "\n",
    "alarm_ids = list(map(lambda x: str(x), alarms.index))\n",
    "\n",
    "top_n = 15\n",
    "plt.bar(alarm_ids[-top_n:], alarms.alarm[-top_n:])\n",
    "plt.title(f\"Top {top_n} alarm code occurrences for the machine ID=6. \")\n",
    "plt.xlabel(\"Alarm ID\")\n",
    "plt.ylabel(\"Count\")\n",
    "plt.show()"
   ]
  },
  {
   "cell_type": "code",
   "execution_count": 9,
   "id": "7bfddd43",
   "metadata": {},
   "outputs": [
    {
     "data": {
      "text/html": [
       "<div>\n",
       "<style scoped>\n",
       "    .dataframe tbody tr th:only-of-type {\n",
       "        vertical-align: middle;\n",
       "    }\n",
       "\n",
       "    .dataframe tbody tr th {\n",
       "        vertical-align: top;\n",
       "    }\n",
       "\n",
       "    .dataframe thead th {\n",
       "        text-align: right;\n",
       "    }\n",
       "</style>\n",
       "<table border=\"1\" class=\"dataframe\">\n",
       "  <thead>\n",
       "    <tr style=\"text-align: right;\">\n",
       "      <th></th>\n",
       "      <th>alarm</th>\n",
       "      <th>label</th>\n",
       "    </tr>\n",
       "    <tr>\n",
       "      <th>timestamp</th>\n",
       "      <th></th>\n",
       "      <th></th>\n",
       "    </tr>\n",
       "  </thead>\n",
       "  <tbody>\n",
       "    <tr>\n",
       "      <th>2019-02-21 12:56:15</th>\n",
       "      <td>28</td>\n",
       "      <td>28</td>\n",
       "    </tr>\n",
       "    <tr>\n",
       "      <th>2019-02-21 12:56:16</th>\n",
       "      <td>0</td>\n",
       "      <td>0</td>\n",
       "    </tr>\n",
       "    <tr>\n",
       "      <th>2019-02-21 12:56:17</th>\n",
       "      <td>0</td>\n",
       "      <td>0</td>\n",
       "    </tr>\n",
       "    <tr>\n",
       "      <th>2019-02-21 12:56:18</th>\n",
       "      <td>0</td>\n",
       "      <td>0</td>\n",
       "    </tr>\n",
       "    <tr>\n",
       "      <th>2019-02-21 12:56:19</th>\n",
       "      <td>0</td>\n",
       "      <td>0</td>\n",
       "    </tr>\n",
       "  </tbody>\n",
       "</table>\n",
       "</div>"
      ],
      "text/plain": [
       "                    alarm label\n",
       "timestamp                      \n",
       "2019-02-21 12:56:15    28    28\n",
       "2019-02-21 12:56:16     0     0\n",
       "2019-02-21 12:56:17     0     0\n",
       "2019-02-21 12:56:18     0     0\n",
       "2019-02-21 12:56:19     0     0"
      ]
     },
     "metadata": {},
     "output_type": "display_data"
    },
    {
     "name": "stdout",
     "output_type": "stream",
     "text": [
      "Num. rows: 41584107\n",
      "CPU times: user 2.31 s, sys: 839 ms, total: 3.15 s\n",
      "Wall time: 3.25 s\n"
     ]
    }
   ],
   "source": [
    "%%time \n",
    "\n",
    "top_10_alarms = [45, 32, 21, 28, 31, 29, 137, 11, 26, 98]\n",
    "\n",
    "machine_6 = machine_6.loc[machine_6['alarm'].isin(top_10_alarms)]\\\n",
    "    .drop(\"serial\", axis=1)\\\n",
    "    .set_index([\"timestamp\"])\\\n",
    "    .asfreq(freq='1s')\\\n",
    "    .fillna(0)\\\n",
    "    .astype(int)\\\n",
    "    .astype(\"category\")\n",
    "\n",
    "machine_6[\"label\"] = machine_6[\"alarm\"]\n",
    "\n",
    "display(machine_6.head())\n",
    "\n",
    "print(\"Num. rows:\", len(machine_6))"
   ]
  },
  {
   "cell_type": "code",
   "execution_count": 10,
   "id": "d82ec40d",
   "metadata": {},
   "outputs": [
    {
     "name": "stdout",
     "output_type": "stream",
     "text": [
      "<class 'pandas.core.frame.DataFrame'>\n",
      "DatetimeIndex: 41584107 entries, 2019-02-21 12:56:15 to 2020-06-16 20:04:41\n",
      "Freq: S\n",
      "Data columns (total 2 columns):\n",
      " #   Column  Dtype   \n",
      "---  ------  -----   \n",
      " 0   alarm   category\n",
      " 1   label   category\n",
      "dtypes: category(2)\n",
      "memory usage: 396.6 MB\n"
     ]
    }
   ],
   "source": [
    "machine_6.info()"
   ]
  },
  {
   "cell_type": "code",
   "execution_count": 11,
   "id": "adf90108",
   "metadata": {},
   "outputs": [],
   "source": [
    "data_path = \"../data/alarms-log-data/processed/machine-6-alarms-labels.parquet.gzip\"\n",
    "machine_6.to_parquet(data_path, compression=\"gzip\", index=True)"
   ]
  },
  {
   "cell_type": "code",
   "execution_count": null,
   "id": "83e83135",
   "metadata": {},
   "outputs": [],
   "source": [
    "machine_6_ohe = pd.get_dummies(machine_6, prefix=['alarm'], prefix_sep='_')\n",
    "machine_6_ohe = machine_6_ohe.drop(\"alarm_0\", axis=1)\n",
    "machine_6_ohe.head()"
   ]
  }
 ],
 "metadata": {
  "kernelspec": {
   "display_name": "Python 3 (ipykernel)",
   "language": "python",
   "name": "python3"
  },
  "language_info": {
   "codemirror_mode": {
    "name": "ipython",
    "version": 3
   },
   "file_extension": ".py",
   "mimetype": "text/x-python",
   "name": "python",
   "nbconvert_exporter": "python",
   "pygments_lexer": "ipython3",
   "version": "3.8.10"
  }
 },
 "nbformat": 4,
 "nbformat_minor": 5
}
