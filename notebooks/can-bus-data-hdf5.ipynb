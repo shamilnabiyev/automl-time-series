{
 "cells": [
  {
   "cell_type": "code",
   "execution_count": 20,
   "id": "33e17f5c",
   "metadata": {},
   "outputs": [],
   "source": [
    "import h5py\n",
    "import numpy as np"
   ]
  },
  {
   "cell_type": "code",
   "execution_count": 2,
   "id": "6b3b4e30",
   "metadata": {},
   "outputs": [
    {
     "data": {
      "text/plain": [
       "['AI', 'CAN', 'GPS', 'Math', 'Plugins']"
      ]
     },
     "execution_count": 2,
     "metadata": {},
     "output_type": "execute_result"
    }
   ],
   "source": [
    "# \n",
    "f = h5py.File('../data/20181117_Driver1_Trip7.hdf', 'r')\n",
    "list(f.keys())"
   ]
  },
  {
   "cell_type": "code",
   "execution_count": 25,
   "id": "b2e7ccdb",
   "metadata": {},
   "outputs": [
    {
     "data": {
      "text/plain": [
       "<KeysViewHDF5 ['ASR', 'AccPedal', 'AirCondition', 'AirIntakeTemperature', 'AmbientTemperature', 'BoostPressure', 'BrkVoltage', 'ENG_Avus_Engineprotect', 'ENG_FuelTankCap_Lamp', 'ENG_Hotlamp', 'ENG_OBD2_Lamp', 'ENG_Particle_Lamp', 'ENG_Systemlamp', 'ENG_Text_Error_Fuelsys', 'ENG_Text_FuelTankCap_Warn', 'ENG_Text_MSG_Service', 'ENG_Text_Particlefil_Reg', 'ENG_TorqueIntegral', 'ENG_Trq_DMD', 'ENG_Trq_ZWR', 'ENG_Trq_m_ex', 'ENG_Winterdriveprog', 'EngineSpeed_CAN', 'EngineTemperature', 'Engine_02_BZ', 'Engine_02_CHK', 'Kickdown', 'MFS_Tip_Down', 'MFS_Tip_Up', 'OilTemperature1', 'SCS_01_BZ', 'SCS_01_CHK', 'SCS_Adjustment_TimeGap', 'SCS_Cancel', 'SCS_Coding', 'SCS_Error', 'SCS_Limiter', 'SCS_MainSwitch', 'SCS_Tip_Down', 'SCS_Tip_Restart', 'SCS_Tip_Set', 'SCS_Tip_Up', 'SCS_Tiptronic_Error', 'SCS_Type_MainSwitch', 'SteerAngle1', 'Trq_FrictionLoss', 'Trq_Indicated', 'VehicleSpeed', 'WIV_Check_Oil', 'WIV_Display_active', 'WIV_Enable_Oilpr_Engine', 'WIV_NotHorizontal', 'WIV_Oillevel', 'WIV_Oillevel_not_avail', 'WIV_Oilmin_Warn', 'WIV_Oilpr_Warn_Engine', 'WIV_Oilsystem_active', 'WIV_Oilvolume', 'WIV_Overfill_Warn', 'WIV_Sensorerror', 'WIV_Underfill_Warn', 'WIV_no_operating_temp', 'WIV_refilldisplay_on', 'WIV_running_Engine', 'WheelSpeed_FL', 'WheelSpeed_FR', 'WheelSpeed_RL', 'WheelSpeed_RR', 'Yawrate1']>"
      ]
     },
     "execution_count": 25,
     "metadata": {},
     "output_type": "execute_result"
    }
   ],
   "source": [
    "f['CAN'].keys()"
   ]
  },
  {
   "cell_type": "code",
   "execution_count": 34,
   "id": "ed12b9cb",
   "metadata": {},
   "outputs": [
    {
     "data": {
      "text/plain": [
       "array([0.0000000e+00, 2.8358210e-02, 3.1578947e-02, ..., 6.1362404e+01,\n",
       "       6.1384727e+01, 6.1412281e+01], dtype=float32)"
      ]
     },
     "execution_count": 34,
     "metadata": {},
     "output_type": "execute_result"
    }
   ],
   "source": [
    "np.unique(f['CAN']['WheelSpeed_RR'][:,0])"
   ]
  },
  {
   "cell_type": "code",
   "execution_count": 50,
   "id": "00fb69d6",
   "metadata": {},
   "outputs": [
    {
     "data": {
      "text/plain": [
       "['AI', 'CAN', 'GPS', 'Math', 'Plugins']"
      ]
     },
     "execution_count": 50,
     "metadata": {},
     "output_type": "execute_result"
    }
   ],
   "source": [
    "# 20181114_Driver2_Trip1\n",
    "\n",
    "\n",
    "list(f.keys())"
   ]
  },
  {
   "cell_type": "code",
   "execution_count": 71,
   "id": "dcf0d3f4",
   "metadata": {},
   "outputs": [
    {
     "name": "stdout",
     "output_type": "stream",
     "text": [
      "ENG_Text_Error_Fuelsys [0.]\n",
      "SCS_Error [0.]\n",
      "SCS_Tiptronic_Error [0.]\n",
      "WIV_Sensorerror [0.]\n"
     ]
    }
   ],
   "source": [
    "f = h5py.File('../data/20181113_Driver1_Trip1.hdf', 'r')\n",
    "\n",
    "for n in ['ENG_Text_Error_Fuelsys', 'SCS_Error', 'SCS_Tiptronic_Error', 'WIV_Sensorerror']:\n",
    "    print(n, np.unique(f['CAN'][n][:,0]))"
   ]
  }
 ],
 "metadata": {
  "kernelspec": {
   "display_name": "Python 3 (ipykernel)",
   "language": "python",
   "name": "python3"
  },
  "language_info": {
   "codemirror_mode": {
    "name": "ipython",
    "version": 3
   },
   "file_extension": ".py",
   "mimetype": "text/x-python",
   "name": "python",
   "nbconvert_exporter": "python",
   "pygments_lexer": "ipython3",
   "version": "3.8.10"
  }
 },
 "nbformat": 4,
 "nbformat_minor": 5
}
