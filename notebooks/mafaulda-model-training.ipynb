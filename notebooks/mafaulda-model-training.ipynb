{
 "cells": [
  {
   "cell_type": "markdown",
   "id": "78121698",
   "metadata": {
    "pycharm": {
     "name": "#%% md\n"
    }
   },
   "source": [
    "# MAFAULDA. Machinery Fault Database"
   ]
  },
  {
   "cell_type": "markdown",
   "id": "aed3c5dd",
   "metadata": {
    "pycharm": {
     "name": "#%% md\n"
    }
   },
   "source": [
    "Dataset source: http://www02.smt.ufrj.br/~offshore/mfs/page_01.html"
   ]
  },
  {
   "cell_type": "code",
   "execution_count": 1,
   "id": "48164eaf",
   "metadata": {
    "pycharm": {
     "name": "#%%\n"
    }
   },
   "outputs": [],
   "source": [
    "import os\n",
    "from glob import glob\n",
    "from os import listdir\n",
    "from os.path import isfile, join\n",
    "import numpy as np\n",
    "import pandas as pd\n",
    "from sktime.classification.kernel_based import RocketClassifier\n",
    "from sktime.transformations.panel.rocket import MiniRocket, MiniRocketMultivariate\n",
    "from sktime.classification.interval_based import TimeSeriesForestClassifier\n",
    "from sktime.classification.interval_based import SupervisedTimeSeriesForest\n",
    "from sktime.datasets import load_from_arff_to_dataframe\n",
    "from sktime.classification.interval_based import (\n",
    "    CanonicalIntervalForest,\n",
    "    DrCIF,\n",
    "    RandomIntervalSpectralEnsemble,\n",
    "    SupervisedTimeSeriesForest,\n",
    "    TimeSeriesForestClassifier,\n",
    ")\n",
    "from sktime.datatypes._panel._convert import (\n",
    "    from_3d_numpy_to_nested,\n",
    "    from_3d_numpy_to_multi_index,\n",
    "    from_multi_index_to_nested,\n",
    "    from_multi_index_to_3d_numpy,\n",
    "    from_nested_to_3d_numpy\n",
    ")\n",
    "from sktime.classification.kernel_based import Arsenal\n",
    "from sktime.datasets import load_from_tsfile\n",
    "from tsfresh.utilities.dataframe_functions import roll_time_series\n",
    "from sklearn.model_selection import train_test_split\n",
    "from sklearn.linear_model import RidgeClassifierCV\n",
    "from sklearn.ensemble import RandomForestClassifier\n",
    "from sklearn.linear_model import LogisticRegression\n",
    "from sklearn.svm import LinearSVC\n",
    "from sklearn.preprocessing import StandardScaler\n",
    "from sklearn.preprocessing import LabelBinarizer\n",
    "from sklearn.metrics import classification_report\n",
    "from sklearn.datasets import make_multilabel_classification\n",
    "from sklearn.discriminant_analysis import LinearDiscriminantAnalysis\n",
    "from sklearn.metrics import f1_score\n",
    "from sklearn.preprocessing import LabelEncoder, OneHotEncoder\n",
    "from mcfly.modelgen import generate_models\n",
    "from mcfly.find_architecture import train_models_on_samples\n",
    "import matplotlib.pyplot as plt\n",
    "from collections import Counter\n",
    "from timeit import default_timer as timer\n",
    "from datetime import timedelta\n",
    "import seaborn as sns\n",
    "import warnings\n",
    "\n",
    "warnings.simplefilter('ignore')\n",
    "\n",
    "SEED=42\n",
    "\n",
    "%matplotlib inline"
   ]
  },
  {
   "cell_type": "code",
   "execution_count": null,
   "id": "c32e225a",
   "metadata": {
    "pycharm": {
     "name": "#%%\n"
    }
   },
   "outputs": [],
   "source": [
    "%%time \n",
    "\n",
    "# data_path = \"/mnt/f/Downloads/MAFAULDA/\"\n",
    "data_path = \"C:/Users/NABS/Downloads/mafaulda-full\"\n",
    "data_paths = {\n",
    "    \"normal\": os.path.join(data_path,\"normal\"),\n",
    "    \"overhang-cage-fault-20g\": os.path.join(data_path, \"overhang/cage_fault/20g\"),\n",
    "    # \"imbalance-20g\": data_path + \"imbalance/20g/\"\n",
    "}\n",
    "TIME_SERIES_LENGTH = 5000\n",
    "df = pd.DataFrame()\n",
    "labels = []\n",
    "\n",
    "for k, val in data_paths.items():\n",
    "    label = k\n",
    "    print(\"label:\", label)\n",
    "    \n",
    "    for file_name in listdir(val):\n",
    "        print(\"file_name\", file_name)\n",
    "        df_tmp = pd.read_csv(os.path.join(val, file_name), header=None)[0:TIME_SERIES_LENGTH]\n",
    "        df_tmp = df_tmp.astype(\"float32\")\n",
    "        \n",
    "        instance_id = file_name.split(\".csv\")[0] + \"_\" + label\n",
    "        df_tmp[\"instances\"] = instance_id\n",
    "        df_tmp[\"timepoints\"] = list(range(len(df_tmp)))\n",
    "        # df_tmp[\"label\"] = label\n",
    "        labels.append(label)\n",
    "\n",
    "        # print(\"file_id:\", instance_id, \"df_tmp length:\", len(df_tmp))\n",
    "        df = pd.concat([df, df_tmp])\n",
    "    del df_tmp\n",
    "\n",
    "print(\"Finished\")"
   ]
  },
  {
   "cell_type": "code",
   "execution_count": 3,
   "id": "453ace02",
   "metadata": {
    "pycharm": {
     "name": "#%%\n"
    }
   },
   "outputs": [
    {
     "data": {
      "text/html": [
       "<div>\n",
       "<style scoped>\n",
       "    .dataframe tbody tr th:only-of-type {\n",
       "        vertical-align: middle;\n",
       "    }\n",
       "\n",
       "    .dataframe tbody tr th {\n",
       "        vertical-align: top;\n",
       "    }\n",
       "\n",
       "    .dataframe thead th {\n",
       "        text-align: right;\n",
       "    }\n",
       "</style>\n",
       "<table border=\"1\" class=\"dataframe\">\n",
       "  <thead>\n",
       "    <tr style=\"text-align: right;\">\n",
       "      <th></th>\n",
       "      <th></th>\n",
       "      <th>s0</th>\n",
       "      <th>s1</th>\n",
       "      <th>s2</th>\n",
       "      <th>s3</th>\n",
       "      <th>s4</th>\n",
       "      <th>s5</th>\n",
       "      <th>s6</th>\n",
       "      <th>s7</th>\n",
       "    </tr>\n",
       "    <tr>\n",
       "      <th>instances</th>\n",
       "      <th>timepoints</th>\n",
       "      <th></th>\n",
       "      <th></th>\n",
       "      <th></th>\n",
       "      <th></th>\n",
       "      <th></th>\n",
       "      <th></th>\n",
       "      <th></th>\n",
       "      <th></th>\n",
       "    </tr>\n",
       "  </thead>\n",
       "  <tbody>\n",
       "    <tr>\n",
       "      <th rowspan=\"5\" valign=\"top\">12.288_normal</th>\n",
       "      <th>0</th>\n",
       "      <td>4.5595</td>\n",
       "      <td>0.175200</td>\n",
       "      <td>0.287210</td>\n",
       "      <td>-0.017751</td>\n",
       "      <td>-0.41565</td>\n",
       "      <td>0.032459</td>\n",
       "      <td>-0.11218</td>\n",
       "      <td>-0.128140</td>\n",
       "    </tr>\n",
       "    <tr>\n",
       "      <th>1</th>\n",
       "      <td>4.6038</td>\n",
       "      <td>-0.051295</td>\n",
       "      <td>-0.194050</td>\n",
       "      <td>-0.060071</td>\n",
       "      <td>-0.41809</td>\n",
       "      <td>0.036547</td>\n",
       "      <td>-0.11043</td>\n",
       "      <td>0.118310</td>\n",
       "    </tr>\n",
       "    <tr>\n",
       "      <th>2</th>\n",
       "      <td>4.5703</td>\n",
       "      <td>-0.969080</td>\n",
       "      <td>0.038033</td>\n",
       "      <td>-0.028329</td>\n",
       "      <td>-0.43081</td>\n",
       "      <td>0.041924</td>\n",
       "      <td>-0.14331</td>\n",
       "      <td>-0.071527</td>\n",
       "    </tr>\n",
       "    <tr>\n",
       "      <th>3</th>\n",
       "      <td>4.5870</td>\n",
       "      <td>0.891270</td>\n",
       "      <td>0.072973</td>\n",
       "      <td>0.007453</td>\n",
       "      <td>-0.40017</td>\n",
       "      <td>0.041090</td>\n",
       "      <td>-0.11984</td>\n",
       "      <td>0.043445</td>\n",
       "    </tr>\n",
       "    <tr>\n",
       "      <th>4</th>\n",
       "      <td>4.5887</td>\n",
       "      <td>-1.716000</td>\n",
       "      <td>-0.329290</td>\n",
       "      <td>-0.033063</td>\n",
       "      <td>-0.50281</td>\n",
       "      <td>0.040474</td>\n",
       "      <td>-0.25270</td>\n",
       "      <td>0.023901</td>\n",
       "    </tr>\n",
       "  </tbody>\n",
       "</table>\n",
       "</div>"
      ],
      "text/plain": [
       "                              s0        s1        s2        s3       s4  \\\n",
       "instances     timepoints                                                  \n",
       "12.288_normal 0           4.5595  0.175200  0.287210 -0.017751 -0.41565   \n",
       "              1           4.6038 -0.051295 -0.194050 -0.060071 -0.41809   \n",
       "              2           4.5703 -0.969080  0.038033 -0.028329 -0.43081   \n",
       "              3           4.5870  0.891270  0.072973  0.007453 -0.40017   \n",
       "              4           4.5887 -1.716000 -0.329290 -0.033063 -0.50281   \n",
       "\n",
       "                                s5       s6        s7  \n",
       "instances     timepoints                               \n",
       "12.288_normal 0           0.032459 -0.11218 -0.128140  \n",
       "              1           0.036547 -0.11043  0.118310  \n",
       "              2           0.041924 -0.14331 -0.071527  \n",
       "              3           0.041090 -0.11984  0.043445  \n",
       "              4           0.040474 -0.25270  0.023901  "
      ]
     },
     "execution_count": 3,
     "metadata": {},
     "output_type": "execute_result"
    }
   ],
   "source": [
    "df.columns = ['s0', 's1', 's2', 's3', 's4', 's5', 's6', 's7', 'instances', 'timepoints']\n",
    "df = df[['instances', 'timepoints', 's0', 's1', 's2', 's3', 's4', 's5', 's6', 's7']]\n",
    "df = df.set_index(['instances', 'timepoints'])\n",
    "df.head()"
   ]
  },
  {
   "cell_type": "code",
   "execution_count": 4,
   "id": "a9da473c",
   "metadata": {
    "pycharm": {
     "name": "#%%\n"
    }
   },
   "outputs": [
    {
     "name": "stdout",
     "output_type": "stream",
     "text": [
      "<class 'pandas.core.frame.DataFrame'>\n",
      "MultiIndex: 490000 entries, ('12.288_normal', 0) to ('61.2352_overhang-cage-fault-20g', 4999)\n",
      "Data columns (total 8 columns):\n",
      " #   Column  Non-Null Count   Dtype  \n",
      "---  ------  --------------   -----  \n",
      " 0   s0      490000 non-null  float32\n",
      " 1   s1      490000 non-null  float32\n",
      " 2   s2      490000 non-null  float32\n",
      " 3   s3      490000 non-null  float32\n",
      " 4   s4      490000 non-null  float32\n",
      " 5   s5      490000 non-null  float32\n",
      " 6   s6      490000 non-null  float32\n",
      " 7   s7      490000 non-null  float32\n",
      "dtypes: float32(8)\n",
      "memory usage: 16.5+ MB\n"
     ]
    }
   ],
   "source": [
    "df.info()"
   ]
  },
  {
   "cell_type": "code",
   "execution_count": 5,
   "id": "21aadae3",
   "metadata": {
    "pycharm": {
     "name": "#%%\n"
    }
   },
   "outputs": [
    {
     "name": "stdout",
     "output_type": "stream",
     "text": [
      "CPU times: total: 797 ms\n",
      "Wall time: 791 ms\n"
     ]
    },
    {
     "data": {
      "text/html": [
       "<div>\n",
       "<style scoped>\n",
       "    .dataframe tbody tr th:only-of-type {\n",
       "        vertical-align: middle;\n",
       "    }\n",
       "\n",
       "    .dataframe tbody tr th {\n",
       "        vertical-align: top;\n",
       "    }\n",
       "\n",
       "    .dataframe thead th {\n",
       "        text-align: right;\n",
       "    }\n",
       "</style>\n",
       "<table border=\"1\" class=\"dataframe\">\n",
       "  <thead>\n",
       "    <tr style=\"text-align: right;\">\n",
       "      <th></th>\n",
       "      <th>s0</th>\n",
       "      <th>s1</th>\n",
       "      <th>s2</th>\n",
       "      <th>s3</th>\n",
       "      <th>s4</th>\n",
       "      <th>s5</th>\n",
       "      <th>s6</th>\n",
       "      <th>s7</th>\n",
       "    </tr>\n",
       "    <tr>\n",
       "      <th>instances</th>\n",
       "      <th></th>\n",
       "      <th></th>\n",
       "      <th></th>\n",
       "      <th></th>\n",
       "      <th></th>\n",
       "      <th></th>\n",
       "      <th></th>\n",
       "      <th></th>\n",
       "    </tr>\n",
       "  </thead>\n",
       "  <tbody>\n",
       "    <tr>\n",
       "      <th>12.288_normal</th>\n",
       "      <td>0       4.55950\n",
       "1       4.60380\n",
       "2       4.5703...</td>\n",
       "      <td>0       0.175200\n",
       "1      -0.051295\n",
       "2      -0.96...</td>\n",
       "      <td>0       0.287210\n",
       "1      -0.194050\n",
       "2       0.03...</td>\n",
       "      <td>0      -0.017751\n",
       "1      -0.060071\n",
       "2      -0.02...</td>\n",
       "      <td>0      -0.41565\n",
       "1      -0.41809\n",
       "2      -0.4308...</td>\n",
       "      <td>0       0.032459\n",
       "1       0.036547\n",
       "2       0.04...</td>\n",
       "      <td>0      -0.112180\n",
       "1      -0.110430\n",
       "2      -0.14...</td>\n",
       "      <td>0      -0.128140\n",
       "1       0.118310\n",
       "2      -0.07...</td>\n",
       "    </tr>\n",
       "    <tr>\n",
       "      <th>13.1072_normal</th>\n",
       "      <td>0      -0.52828\n",
       "1      -0.52552\n",
       "2      -0.5220...</td>\n",
       "      <td>0      -1.68410\n",
       "1       1.47330\n",
       "2      -1.8994...</td>\n",
       "      <td>0      -0.029689\n",
       "1       0.148640\n",
       "2      -0.34...</td>\n",
       "      <td>0      -0.001552\n",
       "1       0.037974\n",
       "2      -0.01...</td>\n",
       "      <td>0       1.0739\n",
       "1       1.1268\n",
       "2       1.0357\n",
       "3...</td>\n",
       "      <td>0      -0.017822\n",
       "1      -0.024118\n",
       "2      -0.02...</td>\n",
       "      <td>0       0.17262\n",
       "1       0.21368\n",
       "2       0.1238...</td>\n",
       "      <td>0      -0.039353\n",
       "1      -0.003820\n",
       "2       0.05...</td>\n",
       "    </tr>\n",
       "    <tr>\n",
       "      <th>14.336_normal</th>\n",
       "      <td>0       4.47690\n",
       "1       4.46430\n",
       "2       4.4941...</td>\n",
       "      <td>0      -1.70450\n",
       "1       1.72010\n",
       "2      -1.6053...</td>\n",
       "      <td>0      -0.076488\n",
       "1       0.273950\n",
       "2      -0.25...</td>\n",
       "      <td>0      -0.051497\n",
       "1       0.021210\n",
       "2      -0.07...</td>\n",
       "      <td>0      -0.567210\n",
       "1      -0.452910\n",
       "2      -0.57...</td>\n",
       "      <td>0       0.041456\n",
       "1       0.039043\n",
       "2       0.03...</td>\n",
       "      <td>0      -0.031897\n",
       "1       0.069768\n",
       "2      -0.04...</td>\n",
       "      <td>0       0.040889\n",
       "1      -0.033122\n",
       "2       0.19...</td>\n",
       "    </tr>\n",
       "    <tr>\n",
       "      <th>15.1552_normal</th>\n",
       "      <td>0       4.55540\n",
       "1       4.53610\n",
       "2       4.5689...</td>\n",
       "      <td>0      -2.18540\n",
       "1       1.43250\n",
       "2      -2.0092...</td>\n",
       "      <td>0      -0.231230\n",
       "1       0.297630\n",
       "2      -0.45...</td>\n",
       "      <td>0      -0.088589\n",
       "1      -0.009870\n",
       "2      -0.08...</td>\n",
       "      <td>0       1.31250\n",
       "1       1.36200\n",
       "2       1.2812...</td>\n",
       "      <td>0       0.004337\n",
       "1       0.002316\n",
       "2       0.00...</td>\n",
       "      <td>0       0.30016\n",
       "1       0.37897\n",
       "2       0.3388...</td>\n",
       "      <td>0       0.035949\n",
       "1      -0.049696\n",
       "2       0.15...</td>\n",
       "    </tr>\n",
       "    <tr>\n",
       "      <th>16.1792_normal</th>\n",
       "      <td>0       4.49670\n",
       "1       4.62210\n",
       "2       4.5235...</td>\n",
       "      <td>0       0.972110\n",
       "1       1.062900\n",
       "2       0.49...</td>\n",
       "      <td>0       0.352170\n",
       "1       0.117360\n",
       "2       0.26...</td>\n",
       "      <td>0       0.071360\n",
       "1       0.066884\n",
       "2       0.08...</td>\n",
       "      <td>0      -0.32078\n",
       "1      -0.31932\n",
       "2      -0.3239...</td>\n",
       "      <td>0       0.004632\n",
       "1       0.008688\n",
       "2       0.00...</td>\n",
       "      <td>0      -0.12409\n",
       "1      -0.16927\n",
       "2      -0.2045...</td>\n",
       "      <td>0      -0.082553\n",
       "1      -0.038890\n",
       "2      -0.09...</td>\n",
       "    </tr>\n",
       "  </tbody>\n",
       "</table>\n",
       "</div>"
      ],
      "text/plain": [
       "                                                               s0  \\\n",
       "instances                                                           \n",
       "12.288_normal   0       4.55950\n",
       "1       4.60380\n",
       "2       4.5703...   \n",
       "13.1072_normal  0      -0.52828\n",
       "1      -0.52552\n",
       "2      -0.5220...   \n",
       "14.336_normal   0       4.47690\n",
       "1       4.46430\n",
       "2       4.4941...   \n",
       "15.1552_normal  0       4.55540\n",
       "1       4.53610\n",
       "2       4.5689...   \n",
       "16.1792_normal  0       4.49670\n",
       "1       4.62210\n",
       "2       4.5235...   \n",
       "\n",
       "                                                               s1  \\\n",
       "instances                                                           \n",
       "12.288_normal   0       0.175200\n",
       "1      -0.051295\n",
       "2      -0.96...   \n",
       "13.1072_normal  0      -1.68410\n",
       "1       1.47330\n",
       "2      -1.8994...   \n",
       "14.336_normal   0      -1.70450\n",
       "1       1.72010\n",
       "2      -1.6053...   \n",
       "15.1552_normal  0      -2.18540\n",
       "1       1.43250\n",
       "2      -2.0092...   \n",
       "16.1792_normal  0       0.972110\n",
       "1       1.062900\n",
       "2       0.49...   \n",
       "\n",
       "                                                               s2  \\\n",
       "instances                                                           \n",
       "12.288_normal   0       0.287210\n",
       "1      -0.194050\n",
       "2       0.03...   \n",
       "13.1072_normal  0      -0.029689\n",
       "1       0.148640\n",
       "2      -0.34...   \n",
       "14.336_normal   0      -0.076488\n",
       "1       0.273950\n",
       "2      -0.25...   \n",
       "15.1552_normal  0      -0.231230\n",
       "1       0.297630\n",
       "2      -0.45...   \n",
       "16.1792_normal  0       0.352170\n",
       "1       0.117360\n",
       "2       0.26...   \n",
       "\n",
       "                                                               s3  \\\n",
       "instances                                                           \n",
       "12.288_normal   0      -0.017751\n",
       "1      -0.060071\n",
       "2      -0.02...   \n",
       "13.1072_normal  0      -0.001552\n",
       "1       0.037974\n",
       "2      -0.01...   \n",
       "14.336_normal   0      -0.051497\n",
       "1       0.021210\n",
       "2      -0.07...   \n",
       "15.1552_normal  0      -0.088589\n",
       "1      -0.009870\n",
       "2      -0.08...   \n",
       "16.1792_normal  0       0.071360\n",
       "1       0.066884\n",
       "2       0.08...   \n",
       "\n",
       "                                                               s4  \\\n",
       "instances                                                           \n",
       "12.288_normal   0      -0.41565\n",
       "1      -0.41809\n",
       "2      -0.4308...   \n",
       "13.1072_normal  0       1.0739\n",
       "1       1.1268\n",
       "2       1.0357\n",
       "3...   \n",
       "14.336_normal   0      -0.567210\n",
       "1      -0.452910\n",
       "2      -0.57...   \n",
       "15.1552_normal  0       1.31250\n",
       "1       1.36200\n",
       "2       1.2812...   \n",
       "16.1792_normal  0      -0.32078\n",
       "1      -0.31932\n",
       "2      -0.3239...   \n",
       "\n",
       "                                                               s5  \\\n",
       "instances                                                           \n",
       "12.288_normal   0       0.032459\n",
       "1       0.036547\n",
       "2       0.04...   \n",
       "13.1072_normal  0      -0.017822\n",
       "1      -0.024118\n",
       "2      -0.02...   \n",
       "14.336_normal   0       0.041456\n",
       "1       0.039043\n",
       "2       0.03...   \n",
       "15.1552_normal  0       0.004337\n",
       "1       0.002316\n",
       "2       0.00...   \n",
       "16.1792_normal  0       0.004632\n",
       "1       0.008688\n",
       "2       0.00...   \n",
       "\n",
       "                                                               s6  \\\n",
       "instances                                                           \n",
       "12.288_normal   0      -0.112180\n",
       "1      -0.110430\n",
       "2      -0.14...   \n",
       "13.1072_normal  0       0.17262\n",
       "1       0.21368\n",
       "2       0.1238...   \n",
       "14.336_normal   0      -0.031897\n",
       "1       0.069768\n",
       "2      -0.04...   \n",
       "15.1552_normal  0       0.30016\n",
       "1       0.37897\n",
       "2       0.3388...   \n",
       "16.1792_normal  0      -0.12409\n",
       "1      -0.16927\n",
       "2      -0.2045...   \n",
       "\n",
       "                                                               s7  \n",
       "instances                                                          \n",
       "12.288_normal   0      -0.128140\n",
       "1       0.118310\n",
       "2      -0.07...  \n",
       "13.1072_normal  0      -0.039353\n",
       "1      -0.003820\n",
       "2       0.05...  \n",
       "14.336_normal   0       0.040889\n",
       "1      -0.033122\n",
       "2       0.19...  \n",
       "15.1552_normal  0       0.035949\n",
       "1      -0.049696\n",
       "2       0.15...  \n",
       "16.1792_normal  0      -0.082553\n",
       "1      -0.038890\n",
       "2      -0.09...  "
      ]
     },
     "execution_count": 5,
     "metadata": {},
     "output_type": "execute_result"
    }
   ],
   "source": [
    "%%time\n",
    "\n",
    "df_nested = from_multi_index_to_nested(multi_ind_dataframe=df, instance_index='instances')\n",
    "df_nested.head()"
   ]
  },
  {
   "cell_type": "code",
   "execution_count": 6,
   "id": "45d36fde",
   "metadata": {
    "pycharm": {
     "name": "#%%\n"
    }
   },
   "outputs": [
    {
     "name": "stdout",
     "output_type": "stream",
     "text": [
      "<class 'pandas.core.frame.DataFrame'>\n",
      "Index: 98 entries, 12.288_normal to 61.2352_overhang-cage-fault-20g\n",
      "Data columns (total 8 columns):\n",
      " #   Column  Non-Null Count  Dtype \n",
      "---  ------  --------------  ----- \n",
      " 0   s0      98 non-null     object\n",
      " 1   s1      98 non-null     object\n",
      " 2   s2      98 non-null     object\n",
      " 3   s3      98 non-null     object\n",
      " 4   s4      98 non-null     object\n",
      " 5   s5      98 non-null     object\n",
      " 6   s6      98 non-null     object\n",
      " 7   s7      98 non-null     object\n",
      "dtypes: object(8)\n",
      "memory usage: 6.9+ KB\n"
     ]
    }
   ],
   "source": [
    "df_nested.info()"
   ]
  },
  {
   "cell_type": "code",
   "execution_count": 7,
   "id": "c1681cc7",
   "metadata": {
    "pycharm": {
     "name": "#%%\n"
    }
   },
   "outputs": [
    {
     "data": {
      "text/plain": [
       "(98, 8, 5000)"
      ]
     },
     "execution_count": 7,
     "metadata": {},
     "output_type": "execute_result"
    }
   ],
   "source": [
    "df_nested.shape + df_nested.iloc[0,0].shape"
   ]
  },
  {
   "cell_type": "code",
   "execution_count": 8,
   "id": "1d7c47f8",
   "metadata": {
    "pycharm": {
     "name": "#%%\n"
    }
   },
   "outputs": [],
   "source": [
    "del df"
   ]
  },
  {
   "cell_type": "code",
   "execution_count": 9,
   "id": "f9c0af63",
   "metadata": {
    "pycharm": {
     "name": "#%%\n"
    }
   },
   "outputs": [],
   "source": [
    "def transform_data(transformer, x_train, x_test):\n",
    "    print(\"Starting data transformation ...\")\n",
    "    \n",
    "    start = timer()\n",
    "    transformer.fit(x_train)\n",
    "    print(f\"Elapsed time for {type(transformer).__name__} fitting:\", \n",
    "          (timedelta(seconds=timer()-start)).seconds, \n",
    "          \"seconds\")\n",
    "    \n",
    "    start = timer()\n",
    "    x_train_transform = transformer.transform(x_train)\n",
    "    print(\"Elapsed time for the transformation of X_train:\", (timedelta(seconds=timer()-start)).seconds, \"seconds\")\n",
    "    \n",
    "    start = timer()\n",
    "    x_test_transform = transformer.transform(x_test)\n",
    "    print(\"Elapsed time for the transformation of X_test:\", (timedelta(seconds=timer()-start)).seconds, \"seconds \\n\")\n",
    "    \n",
    "    return x_train_transform, x_test_transform\n",
    "\n",
    "\n",
    "def get_model_name(model):\n",
    "    return type(model).__name__\n",
    "\n",
    "\n",
    "def train_model(model, X_train, y_train):\n",
    "    model_name = get_model_name(model)\n",
    "    \n",
    "    print(f\"Starting {model_name} model training ...\")\n",
    "    start = timer()\n",
    "    model = model.fit(X_train, y_train)\n",
    "    print(f\"Elapsed time for the {model_name} model training:\", \n",
    "          (timedelta(seconds=timer()-start)).seconds, \n",
    "          \"seconds \\n\")\n",
    "    return model\n",
    "\n",
    "def evaluate_model(model, x_test, y_test):\n",
    "    model_name = get_model_name(model)\n",
    "    print(f\"Starting {model_name} model evaluation ...\")\n",
    "\n",
    "    start = timer()\n",
    "    y_pred = model.predict(x_test)\n",
    "    print(f\"Elapsed time for the {model_name} model prediction:\", \n",
    "      (timedelta(seconds=timer()-start)).seconds, \n",
    "      \"seconds \\n\")\n",
    "    \n",
    "    print(f\"Classification Report for the {model_name} model \\n\")\n",
    "    print(classification_report(y_test, y_pred, digits=4))\n",
    "    \n",
    "    print(\"\")\n",
    "    # print(\"F1 binary:\\t\", f1_score(y_test, y_pred))\n",
    "    print(\"F1 micro:\\t\", round(f1_score(y_test, y_pred, average=\"micro\"), 4))\n",
    "    print(\"F1 macro:\\t\", round(f1_score(y_test, y_pred, average=\"macro\"), 4))\n",
    "    print(\"F1 weighted:\\t\", round(f1_score(y_test, y_pred, average=\"weighted\"), 4))\n",
    "    print(\"\")"
   ]
  },
  {
   "cell_type": "code",
   "execution_count": 10,
   "id": "e33af03c",
   "metadata": {
    "pycharm": {
     "name": "#%%\n"
    }
   },
   "outputs": [
    {
     "name": "stdout",
     "output_type": "stream",
     "text": [
      "Data shape: (examples, channels, series_length)\n",
      "\n",
      "X_train shape:\t (78, 8, 5000)\n",
      "y_train shape:\t (78,)\n",
      "X_test shape:\t (20, 8, 5000)\n",
      "y_test shape:\t (20,)\n"
     ]
    }
   ],
   "source": [
    "labels = np.array(labels)\n",
    "\n",
    "X_train, X_test, y_train, y_test = train_test_split(df_nested, \n",
    "                                                    labels, \n",
    "                                                    test_size=0.2, \n",
    "                                                    random_state=42, \n",
    "                                                    stratify=labels, \n",
    "                                                    shuffle=True)\n",
    "\n",
    "print(\"Data shape: (examples, channels, series_length)\\n\")\n",
    "print(\"X_train shape:\\t\", X_train.shape + X_train.iloc[0,0].shape)\n",
    "print(\"y_train shape:\\t\", y_train.shape)\n",
    "\n",
    "print(\"X_test shape:\\t\", X_test.shape + X_test.iloc[0,0].shape)\n",
    "print(\"y_test shape:\\t\", y_test.shape)"
   ]
  },
  {
   "cell_type": "markdown",
   "id": "823375a1",
   "metadata": {
    "pycharm": {
     "name": "#%% md\n"
    }
   },
   "source": [
    "## Data transformation using MiniROCKET"
   ]
  },
  {
   "cell_type": "code",
   "execution_count": 11,
   "id": "f8999e45",
   "metadata": {
    "pycharm": {
     "name": "#%%\n"
    }
   },
   "outputs": [
    {
     "name": "stdout",
     "output_type": "stream",
     "text": [
      "CPU times: total: 0 ns\n",
      "Wall time: 0 ns\n"
     ]
    }
   ],
   "source": [
    "%%time \n",
    "\n",
    "mini_rocket = MiniRocketMultivariate(n_jobs=6, random_state=SEED)"
   ]
  },
  {
   "cell_type": "code",
   "execution_count": 12,
   "id": "c9d2501d",
   "metadata": {
    "pycharm": {
     "name": "#%%\n"
    }
   },
   "outputs": [
    {
     "name": "stdout",
     "output_type": "stream",
     "text": [
      "CPU times: total: 27.7 s\n",
      "Wall time: 27.9 s\n"
     ]
    }
   ],
   "source": [
    "%%time\n",
    "\n",
    "mini_rocket = mini_rocket.fit(X_train)"
   ]
  },
  {
   "cell_type": "code",
   "execution_count": 13,
   "id": "37ea53bc",
   "metadata": {
    "pycharm": {
     "name": "#%%\n"
    }
   },
   "outputs": [
    {
     "name": "stdout",
     "output_type": "stream",
     "text": [
      "CPU times: total: 1min 3s\n",
      "Wall time: 56 s\n"
     ]
    }
   ],
   "source": [
    "%%time\n",
    "\n",
    "X_train_transform = mini_rocket.transform(X_train)"
   ]
  },
  {
   "cell_type": "code",
   "execution_count": 14,
   "id": "9906eb1f",
   "metadata": {
    "pycharm": {
     "name": "#%%\n"
    }
   },
   "outputs": [
    {
     "name": "stdout",
     "output_type": "stream",
     "text": [
      "CPU times: total: 17 s\n",
      "Wall time: 14.4 s\n"
     ]
    }
   ],
   "source": [
    "%%time\n",
    "\n",
    "X_test_transform = mini_rocket.transform(X_test)"
   ]
  },
  {
   "cell_type": "markdown",
   "id": "2610a1d3",
   "metadata": {
    "pycharm": {
     "name": "#%% md\n"
    }
   },
   "source": [
    "## MiniROCKET features + RidgeClassifierCV"
   ]
  },
  {
   "cell_type": "code",
   "execution_count": 15,
   "id": "637b8b95",
   "metadata": {
    "pycharm": {
     "name": "#%%\n"
    }
   },
   "outputs": [
    {
     "name": "stdout",
     "output_type": "stream",
     "text": [
      "Starting RidgeClassifierCV model training ...\n",
      "Elapsed time for the RidgeClassifierCV model training: 0 seconds \n",
      "\n",
      "Starting RidgeClassifierCV model evaluation ...\n",
      "Elapsed time for the RidgeClassifierCV model prediction: 0 seconds \n",
      "\n",
      "Classification Report for the RidgeClassifierCV model \n",
      "\n",
      "                         precision    recall  f1-score   support\n",
      "\n",
      "                 normal     1.0000    1.0000    1.0000        10\n",
      "overhang-cage-fault-20g     1.0000    1.0000    1.0000        10\n",
      "\n",
      "               accuracy                         1.0000        20\n",
      "              macro avg     1.0000    1.0000    1.0000        20\n",
      "           weighted avg     1.0000    1.0000    1.0000        20\n",
      "\n",
      "\n",
      "F1 micro:\t 1.0\n",
      "F1 macro:\t 1.0\n",
      "F1 weighted:\t 1.0\n",
      "\n",
      "CPU times: total: 141 ms\n",
      "Wall time: 122 ms\n"
     ]
    }
   ],
   "source": [
    "%%time \n",
    "\n",
    "model = RidgeClassifierCV(alphas=np.logspace(-3, 3, 10), normalize=True)\n",
    "model = train_model(model, X_train_transform, y_train)\n",
    "evaluate_model(model, X_test_transform, y_test)"
   ]
  },
  {
   "cell_type": "markdown",
   "id": "45cbe8f2",
   "metadata": {
    "pycharm": {
     "name": "#%% md\n"
    }
   },
   "source": [
    "## Raw data + Mcfly AutoML"
   ]
  },
  {
   "cell_type": "markdown",
   "id": "9eba9a03",
   "metadata": {
    "pycharm": {
     "name": "#%% md\n"
    }
   },
   "source": [
    "### Data preparation for deep learning models"
   ]
  },
  {
   "cell_type": "code",
   "execution_count": 16,
   "id": "1aa544c2",
   "metadata": {
    "pycharm": {
     "name": "#%%\n"
    }
   },
   "outputs": [
    {
     "name": "stdout",
     "output_type": "stream",
     "text": [
      "Data shape: (examples, channels, series_length)\n",
      "\n",
      "X_train shape:\t (62, 8, 5000)\n",
      "y_train shape:\t (62,)\n",
      "X_val shape:\t (16, 8, 5000)\n",
      "y_val shape:\t (16,)\n"
     ]
    }
   ],
   "source": [
    "X_train, X_val, y_train, y_val = train_test_split(X_train,\n",
    "                                                  y_train,\n",
    "                                                  test_size=0.2,\n",
    "                                                  random_state=42,\n",
    "                                                  stratify=y_train,\n",
    "                                                  shuffle=True)\n",
    "\n",
    "print(\"Data shape: (examples, channels, series_length)\\n\")\n",
    "print(\"X_train shape:\\t\", X_train.shape + X_train.iloc[0,0].shape)\n",
    "print(\"y_train shape:\\t\", y_train.shape)\n",
    "\n",
    "print(\"X_val shape:\\t\", X_val.shape + X_val.iloc[0,0].shape)\n",
    "print(\"y_val shape:\\t\", y_val.shape)"
   ]
  },
  {
   "cell_type": "code",
   "execution_count": 17,
   "id": "07716132",
   "metadata": {
    "pycharm": {
     "name": "#%%\n"
    }
   },
   "outputs": [
    {
     "data": {
      "text/plain": [
       "[array(['normal', 'overhang-cage-fault-20g'], dtype='<U23')]"
      ]
     },
     "execution_count": 17,
     "metadata": {},
     "output_type": "execute_result"
    }
   ],
   "source": [
    "oh_encoder = OneHotEncoder()\n",
    "oh_encoder = oh_encoder.fit(y_train.reshape(-1, 1))\n",
    "\n",
    "oh_encoder.categories_"
   ]
  },
  {
   "cell_type": "code",
   "execution_count": 18,
   "id": "4156a3b7",
   "metadata": {
    "pycharm": {
     "name": "#%%\n"
    }
   },
   "outputs": [],
   "source": [
    "y_train_binary = oh_encoder.transform(y_train.reshape(-1, 1)).toarray()\n",
    "y_val_binary = oh_encoder.transform(y_val.reshape(-1, 1)).toarray()\n",
    "y_test_binary = oh_encoder.transform(y_test.reshape(-1, 1)).toarray()"
   ]
  },
  {
   "cell_type": "code",
   "execution_count": 19,
   "id": "4620aafd",
   "metadata": {
    "pycharm": {
     "name": "#%%\n"
    }
   },
   "outputs": [],
   "source": [
    "X_train_np = np.swapaxes(from_nested_to_3d_numpy(X_train), 1, 2)\n",
    "X_val_np = np.swapaxes(from_nested_to_3d_numpy(X_val), 1, 2)\n",
    "X_test_np = np.swapaxes(from_nested_to_3d_numpy(X_test), 1, 2)"
   ]
  },
  {
   "cell_type": "code",
   "execution_count": 20,
   "id": "1156c64a",
   "metadata": {
    "pycharm": {
     "name": "#%%\n"
    }
   },
   "outputs": [
    {
     "name": "stdout",
     "output_type": "stream",
     "text": [
      "X_train_np.shape: (62, 5000, 8)\n",
      "y_train_binary.shape: (62, 2)\n",
      "X_val_np.shape: (16, 5000, 8)\n",
      "y_val_binary.shape: (16, 2)\n",
      "X_test_np.shape: (20, 5000, 8)\n",
      "y_test_binary.shape: (20, 2)\n"
     ]
    }
   ],
   "source": [
    "print('X_train_np.shape:', X_train_np.shape)\n",
    "print('y_train_binary.shape:', y_train_binary.shape)\n",
    "print('X_val_np.shape:', X_val_np.shape)\n",
    "print('y_val_binary.shape:', y_val_binary.shape)\n",
    "print('X_test_np.shape:', X_test_np.shape)\n",
    "print('y_test_binary.shape:', y_test_binary.shape)"
   ]
  },
  {
   "cell_type": "code",
   "execution_count": 21,
   "id": "fc65d249",
   "metadata": {
    "pycharm": {
     "name": "#%%\n"
    }
   },
   "outputs": [
    {
     "name": "stdout",
     "output_type": "stream",
     "text": [
      "CPU times: total: 3.75 s\n",
      "Wall time: 3.94 s\n"
     ]
    }
   ],
   "source": [
    "%%time\n",
    "\n",
    "num_classes = y_train_binary.shape[1]\n",
    "metric = 'binary_accuracy'\n",
    "models = generate_models(X_train_np.shape,\n",
    "                         number_of_classes=num_classes,\n",
    "                         number_of_models = 10,\n",
    "                         model_types=['ResNet', 'InceptionTime'],\n",
    "                         metrics=[metric])"
   ]
  },
  {
   "cell_type": "code",
   "execution_count": 22,
   "id": "a1abcc37",
   "metadata": {
    "pycharm": {
     "name": "#%%\n"
    }
   },
   "outputs": [],
   "source": [
    "# Define directory where the results, e.g. json file, will be stored\n",
    "directory_to_extract_to = '../'\n",
    "resultpath = os.path.join(directory_to_extract_to, 'models')\n",
    "if not os.path.exists(resultpath):\n",
    "        os.makedirs(resultpath)"
   ]
  },
  {
   "cell_type": "code",
   "execution_count": null,
   "id": "ec12fed9",
   "metadata": {
    "pycharm": {
     "name": "#%%\n"
    }
   },
   "outputs": [],
   "source": [
    "%%time\n",
    "\n",
    "outputfile = os.path.join(resultpath, 'modelcomparison-mcfly-mafaulda.json')\n",
    "histories, val_accuracies, val_losses =\\\n",
    "    train_models_on_samples(X_train_np,\n",
    "                            y_train_binary,\n",
    "                            X_val_np,\n",
    "                            y_val_binary,\n",
    "                            models,\n",
    "                            batch_size=5,\n",
    "                            nr_epochs=20,\n",
    "                            # subset_size=1000,\n",
    "                            verbose=True,\n",
    "                            outputfile=outputfile,\n",
    "                            metric=metric)\n",
    "\n",
    "print('Details of the training process were stored in ', outputfile)"
   ]
  },
  {
   "cell_type": "code",
   "execution_count": 24,
   "id": "2d7a6da8",
   "metadata": {
    "pycharm": {
     "name": "#%%\n"
    }
   },
   "outputs": [
    {
     "data": {
      "text/html": [
       "<div>\n",
       "<style scoped>\n",
       "    .dataframe tbody tr th:only-of-type {\n",
       "        vertical-align: middle;\n",
       "    }\n",
       "\n",
       "    .dataframe tbody tr th {\n",
       "        vertical-align: top;\n",
       "    }\n",
       "\n",
       "    .dataframe thead th {\n",
       "        text-align: right;\n",
       "    }\n",
       "</style>\n",
       "<table border=\"1\" class=\"dataframe\">\n",
       "  <thead>\n",
       "    <tr style=\"text-align: right;\">\n",
       "      <th></th>\n",
       "      <th>model</th>\n",
       "      <th>train_binary_accuracy</th>\n",
       "      <th>train_loss</th>\n",
       "      <th>val_binary_accuracy</th>\n",
       "      <th>val_loss</th>\n",
       "    </tr>\n",
       "  </thead>\n",
       "  <tbody>\n",
       "    <tr>\n",
       "      <th>0</th>\n",
       "      <td>{'learning_rate': 0.002481868406666024, 'regul...</td>\n",
       "      <td>1.000000</td>\n",
       "      <td>0.002369</td>\n",
       "      <td>0.9375</td>\n",
       "      <td>0.103386</td>\n",
       "    </tr>\n",
       "    <tr>\n",
       "      <th>1</th>\n",
       "      <td>{'learning_rate': 0.0020733359290859917, 'regu...</td>\n",
       "      <td>0.983871</td>\n",
       "      <td>0.116505</td>\n",
       "      <td>0.8750</td>\n",
       "      <td>1.105585</td>\n",
       "    </tr>\n",
       "    <tr>\n",
       "      <th>2</th>\n",
       "      <td>{'learning_rate': 0.0012641972520448417, 'regu...</td>\n",
       "      <td>0.967742</td>\n",
       "      <td>0.099978</td>\n",
       "      <td>0.5625</td>\n",
       "      <td>31.412218</td>\n",
       "    </tr>\n",
       "    <tr>\n",
       "      <th>3</th>\n",
       "      <td>{'learning_rate': 0.062298458109085804, 'regul...</td>\n",
       "      <td>0.951613</td>\n",
       "      <td>0.101985</td>\n",
       "      <td>0.5000</td>\n",
       "      <td>60.795021</td>\n",
       "    </tr>\n",
       "    <tr>\n",
       "      <th>4</th>\n",
       "      <td>{'learning_rate': 0.001952196671677146, 'regul...</td>\n",
       "      <td>0.983871</td>\n",
       "      <td>0.058612</td>\n",
       "      <td>0.7500</td>\n",
       "      <td>0.385597</td>\n",
       "    </tr>\n",
       "    <tr>\n",
       "      <th>5</th>\n",
       "      <td>{'learning_rate': 0.010253295496107573, 'regul...</td>\n",
       "      <td>0.919355</td>\n",
       "      <td>0.270251</td>\n",
       "      <td>0.9375</td>\n",
       "      <td>0.065304</td>\n",
       "    </tr>\n",
       "    <tr>\n",
       "      <th>6</th>\n",
       "      <td>{'learning_rate': 0.001400221150606459, 'regul...</td>\n",
       "      <td>0.887097</td>\n",
       "      <td>0.376523</td>\n",
       "      <td>0.7500</td>\n",
       "      <td>9.517092</td>\n",
       "    </tr>\n",
       "    <tr>\n",
       "      <th>7</th>\n",
       "      <td>{'learning_rate': 0.00010725006100452288, 'reg...</td>\n",
       "      <td>1.000000</td>\n",
       "      <td>0.028000</td>\n",
       "      <td>0.9375</td>\n",
       "      <td>0.112293</td>\n",
       "    </tr>\n",
       "    <tr>\n",
       "      <th>8</th>\n",
       "      <td>{'learning_rate': 0.0016082190081896767, 'regu...</td>\n",
       "      <td>0.967742</td>\n",
       "      <td>0.150520</td>\n",
       "      <td>1.0000</td>\n",
       "      <td>0.110044</td>\n",
       "    </tr>\n",
       "    <tr>\n",
       "      <th>9</th>\n",
       "      <td>{'learning_rate': 0.0032481413299388015, 'regu...</td>\n",
       "      <td>0.935484</td>\n",
       "      <td>0.136014</td>\n",
       "      <td>0.6250</td>\n",
       "      <td>46.903671</td>\n",
       "    </tr>\n",
       "  </tbody>\n",
       "</table>\n",
       "</div>"
      ],
      "text/plain": [
       "                                               model  train_binary_accuracy  \\\n",
       "0  {'learning_rate': 0.002481868406666024, 'regul...               1.000000   \n",
       "1  {'learning_rate': 0.0020733359290859917, 'regu...               0.983871   \n",
       "2  {'learning_rate': 0.0012641972520448417, 'regu...               0.967742   \n",
       "3  {'learning_rate': 0.062298458109085804, 'regul...               0.951613   \n",
       "4  {'learning_rate': 0.001952196671677146, 'regul...               0.983871   \n",
       "5  {'learning_rate': 0.010253295496107573, 'regul...               0.919355   \n",
       "6  {'learning_rate': 0.001400221150606459, 'regul...               0.887097   \n",
       "7  {'learning_rate': 0.00010725006100452288, 'reg...               1.000000   \n",
       "8  {'learning_rate': 0.0016082190081896767, 'regu...               0.967742   \n",
       "9  {'learning_rate': 0.0032481413299388015, 'regu...               0.935484   \n",
       "\n",
       "   train_loss  val_binary_accuracy   val_loss  \n",
       "0    0.002369               0.9375   0.103386  \n",
       "1    0.116505               0.8750   1.105585  \n",
       "2    0.099978               0.5625  31.412218  \n",
       "3    0.101985               0.5000  60.795021  \n",
       "4    0.058612               0.7500   0.385597  \n",
       "5    0.270251               0.9375   0.065304  \n",
       "6    0.376523               0.7500   9.517092  \n",
       "7    0.028000               0.9375   0.112293  \n",
       "8    0.150520               1.0000   0.110044  \n",
       "9    0.136014               0.6250  46.903671  "
      ]
     },
     "execution_count": 24,
     "metadata": {},
     "output_type": "execute_result"
    }
   ],
   "source": [
    "# metric = 'accuracy'\n",
    "modelcomparisons = pd.DataFrame({'model':[str(params) for model, params, model_types in models],\n",
    "                       'train_{}'.format(metric): [history.history[metric][-1] for history in histories],\n",
    "                       'train_loss': [history.history['loss'][-1] for history in histories],\n",
    "                       'val_{}'.format(metric): [history.history['val_{}'.format(metric)][-1] for history in histories],\n",
    "                       'val_loss': [history.history['val_loss'][-1] for history in histories]\n",
    "                       })\n",
    "modelcomparisons.to_csv(os.path.join(resultpath, 'modelcomparisons.csv'))\n",
    "\n",
    "modelcomparisons"
   ]
  },
  {
   "cell_type": "code",
   "execution_count": 25,
   "id": "06d8d8d2",
   "metadata": {
    "pycharm": {
     "name": "#%%\n"
    }
   },
   "outputs": [
    {
     "name": "stdout",
     "output_type": "stream",
     "text": [
      "Model type and parameters of the best model:\n",
      "best_model_index: 0\n",
      "InceptionTime\n",
      "{'learning_rate': 0.002481868406666024, 'regularization_rate': 0.00040507278590498885, 'network_depth': 6, 'filters_number': 53, 'max_kernel_size': 63}\n"
     ]
    }
   ],
   "source": [
    "best_model_index = np.argmax(val_accuracies)\n",
    "best_model, best_params, best_model_types = models[best_model_index]\n",
    "print('Model type and parameters of the best model:')\n",
    "print(\"best_model_index:\", best_model_index)\n",
    "print(best_model_types)\n",
    "print(best_params)"
   ]
  },
  {
   "cell_type": "code",
   "execution_count": null,
   "id": "e192f98e",
   "metadata": {
    "pycharm": {
     "name": "#%%\n"
    }
   },
   "outputs": [],
   "source": [
    "#We make a copy of the model, to start training from fresh\n",
    "nr_epochs = 50\n",
    "datasize = X_train_np.shape[0] # Change in `X_train.shape[0]` if training complete data set\n",
    "\n",
    "history = best_model.fit(\n",
    "    X_train_np[:datasize,:,:],\n",
    "    y_train_binary[:datasize,:],\n",
    "    epochs=nr_epochs,\n",
    "    validation_data=(X_val_np, y_val_binary)\n",
    ")"
   ]
  },
  {
   "cell_type": "code",
   "execution_count": 26,
   "id": "4ae08951",
   "metadata": {
    "pycharm": {
     "name": "#%%\n"
    }
   },
   "outputs": [
    {
     "name": "stdout",
     "output_type": "stream",
     "text": [
      "1/1 [==============================] - 2s 2s/step - loss: 0.0333 - binary_accuracy: 1.0000\n",
      "Score of best model\n",
      "Test loss: 0.03331084921956062\n",
      "Test accuracy: 1.0\n"
     ]
    }
   ],
   "source": [
    "## Test on Testset\n",
    "score_test = best_model.evaluate(X_test_np, y_test_binary, verbose=True)\n",
    "print('Score of best model')\n",
    "print('Test loss:', score_test[0])\n",
    "print('Test accuracy:', score_test[1])"
   ]
  },
  {
   "cell_type": "markdown",
   "id": "d519f48a",
   "metadata": {},
   "source": [
    "## Data transformation duration estimation"
   ]
  },
  {
   "cell_type": "code",
   "execution_count": 20,
   "id": "1bf2c2b2",
   "metadata": {},
   "outputs": [
    {
     "data": {
      "text/html": [
       "<div>\n",
       "<style scoped>\n",
       "    .dataframe tbody tr th:only-of-type {\n",
       "        vertical-align: middle;\n",
       "    }\n",
       "\n",
       "    .dataframe tbody tr th {\n",
       "        vertical-align: top;\n",
       "    }\n",
       "\n",
       "    .dataframe thead th {\n",
       "        text-align: right;\n",
       "    }\n",
       "</style>\n",
       "<table border=\"1\" class=\"dataframe\">\n",
       "  <thead>\n",
       "    <tr style=\"text-align: right;\">\n",
       "      <th></th>\n",
       "      <th>time series length</th>\n",
       "      <th>transformation duration (in sec)</th>\n",
       "    </tr>\n",
       "  </thead>\n",
       "  <tbody>\n",
       "    <tr>\n",
       "      <th>0</th>\n",
       "      <td>1000</td>\n",
       "      <td>13</td>\n",
       "    </tr>\n",
       "    <tr>\n",
       "      <th>1</th>\n",
       "      <td>5000</td>\n",
       "      <td>99</td>\n",
       "    </tr>\n",
       "    <tr>\n",
       "      <th>2</th>\n",
       "      <td>10000</td>\n",
       "      <td>170</td>\n",
       "    </tr>\n",
       "    <tr>\n",
       "      <th>3</th>\n",
       "      <td>130000</td>\n",
       "      <td>2100</td>\n",
       "    </tr>\n",
       "  </tbody>\n",
       "</table>\n",
       "</div>"
      ],
      "text/plain": [
       "   time series length  transformation duration (in sec)\n",
       "0                1000                                13\n",
       "1                5000                                99\n",
       "2               10000                               170\n",
       "3              130000                              2100"
      ]
     },
     "execution_count": 20,
     "metadata": {},
     "output_type": "execute_result"
    }
   ],
   "source": [
    "ts_length = [1000, 5000, 10000, 130000]\n",
    "transformation_duration = [13, 99, 170, 2100]\n",
    "\n",
    "pd.DataFrame({\"time series length\": ts_length, \"transformation duration (in sec)\": transformation_duration})"
   ]
  },
  {
   "cell_type": "code",
   "execution_count": 30,
   "id": "549c0f14",
   "metadata": {
    "pycharm": {
     "name": "#%%\n"
    }
   },
   "outputs": [
    {
     "data": {
      "image/png": "[encoded data removed]",
      "text/plain": [
       "<Figure size 432x288 with 1 Axes>"
      ]
     },
     "metadata": {
      "needs_background": "light"
     },
     "output_type": "display_data"
    }
   ],
   "source": [
    "plt.bar([str(x) for x in ts_length], transformation_duration)\n",
    "plt.xlabel(\"Time series length\")\n",
    "plt.ylabel(\"Data transformation duration (in sec.)\")\n",
    "plt.show()"
   ]
  },
  {
   "cell_type": "code",
   "execution_count": 37,
   "id": "dc7cc4ba",
   "metadata": {
    "pycharm": {
     "name": "#%%\n"
    },
    "scrolled": false
   },
   "outputs": [
    {
     "data": {
      "image/png": "[encoded data removed]",
      "text/plain": [
       "<Figure size 432x288 with 1 Axes>"
      ]
     },
     "metadata": {
      "needs_background": "light"
     },
     "output_type": "display_data"
    }
   ],
   "source": [
    "# fig1 = plt.figure(figsize=(15, 8))\n",
    "plt.plot(ts_length, transformation_duration)\n",
    "plt.xlabel(\"Time series length\")\n",
    "plt.ylabel(\"Data transformation duration (in sec.)\")\n",
    "plt.show()"
   ]
  },
  {
   "cell_type": "code",
   "execution_count": 16,
   "id": "500d9b44",
   "metadata": {},
   "outputs": [
    {
     "name": "stdout",
     "output_type": "stream",
     "text": [
      "Score: 0.9999224208005628\n",
      "Coefficients: [0.01609515]\n",
      "Intercept: 8.026929982046681\n",
      "Prediction: [490.88150808]\n"
     ]
    }
   ],
   "source": [
    "import numpy as np\n",
    "import pandas as pd\n",
    "from sklearn.linear_model import LinearRegression\n",
    "\n",
    "reg = LinearRegression().fit(ts_length.reshape(-1, 1), transformation_duration)\n",
    "\n",
    "print(\"Score:\", reg.score(ts_length.reshape(-1, 1), transformation_duration))\n",
    "\n",
    "print(\"Coefficients:\", reg.coef_)\n",
    "\n",
    "print(\"Intercept:\", reg.intercept_)\n",
    "\n",
    "print(\"Prediction:\", reg.predict(np.array([[30000]])))"
   ]
  },
  {
   "cell_type": "markdown",
   "id": "e5dac593",
   "metadata": {},
   "source": [
    "Linear regression: `Y = 0.0161 * X + 8.03`"
   ]
  },
  {
   "cell_type": "code",
   "execution_count": 39,
   "id": "90d68b80",
   "metadata": {},
   "outputs": [
    {
     "name": "stdout",
     "output_type": "stream",
     "text": [
      "Transformation of all 7455 sliding windows using the MiniRocket will take approximately:\n",
      "• 3652950 seconds or\n",
      "• 60882 minutes or\n",
      "• 1015 hours\n"
     ]
    }
   ],
   "source": [
    "num_new_instances = ((100 - 30 + 1) * 105)\n",
    "duration_sec = num_new_instances * 490\n",
    "\n",
    "print(f\"Transformation of all {num_new_instances} sliding windows using the MiniRocket will take approximately:\")\n",
    "\n",
    "print(\"\\u2022\", duration_sec, \"seconds or\")\n",
    "print(\"\\u2022\", round(duration_sec/60), \"minutes or\")\n",
    "print(\"\\u2022\", round(duration_sec/3600), \"hours\")"
   ]
  },
  {
   "cell_type": "markdown",
   "id": "acfea0e6",
   "metadata": {},
   "source": [
    "Transformation of all `7455` sliding windows of size `30 seconds` using the MiniRocket will take approximately `1015` hours."
   ]
  }
 ],
 "metadata": {
  "kernelspec": {
   "display_name": "Python 3 (ipykernel)",
   "language": "python",
   "name": "python3"
  },
  "language_info": {
   "codemirror_mode": {
    "name": "ipython",
    "version": 3
   },
   "file_extension": ".py",
   "mimetype": "text/x-python",
   "name": "python",
   "nbconvert_exporter": "python",
   "pygments_lexer": "ipython3",
   "version": "3.8.10"
  }
 },
 "nbformat": 4,
 "nbformat_minor": 5
}