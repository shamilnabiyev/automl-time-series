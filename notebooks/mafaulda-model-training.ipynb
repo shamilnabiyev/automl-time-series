{
 "cells": [
  {
   "cell_type": "markdown",
   "id": "78121698",
   "metadata": {
    "pycharm": {
     "name": "#%% md\n"
    }
   },
   "source": []
  },
  {
   "cell_type": "markdown",
   "id": "aed3c5dd",
   "metadata": {
    "pycharm": {
     "name": "#%% md\n"
    }
   },
   "source": [
    "Dataset source: http://www02.smt.ufrj.br/~offshore/mfs/page_01.html"
   ]
  },
  {
   "cell_type": "code",
   "execution_count": 1,
   "id": "48164eaf",
   "metadata": {
    "pycharm": {
     "name": "#%%\n"
    }
   },
   "outputs": [],
   "source": [
    "import os\n",
    "from glob import glob\n",
    "from os import listdir\n",
    "from os.path import isfile, join\n",
    "import numpy as np\n",
    "import pandas as pd\n",
    "from sktime.classification.kernel_based import RocketClassifier\n",
    "from sktime.transformations.panel.rocket import MiniRocket, MiniRocketMultivariate\n",
    "from sktime.classification.interval_based import TimeSeriesForestClassifier\n",
    "from sktime.classification.interval_based import SupervisedTimeSeriesForest\n",
    "from sktime.datasets import load_from_arff_to_dataframe\n",
    "from sktime.classification.interval_based import (\n",
    "    CanonicalIntervalForest,\n",
    "    DrCIF,\n",
    "    RandomIntervalSpectralEnsemble,\n",
    "    SupervisedTimeSeriesForest,\n",
    "    TimeSeriesForestClassifier,\n",
    ")\n",
    "from sktime.datatypes._panel._convert import (\n",
    "    from_3d_numpy_to_nested,\n",
    "    from_3d_numpy_to_multi_index,\n",
    "    from_multi_index_to_nested,\n",
    "    from_multi_index_to_3d_numpy,\n",
    "    from_nested_to_3d_numpy\n",
    ")\n",
    "from sktime.classification.kernel_based import Arsenal\n",
    "from sktime.datasets import load_from_tsfile\n",
    "from tsfresh.utilities.dataframe_functions import roll_time_series\n",
    "from sklearn.model_selection import train_test_split\n",
    "from sklearn.linear_model import RidgeClassifierCV\n",
    "from sklearn.ensemble import RandomForestClassifier\n",
    "from sklearn.linear_model import LogisticRegression\n",
    "from sklearn.svm import LinearSVC\n",
    "from sklearn.preprocessing import StandardScaler\n",
    "from sklearn.preprocessing import LabelBinarizer\n",
    "from sklearn.metrics import classification_report\n",
    "from sklearn.datasets import make_multilabel_classification\n",
    "from sklearn.discriminant_analysis import LinearDiscriminantAnalysis\n",
    "from sklearn.metrics import f1_score\n",
    "from sklearn.preprocessing import LabelEncoder, OneHotEncoder\n",
    "from mcfly.modelgen import generate_models\n",
    "from mcfly.find_architecture import train_models_on_samples\n",
    "import matplotlib.pyplot as plt\n",
    "from collections import Counter\n",
    "from timeit import default_timer as timer\n",
    "from datetime import timedelta\n",
    "import seaborn as sns\n",
    "import warnings\n",
    "\n",
    "warnings.simplefilter('ignore')\n",
    "\n",
    "SEED=42\n",
    "\n",
    "%matplotlib inline"
   ]
  },
  {
   "cell_type": "code",
   "execution_count": 2,
   "id": "c32e225a",
   "metadata": {
    "pycharm": {
     "name": "#%%\n"
    }
   },
   "outputs": [
    {
     "name": "stdout",
     "output_type": "stream",
     "text": [
      "label: normal\n",
      "file_name 12.288.csv\n",
      "file_name 13.1072.csv\n",
      "file_name 14.336.csv\n",
      "file_name 15.1552.csv\n",
      "file_name 16.1792.csv\n",
      "file_name 17.2032.csv\n",
      "file_name 18.432.csv\n",
      "file_name 19.6608.csv\n",
      "file_name 20.2752.csv\n",
      "file_name 21.7088.csv\n",
      "file_name 22.3232.csv\n",
      "file_name 23.552.csv\n",
      "file_name 24.576.csv\n",
      "file_name 25.6.csv\n",
      "file_name 26.624.csv\n",
      "file_name 27.4432.csv\n",
      "file_name 28.8768.csv\n",
      "file_name 29.4912.csv\n",
      "file_name 30.72.csv\n",
      "file_name 31.744.csv\n",
      "file_name 32.9728.csv\n",
      "file_name 33.5872.csv\n",
      "file_name 34.2016.csv\n",
      "file_name 35.4304.csv\n",
      "file_name 36.4544.csv\n",
      "file_name 37.6832.csv\n",
      "file_name 38.2976.csv\n",
      "file_name 39.3216.csv\n",
      "file_name 40.3456.csv\n",
      "file_name 41.7792.csv\n",
      "file_name 42.3936.csv\n",
      "file_name 43.6224.csv\n",
      "file_name 44.6464.csv\n",
      "file_name 45.4656.csv\n",
      "file_name 46.2848.csv\n",
      "file_name 47.7184.csv\n",
      "file_name 48.9472.csv\n",
      "file_name 49.5616.csv\n",
      "file_name 51.8144.csv\n",
      "file_name 52.4288.csv\n",
      "file_name 53.8624.csv\n",
      "file_name 54.6816.csv\n",
      "file_name 55.7056.csv\n",
      "file_name 56.7296.csv\n",
      "file_name 57.9584.csv\n",
      "file_name 58.7776.csv\n",
      "file_name 59.5968.csv\n",
      "file_name 60.416.csv\n",
      "file_name 61.44.csv\n",
      "label: overhang-cage-fault-20g\n",
      "file_name 13.7216.csv\n",
      "file_name 14.5408.csv\n",
      "file_name 15.36.csv\n",
      "file_name 16.384.csv\n",
      "file_name 17.408.csv\n",
      "file_name 18.432.csv\n",
      "file_name 19.456.csv\n",
      "file_name 20.6848.csv\n",
      "file_name 21.2992.csv\n",
      "file_name 22.3232.csv\n",
      "file_name 23.552.csv\n",
      "file_name 24.7808.csv\n",
      "file_name 25.3952.csv\n",
      "file_name 26.2144.csv\n",
      "file_name 27.4432.csv\n",
      "file_name 28.2624.csv\n",
      "file_name 29.696.csv\n",
      "file_name 30.3104.csv\n",
      "file_name 31.5392.csv\n",
      "file_name 32.1536.csv\n",
      "file_name 33.792.csv\n",
      "file_name 34.4064.csv\n",
      "file_name 35.4304.csv\n",
      "file_name 36.2496.csv\n",
      "file_name 37.0688.csv\n",
      "file_name 38.5024.csv\n",
      "file_name 39.5264.csv\n",
      "file_name 40.5504.csv\n",
      "file_name 41.7792.csv\n",
      "file_name 42.3936.csv\n",
      "file_name 43.6224.csv\n",
      "file_name 44.4416.csv\n",
      "file_name 45.2608.csv\n",
      "file_name 46.2848.csv\n",
      "file_name 47.7184.csv\n",
      "file_name 48.7424.csv\n",
      "file_name 49.7664.csv\n",
      "file_name 50.9952.csv\n",
      "file_name 51.8144.csv\n",
      "file_name 52.224.csv\n",
      "file_name 53.248.csv\n",
      "file_name 54.0672.csv\n",
      "file_name 55.296.csv\n",
      "file_name 56.1152.csv\n",
      "file_name 57.5488.csv\n",
      "file_name 58.368.csv\n",
      "file_name 59.1872.csv\n",
      "file_name 60.416.csv\n",
      "file_name 61.2352.csv\n",
      "Finished\n",
      "CPU times: total: 16.5 s\n",
      "Wall time: 16.8 s\n"
     ]
    }
   ],
   "source": [
    "%%time \n",
    "\n",
    "# data_path = \"/mnt/f/Downloads/MAFAULDA/\"\n",
    "data_path = \"C:/Users/NABS/Downloads/mafaulda-full\"\n",
    "data_paths = {\n",
    "    \"normal\": os.path.join(data_path,\"normal\"),\n",
    "    \"overhang-cage-fault-20g\": os.path.join(data_path, \"overhang/cage_fault/20g\"),\n",
    "    # \"imbalance-20g\": data_path + \"imbalance/20g/\"\n",
    "}\n",
    "TIME_SERIES_LENGTH = 5000\n",
    "df = pd.DataFrame()\n",
    "labels = []\n",
    "\n",
    "for k, val in data_paths.items():\n",
    "    label = k\n",
    "    print(\"label:\", label)\n",
    "    \n",
    "    for file_name in listdir(val):\n",
    "        print(\"file_name\", file_name)\n",
    "        df_tmp = pd.read_csv(os.path.join(val, file_name), header=None)[0:TIME_SERIES_LENGTH]\n",
    "        df_tmp = df_tmp.astype(\"float32\")\n",
    "        \n",
    "        instance_id = file_name.split(\".csv\")[0] + \"_\" + label\n",
    "        df_tmp[\"instances\"] = instance_id\n",
    "        df_tmp[\"timepoints\"] = list(range(len(df_tmp)))\n",
    "        # df_tmp[\"label\"] = label\n",
    "        labels.append(label)\n",
    "\n",
    "        # print(\"file_id:\", instance_id, \"df_tmp length:\", len(df_tmp))\n",
    "        df = pd.concat([df, df_tmp])\n",
    "    del df_tmp\n",
    "\n",
    "print(\"Finished\")"
   ]
  },
  {
   "cell_type": "code",
   "execution_count": 3,
   "id": "453ace02",
   "metadata": {
    "pycharm": {
     "name": "#%%\n"
    }
   },
   "outputs": [
    {
     "data": {
      "text/plain": "                              s0        s1        s2        s3       s4  \\\ninstances     timepoints                                                  \n12.288_normal 0           4.5595  0.175200  0.287210 -0.017751 -0.41565   \n              1           4.6038 -0.051295 -0.194050 -0.060071 -0.41809   \n              2           4.5703 -0.969080  0.038033 -0.028329 -0.43081   \n              3           4.5870  0.891270  0.072973  0.007453 -0.40017   \n              4           4.5887 -1.716000 -0.329290 -0.033063 -0.50281   \n\n                                s5       s6        s7  \ninstances     timepoints                               \n12.288_normal 0           0.032459 -0.11218 -0.128140  \n              1           0.036547 -0.11043  0.118310  \n              2           0.041924 -0.14331 -0.071527  \n              3           0.041090 -0.11984  0.043445  \n              4           0.040474 -0.25270  0.023901  ",
      "text/html": "<div>\n<style scoped>\n    .dataframe tbody tr th:only-of-type {\n        vertical-align: middle;\n    }\n\n    .dataframe tbody tr th {\n        vertical-align: top;\n    }\n\n    .dataframe thead th {\n        text-align: right;\n    }\n</style>\n<table border=\"1\" class=\"dataframe\">\n  <thead>\n    <tr style=\"text-align: right;\">\n      <th></th>\n      <th></th>\n      <th>s0</th>\n      <th>s1</th>\n      <th>s2</th>\n      <th>s3</th>\n      <th>s4</th>\n      <th>s5</th>\n      <th>s6</th>\n      <th>s7</th>\n    </tr>\n    <tr>\n      <th>instances</th>\n      <th>timepoints</th>\n      <th></th>\n      <th></th>\n      <th></th>\n      <th></th>\n      <th></th>\n      <th></th>\n      <th></th>\n      <th></th>\n    </tr>\n  </thead>\n  <tbody>\n    <tr>\n      <th rowspan=\"5\" valign=\"top\">12.288_normal</th>\n      <th>0</th>\n      <td>4.5595</td>\n      <td>0.175200</td>\n      <td>0.287210</td>\n      <td>-0.017751</td>\n      <td>-0.41565</td>\n      <td>0.032459</td>\n      <td>-0.11218</td>\n      <td>-0.128140</td>\n    </tr>\n    <tr>\n      <th>1</th>\n      <td>4.6038</td>\n      <td>-0.051295</td>\n      <td>-0.194050</td>\n      <td>-0.060071</td>\n      <td>-0.41809</td>\n      <td>0.036547</td>\n      <td>-0.11043</td>\n      <td>0.118310</td>\n    </tr>\n    <tr>\n      <th>2</th>\n      <td>4.5703</td>\n      <td>-0.969080</td>\n      <td>0.038033</td>\n      <td>-0.028329</td>\n      <td>-0.43081</td>\n      <td>0.041924</td>\n      <td>-0.14331</td>\n      <td>-0.071527</td>\n    </tr>\n    <tr>\n      <th>3</th>\n      <td>4.5870</td>\n      <td>0.891270</td>\n      <td>0.072973</td>\n      <td>0.007453</td>\n      <td>-0.40017</td>\n      <td>0.041090</td>\n      <td>-0.11984</td>\n      <td>0.043445</td>\n    </tr>\n    <tr>\n      <th>4</th>\n      <td>4.5887</td>\n      <td>-1.716000</td>\n      <td>-0.329290</td>\n      <td>-0.033063</td>\n      <td>-0.50281</td>\n      <td>0.040474</td>\n      <td>-0.25270</td>\n      <td>0.023901</td>\n    </tr>\n  </tbody>\n</table>\n</div>"
     },
     "execution_count": 3,
     "metadata": {},
     "output_type": "execute_result"
    }
   ],
   "source": [
    "df.columns = ['s0', 's1', 's2', 's3', 's4', 's5', 's6', 's7', 'instances', 'timepoints']\n",
    "df = df[['instances', 'timepoints', 's0', 's1', 's2', 's3', 's4', 's5', 's6', 's7']]\n",
    "df = df.set_index(['instances', 'timepoints'])\n",
    "df.head()"
   ]
  },
  {
   "cell_type": "code",
   "execution_count": 4,
   "id": "a9da473c",
   "metadata": {
    "pycharm": {
     "name": "#%%\n"
    }
   },
   "outputs": [
    {
     "name": "stdout",
     "output_type": "stream",
     "text": [
      "<class 'pandas.core.frame.DataFrame'>\n",
      "MultiIndex: 490000 entries, ('12.288_normal', 0) to ('61.2352_overhang-cage-fault-20g', 4999)\n",
      "Data columns (total 8 columns):\n",
      " #   Column  Non-Null Count   Dtype  \n",
      "---  ------  --------------   -----  \n",
      " 0   s0      490000 non-null  float32\n",
      " 1   s1      490000 non-null  float32\n",
      " 2   s2      490000 non-null  float32\n",
      " 3   s3      490000 non-null  float32\n",
      " 4   s4      490000 non-null  float32\n",
      " 5   s5      490000 non-null  float32\n",
      " 6   s6      490000 non-null  float32\n",
      " 7   s7      490000 non-null  float32\n",
      "dtypes: float32(8)\n",
      "memory usage: 16.5+ MB\n"
     ]
    }
   ],
   "source": [
    "df.info()"
   ]
  },
  {
   "cell_type": "code",
   "execution_count": 5,
   "id": "21aadae3",
   "metadata": {
    "pycharm": {
     "name": "#%%\n"
    }
   },
   "outputs": [
    {
     "name": "stdout",
     "output_type": "stream",
     "text": [
      "CPU times: total: 797 ms\n",
      "Wall time: 791 ms\n"
     ]
    },
    {
     "data": {
      "text/plain": "                                                               s0  \\\ninstances                                                           \n12.288_normal   0       4.55950\n1       4.60380\n2       4.5703...   \n13.1072_normal  0      -0.52828\n1      -0.52552\n2      -0.5220...   \n14.336_normal   0       4.47690\n1       4.46430\n2       4.4941...   \n15.1552_normal  0       4.55540\n1       4.53610\n2       4.5689...   \n16.1792_normal  0       4.49670\n1       4.62210\n2       4.5235...   \n\n                                                               s1  \\\ninstances                                                           \n12.288_normal   0       0.175200\n1      -0.051295\n2      -0.96...   \n13.1072_normal  0      -1.68410\n1       1.47330\n2      -1.8994...   \n14.336_normal   0      -1.70450\n1       1.72010\n2      -1.6053...   \n15.1552_normal  0      -2.18540\n1       1.43250\n2      -2.0092...   \n16.1792_normal  0       0.972110\n1       1.062900\n2       0.49...   \n\n                                                               s2  \\\ninstances                                                           \n12.288_normal   0       0.287210\n1      -0.194050\n2       0.03...   \n13.1072_normal  0      -0.029689\n1       0.148640\n2      -0.34...   \n14.336_normal   0      -0.076488\n1       0.273950\n2      -0.25...   \n15.1552_normal  0      -0.231230\n1       0.297630\n2      -0.45...   \n16.1792_normal  0       0.352170\n1       0.117360\n2       0.26...   \n\n                                                               s3  \\\ninstances                                                           \n12.288_normal   0      -0.017751\n1      -0.060071\n2      -0.02...   \n13.1072_normal  0      -0.001552\n1       0.037974\n2      -0.01...   \n14.336_normal   0      -0.051497\n1       0.021210\n2      -0.07...   \n15.1552_normal  0      -0.088589\n1      -0.009870\n2      -0.08...   \n16.1792_normal  0       0.071360\n1       0.066884\n2       0.08...   \n\n                                                               s4  \\\ninstances                                                           \n12.288_normal   0      -0.41565\n1      -0.41809\n2      -0.4308...   \n13.1072_normal  0       1.0739\n1       1.1268\n2       1.0357\n3...   \n14.336_normal   0      -0.567210\n1      -0.452910\n2      -0.57...   \n15.1552_normal  0       1.31250\n1       1.36200\n2       1.2812...   \n16.1792_normal  0      -0.32078\n1      -0.31932\n2      -0.3239...   \n\n                                                               s5  \\\ninstances                                                           \n12.288_normal   0       0.032459\n1       0.036547\n2       0.04...   \n13.1072_normal  0      -0.017822\n1      -0.024118\n2      -0.02...   \n14.336_normal   0       0.041456\n1       0.039043\n2       0.03...   \n15.1552_normal  0       0.004337\n1       0.002316\n2       0.00...   \n16.1792_normal  0       0.004632\n1       0.008688\n2       0.00...   \n\n                                                               s6  \\\ninstances                                                           \n12.288_normal   0      -0.112180\n1      -0.110430\n2      -0.14...   \n13.1072_normal  0       0.17262\n1       0.21368\n2       0.1238...   \n14.336_normal   0      -0.031897\n1       0.069768\n2      -0.04...   \n15.1552_normal  0       0.30016\n1       0.37897\n2       0.3388...   \n16.1792_normal  0      -0.12409\n1      -0.16927\n2      -0.2045...   \n\n                                                               s7  \ninstances                                                          \n12.288_normal   0      -0.128140\n1       0.118310\n2      -0.07...  \n13.1072_normal  0      -0.039353\n1      -0.003820\n2       0.05...  \n14.336_normal   0       0.040889\n1      -0.033122\n2       0.19...  \n15.1552_normal  0       0.035949\n1      -0.049696\n2       0.15...  \n16.1792_normal  0      -0.082553\n1      -0.038890\n2      -0.09...  ",
      "text/html": "<div>\n<style scoped>\n    .dataframe tbody tr th:only-of-type {\n        vertical-align: middle;\n    }\n\n    .dataframe tbody tr th {\n        vertical-align: top;\n    }\n\n    .dataframe thead th {\n        text-align: right;\n    }\n</style>\n<table border=\"1\" class=\"dataframe\">\n  <thead>\n    <tr style=\"text-align: right;\">\n      <th></th>\n      <th>s0</th>\n      <th>s1</th>\n      <th>s2</th>\n      <th>s3</th>\n      <th>s4</th>\n      <th>s5</th>\n      <th>s6</th>\n      <th>s7</th>\n    </tr>\n    <tr>\n      <th>instances</th>\n      <th></th>\n      <th></th>\n      <th></th>\n      <th></th>\n      <th></th>\n      <th></th>\n      <th></th>\n      <th></th>\n    </tr>\n  </thead>\n  <tbody>\n    <tr>\n      <th>12.288_normal</th>\n      <td>0       4.55950\n1       4.60380\n2       4.5703...</td>\n      <td>0       0.175200\n1      -0.051295\n2      -0.96...</td>\n      <td>0       0.287210\n1      -0.194050\n2       0.03...</td>\n      <td>0      -0.017751\n1      -0.060071\n2      -0.02...</td>\n      <td>0      -0.41565\n1      -0.41809\n2      -0.4308...</td>\n      <td>0       0.032459\n1       0.036547\n2       0.04...</td>\n      <td>0      -0.112180\n1      -0.110430\n2      -0.14...</td>\n      <td>0      -0.128140\n1       0.118310\n2      -0.07...</td>\n    </tr>\n    <tr>\n      <th>13.1072_normal</th>\n      <td>0      -0.52828\n1      -0.52552\n2      -0.5220...</td>\n      <td>0      -1.68410\n1       1.47330\n2      -1.8994...</td>\n      <td>0      -0.029689\n1       0.148640\n2      -0.34...</td>\n      <td>0      -0.001552\n1       0.037974\n2      -0.01...</td>\n      <td>0       1.0739\n1       1.1268\n2       1.0357\n3...</td>\n      <td>0      -0.017822\n1      -0.024118\n2      -0.02...</td>\n      <td>0       0.17262\n1       0.21368\n2       0.1238...</td>\n      <td>0      -0.039353\n1      -0.003820\n2       0.05...</td>\n    </tr>\n    <tr>\n      <th>14.336_normal</th>\n      <td>0       4.47690\n1       4.46430\n2       4.4941...</td>\n      <td>0      -1.70450\n1       1.72010\n2      -1.6053...</td>\n      <td>0      -0.076488\n1       0.273950\n2      -0.25...</td>\n      <td>0      -0.051497\n1       0.021210\n2      -0.07...</td>\n      <td>0      -0.567210\n1      -0.452910\n2      -0.57...</td>\n      <td>0       0.041456\n1       0.039043\n2       0.03...</td>\n      <td>0      -0.031897\n1       0.069768\n2      -0.04...</td>\n      <td>0       0.040889\n1      -0.033122\n2       0.19...</td>\n    </tr>\n    <tr>\n      <th>15.1552_normal</th>\n      <td>0       4.55540\n1       4.53610\n2       4.5689...</td>\n      <td>0      -2.18540\n1       1.43250\n2      -2.0092...</td>\n      <td>0      -0.231230\n1       0.297630\n2      -0.45...</td>\n      <td>0      -0.088589\n1      -0.009870\n2      -0.08...</td>\n      <td>0       1.31250\n1       1.36200\n2       1.2812...</td>\n      <td>0       0.004337\n1       0.002316\n2       0.00...</td>\n      <td>0       0.30016\n1       0.37897\n2       0.3388...</td>\n      <td>0       0.035949\n1      -0.049696\n2       0.15...</td>\n    </tr>\n    <tr>\n      <th>16.1792_normal</th>\n      <td>0       4.49670\n1       4.62210\n2       4.5235...</td>\n      <td>0       0.972110\n1       1.062900\n2       0.49...</td>\n      <td>0       0.352170\n1       0.117360\n2       0.26...</td>\n      <td>0       0.071360\n1       0.066884\n2       0.08...</td>\n      <td>0      -0.32078\n1      -0.31932\n2      -0.3239...</td>\n      <td>0       0.004632\n1       0.008688\n2       0.00...</td>\n      <td>0      -0.12409\n1      -0.16927\n2      -0.2045...</td>\n      <td>0      -0.082553\n1      -0.038890\n2      -0.09...</td>\n    </tr>\n  </tbody>\n</table>\n</div>"
     },
     "execution_count": 5,
     "metadata": {},
     "output_type": "execute_result"
    }
   ],
   "source": [
    "%%time\n",
    "\n",
    "df_nested = from_multi_index_to_nested(multi_ind_dataframe=df, instance_index='instances')\n",
    "df_nested.head()"
   ]
  },
  {
   "cell_type": "code",
   "execution_count": 6,
   "id": "45d36fde",
   "metadata": {
    "pycharm": {
     "name": "#%%\n"
    }
   },
   "outputs": [
    {
     "name": "stdout",
     "output_type": "stream",
     "text": [
      "<class 'pandas.core.frame.DataFrame'>\n",
      "Index: 98 entries, 12.288_normal to 61.2352_overhang-cage-fault-20g\n",
      "Data columns (total 8 columns):\n",
      " #   Column  Non-Null Count  Dtype \n",
      "---  ------  --------------  ----- \n",
      " 0   s0      98 non-null     object\n",
      " 1   s1      98 non-null     object\n",
      " 2   s2      98 non-null     object\n",
      " 3   s3      98 non-null     object\n",
      " 4   s4      98 non-null     object\n",
      " 5   s5      98 non-null     object\n",
      " 6   s6      98 non-null     object\n",
      " 7   s7      98 non-null     object\n",
      "dtypes: object(8)\n",
      "memory usage: 6.9+ KB\n"
     ]
    }
   ],
   "source": [
    "df_nested.info()"
   ]
  },
  {
   "cell_type": "code",
   "execution_count": 7,
   "id": "c1681cc7",
   "metadata": {
    "pycharm": {
     "name": "#%%\n"
    }
   },
   "outputs": [
    {
     "data": {
      "text/plain": "(98, 8, 5000)"
     },
     "execution_count": 7,
     "metadata": {},
     "output_type": "execute_result"
    }
   ],
   "source": [
    "df_nested.shape + df_nested.iloc[0,0].shape"
   ]
  },
  {
   "cell_type": "code",
   "execution_count": 8,
   "id": "1d7c47f8",
   "metadata": {
    "pycharm": {
     "name": "#%%\n"
    }
   },
   "outputs": [],
   "source": [
    "del df"
   ]
  },
  {
   "cell_type": "code",
   "execution_count": 9,
   "id": "f9c0af63",
   "metadata": {
    "pycharm": {
     "name": "#%%\n"
    }
   },
   "outputs": [],
   "source": [
    "def transform_data(transformer, x_train, x_test):\n",
    "    print(\"Starting data transformation ...\")\n",
    "    \n",
    "    start = timer()\n",
    "    transformer.fit(x_train)\n",
    "    print(f\"Elapsed time for {type(transformer).__name__} fitting:\", \n",
    "          (timedelta(seconds=timer()-start)).seconds, \n",
    "          \"seconds\")\n",
    "    \n",
    "    start = timer()\n",
    "    x_train_transform = transformer.transform(x_train)\n",
    "    print(\"Elapsed time for the transformation of X_train:\", (timedelta(seconds=timer()-start)).seconds, \"seconds\")\n",
    "    \n",
    "    start = timer()\n",
    "    x_test_transform = transformer.transform(x_test)\n",
    "    print(\"Elapsed time for the transformation of X_test:\", (timedelta(seconds=timer()-start)).seconds, \"seconds \\n\")\n",
    "    \n",
    "    return x_train_transform, x_test_transform\n",
    "\n",
    "\n",
    "def get_model_name(model):\n",
    "    return type(model).__name__\n",
    "\n",
    "\n",
    "def train_model(model, X_train, y_train):\n",
    "    model_name = get_model_name(model)\n",
    "    \n",
    "    print(f\"Starting {model_name} model training ...\")\n",
    "    start = timer()\n",
    "    model = model.fit(X_train, y_train)\n",
    "    print(f\"Elapsed time for the {model_name} model training:\", \n",
    "          (timedelta(seconds=timer()-start)).seconds, \n",
    "          \"seconds \\n\")\n",
    "    return model\n",
    "\n",
    "def evaluate_model(model, x_test, y_test):\n",
    "    model_name = get_model_name(model)\n",
    "    print(f\"Starting {model_name} model evaluation ...\")\n",
    "\n",
    "    start = timer()\n",
    "    y_pred = model.predict(x_test)\n",
    "    print(f\"Elapsed time for the {model_name} model prediction:\", \n",
    "      (timedelta(seconds=timer()-start)).seconds, \n",
    "      \"seconds \\n\")\n",
    "    \n",
    "    print(f\"Classification Report for the {model_name} model \\n\")\n",
    "    print(classification_report(y_test, y_pred, digits=4))\n",
    "    \n",
    "    print(\"\")\n",
    "    # print(\"F1 binary:\\t\", f1_score(y_test, y_pred))\n",
    "    print(\"F1 micro:\\t\", round(f1_score(y_test, y_pred, average=\"micro\"), 4))\n",
    "    print(\"F1 macro:\\t\", round(f1_score(y_test, y_pred, average=\"macro\"), 4))\n",
    "    print(\"F1 weighted:\\t\", round(f1_score(y_test, y_pred, average=\"weighted\"), 4))\n",
    "    print(\"\")"
   ]
  },
  {
   "cell_type": "code",
   "execution_count": 10,
   "id": "e33af03c",
   "metadata": {
    "pycharm": {
     "name": "#%%\n"
    }
   },
   "outputs": [
    {
     "name": "stdout",
     "output_type": "stream",
     "text": [
      "Data shape: (examples, channels, series_length)\n",
      "\n",
      "X_train shape:\t (78, 8, 5000)\n",
      "y_train shape:\t (78,)\n",
      "X_test shape:\t (20, 8, 5000)\n",
      "y_test shape:\t (20,)\n"
     ]
    }
   ],
   "source": [
    "labels = np.array(labels)\n",
    "\n",
    "X_train, X_test, y_train, y_test = train_test_split(df_nested, \n",
    "                                                    labels, \n",
    "                                                    test_size=0.2, \n",
    "                                                    random_state=42, \n",
    "                                                    stratify=labels, \n",
    "                                                    shuffle=True)\n",
    "\n",
    "print(\"Data shape: (examples, channels, series_length)\\n\")\n",
    "print(\"X_train shape:\\t\", X_train.shape + X_train.iloc[0,0].shape)\n",
    "print(\"y_train shape:\\t\", y_train.shape)\n",
    "\n",
    "print(\"X_test shape:\\t\", X_test.shape + X_test.iloc[0,0].shape)\n",
    "print(\"y_test shape:\\t\", y_test.shape)"
   ]
  },
  {
   "cell_type": "markdown",
   "id": "823375a1",
   "metadata": {
    "pycharm": {
     "name": "#%% md\n"
    }
   },
   "source": [
    "## Data transformation using MiniROCKET"
   ]
  },
  {
   "cell_type": "code",
   "execution_count": 11,
   "id": "f8999e45",
   "metadata": {
    "pycharm": {
     "name": "#%%\n"
    }
   },
   "outputs": [
    {
     "name": "stdout",
     "output_type": "stream",
     "text": [
      "CPU times: total: 0 ns\n",
      "Wall time: 0 ns\n"
     ]
    }
   ],
   "source": [
    "%%time \n",
    "\n",
    "mini_rocket = MiniRocketMultivariate(n_jobs=6, random_state=SEED)"
   ]
  },
  {
   "cell_type": "code",
   "execution_count": 12,
   "outputs": [
    {
     "name": "stdout",
     "output_type": "stream",
     "text": [
      "CPU times: total: 27.7 s\n",
      "Wall time: 27.9 s\n"
     ]
    }
   ],
   "source": [
    "%%time\n",
    "\n",
    "mini_rocket = mini_rocket.fit(X_train)"
   ],
   "metadata": {
    "collapsed": false,
    "pycharm": {
     "name": "#%%\n"
    }
   }
  },
  {
   "cell_type": "code",
   "execution_count": 13,
   "outputs": [
    {
     "name": "stdout",
     "output_type": "stream",
     "text": [
      "CPU times: total: 1min 3s\n",
      "Wall time: 56 s\n"
     ]
    }
   ],
   "source": [
    "%%time\n",
    "\n",
    "X_train_transform = mini_rocket.transform(X_train)"
   ],
   "metadata": {
    "collapsed": false,
    "pycharm": {
     "name": "#%%\n"
    }
   }
  },
  {
   "cell_type": "code",
   "execution_count": 14,
   "outputs": [
    {
     "name": "stdout",
     "output_type": "stream",
     "text": [
      "CPU times: total: 17 s\n",
      "Wall time: 14.4 s\n"
     ]
    }
   ],
   "source": [
    "%%time\n",
    "\n",
    "X_test_transform = mini_rocket.transform(X_test)"
   ],
   "metadata": {
    "collapsed": false,
    "pycharm": {
     "name": "#%%\n"
    }
   }
  },
  {
   "cell_type": "markdown",
   "id": "2610a1d3",
   "metadata": {
    "pycharm": {
     "name": "#%% md\n"
    }
   },
   "source": [
    "## MiniROCKET features + RidgeClassifierCV"
   ]
  },
  {
   "cell_type": "code",
   "execution_count": 15,
   "id": "637b8b95",
   "metadata": {
    "pycharm": {
     "name": "#%%\n"
    }
   },
   "outputs": [
    {
     "name": "stdout",
     "output_type": "stream",
     "text": [
      "Starting RidgeClassifierCV model training ...\n",
      "Elapsed time for the RidgeClassifierCV model training: 0 seconds \n",
      "\n",
      "Starting RidgeClassifierCV model evaluation ...\n",
      "Elapsed time for the RidgeClassifierCV model prediction: 0 seconds \n",
      "\n",
      "Classification Report for the RidgeClassifierCV model \n",
      "\n",
      "                         precision    recall  f1-score   support\n",
      "\n",
      "                 normal     1.0000    1.0000    1.0000        10\n",
      "overhang-cage-fault-20g     1.0000    1.0000    1.0000        10\n",
      "\n",
      "               accuracy                         1.0000        20\n",
      "              macro avg     1.0000    1.0000    1.0000        20\n",
      "           weighted avg     1.0000    1.0000    1.0000        20\n",
      "\n",
      "\n",
      "F1 micro:\t 1.0\n",
      "F1 macro:\t 1.0\n",
      "F1 weighted:\t 1.0\n",
      "\n",
      "CPU times: total: 141 ms\n",
      "Wall time: 122 ms\n"
     ]
    }
   ],
   "source": [
    "%%time \n",
    "\n",
    "model = RidgeClassifierCV(alphas=np.logspace(-3, 3, 10), normalize=True)\n",
    "model = train_model(model, X_train_transform, y_train)\n",
    "evaluate_model(model, X_test_transform, y_test)"
   ]
  },
  {
   "cell_type": "markdown",
   "source": [
    "## Raw data + Mcfly AutoML"
   ],
   "metadata": {
    "collapsed": false,
    "pycharm": {
     "name": "#%% md\n"
    }
   }
  },
  {
   "cell_type": "markdown",
   "source": [
    "### Data preparation for deep learning models"
   ],
   "metadata": {
    "collapsed": false,
    "pycharm": {
     "name": "#%% md\n"
    }
   }
  },
  {
   "cell_type": "code",
   "execution_count": 16,
   "outputs": [
    {
     "name": "stdout",
     "output_type": "stream",
     "text": [
      "Data shape: (examples, channels, series_length)\n",
      "\n",
      "X_train shape:\t (62, 8, 5000)\n",
      "y_train shape:\t (62,)\n",
      "X_val shape:\t (16, 8, 5000)\n",
      "y_val shape:\t (16,)\n"
     ]
    }
   ],
   "source": [
    "X_train, X_val, y_train, y_val = train_test_split(X_train,\n",
    "                                                  y_train,\n",
    "                                                  test_size=0.2,\n",
    "                                                  random_state=42,\n",
    "                                                  stratify=y_train,\n",
    "                                                  shuffle=True)\n",
    "\n",
    "print(\"Data shape: (examples, channels, series_length)\\n\")\n",
    "print(\"X_train shape:\\t\", X_train.shape + X_train.iloc[0,0].shape)\n",
    "print(\"y_train shape:\\t\", y_train.shape)\n",
    "\n",
    "print(\"X_val shape:\\t\", X_val.shape + X_val.iloc[0,0].shape)\n",
    "print(\"y_val shape:\\t\", y_val.shape)"
   ],
   "metadata": {
    "collapsed": false,
    "pycharm": {
     "name": "#%%\n"
    }
   }
  },
  {
   "cell_type": "code",
   "execution_count": 17,
   "outputs": [
    {
     "data": {
      "text/plain": "[array(['normal', 'overhang-cage-fault-20g'], dtype='<U23')]"
     },
     "execution_count": 17,
     "metadata": {},
     "output_type": "execute_result"
    }
   ],
   "source": [
    "oh_encoder = OneHotEncoder()\n",
    "oh_encoder = oh_encoder.fit(y_train.reshape(-1, 1))\n",
    "\n",
    "oh_encoder.categories_"
   ],
   "metadata": {
    "collapsed": false,
    "pycharm": {
     "name": "#%%\n"
    }
   }
  },
  {
   "cell_type": "code",
   "execution_count": 18,
   "outputs": [],
   "source": [
    "y_train_binary = oh_encoder.transform(y_train.reshape(-1, 1)).toarray()\n",
    "y_val_binary = oh_encoder.transform(y_val.reshape(-1, 1)).toarray()\n",
    "y_test_binary = oh_encoder.transform(y_test.reshape(-1, 1)).toarray()"
   ],
   "metadata": {
    "collapsed": false,
    "pycharm": {
     "name": "#%%\n"
    }
   }
  },
  {
   "cell_type": "code",
   "execution_count": 19,
   "outputs": [],
   "source": [
    "X_train_np = np.swapaxes(from_nested_to_3d_numpy(X_train), 1, 2)\n",
    "X_val_np = np.swapaxes(from_nested_to_3d_numpy(X_val), 1, 2)\n",
    "X_test_np = np.swapaxes(from_nested_to_3d_numpy(X_test), 1, 2)"
   ],
   "metadata": {
    "collapsed": false,
    "pycharm": {
     "name": "#%%\n"
    }
   }
  },
  {
   "cell_type": "code",
   "execution_count": 20,
   "outputs": [
    {
     "name": "stdout",
     "output_type": "stream",
     "text": [
      "X_train_np.shape: (62, 5000, 8)\n",
      "y_train_binary.shape: (62, 2)\n",
      "X_val_np.shape: (16, 5000, 8)\n",
      "y_val_binary.shape: (16, 2)\n",
      "X_test_np.shape: (20, 5000, 8)\n",
      "y_test_binary.shape: (20, 2)\n"
     ]
    }
   ],
   "source": [
    "print('X_train_np.shape:', X_train_np.shape)\n",
    "print('y_train_binary.shape:', y_train_binary.shape)\n",
    "print('X_val_np.shape:', X_val_np.shape)\n",
    "print('y_val_binary.shape:', y_val_binary.shape)\n",
    "print('X_test_np.shape:', X_test_np.shape)\n",
    "print('y_test_binary.shape:', y_test_binary.shape)"
   ],
   "metadata": {
    "collapsed": false,
    "pycharm": {
     "name": "#%%\n"
    }
   }
  },
  {
   "cell_type": "code",
   "execution_count": 21,
   "outputs": [
    {
     "name": "stdout",
     "output_type": "stream",
     "text": [
      "CPU times: total: 3.75 s\n",
      "Wall time: 3.94 s\n"
     ]
    }
   ],
   "source": [
    "%%time\n",
    "\n",
    "num_classes = y_train_binary.shape[1]\n",
    "metric = 'binary_accuracy'\n",
    "models = generate_models(X_train_np.shape,\n",
    "                         number_of_classes=num_classes,\n",
    "                         number_of_models = 10,\n",
    "                         model_types=['ResNet', 'InceptionTime'],\n",
    "                         metrics=[metric])"
   ],
   "metadata": {
    "collapsed": false,
    "pycharm": {
     "name": "#%%\n"
    }
   }
  },
  {
   "cell_type": "code",
   "execution_count": 22,
   "outputs": [],
   "source": [
    "# Define directory where the results, e.g. json file, will be stored\n",
    "directory_to_extract_to = '../'\n",
    "resultpath = os.path.join(directory_to_extract_to, 'models')\n",
    "if not os.path.exists(resultpath):\n",
    "        os.makedirs(resultpath)"
   ],
   "metadata": {
    "collapsed": false,
    "pycharm": {
     "name": "#%%\n"
    }
   }
  },
  {
   "cell_type": "code",
   "execution_count": 23,
   "outputs": [
    {
     "name": "stdout",
     "output_type": "stream",
     "text": [
      "Generated models will be trained on subset of the data (subset size: 100).\n",
      "Training model 0 InceptionTime\n",
      "Epoch 1/20\n",
      "13/13 [==============================] - 12s 420ms/step - loss: 0.1166 - binary_accuracy: 0.9516 - val_loss: 1328.4216 - val_binary_accuracy: 0.5000\n",
      "Epoch 2/20\n",
      "13/13 [==============================] - 4s 305ms/step - loss: 0.4193 - binary_accuracy: 0.8871 - val_loss: 383.8049 - val_binary_accuracy: 0.5000\n",
      "Epoch 3/20\n",
      "13/13 [==============================] - 4s 306ms/step - loss: 0.2329 - binary_accuracy: 0.8871 - val_loss: 141.6974 - val_binary_accuracy: 0.5000\n",
      "Epoch 4/20\n",
      "13/13 [==============================] - 4s 306ms/step - loss: 0.1247 - binary_accuracy: 0.9839 - val_loss: 28.0051 - val_binary_accuracy: 0.5000\n",
      "Epoch 5/20\n",
      "13/13 [==============================] - 4s 304ms/step - loss: 0.0946 - binary_accuracy: 0.9839 - val_loss: 12.3652 - val_binary_accuracy: 0.5000\n",
      "Epoch 6/20\n",
      "13/13 [==============================] - 4s 302ms/step - loss: 0.0733 - binary_accuracy: 0.9839 - val_loss: 6.0470 - val_binary_accuracy: 0.5625\n",
      "Epoch 7/20\n",
      "13/13 [==============================] - 4s 301ms/step - loss: 0.0518 - binary_accuracy: 0.9839 - val_loss: 2.8604 - val_binary_accuracy: 0.5625\n",
      "Epoch 8/20\n",
      "13/13 [==============================] - 4s 305ms/step - loss: 0.0355 - binary_accuracy: 0.9839 - val_loss: 1.5748 - val_binary_accuracy: 0.5625\n",
      "Epoch 9/20\n",
      "13/13 [==============================] - 4s 304ms/step - loss: 0.0169 - binary_accuracy: 1.0000 - val_loss: 0.4295 - val_binary_accuracy: 0.8125\n",
      "Epoch 10/20\n",
      "13/13 [==============================] - 4s 305ms/step - loss: 0.0095 - binary_accuracy: 1.0000 - val_loss: 0.2062 - val_binary_accuracy: 0.8750\n",
      "Epoch 11/20\n",
      "13/13 [==============================] - 4s 303ms/step - loss: 0.0046 - binary_accuracy: 1.0000 - val_loss: 0.0658 - val_binary_accuracy: 1.0000\n",
      "Epoch 12/20\n",
      "13/13 [==============================] - 4s 304ms/step - loss: 0.0036 - binary_accuracy: 1.0000 - val_loss: 0.0672 - val_binary_accuracy: 1.0000\n",
      "Epoch 13/20\n",
      "13/13 [==============================] - 4s 305ms/step - loss: 0.0024 - binary_accuracy: 1.0000 - val_loss: 0.1034 - val_binary_accuracy: 0.9375\n",
      "Epoch 13: early stopping\n",
      "Training model 1 ResNet\n",
      "Epoch 1/20\n",
      "13/13 [==============================] - 27s 1s/step - loss: 0.8322 - binary_accuracy: 0.7903 - val_loss: 615360000.0000 - val_binary_accuracy: 0.5000\n",
      "Epoch 2/20\n",
      "13/13 [==============================] - 12s 942ms/step - loss: 0.7262 - binary_accuracy: 0.8548 - val_loss: 46757380.0000 - val_binary_accuracy: 0.5000\n",
      "Epoch 3/20\n",
      "13/13 [==============================] - 12s 941ms/step - loss: 0.4434 - binary_accuracy: 0.8871 - val_loss: 340032.9062 - val_binary_accuracy: 0.5000\n",
      "Epoch 4/20\n",
      "13/13 [==============================] - 12s 941ms/step - loss: 0.3094 - binary_accuracy: 0.9032 - val_loss: 58036.7109 - val_binary_accuracy: 0.5000\n",
      "Epoch 5/20\n",
      "13/13 [==============================] - 12s 941ms/step - loss: 0.2483 - binary_accuracy: 0.9032 - val_loss: 14725.9414 - val_binary_accuracy: 0.5000\n",
      "Epoch 6/20\n",
      "13/13 [==============================] - 12s 941ms/step - loss: 0.2415 - binary_accuracy: 0.9194 - val_loss: 2914.9697 - val_binary_accuracy: 0.5000\n",
      "Epoch 7/20\n",
      "13/13 [==============================] - 12s 941ms/step - loss: 0.2371 - binary_accuracy: 0.9194 - val_loss: 823.3485 - val_binary_accuracy: 0.5000\n",
      "Epoch 8/20\n",
      "13/13 [==============================] - 12s 940ms/step - loss: 0.2309 - binary_accuracy: 0.9194 - val_loss: 279.6241 - val_binary_accuracy: 0.5625\n",
      "Epoch 9/20\n",
      "13/13 [==============================] - 12s 941ms/step - loss: 0.2132 - binary_accuracy: 0.9194 - val_loss: 175.3734 - val_binary_accuracy: 0.5000\n",
      "Epoch 10/20\n",
      "13/13 [==============================] - 12s 941ms/step - loss: 0.2126 - binary_accuracy: 0.9194 - val_loss: 77.8070 - val_binary_accuracy: 0.5000\n",
      "Epoch 11/20\n",
      "13/13 [==============================] - 12s 941ms/step - loss: 0.1289 - binary_accuracy: 0.9677 - val_loss: 41.8255 - val_binary_accuracy: 0.5000\n",
      "Epoch 12/20\n",
      "13/13 [==============================] - 12s 941ms/step - loss: 0.1122 - binary_accuracy: 0.9516 - val_loss: 20.4870 - val_binary_accuracy: 0.7500\n",
      "Epoch 13/20\n",
      "13/13 [==============================] - 12s 942ms/step - loss: 0.1608 - binary_accuracy: 0.9677 - val_loss: 11.2671 - val_binary_accuracy: 0.7500\n",
      "Epoch 14/20\n",
      "13/13 [==============================] - 12s 943ms/step - loss: 0.1028 - binary_accuracy: 0.9677 - val_loss: 6.2750 - val_binary_accuracy: 0.7500\n",
      "Epoch 15/20\n",
      "13/13 [==============================] - 12s 944ms/step - loss: 0.0789 - binary_accuracy: 0.9839 - val_loss: 2.5047 - val_binary_accuracy: 0.8125\n",
      "Epoch 16/20\n",
      "13/13 [==============================] - 12s 944ms/step - loss: 0.0428 - binary_accuracy: 0.9839 - val_loss: 1.6494 - val_binary_accuracy: 0.8750\n",
      "Epoch 17/20\n",
      "13/13 [==============================] - 12s 944ms/step - loss: 0.0254 - binary_accuracy: 1.0000 - val_loss: 1.1519 - val_binary_accuracy: 0.8750\n",
      "Epoch 18/20\n",
      "13/13 [==============================] - 12s 944ms/step - loss: 0.0187 - binary_accuracy: 0.9839 - val_loss: 1.2178 - val_binary_accuracy: 0.8125\n",
      "Epoch 19/20\n",
      "13/13 [==============================] - 12s 945ms/step - loss: 0.0521 - binary_accuracy: 0.9839 - val_loss: 1.1473 - val_binary_accuracy: 0.8125\n",
      "Epoch 20/20\n",
      "13/13 [==============================] - 12s 943ms/step - loss: 0.1165 - binary_accuracy: 0.9839 - val_loss: 1.1056 - val_binary_accuracy: 0.8750\n",
      "Training model 2 ResNet\n",
      "Epoch 1/20\n",
      "13/13 [==============================] - 13s 546ms/step - loss: 0.3500 - binary_accuracy: 0.8871 - val_loss: 199417.5938 - val_binary_accuracy: 0.5000\n",
      "Epoch 2/20\n",
      "13/13 [==============================] - 5s 359ms/step - loss: 0.2986 - binary_accuracy: 0.9194 - val_loss: 68753.0859 - val_binary_accuracy: 0.5000\n",
      "Epoch 3/20\n",
      "13/13 [==============================] - 5s 358ms/step - loss: 0.2306 - binary_accuracy: 0.9194 - val_loss: 11047.8711 - val_binary_accuracy: 0.5000\n",
      "Epoch 4/20\n",
      "13/13 [==============================] - 5s 359ms/step - loss: 0.2074 - binary_accuracy: 0.9355 - val_loss: 2311.6975 - val_binary_accuracy: 0.5000\n",
      "Epoch 5/20\n",
      "13/13 [==============================] - 5s 360ms/step - loss: 0.1956 - binary_accuracy: 0.9355 - val_loss: 351.9469 - val_binary_accuracy: 0.5000\n",
      "Epoch 6/20\n",
      "13/13 [==============================] - 5s 359ms/step - loss: 0.1652 - binary_accuracy: 0.9355 - val_loss: 54.3056 - val_binary_accuracy: 0.5000\n",
      "Epoch 7/20\n",
      "13/13 [==============================] - 5s 359ms/step - loss: 0.1410 - binary_accuracy: 0.9677 - val_loss: 17.6572 - val_binary_accuracy: 0.5625\n",
      "Epoch 8/20\n",
      "13/13 [==============================] - 5s 359ms/step - loss: 0.1060 - binary_accuracy: 0.9839 - val_loss: 1.9286 - val_binary_accuracy: 0.8125\n",
      "Epoch 9/20\n",
      "13/13 [==============================] - 5s 358ms/step - loss: 0.1108 - binary_accuracy: 0.9677 - val_loss: 0.1574 - val_binary_accuracy: 0.9375\n",
      "Epoch 10/20\n",
      "13/13 [==============================] - 5s 359ms/step - loss: 0.0877 - binary_accuracy: 0.9516 - val_loss: 0.2886 - val_binary_accuracy: 0.9375\n",
      "Epoch 11/20\n",
      "13/13 [==============================] - 5s 359ms/step - loss: 0.1000 - binary_accuracy: 0.9677 - val_loss: 31.4122 - val_binary_accuracy: 0.5625\n",
      "Epoch 11: early stopping\n",
      "Training model 3 InceptionTime\n",
      "Epoch 1/20\n",
      "13/13 [==============================] - 9s 458ms/step - loss: 1.6971 - binary_accuracy: 0.7097 - val_loss: 39222.6016 - val_binary_accuracy: 0.5000\n",
      "Epoch 2/20\n",
      "13/13 [==============================] - 5s 359ms/step - loss: 0.2841 - binary_accuracy: 0.8871 - val_loss: 3640.2144 - val_binary_accuracy: 0.5000\n",
      "Epoch 3/20\n",
      "13/13 [==============================] - 5s 358ms/step - loss: 0.2747 - binary_accuracy: 0.9032 - val_loss: 692.1221 - val_binary_accuracy: 0.5000\n",
      "Epoch 4/20\n",
      "13/13 [==============================] - 5s 359ms/step - loss: 0.2262 - binary_accuracy: 0.9194 - val_loss: 251.4726 - val_binary_accuracy: 0.5000\n",
      "Epoch 5/20\n",
      "13/13 [==============================] - 5s 358ms/step - loss: 0.2185 - binary_accuracy: 0.9355 - val_loss: 137.6911 - val_binary_accuracy: 0.5000\n",
      "Epoch 6/20\n",
      "13/13 [==============================] - 5s 359ms/step - loss: 0.1898 - binary_accuracy: 0.9355 - val_loss: 81.9153 - val_binary_accuracy: 0.5000\n",
      "Epoch 7/20\n",
      "13/13 [==============================] - 5s 359ms/step - loss: 0.1862 - binary_accuracy: 0.9355 - val_loss: 56.5786 - val_binary_accuracy: 0.5000\n",
      "Epoch 8/20\n",
      "13/13 [==============================] - 5s 358ms/step - loss: 0.1694 - binary_accuracy: 0.9355 - val_loss: 55.0633 - val_binary_accuracy: 0.5000\n",
      "Epoch 9/20\n",
      "13/13 [==============================] - 5s 359ms/step - loss: 0.1801 - binary_accuracy: 0.9355 - val_loss: 55.1255 - val_binary_accuracy: 0.5000\n",
      "Epoch 10/20\n",
      "13/13 [==============================] - 5s 359ms/step - loss: 0.2013 - binary_accuracy: 0.9355 - val_loss: 52.4474 - val_binary_accuracy: 0.5000\n",
      "Epoch 11/20\n",
      "13/13 [==============================] - 5s 360ms/step - loss: 0.1653 - binary_accuracy: 0.9355 - val_loss: 73.0001 - val_binary_accuracy: 0.5000\n",
      "Epoch 12/20\n",
      "13/13 [==============================] - 5s 357ms/step - loss: 0.1020 - binary_accuracy: 0.9516 - val_loss: 60.7950 - val_binary_accuracy: 0.5000\n",
      "Epoch 12: early stopping\n",
      "Training model 4 InceptionTime\n",
      "Epoch 1/20\n",
      "13/13 [==============================] - 6s 232ms/step - loss: 0.4157 - binary_accuracy: 0.8548 - val_loss: 35.9924 - val_binary_accuracy: 0.5000\n",
      "Epoch 2/20\n",
      "13/13 [==============================] - 2s 151ms/step - loss: 0.2582 - binary_accuracy: 0.9355 - val_loss: 10.0346 - val_binary_accuracy: 0.5000\n",
      "Epoch 3/20\n",
      "13/13 [==============================] - 2s 152ms/step - loss: 0.1615 - binary_accuracy: 0.9516 - val_loss: 3.4943 - val_binary_accuracy: 0.5000\n",
      "Epoch 4/20\n",
      "13/13 [==============================] - 2s 151ms/step - loss: 0.1340 - binary_accuracy: 0.9516 - val_loss: 0.5800 - val_binary_accuracy: 0.7500\n",
      "Epoch 5/20\n",
      "13/13 [==============================] - 2s 152ms/step - loss: 0.1156 - binary_accuracy: 0.9677 - val_loss: 0.1378 - val_binary_accuracy: 1.0000\n",
      "Epoch 6/20\n",
      "13/13 [==============================] - 2s 152ms/step - loss: 0.0871 - binary_accuracy: 0.9839 - val_loss: 0.1765 - val_binary_accuracy: 0.9375\n",
      "Epoch 7/20\n",
      "13/13 [==============================] - 2s 152ms/step - loss: 0.0586 - binary_accuracy: 0.9839 - val_loss: 0.3856 - val_binary_accuracy: 0.7500\n",
      "Epoch 7: early stopping\n",
      "Training model 5 ResNet\n",
      "Epoch 1/20\n",
      "13/13 [==============================] - 7s 339ms/step - loss: 1.4088 - binary_accuracy: 0.6452 - val_loss: 19620.7402 - val_binary_accuracy: 0.5000\n",
      "Epoch 2/20\n",
      "13/13 [==============================] - 3s 233ms/step - loss: 0.3459 - binary_accuracy: 0.8871 - val_loss: 1929.5674 - val_binary_accuracy: 0.5000\n",
      "Epoch 3/20\n",
      "13/13 [==============================] - 3s 232ms/step - loss: 0.2672 - binary_accuracy: 0.9194 - val_loss: 434.3269 - val_binary_accuracy: 0.5000\n",
      "Epoch 4/20\n",
      "13/13 [==============================] - 3s 232ms/step - loss: 0.2396 - binary_accuracy: 0.9032 - val_loss: 146.5258 - val_binary_accuracy: 0.5000\n",
      "Epoch 5/20\n",
      "13/13 [==============================] - 3s 234ms/step - loss: 0.1995 - binary_accuracy: 0.9355 - val_loss: 54.2921 - val_binary_accuracy: 0.5000\n",
      "Epoch 6/20\n",
      "13/13 [==============================] - 3s 233ms/step - loss: 0.1901 - binary_accuracy: 0.9032 - val_loss: 21.2543 - val_binary_accuracy: 0.5000\n",
      "Epoch 7/20\n",
      "13/13 [==============================] - 3s 233ms/step - loss: 0.1478 - binary_accuracy: 0.9516 - val_loss: 5.4638 - val_binary_accuracy: 0.5000\n",
      "Epoch 8/20\n",
      "13/13 [==============================] - 3s 231ms/step - loss: 0.0912 - binary_accuracy: 0.9839 - val_loss: 0.3354 - val_binary_accuracy: 0.7500\n",
      "Epoch 9/20\n",
      "13/13 [==============================] - 3s 233ms/step - loss: 0.0618 - binary_accuracy: 0.9677 - val_loss: 0.0051 - val_binary_accuracy: 1.0000\n",
      "Epoch 10/20\n",
      "13/13 [==============================] - 3s 232ms/step - loss: 0.1075 - binary_accuracy: 0.9516 - val_loss: 0.3710 - val_binary_accuracy: 0.8750\n",
      "Epoch 11/20\n",
      "13/13 [==============================] - 3s 233ms/step - loss: 0.2703 - binary_accuracy: 0.9194 - val_loss: 0.0653 - val_binary_accuracy: 0.9375\n",
      "Epoch 11: early stopping\n",
      "Training model 6 ResNet\n",
      "Epoch 1/20\n",
      "13/13 [==============================] - 15s 662ms/step - loss: 0.6255 - binary_accuracy: 0.8065 - val_loss: 21193.8438 - val_binary_accuracy: 0.5000\n",
      "Epoch 2/20\n",
      "13/13 [==============================] - 5s 415ms/step - loss: 0.2593 - binary_accuracy: 0.9194 - val_loss: 12560.0918 - val_binary_accuracy: 0.5000\n",
      "Epoch 3/20\n",
      "13/13 [==============================] - 5s 414ms/step - loss: 0.1937 - binary_accuracy: 0.9516 - val_loss: 3755.8237 - val_binary_accuracy: 0.5000\n",
      "Epoch 4/20\n",
      "13/13 [==============================] - 5s 414ms/step - loss: 0.1982 - binary_accuracy: 0.9516 - val_loss: 963.9445 - val_binary_accuracy: 0.5000\n",
      "Epoch 5/20\n",
      "13/13 [==============================] - 5s 414ms/step - loss: 0.2017 - binary_accuracy: 0.9355 - val_loss: 586.9177 - val_binary_accuracy: 0.5000\n",
      "Epoch 6/20\n",
      "13/13 [==============================] - 5s 414ms/step - loss: 0.2016 - binary_accuracy: 0.9516 - val_loss: 232.2598 - val_binary_accuracy: 0.5000\n",
      "Epoch 7/20\n",
      "13/13 [==============================] - 5s 413ms/step - loss: 0.1684 - binary_accuracy: 0.9516 - val_loss: 106.5073 - val_binary_accuracy: 0.5000\n",
      "Epoch 8/20\n",
      "13/13 [==============================] - 5s 414ms/step - loss: 0.2194 - binary_accuracy: 0.9032 - val_loss: 93.6750 - val_binary_accuracy: 0.5625\n",
      "Epoch 9/20\n",
      "13/13 [==============================] - 5s 414ms/step - loss: 0.2535 - binary_accuracy: 0.9355 - val_loss: 74.0734 - val_binary_accuracy: 0.5000\n",
      "Epoch 10/20\n",
      "13/13 [==============================] - 5s 413ms/step - loss: 0.1954 - binary_accuracy: 0.9355 - val_loss: 12.7846 - val_binary_accuracy: 0.8125\n",
      "Epoch 11/20\n",
      "13/13 [==============================] - 5s 413ms/step - loss: 0.1628 - binary_accuracy: 0.9516 - val_loss: 2.0450 - val_binary_accuracy: 0.8125\n",
      "Epoch 12/20\n",
      "13/13 [==============================] - 5s 413ms/step - loss: 0.1345 - binary_accuracy: 0.9677 - val_loss: 1.2013 - val_binary_accuracy: 0.8750\n",
      "Epoch 13/20\n",
      "13/13 [==============================] - 5s 413ms/step - loss: 0.1082 - binary_accuracy: 0.9677 - val_loss: 1.5849 - val_binary_accuracy: 0.8125\n",
      "Epoch 14/20\n",
      "13/13 [==============================] - 5s 413ms/step - loss: 0.3765 - binary_accuracy: 0.8871 - val_loss: 9.5171 - val_binary_accuracy: 0.7500\n",
      "Epoch 14: early stopping\n",
      "Training model 7 InceptionTime\n",
      "Epoch 1/20\n",
      "13/13 [==============================] - 6s 246ms/step - loss: 0.6416 - binary_accuracy: 0.6290 - val_loss: 0.7556 - val_binary_accuracy: 0.5000\n",
      "Epoch 2/20\n",
      "13/13 [==============================] - 2s 173ms/step - loss: 0.3857 - binary_accuracy: 0.7903 - val_loss: 0.7674 - val_binary_accuracy: 0.5000\n",
      "Epoch 3/20\n",
      "13/13 [==============================] - 2s 173ms/step - loss: 0.3134 - binary_accuracy: 0.8710 - val_loss: 0.6856 - val_binary_accuracy: 0.5000\n",
      "Epoch 4/20\n",
      "13/13 [==============================] - 2s 174ms/step - loss: 0.2615 - binary_accuracy: 0.9032 - val_loss: 0.5965 - val_binary_accuracy: 0.5000\n",
      "Epoch 5/20\n",
      "13/13 [==============================] - 2s 173ms/step - loss: 0.2223 - binary_accuracy: 0.9194 - val_loss: 0.5212 - val_binary_accuracy: 0.7500\n",
      "Epoch 6/20\n",
      "13/13 [==============================] - 2s 173ms/step - loss: 0.1916 - binary_accuracy: 0.9516 - val_loss: 0.4629 - val_binary_accuracy: 0.9375\n",
      "Epoch 7/20\n",
      "13/13 [==============================] - 2s 174ms/step - loss: 0.1671 - binary_accuracy: 0.9677 - val_loss: 0.4190 - val_binary_accuracy: 0.8750\n",
      "Epoch 8/20\n",
      "13/13 [==============================] - 2s 174ms/step - loss: 0.1459 - binary_accuracy: 0.9677 - val_loss: 0.3844 - val_binary_accuracy: 0.9375\n",
      "Epoch 9/20\n",
      "13/13 [==============================] - 2s 174ms/step - loss: 0.1269 - binary_accuracy: 0.9677 - val_loss: 0.3563 - val_binary_accuracy: 0.8750\n",
      "Epoch 10/20\n",
      "13/13 [==============================] - 2s 172ms/step - loss: 0.1101 - binary_accuracy: 0.9677 - val_loss: 0.3326 - val_binary_accuracy: 0.8750\n",
      "Epoch 11/20\n",
      "13/13 [==============================] - 2s 174ms/step - loss: 0.0951 - binary_accuracy: 0.9839 - val_loss: 0.3116 - val_binary_accuracy: 0.8125\n",
      "Epoch 12/20\n",
      "13/13 [==============================] - 2s 174ms/step - loss: 0.0815 - binary_accuracy: 0.9839 - val_loss: 0.2918 - val_binary_accuracy: 0.8125\n",
      "Epoch 13/20\n",
      "13/13 [==============================] - 2s 173ms/step - loss: 0.0698 - binary_accuracy: 1.0000 - val_loss: 0.2723 - val_binary_accuracy: 0.8750\n",
      "Epoch 14/20\n",
      "13/13 [==============================] - 2s 174ms/step - loss: 0.0597 - binary_accuracy: 1.0000 - val_loss: 0.2518 - val_binary_accuracy: 0.9375\n",
      "Epoch 15/20\n",
      "13/13 [==============================] - 2s 174ms/step - loss: 0.0513 - binary_accuracy: 1.0000 - val_loss: 0.2297 - val_binary_accuracy: 0.9375\n",
      "Epoch 16/20\n",
      "13/13 [==============================] - 2s 174ms/step - loss: 0.0445 - binary_accuracy: 1.0000 - val_loss: 0.2059 - val_binary_accuracy: 0.9375\n",
      "Epoch 17/20\n",
      "13/13 [==============================] - 2s 173ms/step - loss: 0.0390 - binary_accuracy: 1.0000 - val_loss: 0.1811 - val_binary_accuracy: 0.9375\n",
      "Epoch 18/20\n",
      "13/13 [==============================] - 2s 172ms/step - loss: 0.0346 - binary_accuracy: 1.0000 - val_loss: 0.1566 - val_binary_accuracy: 0.9375\n",
      "Epoch 19/20\n",
      "13/13 [==============================] - 2s 174ms/step - loss: 0.0310 - binary_accuracy: 1.0000 - val_loss: 0.1334 - val_binary_accuracy: 0.9375\n",
      "Epoch 20/20\n",
      "13/13 [==============================] - 2s 174ms/step - loss: 0.0280 - binary_accuracy: 1.0000 - val_loss: 0.1123 - val_binary_accuracy: 0.9375\n",
      "Training model 8 InceptionTime\n",
      "Epoch 1/20\n",
      "13/13 [==============================] - 6s 223ms/step - loss: 0.4933 - binary_accuracy: 0.7742 - val_loss: 23.1341 - val_binary_accuracy: 0.5000\n",
      "Epoch 2/20\n",
      "13/13 [==============================] - 2s 148ms/step - loss: 0.2091 - binary_accuracy: 0.9516 - val_loss: 11.7463 - val_binary_accuracy: 0.5000\n",
      "Epoch 3/20\n",
      "13/13 [==============================] - 2s 148ms/step - loss: 0.1386 - binary_accuracy: 0.9516 - val_loss: 6.4147 - val_binary_accuracy: 0.5000\n",
      "Epoch 4/20\n",
      "13/13 [==============================] - 2s 148ms/step - loss: 0.1021 - binary_accuracy: 0.9677 - val_loss: 2.3873 - val_binary_accuracy: 0.5000\n",
      "Epoch 5/20\n",
      "13/13 [==============================] - 2s 147ms/step - loss: 0.0649 - binary_accuracy: 0.9677 - val_loss: 0.4534 - val_binary_accuracy: 0.7500\n",
      "Epoch 6/20\n",
      "13/13 [==============================] - 2s 148ms/step - loss: 0.0362 - binary_accuracy: 1.0000 - val_loss: 0.0861 - val_binary_accuracy: 1.0000\n",
      "Epoch 7/20\n",
      "13/13 [==============================] - 2s 147ms/step - loss: 0.0250 - binary_accuracy: 1.0000 - val_loss: 0.0744 - val_binary_accuracy: 1.0000\n",
      "Epoch 8/20\n",
      "13/13 [==============================] - 2s 148ms/step - loss: 0.1294 - binary_accuracy: 0.9516 - val_loss: 0.4488 - val_binary_accuracy: 0.8125\n",
      "Epoch 9/20\n",
      "13/13 [==============================] - 2s 149ms/step - loss: 0.1505 - binary_accuracy: 0.9677 - val_loss: 0.1100 - val_binary_accuracy: 1.0000\n",
      "Epoch 9: early stopping\n",
      "Training model 9 ResNet\n",
      "Epoch 1/20\n",
      "13/13 [==============================] - 23s 1s/step - loss: 0.7737 - binary_accuracy: 0.7742 - val_loss: 7341250048.0000 - val_binary_accuracy: 0.5000\n",
      "Epoch 2/20\n",
      "13/13 [==============================] - 10s 736ms/step - loss: 0.4796 - binary_accuracy: 0.8387 - val_loss: 34455716.0000 - val_binary_accuracy: 0.5000\n",
      "Epoch 3/20\n",
      "13/13 [==============================] - 10s 735ms/step - loss: 0.2769 - binary_accuracy: 0.8871 - val_loss: 595806.3750 - val_binary_accuracy: 0.5000\n",
      "Epoch 4/20\n",
      "13/13 [==============================] - 10s 737ms/step - loss: 0.2817 - binary_accuracy: 0.9032 - val_loss: 22053.0762 - val_binary_accuracy: 0.5000\n",
      "Epoch 5/20\n",
      "13/13 [==============================] - 10s 736ms/step - loss: 0.2734 - binary_accuracy: 0.9032 - val_loss: 654.1268 - val_binary_accuracy: 0.5000\n",
      "Epoch 6/20\n",
      "13/13 [==============================] - 10s 737ms/step - loss: 0.2546 - binary_accuracy: 0.9194 - val_loss: 37.3143 - val_binary_accuracy: 0.6250\n",
      "Epoch 7/20\n",
      "13/13 [==============================] - 10s 736ms/step - loss: 0.2706 - binary_accuracy: 0.9194 - val_loss: 12.1547 - val_binary_accuracy: 0.7500\n",
      "Epoch 8/20\n",
      "13/13 [==============================] - 10s 736ms/step - loss: 0.2494 - binary_accuracy: 0.9194 - val_loss: 5.1823 - val_binary_accuracy: 0.7500\n",
      "Epoch 9/20\n",
      "13/13 [==============================] - 10s 736ms/step - loss: 0.2234 - binary_accuracy: 0.9355 - val_loss: 295.7791 - val_binary_accuracy: 0.5000\n",
      "Epoch 10/20\n",
      "13/13 [==============================] - 10s 735ms/step - loss: 0.1360 - binary_accuracy: 0.9355 - val_loss: 46.9037 - val_binary_accuracy: 0.6250\n",
      "Epoch 10: early stopping\n",
      "Details of the training process were stored in  ../models\\modelcomparison-mcfly-mafaulda.json\n",
      "CPU times: total: 16min 23s\n",
      "Wall time: 12min 37s\n"
     ]
    }
   ],
   "source": [
    "%%time\n",
    "\n",
    "outputfile = os.path.join(resultpath, 'modelcomparison-mcfly-mafaulda.json')\n",
    "histories, val_accuracies, val_losses =\\\n",
    "    train_models_on_samples(X_train_np,\n",
    "                            y_train_binary,\n",
    "                            X_val_np,\n",
    "                            y_val_binary,\n",
    "                            models,\n",
    "                            batch_size=5,\n",
    "                            nr_epochs=20,\n",
    "                            # subset_size=1000,\n",
    "                            verbose=True,\n",
    "                            outputfile=outputfile,\n",
    "                            metric=metric)\n",
    "\n",
    "print('Details of the training process were stored in ', outputfile)"
   ],
   "metadata": {
    "collapsed": false,
    "pycharm": {
     "name": "#%%\n"
    }
   }
  },
  {
   "cell_type": "code",
   "execution_count": 24,
   "outputs": [
    {
     "data": {
      "text/plain": "                                               model  train_binary_accuracy  \\\n0  {'learning_rate': 0.002481868406666024, 'regul...               1.000000   \n1  {'learning_rate': 0.0020733359290859917, 'regu...               0.983871   \n2  {'learning_rate': 0.0012641972520448417, 'regu...               0.967742   \n3  {'learning_rate': 0.062298458109085804, 'regul...               0.951613   \n4  {'learning_rate': 0.001952196671677146, 'regul...               0.983871   \n5  {'learning_rate': 0.010253295496107573, 'regul...               0.919355   \n6  {'learning_rate': 0.001400221150606459, 'regul...               0.887097   \n7  {'learning_rate': 0.00010725006100452288, 'reg...               1.000000   \n8  {'learning_rate': 0.0016082190081896767, 'regu...               0.967742   \n9  {'learning_rate': 0.0032481413299388015, 'regu...               0.935484   \n\n   train_loss  val_binary_accuracy   val_loss  \n0    0.002369               0.9375   0.103386  \n1    0.116505               0.8750   1.105585  \n2    0.099978               0.5625  31.412218  \n3    0.101985               0.5000  60.795021  \n4    0.058612               0.7500   0.385597  \n5    0.270251               0.9375   0.065304  \n6    0.376523               0.7500   9.517092  \n7    0.028000               0.9375   0.112293  \n8    0.150520               1.0000   0.110044  \n9    0.136014               0.6250  46.903671  ",
      "text/html": "<div>\n<style scoped>\n    .dataframe tbody tr th:only-of-type {\n        vertical-align: middle;\n    }\n\n    .dataframe tbody tr th {\n        vertical-align: top;\n    }\n\n    .dataframe thead th {\n        text-align: right;\n    }\n</style>\n<table border=\"1\" class=\"dataframe\">\n  <thead>\n    <tr style=\"text-align: right;\">\n      <th></th>\n      <th>model</th>\n      <th>train_binary_accuracy</th>\n      <th>train_loss</th>\n      <th>val_binary_accuracy</th>\n      <th>val_loss</th>\n    </tr>\n  </thead>\n  <tbody>\n    <tr>\n      <th>0</th>\n      <td>{'learning_rate': 0.002481868406666024, 'regul...</td>\n      <td>1.000000</td>\n      <td>0.002369</td>\n      <td>0.9375</td>\n      <td>0.103386</td>\n    </tr>\n    <tr>\n      <th>1</th>\n      <td>{'learning_rate': 0.0020733359290859917, 'regu...</td>\n      <td>0.983871</td>\n      <td>0.116505</td>\n      <td>0.8750</td>\n      <td>1.105585</td>\n    </tr>\n    <tr>\n      <th>2</th>\n      <td>{'learning_rate': 0.0012641972520448417, 'regu...</td>\n      <td>0.967742</td>\n      <td>0.099978</td>\n      <td>0.5625</td>\n      <td>31.412218</td>\n    </tr>\n    <tr>\n      <th>3</th>\n      <td>{'learning_rate': 0.062298458109085804, 'regul...</td>\n      <td>0.951613</td>\n      <td>0.101985</td>\n      <td>0.5000</td>\n      <td>60.795021</td>\n    </tr>\n    <tr>\n      <th>4</th>\n      <td>{'learning_rate': 0.001952196671677146, 'regul...</td>\n      <td>0.983871</td>\n      <td>0.058612</td>\n      <td>0.7500</td>\n      <td>0.385597</td>\n    </tr>\n    <tr>\n      <th>5</th>\n      <td>{'learning_rate': 0.010253295496107573, 'regul...</td>\n      <td>0.919355</td>\n      <td>0.270251</td>\n      <td>0.9375</td>\n      <td>0.065304</td>\n    </tr>\n    <tr>\n      <th>6</th>\n      <td>{'learning_rate': 0.001400221150606459, 'regul...</td>\n      <td>0.887097</td>\n      <td>0.376523</td>\n      <td>0.7500</td>\n      <td>9.517092</td>\n    </tr>\n    <tr>\n      <th>7</th>\n      <td>{'learning_rate': 0.00010725006100452288, 'reg...</td>\n      <td>1.000000</td>\n      <td>0.028000</td>\n      <td>0.9375</td>\n      <td>0.112293</td>\n    </tr>\n    <tr>\n      <th>8</th>\n      <td>{'learning_rate': 0.0016082190081896767, 'regu...</td>\n      <td>0.967742</td>\n      <td>0.150520</td>\n      <td>1.0000</td>\n      <td>0.110044</td>\n    </tr>\n    <tr>\n      <th>9</th>\n      <td>{'learning_rate': 0.0032481413299388015, 'regu...</td>\n      <td>0.935484</td>\n      <td>0.136014</td>\n      <td>0.6250</td>\n      <td>46.903671</td>\n    </tr>\n  </tbody>\n</table>\n</div>"
     },
     "execution_count": 24,
     "metadata": {},
     "output_type": "execute_result"
    }
   ],
   "source": [
    "# metric = 'accuracy'\n",
    "modelcomparisons = pd.DataFrame({'model':[str(params) for model, params, model_types in models],\n",
    "                       'train_{}'.format(metric): [history.history[metric][-1] for history in histories],\n",
    "                       'train_loss': [history.history['loss'][-1] for history in histories],\n",
    "                       'val_{}'.format(metric): [history.history['val_{}'.format(metric)][-1] for history in histories],\n",
    "                       'val_loss': [history.history['val_loss'][-1] for history in histories]\n",
    "                       })\n",
    "modelcomparisons.to_csv(os.path.join(resultpath, 'modelcomparisons.csv'))\n",
    "\n",
    "modelcomparisons"
   ],
   "metadata": {
    "collapsed": false,
    "pycharm": {
     "name": "#%%\n"
    }
   }
  },
  {
   "cell_type": "code",
   "execution_count": 25,
   "outputs": [
    {
     "name": "stdout",
     "output_type": "stream",
     "text": [
      "Model type and parameters of the best model:\n",
      "best_model_index: 0\n",
      "InceptionTime\n",
      "{'learning_rate': 0.002481868406666024, 'regularization_rate': 0.00040507278590498885, 'network_depth': 6, 'filters_number': 53, 'max_kernel_size': 63}\n"
     ]
    }
   ],
   "source": [
    "best_model_index = np.argmax(val_accuracies)\n",
    "best_model, best_params, best_model_types = models[best_model_index]\n",
    "print('Model type and parameters of the best model:')\n",
    "print(\"best_model_index:\", best_model_index)\n",
    "print(best_model_types)\n",
    "print(best_params)"
   ],
   "metadata": {
    "collapsed": false,
    "pycharm": {
     "name": "#%%\n"
    }
   }
  },
  {
   "cell_type": "code",
   "execution_count": 154,
   "outputs": [
    {
     "name": "stdout",
     "output_type": "stream",
     "text": [
      "Epoch 1/50\n",
      "2/2 [==============================] - 11s 5s/step - loss: 0.3436 - binary_accuracy: 0.8710 - val_loss: 0.2440 - val_binary_accuracy: 0.9375\n",
      "Epoch 2/50\n",
      "2/2 [==============================] - 1s 750ms/step - loss: 0.2329 - binary_accuracy: 0.9032 - val_loss: 0.2374 - val_binary_accuracy: 0.9375\n",
      "Epoch 3/50\n",
      "2/2 [==============================] - 1s 746ms/step - loss: 0.0908 - binary_accuracy: 0.9839 - val_loss: 0.3649 - val_binary_accuracy: 0.8750\n",
      "Epoch 4/50\n",
      "2/2 [==============================] - 1s 749ms/step - loss: 0.2164 - binary_accuracy: 0.9355 - val_loss: 0.4031 - val_binary_accuracy: 0.8750\n",
      "Epoch 5/50\n",
      "2/2 [==============================] - 1s 752ms/step - loss: 0.2258 - binary_accuracy: 0.9194 - val_loss: 0.3752 - val_binary_accuracy: 0.8750\n",
      "Epoch 6/50\n",
      "2/2 [==============================] - 1s 742ms/step - loss: 0.2136 - binary_accuracy: 0.9194 - val_loss: 0.3074 - val_binary_accuracy: 0.8750\n",
      "Epoch 7/50\n",
      "2/2 [==============================] - 1s 747ms/step - loss: 0.1821 - binary_accuracy: 0.9355 - val_loss: 0.2317 - val_binary_accuracy: 0.9375\n",
      "Epoch 8/50\n",
      "2/2 [==============================] - 1s 747ms/step - loss: 0.1677 - binary_accuracy: 0.9677 - val_loss: 0.2810 - val_binary_accuracy: 0.9375\n",
      "Epoch 9/50\n",
      "2/2 [==============================] - 1s 748ms/step - loss: 0.1612 - binary_accuracy: 0.9677 - val_loss: 0.3150 - val_binary_accuracy: 0.8750\n",
      "Epoch 10/50\n",
      "2/2 [==============================] - 1s 750ms/step - loss: 0.1306 - binary_accuracy: 0.9677 - val_loss: 0.3571 - val_binary_accuracy: 0.8750\n",
      "Epoch 11/50\n",
      "2/2 [==============================] - 1s 749ms/step - loss: 0.1255 - binary_accuracy: 0.9516 - val_loss: 0.4160 - val_binary_accuracy: 0.8750\n",
      "Epoch 12/50\n",
      "2/2 [==============================] - 1s 751ms/step - loss: 0.1096 - binary_accuracy: 0.9677 - val_loss: 0.4702 - val_binary_accuracy: 0.8750\n",
      "Epoch 13/50\n",
      "2/2 [==============================] - 1s 749ms/step - loss: 0.1083 - binary_accuracy: 0.9839 - val_loss: 0.5010 - val_binary_accuracy: 0.8750\n",
      "Epoch 14/50\n",
      "2/2 [==============================] - 1s 742ms/step - loss: 0.1293 - binary_accuracy: 0.9677 - val_loss: 0.5055 - val_binary_accuracy: 0.8750\n",
      "Epoch 15/50\n",
      "2/2 [==============================] - 1s 738ms/step - loss: 0.0927 - binary_accuracy: 0.9839 - val_loss: 0.4935 - val_binary_accuracy: 0.8750\n",
      "Epoch 16/50\n",
      "2/2 [==============================] - 1s 749ms/step - loss: 0.0875 - binary_accuracy: 0.9839 - val_loss: 0.4822 - val_binary_accuracy: 0.8750\n",
      "Epoch 17/50\n",
      "2/2 [==============================] - 1s 746ms/step - loss: 0.1291 - binary_accuracy: 0.9677 - val_loss: 0.4745 - val_binary_accuracy: 0.8750\n",
      "Epoch 18/50\n",
      "2/2 [==============================] - 1s 743ms/step - loss: 0.0849 - binary_accuracy: 0.9839 - val_loss: 0.4443 - val_binary_accuracy: 0.8750\n",
      "Epoch 19/50\n",
      "2/2 [==============================] - 1s 752ms/step - loss: 0.0847 - binary_accuracy: 0.9839 - val_loss: 0.4152 - val_binary_accuracy: 0.8750\n",
      "Epoch 20/50\n",
      "2/2 [==============================] - 1s 747ms/step - loss: 0.0790 - binary_accuracy: 0.9839 - val_loss: 0.4023 - val_binary_accuracy: 0.8750\n",
      "Epoch 21/50\n",
      "2/2 [==============================] - 1s 750ms/step - loss: 0.1019 - binary_accuracy: 0.9677 - val_loss: 0.3828 - val_binary_accuracy: 0.8750\n",
      "Epoch 22/50\n",
      "2/2 [==============================] - 1s 743ms/step - loss: 0.0890 - binary_accuracy: 0.9677 - val_loss: 0.3702 - val_binary_accuracy: 0.8750\n",
      "Epoch 23/50\n",
      "2/2 [==============================] - 1s 747ms/step - loss: 0.1031 - binary_accuracy: 0.9677 - val_loss: 0.3819 - val_binary_accuracy: 0.8750\n",
      "Epoch 24/50\n",
      "2/2 [==============================] - 1s 751ms/step - loss: 0.0773 - binary_accuracy: 0.9839 - val_loss: 0.3861 - val_binary_accuracy: 0.8750\n",
      "Epoch 25/50\n",
      "2/2 [==============================] - 1s 746ms/step - loss: 0.0850 - binary_accuracy: 0.9839 - val_loss: 0.3876 - val_binary_accuracy: 0.8750\n",
      "Epoch 26/50\n",
      "2/2 [==============================] - 1s 747ms/step - loss: 0.0793 - binary_accuracy: 0.9839 - val_loss: 0.3841 - val_binary_accuracy: 0.8750\n",
      "Epoch 27/50\n",
      "2/2 [==============================] - 1s 748ms/step - loss: 0.0717 - binary_accuracy: 0.9839 - val_loss: 0.3790 - val_binary_accuracy: 0.8750\n",
      "Epoch 28/50\n",
      "2/2 [==============================] - 1s 739ms/step - loss: 0.0926 - binary_accuracy: 0.9677 - val_loss: 0.3895 - val_binary_accuracy: 0.8750\n",
      "Epoch 29/50\n",
      "2/2 [==============================] - 1s 744ms/step - loss: 0.0833 - binary_accuracy: 0.9839 - val_loss: 0.4018 - val_binary_accuracy: 0.8750\n",
      "Epoch 30/50\n",
      "2/2 [==============================] - 1s 745ms/step - loss: 0.0814 - binary_accuracy: 0.9839 - val_loss: 0.4074 - val_binary_accuracy: 0.8750\n",
      "Epoch 31/50\n",
      "2/2 [==============================] - 1s 747ms/step - loss: 0.0731 - binary_accuracy: 0.9839 - val_loss: 0.4179 - val_binary_accuracy: 0.8750\n",
      "Epoch 32/50\n",
      "2/2 [==============================] - 1s 747ms/step - loss: 0.0742 - binary_accuracy: 0.9839 - val_loss: 0.4278 - val_binary_accuracy: 0.8750\n",
      "Epoch 33/50\n",
      "2/2 [==============================] - 1s 748ms/step - loss: 0.0694 - binary_accuracy: 0.9839 - val_loss: 0.4362 - val_binary_accuracy: 0.8750\n",
      "Epoch 34/50\n",
      "2/2 [==============================] - 1s 742ms/step - loss: 0.0733 - binary_accuracy: 0.9839 - val_loss: 0.4391 - val_binary_accuracy: 0.8750\n",
      "Epoch 35/50\n",
      "2/2 [==============================] - 1s 743ms/step - loss: 0.0721 - binary_accuracy: 0.9839 - val_loss: 0.4397 - val_binary_accuracy: 0.8750\n",
      "Epoch 36/50\n",
      "2/2 [==============================] - 1s 740ms/step - loss: 0.0723 - binary_accuracy: 0.9839 - val_loss: 0.4431 - val_binary_accuracy: 0.8750\n",
      "Epoch 37/50\n",
      "2/2 [==============================] - 1s 748ms/step - loss: 0.0713 - binary_accuracy: 0.9839 - val_loss: 0.4390 - val_binary_accuracy: 0.8750\n",
      "Epoch 38/50\n",
      "2/2 [==============================] - 1s 746ms/step - loss: 0.0694 - binary_accuracy: 0.9839 - val_loss: 0.4354 - val_binary_accuracy: 0.8750\n",
      "Epoch 39/50\n",
      "2/2 [==============================] - 1s 753ms/step - loss: 0.0723 - binary_accuracy: 0.9839 - val_loss: 0.4327 - val_binary_accuracy: 0.8750\n",
      "Epoch 40/50\n",
      "2/2 [==============================] - 1s 755ms/step - loss: 0.0840 - binary_accuracy: 0.9839 - val_loss: 0.4329 - val_binary_accuracy: 0.8750\n",
      "Epoch 41/50\n",
      "2/2 [==============================] - 1s 744ms/step - loss: 0.0737 - binary_accuracy: 0.9839 - val_loss: 0.4338 - val_binary_accuracy: 0.8750\n",
      "Epoch 42/50\n",
      "2/2 [==============================] - 1s 749ms/step - loss: 0.0699 - binary_accuracy: 0.9839 - val_loss: 0.4296 - val_binary_accuracy: 0.8750\n",
      "Epoch 43/50\n",
      "2/2 [==============================] - 1s 748ms/step - loss: 0.0724 - binary_accuracy: 0.9839 - val_loss: 0.4247 - val_binary_accuracy: 0.8750\n",
      "Epoch 44/50\n",
      "2/2 [==============================] - 1s 740ms/step - loss: 0.0711 - binary_accuracy: 0.9839 - val_loss: 0.4242 - val_binary_accuracy: 0.8750\n",
      "Epoch 45/50\n",
      "2/2 [==============================] - 1s 746ms/step - loss: 0.0732 - binary_accuracy: 0.9839 - val_loss: 0.4235 - val_binary_accuracy: 0.8750\n",
      "Epoch 46/50\n",
      "2/2 [==============================] - 1s 744ms/step - loss: 0.0737 - binary_accuracy: 0.9839 - val_loss: 0.4227 - val_binary_accuracy: 0.8750\n",
      "Epoch 47/50\n",
      "2/2 [==============================] - 1s 736ms/step - loss: 0.0743 - binary_accuracy: 0.9839 - val_loss: 0.4158 - val_binary_accuracy: 0.8750\n",
      "Epoch 48/50\n",
      "2/2 [==============================] - 1s 747ms/step - loss: 0.0738 - binary_accuracy: 0.9839 - val_loss: 0.4103 - val_binary_accuracy: 0.8750\n",
      "Epoch 49/50\n",
      "2/2 [==============================] - 1s 750ms/step - loss: 0.0707 - binary_accuracy: 0.9839 - val_loss: 0.4099 - val_binary_accuracy: 0.8750\n",
      "Epoch 50/50\n",
      "2/2 [==============================] - 1s 746ms/step - loss: 0.0712 - binary_accuracy: 0.9839 - val_loss: 0.4104 - val_binary_accuracy: 0.8750\n"
     ]
    }
   ],
   "source": [
    "#We make a copy of the model, to start training from fresh\n",
    "nr_epochs = 50\n",
    "datasize = X_train_np.shape[0] # Change in `X_train.shape[0]` if training complete data set\n",
    "\n",
    "history = best_model.fit(\n",
    "    X_train_np[:datasize,:,:],\n",
    "    y_train_binary[:datasize,:],\n",
    "    epochs=nr_epochs,\n",
    "    validation_data=(X_val_np, y_val_binary)\n",
    ")"
   ],
   "metadata": {
    "collapsed": false,
    "pycharm": {
     "name": "#%%\n"
    }
   }
  },
  {
   "cell_type": "code",
   "execution_count": 26,
   "outputs": [
    {
     "name": "stdout",
     "output_type": "stream",
     "text": [
      "1/1 [==============================] - 2s 2s/step - loss: 0.0333 - binary_accuracy: 1.0000\n",
      "Score of best model\n",
      "Test loss: 0.03331084921956062\n",
      "Test accuracy: 1.0\n"
     ]
    }
   ],
   "source": [
    "## Test on Testset\n",
    "score_test = best_model.evaluate(X_test_np, y_test_binary, verbose=True)\n",
    "print('Score of best model')\n",
    "print('Test loss:', score_test[0])\n",
    "print('Test accuracy:', score_test[1])"
   ],
   "metadata": {
    "collapsed": false,
    "pycharm": {
     "name": "#%%\n"
    }
   }
  }
 ],
 "metadata": {
  "kernelspec": {
   "display_name": "Python 3 (ipykernel)",
   "language": "python",
   "name": "python3"
  },
  "language_info": {
   "codemirror_mode": {
    "name": "ipython",
    "version": 3
   },
   "file_extension": ".py",
   "mimetype": "text/x-python",
   "name": "python",
   "nbconvert_exporter": "python",
   "pygments_lexer": "ipython3",
   "version": "3.8.10"
  }
 },
 "nbformat": 4,
 "nbformat_minor": 5
}