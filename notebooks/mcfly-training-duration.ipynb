{
 "cells": [
  {
   "cell_type": "code",
   "execution_count": 1,
   "id": "3162278b",
   "metadata": {},
   "outputs": [
    {
     "name": "stderr",
     "output_type": "stream",
     "text": [
      "2022-07-12 18:20:36.331670: W tensorflow/stream_executor/platform/default/dso_loader.cc:64] Could not load dynamic library 'libcudart.so.11.0'; dlerror: libcudart.so.11.0: cannot open shared object file: No such file or directory\n",
      "2022-07-12 18:20:36.332536: I tensorflow/stream_executor/cuda/cudart_stub.cc:29] Ignore above cudart dlerror if you do not have a GPU set up on your machine.\n"
     ]
    }
   ],
   "source": [
    "import os\n",
    "import sys\n",
    "import json\n",
    "import mlflow\n",
    "import warnings\n",
    "import numpy as np\n",
    "import pandas as pd\n",
    "from datetime import timedelta\n",
    "from sktime.datatypes import convert_to\n",
    "from timeit import default_timer as timer\n",
    "from sktime.datasets import load_from_tsfile\n",
    "from sklearn.preprocessing import LabelBinarizer\n",
    "from sklearn.model_selection import train_test_split\n",
    "from sktime.datasets import load_from_tsfile_to_dataframe\n",
    "from mcfly.find_architecture import find_best_architecture\n",
    "from mcfly.find_architecture import train_models_on_samples\n",
    "\n",
    "warnings.filterwarnings('ignore')\n",
    "np.random.seed(42)"
   ]
  },
  {
   "cell_type": "code",
   "execution_count": 2,
   "id": "b1009417",
   "metadata": {},
   "outputs": [
    {
     "data": {
      "text/plain": [
       "<Experiment: artifact_location='../mlflow-artifacts/1', experiment_id='1', lifecycle_stage='active', name='mcfly-training-duration', tags={}>"
      ]
     },
     "execution_count": 2,
     "metadata": {},
     "output_type": "execute_result"
    }
   ],
   "source": [
    "mlflow.set_tracking_uri(\"http://127.0.0.1:5000\")\n",
    "mlflow.set_experiment(\"mcfly-training-duration\")"
   ]
  },
  {
   "cell_type": "code",
   "execution_count": 3,
   "id": "7c4bd2e0",
   "metadata": {},
   "outputs": [],
   "source": [
    "datasets = {\n",
    "    # \"CharacterTrajectories\": \"/mnt/f/Downloads/CharacterTrajectories/CharacterTrajectories_TRAIN.ts\",\n",
    "    \"HandMovementDirection\": \"/mnt/f/Downloads/HandMovementDirection_TRAIN.ts\",\n",
    "    \"EthanolLevel\": \"/mnt/f/Downloads/EthanolLevel/EthanolLevel_TRAIN.ts\",\n",
    "    \"HandOutlines\": \"/mnt/f/Downloads/HandOutlines/HandOutlines_TRAIN.ts\",\n",
    "    # \"Car\": \"/mnt/f/Documents/Car_TRAIN.ts\",\n",
    "    \"FordA\": \"/mnt/f/Downloads/FordA/FordA_TRAIN.ts\"\n",
    "}"
   ]
  },
  {
   "cell_type": "code",
   "execution_count": 4,
   "id": "86717fcd",
   "metadata": {},
   "outputs": [],
   "source": [
    "def read_dataset(file_path):\n",
    "    X, y = load_from_tsfile(file_path)\n",
    "    \n",
    "    X = convert_to(X, to_type=\"numpy3D\")\n",
    "    X = np.swapaxes(X, 1, 2)\n",
    "    \n",
    "    lb = LabelBinarizer()\n",
    "    y = lb.fit_transform(y)\n",
    "    \n",
    "    return X, y, lb\n",
    "\n",
    "\n",
    "def split_data(X, y):\n",
    "    return train_test_split(\n",
    "        X, \n",
    "        y, \n",
    "        test_size=0.20, \n",
    "        random_state=42, \n",
    "        shuffle=True, \n",
    "        stratify=y)"
   ]
  },
  {
   "cell_type": "code",
   "execution_count": null,
   "id": "c32ce2b3",
   "metadata": {},
   "outputs": [
    {
     "name": "stderr",
     "output_type": "stream",
     "text": [
      "2022-07-12 18:22:19.787289: W tensorflow/stream_executor/platform/default/dso_loader.cc:64] Could not load dynamic library 'libcuda.so.1'; dlerror: libcuda.so.1: cannot open shared object file: No such file or directory\n",
      "2022-07-12 18:22:19.787647: W tensorflow/stream_executor/cuda/cuda_driver.cc:269] failed call to cuInit: UNKNOWN ERROR (303)\n",
      "2022-07-12 18:22:19.787719: I tensorflow/stream_executor/cuda/cuda_diagnostics.cc:156] kernel driver does not appear to be running on this host (p9): /proc/driver/nvidia/version does not exist\n",
      "2022-07-12 18:22:19.790648: I tensorflow/core/platform/cpu_feature_guard.cc:151] This TensorFlow binary is optimized with oneAPI Deep Neural Network Library (oneDNN) to use the following CPU instructions in performance-critical operations:  AVX2 FMA\n",
      "To enable them in other operations, rebuild TensorFlow with the appropriate compiler flags.\n"
     ]
    },
    {
     "name": "stdout",
     "output_type": "stream",
     "text": [
      "Generated models will be trained on subset of the data (subset size: 100).\n",
      "1/1 [==============================] - 0s 489ms/step - loss: 2.7822 - accuracy: 0.3750\n",
      "Count: 1\n",
      "Generated models will be trained on subset of the data (subset size: 100).\n"
     ]
    }
   ],
   "source": [
    "%%time\n",
    "\n",
    "cnt = 0\n",
    "num_models_list = [8, 15, 25, 40]\n",
    "num_epochs_list = [20, 30, 42, 66]\n",
    "\n",
    "for dataset_key in datasets.keys():\n",
    "    for num_models in num_models_list:\n",
    "        for num_epochs in num_epochs_list:\n",
    "            X, y, label_binarizer = read_dataset(datasets[dataset_key])\n",
    "\n",
    "            X_train, X_val, y_train_binary, y_val_binary = split_data(X, y)\n",
    "\n",
    "            with mlflow.start_run():\n",
    "                params = {\n",
    "                'dataset': dataset_key,\n",
    "                'num_of_models': num_models,\n",
    "                'num_epochs': num_epochs,\n",
    "                'num_instances': X_train.shape[0],\n",
    "                'num_channels': X.shape[2],\n",
    "                'series_length': X_train.shape[1],\n",
    "                'num_channels_x_series_length': X.shape[2] * X.shape[1],\n",
    "                }\n",
    "                file_name = f\"model-comparison-20220712-key-{dataset_key}-models-{params['num_of_models']}-epochs-{params['num_epochs']}.json\"\n",
    "                outputfile = os.path.join(\"../models\", file_name)\n",
    "\n",
    "                start_timer = timer()\n",
    "\n",
    "                best_model, best_params, best_model_type, knn_acc = \\\n",
    "                    find_best_architecture(\n",
    "                        X_train=X_train,\n",
    "                        y_train=y_train_binary,\n",
    "                        X_val=X_val,\n",
    "                        y_val=y_val_binary,\n",
    "                        nr_epochs=params['num_epochs'],\n",
    "                        number_of_models=params['num_of_models'], \n",
    "                        outputpath=outputfile,\n",
    "                        verbose=False, \n",
    "                    )\n",
    "\n",
    "                mlflow.log_metric(\"time_elapsed\", timedelta(seconds=timer()-start_timer).seconds)\n",
    "\n",
    "                score_test = best_model.evaluate(X_val, y_val_binary, verbose=True)\n",
    "                mlflow.log_metric(\"val_loss\", score_test[0])\n",
    "                mlflow.log_metric(\"val_accuracy\", score_test[1])\n",
    "\n",
    "                params[\"best_model_type\"] = best_model_type\n",
    "                params = {**params, **best_params}\n",
    "                mlflow.log_params(params)\n",
    "                \n",
    "                cnt = cnt + 1\n",
    "                print(\"Count:\", cnt)"
   ]
  },
  {
   "cell_type": "markdown",
   "id": "7dfad6bb",
   "metadata": {},
   "source": [
    "### Example: pandas dataframe to numpy"
   ]
  },
  {
   "cell_type": "code",
   "execution_count": 73,
   "id": "a7d53415",
   "metadata": {},
   "outputs": [
    {
     "data": {
      "text/html": [
       "<div>\n",
       "<style scoped>\n",
       "    .dataframe tbody tr th:only-of-type {\n",
       "        vertical-align: middle;\n",
       "    }\n",
       "\n",
       "    .dataframe tbody tr th {\n",
       "        vertical-align: top;\n",
       "    }\n",
       "\n",
       "    .dataframe thead th {\n",
       "        text-align: right;\n",
       "    }\n",
       "</style>\n",
       "<table border=\"1\" class=\"dataframe\">\n",
       "  <thead>\n",
       "    <tr style=\"text-align: right;\">\n",
       "      <th></th>\n",
       "      <th>id</th>\n",
       "      <th>time</th>\n",
       "      <th>x</th>\n",
       "      <th>y</th>\n",
       "    </tr>\n",
       "  </thead>\n",
       "  <tbody>\n",
       "    <tr>\n",
       "      <th>0</th>\n",
       "      <td>1</td>\n",
       "      <td>1</td>\n",
       "      <td>1</td>\n",
       "      <td>5</td>\n",
       "    </tr>\n",
       "    <tr>\n",
       "      <th>1</th>\n",
       "      <td>1</td>\n",
       "      <td>2</td>\n",
       "      <td>2</td>\n",
       "      <td>6</td>\n",
       "    </tr>\n",
       "    <tr>\n",
       "      <th>2</th>\n",
       "      <td>1</td>\n",
       "      <td>3</td>\n",
       "      <td>3</td>\n",
       "      <td>7</td>\n",
       "    </tr>\n",
       "    <tr>\n",
       "      <th>3</th>\n",
       "      <td>1</td>\n",
       "      <td>4</td>\n",
       "      <td>4</td>\n",
       "      <td>8</td>\n",
       "    </tr>\n",
       "    <tr>\n",
       "      <th>4</th>\n",
       "      <td>2</td>\n",
       "      <td>8</td>\n",
       "      <td>10</td>\n",
       "      <td>12</td>\n",
       "    </tr>\n",
       "    <tr>\n",
       "      <th>5</th>\n",
       "      <td>2</td>\n",
       "      <td>9</td>\n",
       "      <td>11</td>\n",
       "      <td>13</td>\n",
       "    </tr>\n",
       "  </tbody>\n",
       "</table>\n",
       "</div>"
      ],
      "text/plain": [
       "   id  time   x   y\n",
       "0   1     1   1   5\n",
       "1   1     2   2   6\n",
       "2   1     3   3   7\n",
       "3   1     4   4   8\n",
       "4   2     8  10  12\n",
       "5   2     9  11  13"
      ]
     },
     "execution_count": 73,
     "metadata": {},
     "output_type": "execute_result"
    }
   ],
   "source": [
    "df = pd.DataFrame({\n",
    "   \"id\": [1, 1, 1, 1, 2, 2],\n",
    "   \"time\": [1, 2, 3, 4, 8, 9],\n",
    "   \"x\": [1, 2, 3, 4, 10, 11],\n",
    "   \"y\": [5, 6, 7, 8, 12, 13],\n",
    "})\n",
    "df"
   ]
  },
  {
   "cell_type": "code",
   "execution_count": 75,
   "id": "88658e4e",
   "metadata": {},
   "outputs": [
    {
     "data": {
      "text/plain": [
       "array([[ 1,  5],\n",
       "       [ 2,  6],\n",
       "       [ 3,  7],\n",
       "       [ 4,  8],\n",
       "       [10, 12],\n",
       "       [11, 13]])"
      ]
     },
     "execution_count": 75,
     "metadata": {},
     "output_type": "execute_result"
    }
   ],
   "source": [
    "df.drop([\"id\", \"time\"], axis=1).to_numpy()"
   ]
  },
  {
   "cell_type": "markdown",
   "id": "2afd0ec4",
   "metadata": {},
   "source": [
    "### Example: label encoding using sklearn.preprocessing.LabelEncoder and keras.utils.to_categorial"
   ]
  },
  {
   "cell_type": "code",
   "execution_count": 77,
   "id": "a77c9e81",
   "metadata": {},
   "outputs": [],
   "source": [
    "Xtmp, Ytmp = load_from_tsfile(datasets[\"Car\"])"
   ]
  },
  {
   "cell_type": "code",
   "execution_count": 79,
   "id": "c124d9a1",
   "metadata": {},
   "outputs": [
    {
     "data": {
      "text/plain": [
       "array(['1', '4', '2', '1', '2', '4', '1', '4', '4', '4', '1', '2', '3',\n",
       "       '1', '2', '2', '1', '1', '4', '2', '1', '4', '4', '1', '3', '3',\n",
       "       '1', '4', '3', '4', '2', '2', '3', '4', '3', '3', '1', '3', '2',\n",
       "       '2', '4', '1', '1', '2', '4', '2', '4', '1', '3', '2', '1', '4',\n",
       "       '2', '4', '1', '3', '2', '4', '3', '2'], dtype='<U1')"
      ]
     },
     "execution_count": 79,
     "metadata": {},
     "output_type": "execute_result"
    }
   ],
   "source": [
    "Ytmp"
   ]
  },
  {
   "cell_type": "code",
   "execution_count": 97,
   "id": "ec889cff",
   "metadata": {},
   "outputs": [
    {
     "data": {
      "text/plain": [
       "array(['1', '2', '3', '4'], dtype='<U1')"
      ]
     },
     "execution_count": 97,
     "metadata": {},
     "output_type": "execute_result"
    }
   ],
   "source": [
    "np.unique(Ytmp)"
   ]
  },
  {
   "cell_type": "code",
   "execution_count": 80,
   "id": "c6b67f65",
   "metadata": {},
   "outputs": [],
   "source": [
    "from tensorflow import keras"
   ]
  },
  {
   "cell_type": "code",
   "execution_count": 95,
   "id": "f71c7b43",
   "metadata": {},
   "outputs": [
    {
     "data": {
      "text/plain": [
       "array([0, 3, 1, 0, 1, 3, 0, 3, 3, 3, 0, 1, 2, 0, 1])"
      ]
     },
     "execution_count": 95,
     "metadata": {},
     "output_type": "execute_result"
    }
   ],
   "source": [
    "from sklearn.preprocessing import LabelEncoder\n",
    "\n",
    "LabelEncoder().fit_transform(Ytmp[0:15])"
   ]
  },
  {
   "cell_type": "code",
   "execution_count": 96,
   "id": "c6ff839f",
   "metadata": {},
   "outputs": [
    {
     "data": {
      "text/plain": [
       "array([[1., 0., 0., 0.],\n",
       "       [0., 0., 0., 1.],\n",
       "       [0., 1., 0., 0.],\n",
       "       [1., 0., 0., 0.],\n",
       "       [0., 1., 0., 0.],\n",
       "       [0., 0., 0., 1.],\n",
       "       [1., 0., 0., 0.],\n",
       "       [0., 0., 0., 1.],\n",
       "       [0., 0., 0., 1.],\n",
       "       [0., 0., 0., 1.],\n",
       "       [1., 0., 0., 0.],\n",
       "       [0., 1., 0., 0.],\n",
       "       [0., 0., 1., 0.],\n",
       "       [1., 0., 0., 0.],\n",
       "       [0., 1., 0., 0.]], dtype=float32)"
      ]
     },
     "execution_count": 96,
     "metadata": {},
     "output_type": "execute_result"
    }
   ],
   "source": [
    "keras.utils.to_categorical(LabelEncoder().fit_transform(Ytmp[0:15]))"
   ]
  }
 ],
 "metadata": {
  "kernelspec": {
   "display_name": "Python 3 (ipykernel)",
   "language": "python",
   "name": "python3"
  },
  "language_info": {
   "codemirror_mode": {
    "name": "ipython",
    "version": 3
   },
   "file_extension": ".py",
   "mimetype": "text/x-python",
   "name": "python",
   "nbconvert_exporter": "python",
   "pygments_lexer": "ipython3",
   "version": "3.8.10"
  }
 },
 "nbformat": 4,
 "nbformat_minor": 5
}
