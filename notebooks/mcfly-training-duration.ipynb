{
 "cells": [
  {
   "cell_type": "code",
   "execution_count": 1,
   "id": "8f044b5f",
   "metadata": {},
   "outputs": [
    {
     "name": "stderr",
     "output_type": "stream",
     "text": [
      "2022-08-23 20:35:39.976074: W tensorflow/stream_executor/platform/default/dso_loader.cc:64] Could not load dynamic library 'libcudart.so.11.0'; dlerror: libcudart.so.11.0: cannot open shared object file: No such file or directory\n",
      "2022-08-23 20:35:39.976514: I tensorflow/stream_executor/cuda/cudart_stub.cc:29] Ignore above cudart dlerror if you do not have a GPU set up on your machine.\n"
     ]
    }
   ],
   "source": [
    "import os\n",
    "import sys\n",
    "import json\n",
    "import mlflow\n",
    "import warnings\n",
    "import numpy as np\n",
    "import pandas as pd\n",
    "from datetime import timedelta\n",
    "from sktime.datatypes import convert_to\n",
    "from timeit import default_timer as timer\n",
    "from sktime.datasets import load_from_tsfile\n",
    "from sklearn.preprocessing import LabelBinarizer\n",
    "from sklearn.model_selection import train_test_split\n",
    "from sktime.datasets import load_from_tsfile_to_dataframe\n",
    "from mcfly.find_architecture import find_best_architecture\n",
    "from mcfly.find_architecture import train_models_on_samples\n",
    "\n",
    "warnings.filterwarnings('ignore')\n",
    "np.random.seed(42)"
   ]
  },
  {
   "cell_type": "code",
   "execution_count": 2,
   "id": "c6ca534a",
   "metadata": {},
   "outputs": [
    {
     "data": {
      "text/plain": [
       "<Experiment: artifact_location='../mlflow-artifacts/2', experiment_id='2', lifecycle_stage='active', name='mcfly-training-duration-models-only', tags={}>"
      ]
     },
     "execution_count": 2,
     "metadata": {},
     "output_type": "execute_result"
    }
   ],
   "source": [
    "mlflow.set_tracking_uri(\"http://127.0.0.1:5000\")\n",
    "mlflow.set_experiment(\"mcfly-training-duration-models-only\")"
   ]
  },
  {
   "cell_type": "code",
   "execution_count": 93,
   "id": "63869e13",
   "metadata": {},
   "outputs": [],
   "source": [
    "datasets = {\n",
    "    # \"CharacterTrajectories\": \"/mnt/f/Downloads/CharacterTrajectories/CharacterTrajectories_TRAIN.ts\",\n",
    "    # \"HandMovementDirection\": \"/mnt/f/Downloads/HandMovementDirection_TRAIN.ts\",\n",
    "    # \"EthanolLevel\": \"/mnt/f/Downloads/EthanolLevel/EthanolLevel_TRAIN.ts\",\n",
    "    # \"HandOutlines\": \"/mnt/f/Downloads/HandOutlines/HandOutlines_TRAIN.ts\",\n",
    "    \"Car\": \"/mnt/f/Documents/Car_TRAIN.ts\",\n",
    "    # \"Wafer\": \"/mnt/f/Downloads/Wafer/Wafer_TRAIN.ts\",\n",
    "    # \"FordA\": \"/mnt/f/Downloads/FordA/FordA_TRAIN.ts\",\n",
    "    # \"RacketSports\": \"/mnt/f/Downloads/RacketSports/RacketSports_TRAIN.ts\"\n",
    "}"
   ]
  },
  {
   "cell_type": "code",
   "execution_count": 4,
   "id": "4938faee",
   "metadata": {},
   "outputs": [],
   "source": [
    "def read_dataset(file_path):\n",
    "    X, y = load_from_tsfile(file_path)\n",
    "    \n",
    "    X = convert_to(X, to_type=\"numpy3D\")\n",
    "    X = np.swapaxes(X, 1, 2)\n",
    "    \n",
    "    lb = LabelBinarizer()\n",
    "    y = lb.fit_transform(y)\n",
    "    \n",
    "    return X, y, lb\n",
    "\n",
    "\n",
    "def split_data(X, y):\n",
    "    return train_test_split(\n",
    "        X, \n",
    "        y, \n",
    "        test_size=0.20, \n",
    "        random_state=42, \n",
    "        shuffle=True, \n",
    "        stratify=y)"
   ]
  },
  {
   "cell_type": "code",
   "execution_count": 94,
   "id": "0e46346c",
   "metadata": {
    "scrolled": true
   },
   "outputs": [
    {
     "name": "stdout",
     "output_type": "stream",
     "text": [
      "Run: 1 | key: Car | num_models: 5 | num_epochs: 30\n",
      "Generated models will be trained on subset of the data (subset size: 100).\n",
      "1/1 [==============================] - 1s 620ms/step - loss: 3309.8831 - accuracy: 0.2500\n",
      "Run: 2 | key: Car | num_models: 7 | num_epochs: 30\n",
      "Generated models will be trained on subset of the data (subset size: 100).\n",
      "1/1 [==============================] - 1s 1s/step - loss: 2.5083 - accuracy: 0.3333\n",
      "Run: 3 | key: Car | num_models: 11 | num_epochs: 30\n",
      "Generated models will be trained on subset of the data (subset size: 100).\n",
      "WARNING:tensorflow:5 out of the last 27 calls to <function Model.make_test_function.<locals>.test_function at 0x7f6288caeaf0> triggered tf.function retracing. Tracing is expensive and the excessive number of tracings could be due to (1) creating @tf.function repeatedly in a loop, (2) passing tensors with different shapes, (3) passing Python objects instead of tensors. For (1), please define your @tf.function outside of the loop. For (2), @tf.function has experimental_relax_shapes=True option that relaxes argument shapes that can avoid unnecessary retracing. For (3), please refer to https://www.tensorflow.org/guide/function#controlling_retracing and https://www.tensorflow.org/api_docs/python/tf/function for  more details.\n",
      "1/1 [==============================] - 0s 326ms/step - loss: 9.4022 - accuracy: 0.4167\n",
      "Run: 4 | key: Car | num_models: 16 | num_epochs: 30\n",
      "Generated models will be trained on subset of the data (subset size: 100).\n",
      "WARNING:tensorflow:5 out of the last 40 calls to <function Model.make_test_function.<locals>.test_function at 0x7f623f8a28b0> triggered tf.function retracing. Tracing is expensive and the excessive number of tracings could be due to (1) creating @tf.function repeatedly in a loop, (2) passing tensors with different shapes, (3) passing Python objects instead of tensors. For (1), please define your @tf.function outside of the loop. For (2), @tf.function has experimental_relax_shapes=True option that relaxes argument shapes that can avoid unnecessary retracing. For (3), please refer to https://www.tensorflow.org/guide/function#controlling_retracing and https://www.tensorflow.org/api_docs/python/tf/function for  more details.\n",
      "1/1 [==============================] - 2s 2s/step - loss: 17.2198 - accuracy: 0.3333\n",
      "Run: 5 | key: Car | num_models: 22 | num_epochs: 30\n",
      "Generated models will be trained on subset of the data (subset size: 100).\n",
      "1/1 [==============================] - 0s 287ms/step - loss: 2.8510 - accuracy: 0.5833\n",
      "CPU times: user 3h 49min 48s, sys: 35min 29s, total: 4h 25min 17s\n",
      "Wall time: 50min 3s\n"
     ]
    }
   ],
   "source": [
    "%%time\n",
    "\n",
    "cnt = 0\n",
    "num_models_list = [5, 7, 11, 16, 22]\n",
    "num_epochs_list = [30]\n",
    "\n",
    "for dataset_key in datasets.keys():\n",
    "    for num_models in num_models_list:\n",
    "        for num_epochs in num_epochs_list:\n",
    "            cnt = cnt + 1\n",
    "            print(\"Run:\", cnt, \"| key:\", dataset_key, \"| num_models:\", num_models, \"| num_epochs:\", num_epochs)\n",
    "            X, y, label_binarizer = read_dataset(datasets[dataset_key])\n",
    "\n",
    "            X_train, X_val, y_train_binary, y_val_binary = split_data(X, y)\n",
    "\n",
    "            with mlflow.start_run():\n",
    "                params = {\n",
    "                'dataset': dataset_key,\n",
    "                'num_of_models': num_models,\n",
    "                'num_epochs': num_epochs,\n",
    "                'num_instances': X_train.shape[0],\n",
    "                'num_channels': X.shape[2],\n",
    "                'series_length': X_train.shape[1],\n",
    "                'num_channels_x_series_length': X.shape[2] * X.shape[1],\n",
    "                }\n",
    "                file_name = f\"model-comparison-20220712-key-{dataset_key}-models-{params['num_of_models']}-epochs-{params['num_epochs']}.json\"\n",
    "                outputfile = os.path.join(\"../models\", file_name)\n",
    "\n",
    "                start_timer = timer()\n",
    "\n",
    "                best_model, best_params, best_model_type, knn_acc = \\\n",
    "                    find_best_architecture(\n",
    "                        X_train=X_train,\n",
    "                        y_train=y_train_binary,\n",
    "                        X_val=X_val,\n",
    "                        y_val=y_val_binary,\n",
    "                        nr_epochs=params['num_epochs'],\n",
    "                        number_of_models=params['num_of_models'], \n",
    "                        outputpath=outputfile,\n",
    "                        verbose=False, \n",
    "                    )\n",
    "\n",
    "                mlflow.log_metric(\"time_elapsed\", timedelta(seconds=timer()-start_timer).seconds)\n",
    "\n",
    "                score_test = best_model.evaluate(X_val, y_val_binary, verbose=True)\n",
    "                mlflow.log_metric(\"val_loss\", score_test[0])\n",
    "                mlflow.log_metric(\"val_accuracy\", score_test[1])\n",
    "\n",
    "                params[\"best_model_type\"] = best_model_type\n",
    "                params = {**params, **best_params}\n",
    "                mlflow.log_params(params)"
   ]
  },
  {
   "cell_type": "code",
   "execution_count": 3,
   "id": "66cbc8ed",
   "metadata": {},
   "outputs": [],
   "source": [
    "runs1 = mlflow.search_runs(experiment_ids=[\"1\"]) \n",
    "runs2 = mlflow.search_runs(experiment_ids=[\"2\"]) \n",
    "\n",
    "# mlflow.search_runs(\"mcfly-training-duration-models-only\")"
   ]
  },
  {
   "cell_type": "code",
   "execution_count": 5,
   "id": "3b399f28",
   "metadata": {},
   "outputs": [],
   "source": [
    "runs1[\"params.num_epochs\"] = runs1[\"params.num_epochs\"].astype('int64', copy=False)"
   ]
  },
  {
   "cell_type": "code",
   "execution_count": 6,
   "id": "74fc53b3",
   "metadata": {
    "scrolled": true
   },
   "outputs": [
    {
     "data": {
      "text/plain": [
       "Int64Index([0, 1, 3, 4, 6, 7, 9, 10, 13, 14, 16, 17, 19, 20, 21, 22, 23, 24,\n",
       "            25],\n",
       "           dtype='int64')"
      ]
     },
     "execution_count": 6,
     "metadata": {},
     "output_type": "execute_result"
    }
   ],
   "source": [
    "runs1[runs1[\"params.num_epochs\"]>=20].index # & runs1[\"params.num_epochs\"] <= 30"
   ]
  },
  {
   "cell_type": "code",
   "execution_count": 7,
   "id": "02a2563a",
   "metadata": {},
   "outputs": [
    {
     "data": {
      "text/plain": [
       "Int64Index([1, 2, 4, 5, 7, 8, 10, 11, 12, 14, 15, 17, 18, 20, 21, 24, 25], dtype='int64')"
      ]
     },
     "execution_count": 7,
     "metadata": {},
     "output_type": "execute_result"
    }
   ],
   "source": [
    "runs1[runs1[\"params.num_epochs\"]<=30].index "
   ]
  },
  {
   "cell_type": "code",
   "execution_count": 9,
   "id": "98c2b2e4",
   "metadata": {},
   "outputs": [],
   "source": [
    "cols = [\"params.num_epochs\", \"params.num_instances\", \"params.series_length\", \n",
    "        \"params.num_channels\", \"metrics.time_elapsed\", \"params.num_of_models\", ]\n",
    "runs1 = runs1[cols]\n",
    "runs2 = runs2[cols]\n"
   ]
  },
  {
   "cell_type": "code",
   "execution_count": 10,
   "id": "a394436d",
   "metadata": {},
   "outputs": [
    {
     "data": {
      "text/html": [
       "<div>\n",
       "<style scoped>\n",
       "    .dataframe tbody tr th:only-of-type {\n",
       "        vertical-align: middle;\n",
       "    }\n",
       "\n",
       "    .dataframe tbody tr th {\n",
       "        vertical-align: top;\n",
       "    }\n",
       "\n",
       "    .dataframe thead th {\n",
       "        text-align: right;\n",
       "    }\n",
       "</style>\n",
       "<table border=\"1\" class=\"dataframe\">\n",
       "  <thead>\n",
       "    <tr style=\"text-align: right;\">\n",
       "      <th></th>\n",
       "      <th>params.num_epochs</th>\n",
       "      <th>params.num_instances</th>\n",
       "      <th>params.series_length</th>\n",
       "      <th>params.num_channels</th>\n",
       "      <th>metrics.time_elapsed</th>\n",
       "      <th>params.num_of_models</th>\n",
       "    </tr>\n",
       "  </thead>\n",
       "  <tbody>\n",
       "    <tr>\n",
       "      <th>0</th>\n",
       "      <td>40</td>\n",
       "      <td>2880</td>\n",
       "      <td>500</td>\n",
       "      <td>1</td>\n",
       "      <td>1595.0</td>\n",
       "      <td>4</td>\n",
       "    </tr>\n",
       "    <tr>\n",
       "      <th>1</th>\n",
       "      <td>25</td>\n",
       "      <td>2880</td>\n",
       "      <td>500</td>\n",
       "      <td>1</td>\n",
       "      <td>303.0</td>\n",
       "      <td>4</td>\n",
       "    </tr>\n",
       "    <tr>\n",
       "      <th>2</th>\n",
       "      <td>15</td>\n",
       "      <td>2880</td>\n",
       "      <td>500</td>\n",
       "      <td>1</td>\n",
       "      <td>422.0</td>\n",
       "      <td>4</td>\n",
       "    </tr>\n",
       "    <tr>\n",
       "      <th>3</th>\n",
       "      <td>40</td>\n",
       "      <td>120</td>\n",
       "      <td>30</td>\n",
       "      <td>6</td>\n",
       "      <td>254.0</td>\n",
       "      <td>15</td>\n",
       "    </tr>\n",
       "    <tr>\n",
       "      <th>4</th>\n",
       "      <td>25</td>\n",
       "      <td>120</td>\n",
       "      <td>30</td>\n",
       "      <td>6</td>\n",
       "      <td>253.0</td>\n",
       "      <td>15</td>\n",
       "    </tr>\n",
       "  </tbody>\n",
       "</table>\n",
       "</div>"
      ],
      "text/plain": [
       "  params.num_epochs params.num_instances params.series_length  \\\n",
       "0                40                 2880                  500   \n",
       "1                25                 2880                  500   \n",
       "2                15                 2880                  500   \n",
       "3                40                  120                   30   \n",
       "4                25                  120                   30   \n",
       "\n",
       "  params.num_channels  metrics.time_elapsed params.num_of_models  \n",
       "0                   1                1595.0                    4  \n",
       "1                   1                 303.0                    4  \n",
       "2                   1                 422.0                    4  \n",
       "3                   6                 254.0                   15  \n",
       "4                   6                 253.0                   15  "
      ]
     },
     "execution_count": 10,
     "metadata": {},
     "output_type": "execute_result"
    }
   ],
   "source": [
    "runs = pd.concat([runs1, runs2])\n",
    "runs.head()"
   ]
  },
  {
   "cell_type": "code",
   "execution_count": 13,
   "id": "d7444cee",
   "metadata": {},
   "outputs": [
    {
     "data": {
      "text/plain": [
       "(Index(['params.num_epochs', 'params.num_instances', 'params.series_length',\n",
       "        'params.num_channels', 'metrics.time_elapsed', 'params.num_of_models'],\n",
       "       dtype='object'),\n",
       " (59, 6))"
      ]
     },
     "execution_count": 13,
     "metadata": {},
     "output_type": "execute_result"
    }
   ],
   "source": [
    "runs.columns, runs.shape"
   ]
  },
  {
   "cell_type": "code",
   "execution_count": 12,
   "id": "60fb3849",
   "metadata": {},
   "outputs": [],
   "source": [
    "runs.to_csv(\"../results/mcfly-model-training-duration.csv\", index=False)"
   ]
  },
  {
   "cell_type": "code",
   "execution_count": 119,
   "id": "4b871e3f",
   "metadata": {},
   "outputs": [
    {
     "data": {
      "text/plain": [
       "LinearRegression()"
      ]
     },
     "execution_count": 119,
     "metadata": {},
     "output_type": "execute_result"
    }
   ],
   "source": [
    "from sklearn.linear_model import LinearRegression\n",
    "reg = LinearRegression()\n",
    "\n",
    "target = \"params.num_of_models\"\n",
    "\n",
    "X = runs.drop([target], axis=1).to_numpy()\n",
    "y = runs[target].to_numpy()\n",
    "reg.fit(X, y)"
   ]
  },
  {
   "cell_type": "code",
   "execution_count": 120,
   "id": "c2e552d4",
   "metadata": {},
   "outputs": [
    {
     "data": {
      "text/plain": [
       "array([-0.16958759, -0.00380572, -0.00934381, -0.27648816,  0.01421024])"
      ]
     },
     "execution_count": 120,
     "metadata": {},
     "output_type": "execute_result"
    }
   ],
   "source": [
    "reg.coef_"
   ]
  },
  {
   "cell_type": "code",
   "execution_count": 121,
   "id": "fd196a0a",
   "metadata": {},
   "outputs": [
    {
     "data": {
      "text/plain": [
       "13.701875067289002"
      ]
     },
     "execution_count": 121,
     "metadata": {},
     "output_type": "execute_result"
    }
   ],
   "source": [
    "reg.intercept_"
   ]
  },
  {
   "cell_type": "code",
   "execution_count": 122,
   "id": "2e5ca3df",
   "metadata": {},
   "outputs": [
    {
     "data": {
      "text/plain": [
       "array([8.70102483])"
      ]
     },
     "execution_count": 122,
     "metadata": {},
     "output_type": "execute_result"
    }
   ],
   "source": [
    "reg.predict([[30, 1000, 200, 10, 600]])"
   ]
  },
  {
   "cell_type": "code",
   "execution_count": 123,
   "id": "0fcd8783",
   "metadata": {},
   "outputs": [
    {
     "data": {
      "text/html": [
       "<div>\n",
       "<style scoped>\n",
       "    .dataframe tbody tr th:only-of-type {\n",
       "        vertical-align: middle;\n",
       "    }\n",
       "\n",
       "    .dataframe tbody tr th {\n",
       "        vertical-align: top;\n",
       "    }\n",
       "\n",
       "    .dataframe thead th {\n",
       "        text-align: right;\n",
       "    }\n",
       "</style>\n",
       "<table border=\"1\" class=\"dataframe\">\n",
       "  <thead>\n",
       "    <tr style=\"text-align: right;\">\n",
       "      <th></th>\n",
       "      <th>inception</th>\n",
       "      <th>num_epochs</th>\n",
       "      <th>num_instances</th>\n",
       "      <th>series_length</th>\n",
       "      <th>num_channels</th>\n",
       "      <th>time_elapsed</th>\n",
       "    </tr>\n",
       "  </thead>\n",
       "  <tbody>\n",
       "    <tr>\n",
       "      <th>0</th>\n",
       "      <td>13.701875</td>\n",
       "      <td>-0.169588</td>\n",
       "      <td>-0.003806</td>\n",
       "      <td>-0.009344</td>\n",
       "      <td>-0.276488</td>\n",
       "      <td>0.01421</td>\n",
       "    </tr>\n",
       "  </tbody>\n",
       "</table>\n",
       "</div>"
      ],
      "text/plain": [
       "   inception  num_epochs  num_instances  series_length  num_channels  \\\n",
       "0  13.701875   -0.169588      -0.003806      -0.009344     -0.276488   \n",
       "\n",
       "   time_elapsed  \n",
       "0       0.01421  "
      ]
     },
     "execution_count": 123,
     "metadata": {},
     "output_type": "execute_result"
    }
   ],
   "source": [
    "predictors = list(map(lambda x: x.split(\".\")[1], cols[:-1]))\n",
    "vals = list(reg.coef_)\n",
    "vals.insert(0, reg.intercept_)\n",
    "\n",
    "pd.DataFrame([vals], columns =[\"inception\"] + predictors)"
   ]
  },
  {
   "cell_type": "markdown",
   "id": "6b5c8789",
   "metadata": {},
   "source": [
    "### Example: pandas dataframe to numpy"
   ]
  },
  {
   "cell_type": "code",
   "execution_count": 73,
   "id": "3c9e3f41",
   "metadata": {},
   "outputs": [
    {
     "data": {
      "text/html": [
       "<div>\n",
       "<style scoped>\n",
       "    .dataframe tbody tr th:only-of-type {\n",
       "        vertical-align: middle;\n",
       "    }\n",
       "\n",
       "    .dataframe tbody tr th {\n",
       "        vertical-align: top;\n",
       "    }\n",
       "\n",
       "    .dataframe thead th {\n",
       "        text-align: right;\n",
       "    }\n",
       "</style>\n",
       "<table border=\"1\" class=\"dataframe\">\n",
       "  <thead>\n",
       "    <tr style=\"text-align: right;\">\n",
       "      <th></th>\n",
       "      <th>id</th>\n",
       "      <th>time</th>\n",
       "      <th>x</th>\n",
       "      <th>y</th>\n",
       "    </tr>\n",
       "  </thead>\n",
       "  <tbody>\n",
       "    <tr>\n",
       "      <th>0</th>\n",
       "      <td>1</td>\n",
       "      <td>1</td>\n",
       "      <td>1</td>\n",
       "      <td>5</td>\n",
       "    </tr>\n",
       "    <tr>\n",
       "      <th>1</th>\n",
       "      <td>1</td>\n",
       "      <td>2</td>\n",
       "      <td>2</td>\n",
       "      <td>6</td>\n",
       "    </tr>\n",
       "    <tr>\n",
       "      <th>2</th>\n",
       "      <td>1</td>\n",
       "      <td>3</td>\n",
       "      <td>3</td>\n",
       "      <td>7</td>\n",
       "    </tr>\n",
       "    <tr>\n",
       "      <th>3</th>\n",
       "      <td>1</td>\n",
       "      <td>4</td>\n",
       "      <td>4</td>\n",
       "      <td>8</td>\n",
       "    </tr>\n",
       "    <tr>\n",
       "      <th>4</th>\n",
       "      <td>2</td>\n",
       "      <td>8</td>\n",
       "      <td>10</td>\n",
       "      <td>12</td>\n",
       "    </tr>\n",
       "    <tr>\n",
       "      <th>5</th>\n",
       "      <td>2</td>\n",
       "      <td>9</td>\n",
       "      <td>11</td>\n",
       "      <td>13</td>\n",
       "    </tr>\n",
       "  </tbody>\n",
       "</table>\n",
       "</div>"
      ],
      "text/plain": [
       "   id  time   x   y\n",
       "0   1     1   1   5\n",
       "1   1     2   2   6\n",
       "2   1     3   3   7\n",
       "3   1     4   4   8\n",
       "4   2     8  10  12\n",
       "5   2     9  11  13"
      ]
     },
     "execution_count": 73,
     "metadata": {},
     "output_type": "execute_result"
    }
   ],
   "source": [
    "df = pd.DataFrame({\n",
    "   \"id\": [1, 1, 1, 1, 2, 2],\n",
    "   \"time\": [1, 2, 3, 4, 8, 9],\n",
    "   \"x\": [1, 2, 3, 4, 10, 11],\n",
    "   \"y\": [5, 6, 7, 8, 12, 13],\n",
    "})\n",
    "df"
   ]
  },
  {
   "cell_type": "code",
   "execution_count": 75,
   "id": "1941c189",
   "metadata": {},
   "outputs": [
    {
     "data": {
      "text/plain": [
       "array([[ 1,  5],\n",
       "       [ 2,  6],\n",
       "       [ 3,  7],\n",
       "       [ 4,  8],\n",
       "       [10, 12],\n",
       "       [11, 13]])"
      ]
     },
     "execution_count": 75,
     "metadata": {},
     "output_type": "execute_result"
    }
   ],
   "source": [
    "df.drop([\"id\", \"time\"], axis=1).to_numpy()"
   ]
  },
  {
   "cell_type": "markdown",
   "id": "f0121746",
   "metadata": {},
   "source": [
    "### Example: label encoding using sklearn.preprocessing.LabelEncoder and keras.utils.to_categorial"
   ]
  },
  {
   "cell_type": "code",
   "execution_count": 77,
   "id": "d6051cfc",
   "metadata": {},
   "outputs": [],
   "source": [
    "Xtmp, Ytmp = load_from_tsfile(datasets[\"Car\"])"
   ]
  },
  {
   "cell_type": "code",
   "execution_count": 79,
   "id": "c9b5fe5b",
   "metadata": {},
   "outputs": [
    {
     "data": {
      "text/plain": [
       "array(['1', '4', '2', '1', '2', '4', '1', '4', '4', '4', '1', '2', '3',\n",
       "       '1', '2', '2', '1', '1', '4', '2', '1', '4', '4', '1', '3', '3',\n",
       "       '1', '4', '3', '4', '2', '2', '3', '4', '3', '3', '1', '3', '2',\n",
       "       '2', '4', '1', '1', '2', '4', '2', '4', '1', '3', '2', '1', '4',\n",
       "       '2', '4', '1', '3', '2', '4', '3', '2'], dtype='<U1')"
      ]
     },
     "execution_count": 79,
     "metadata": {},
     "output_type": "execute_result"
    }
   ],
   "source": [
    "Ytmp"
   ]
  },
  {
   "cell_type": "code",
   "execution_count": 97,
   "id": "9766d950",
   "metadata": {},
   "outputs": [
    {
     "data": {
      "text/plain": [
       "array(['1', '2', '3', '4'], dtype='<U1')"
      ]
     },
     "execution_count": 97,
     "metadata": {},
     "output_type": "execute_result"
    }
   ],
   "source": [
    "np.unique(Ytmp)"
   ]
  },
  {
   "cell_type": "code",
   "execution_count": 80,
   "id": "0cf9a0d8",
   "metadata": {},
   "outputs": [],
   "source": [
    "from tensorflow import keras"
   ]
  },
  {
   "cell_type": "code",
   "execution_count": 95,
   "id": "499b6d2c",
   "metadata": {},
   "outputs": [
    {
     "data": {
      "text/plain": [
       "array([0, 3, 1, 0, 1, 3, 0, 3, 3, 3, 0, 1, 2, 0, 1])"
      ]
     },
     "execution_count": 95,
     "metadata": {},
     "output_type": "execute_result"
    }
   ],
   "source": [
    "from sklearn.preprocessing import LabelEncoder\n",
    "\n",
    "LabelEncoder().fit_transform(Ytmp[0:15])"
   ]
  },
  {
   "cell_type": "code",
   "execution_count": 96,
   "id": "2741faaf",
   "metadata": {},
   "outputs": [
    {
     "data": {
      "text/plain": [
       "array([[1., 0., 0., 0.],\n",
       "       [0., 0., 0., 1.],\n",
       "       [0., 1., 0., 0.],\n",
       "       [1., 0., 0., 0.],\n",
       "       [0., 1., 0., 0.],\n",
       "       [0., 0., 0., 1.],\n",
       "       [1., 0., 0., 0.],\n",
       "       [0., 0., 0., 1.],\n",
       "       [0., 0., 0., 1.],\n",
       "       [0., 0., 0., 1.],\n",
       "       [1., 0., 0., 0.],\n",
       "       [0., 1., 0., 0.],\n",
       "       [0., 0., 1., 0.],\n",
       "       [1., 0., 0., 0.],\n",
       "       [0., 1., 0., 0.]], dtype=float32)"
      ]
     },
     "execution_count": 96,
     "metadata": {},
     "output_type": "execute_result"
    }
   ],
   "source": [
    "keras.utils.to_categorical(LabelEncoder().fit_transform(Ytmp[0:15]))"
   ]
  },
  {
   "cell_type": "markdown",
   "id": "ea338534",
   "metadata": {},
   "source": [
    "### Example: pandas dataframe to numpy3d"
   ]
  },
  {
   "cell_type": "code",
   "execution_count": 10,
   "id": "d91b0e41",
   "metadata": {},
   "outputs": [
    {
     "data": {
      "text/plain": [
       "array([[[ 1,  1,  1,  5],\n",
       "        [ 1,  2,  2,  6],\n",
       "        [ 1,  3,  3,  7],\n",
       "        [ 1,  4,  4,  8],\n",
       "        [ 2,  8, 10, 12],\n",
       "        [ 2,  9, 11, 13]],\n",
       "\n",
       "       [[10, 11, 11, 51],\n",
       "        [10, 12, 12, 62],\n",
       "        [11, 13, 13, 71],\n",
       "        [11, 14, 14, 82],\n",
       "        [12, 18, 12, 22],\n",
       "        [12, 19, 21, 53]]])"
      ]
     },
     "execution_count": 10,
     "metadata": {},
     "output_type": "execute_result"
    }
   ],
   "source": [
    "df1 = pd.DataFrame({\n",
    "      \"s_0\": [1, 1, 1, 1, 2, 2],\n",
    "      \"s_1\": [1, 2, 3, 4, 8, 9],\n",
    "      \"s_2\": [1, 2, 3, 4, 10, 11],\n",
    "      \"s_3\": [5, 6, 7, 8, 12, 13],\n",
    "   })\n",
    "\n",
    "df2 = pd.DataFrame({\n",
    "       \"s_0\": [10, 10, 11, 11, 12, 12],\n",
    "       \"s_1\": [11, 12, 13, 14, 18, 19],\n",
    "       \"s_2\": [11, 12, 13, 14, 12, 21],\n",
    "       \"s_3\": [51, 62, 71, 82, 22, 53],\n",
    "    })\n",
    "\n",
    "dfn1 = df1.to_numpy()[np.newaxis, :]\n",
    "dfn2 = df2.to_numpy()[np.newaxis, :]\n",
    "\n",
    "np.vstack((dfn1, dfn2))"
   ]
  },
  {
   "cell_type": "code",
   "execution_count": 12,
   "id": "dbf0b106",
   "metadata": {},
   "outputs": [
    {
     "data": {
      "text/plain": [
       "(2, 6, 4)"
      ]
     },
     "execution_count": 12,
     "metadata": {},
     "output_type": "execute_result"
    }
   ],
   "source": [
    "np.vstack((dfn1, dfn2)).shape"
   ]
  },
  {
   "cell_type": "code",
   "execution_count": 13,
   "id": "da940a65",
   "metadata": {},
   "outputs": [
    {
     "data": {
      "text/plain": [
       "'/'"
      ]
     },
     "execution_count": 13,
     "metadata": {},
     "output_type": "execute_result"
    }
   ],
   "source": [
    "os.sep"
   ]
  },
  {
   "cell_type": "markdown",
   "id": "9af57267",
   "metadata": {},
   "source": [
    "### Pandas to numpy npz"
   ]
  },
  {
   "cell_type": "code",
   "execution_count": 10,
   "id": "5a0d5d0c",
   "metadata": {},
   "outputs": [],
   "source": [
    "X, y = load_from_tsfile(\"/mnt/f/Downloads/FordA/FordA_TRAIN.ts\")\n",
    "\n",
    "X = convert_to(X, to_type=\"numpy3D\")\n",
    "X = np.swapaxes(X, 1, 2)"
   ]
  },
  {
   "cell_type": "code",
   "execution_count": 11,
   "id": "e720af8a",
   "metadata": {},
   "outputs": [
    {
     "data": {
      "text/plain": [
       "((3601, 500, 1), (3601,))"
      ]
     },
     "execution_count": 11,
     "metadata": {},
     "output_type": "execute_result"
    }
   ],
   "source": [
    "X.shape, y.shape"
   ]
  },
  {
   "cell_type": "code",
   "execution_count": 15,
   "id": "a0599e6d",
   "metadata": {},
   "outputs": [],
   "source": [
    "X_train, X_test, y_train, y_test = split_data(X, y)\n",
    "X_train, X_val, y_train, y_val = split_data(X_train, y_train)"
   ]
  },
  {
   "cell_type": "code",
   "execution_count": 16,
   "id": "600f56d0",
   "metadata": {},
   "outputs": [
    {
     "data": {
      "text/plain": [
       "((2304, 500, 1), (576, 500, 1), (721, 500, 1))"
      ]
     },
     "execution_count": 16,
     "metadata": {},
     "output_type": "execute_result"
    }
   ],
   "source": [
    "X_train.shape, X_val.shape, X_test.shape"
   ]
  },
  {
   "cell_type": "code",
   "execution_count": 17,
   "id": "32abf637",
   "metadata": {},
   "outputs": [
    {
     "data": {
      "text/plain": [
       "((2304,), (576,), (721,))"
      ]
     },
     "execution_count": 17,
     "metadata": {},
     "output_type": "execute_result"
    }
   ],
   "source": [
    "y_train.shape, y_val.shape, y_test.shape"
   ]
  },
  {
   "cell_type": "code",
   "execution_count": 21,
   "id": "579f11fc",
   "metadata": {},
   "outputs": [
    {
     "name": "stdout",
     "output_type": "stream",
     "text": [
      "CPU times: user 11 s, sys: 10.7 s, total: 21.6 s\n",
      "Wall time: 1min 17s\n"
     ]
    }
   ],
   "source": [
    "%%time \n",
    "\n",
    "for i in range(X_train.shape[0]):\n",
    "    np.savez_compressed(f'/mnt/f/Downloads/FordA/npz/train/{i}', x=X_train[i, :, :], y=y_train[i])\n",
    "    \n",
    "for i in range(X_test.shape[0]):\n",
    "    np.savez_compressed(f'/mnt/f/Downloads/FordA/npz/test/{i}', x=X_test[i, :, :], y=y_test[i])\n",
    "\n",
    "for i in range(X_val.shape[0]):\n",
    "    np.savez_compressed(f'/mnt/f/Downloads/FordA/npz/val/{i}', x=X_val[i, :, :], y=y_val[i])"
   ]
  },
  {
   "cell_type": "markdown",
   "id": "061ba41d",
   "metadata": {},
   "source": [
    "## Label Encoding"
   ]
  },
  {
   "cell_type": "code",
   "execution_count": 13,
   "id": "880a2456",
   "metadata": {},
   "outputs": [
    {
     "name": "stdout",
     "output_type": "stream",
     "text": [
      "OneHotEncoder:\n",
      " [[0. 1.]\n",
      " [1. 0.]\n",
      " [1. 0.]\n",
      " [1. 0.]\n",
      " [0. 1.]\n",
      " [1. 0.]\n",
      " [0. 1.]]\n",
      "LabelBinarizer:\n",
      " [[1]\n",
      " [0]\n",
      " [0]\n",
      " [0]\n",
      " [1]\n",
      " [0]\n",
      " [1]]\n",
      "LabelEncoder:\n",
      " [1 0 0 0 1 0 1]\n"
     ]
    },
    {
     "name": "stderr",
     "output_type": "stream",
     "text": [
      "/home/us3r/projects/automl-time-series/venv/lib/python3.8/site-packages/sklearn/preprocessing/_label.py:115: DataConversionWarning: A column-vector y was passed when a 1d array was expected. Please change the shape of y to (n_samples, ), for example using ravel().\n",
      "  y = column_or_1d(y, warn=True)\n"
     ]
    }
   ],
   "source": [
    "import numpy as np\n",
    "from sklearn.preprocessing import OneHotEncoder, LabelBinarizer, LabelEncoder\n",
    "\n",
    "y_tmp = np.array([1, 0, 2, 0, 1, 0, 2])\n",
    "y_tmp = np.array([\"1\", \"0\", \"2\", \"0\", \"1\", \"0\", \"2\"])\n",
    "y_tmp = np.array([\"B\", \"A\", \"C\", \"A\", \"B\", \"A\", \"C\"])\n",
    "y_tmp = np.array([\"dog\", \"cat\", \"bird\", \"cat\", \"bird\", \"dog\", \"dog\"])\n",
    "y_tmp = np.array([1, 0, 0, 0, 1, 0, 1])\n",
    "\n",
    "print(\"OneHotEncoder:\\n\", OneHotEncoder().fit_transform(y_tmp.reshape(-1, 1)).toarray())\n",
    "print(\"LabelBinarizer:\\n\", LabelBinarizer().fit_transform(y_tmp.reshape(-1, 1)))\n",
    "print(\"LabelEncoder:\\n\", LabelEncoder().fit_transform(y_tmp.reshape(-1, 1)))\n"
   ]
  },
  {
   "cell_type": "code",
   "execution_count": 20,
   "id": "b3558340",
   "metadata": {},
   "outputs": [
    {
     "data": {
      "text/plain": [
       "array(['cat', 'bird'], dtype='<U4')"
      ]
     },
     "execution_count": 20,
     "metadata": {},
     "output_type": "execute_result"
    }
   ],
   "source": [
    "ohe.inverse_transform(\n",
    "    [[0., 1., 0.],\n",
    "     [1., 0., 0.]]).reshape(1, -1)[0]"
   ]
  },
  {
   "cell_type": "code",
   "execution_count": null,
   "id": "cdfe4263",
   "metadata": {},
   "outputs": [],
   "source": [
    "2+2"
   ]
  }
 ],
 "metadata": {
  "kernelspec": {
   "display_name": "Python 3 (ipykernel)",
   "language": "python",
   "name": "python3"
  },
  "language_info": {
   "codemirror_mode": {
    "name": "ipython",
    "version": 3
   },
   "file_extension": ".py",
   "mimetype": "text/x-python",
   "name": "python",
   "nbconvert_exporter": "python",
   "pygments_lexer": "ipython3",
   "version": "3.8.10"
  }
 },
 "nbformat": 4,
 "nbformat_minor": 5
}
