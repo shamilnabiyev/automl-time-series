{
 "cells": [
  {
   "cell_type": "markdown",
   "metadata": {},
   "source": [
    "# Tutorial PAMAP2 with mcfly"
   ]
  },
  {
   "cell_type": "markdown",
   "metadata": {},
   "source": [
    "The goal of this tutorial is to get you familiar with training Neural Networks for time series using mcfly. At the end of the tutorial, you will have compared several Neural Network architectures you know how to train the best performing network.\n",
    "\n",
    "As an example dataset we use the publicly available [PAMAP2 dataset](https://archive.ics.uci.edu/ml/datasets/PAMAP2+Physical+Activity+Monitoring). It contains time series data from movement sensors worn by nine individuals. The data is labelled with the activity types that these individuals did and the aim is to train and evaluate a *classifier*.\n",
    "\n",
    "Before you can start, please make sure you install mcfly (see the [mcfly installation page](https://github.com/NLeSC/mcfly))."
   ]
  },
  {
   "cell_type": "markdown",
   "metadata": {},
   "source": [
    "## Import required Python modules"
   ]
  },
  {
   "cell_type": "code",
   "execution_count": 1,
   "metadata": {
    "scrolled": false
   },
   "outputs": [
    {
     "name": "stderr",
     "output_type": "stream",
     "text": [
      "2022-05-03 14:09:58.519645: W tensorflow/stream_executor/platform/default/dso_loader.cc:64] Could not load dynamic library 'libcudart.so.11.0'; dlerror: libcudart.so.11.0: cannot open shared object file: No such file or directory\n",
      "2022-05-03 14:09:58.519858: I tensorflow/stream_executor/cuda/cudart_stub.cc:29] Ignore above cudart dlerror if you do not have a GPU set up on your machine.\n"
     ]
    }
   ],
   "source": [
    "import sys\n",
    "import os\n",
    "import numpy as np\n",
    "import pandas as pd\n",
    "import mcfly\n",
    "from mcfly.find_architecture import train_models_on_samples\n",
    "import tensorflow as tf\n",
    "import warnings\n",
    "\n",
    "warnings.filterwarnings('ignore')\n",
    "np.random.seed(2)"
   ]
  },
  {
   "cell_type": "code",
   "execution_count": null,
   "metadata": {},
   "outputs": [],
   "source": [
    "# deprecated\n",
    "# sys.path.insert(0, os.path.abspath('../..'))\n",
    "# from utils import tutorial_pamap2"
   ]
  },
  {
   "cell_type": "markdown",
   "metadata": {},
   "source": [
    "## Download data pre-procesed data"
   ]
  },
  {
   "cell_type": "markdown",
   "metadata": {},
   "source": [
    "We have created a function for you to fetch the preprocessed data from https://zenodo.org/record/834467. Please specify the `directory_to_extract_to` in the code below and then execute the cell. This will download the preprocessed data into the directory in the `data` subdirectory. The output of the function is the path where the preprocessed data was stored."
   ]
  },
  {
   "cell_type": "code",
   "execution_count": 3,
   "metadata": {},
   "outputs": [],
   "source": [
    "# Specify in which directory you want to store the data:\n",
    "directory_to_extract_to = '../'"
   ]
  },
  {
   "cell_type": "code",
   "execution_count": 4,
   "metadata": {},
   "outputs": [],
   "source": [
    "# data_path = tutorial_pamap2.download_preprocessed_data(directory_to_extract_to)\n",
    "data_path = '../data/PAMAP2/PAMAP2/preprocessed'"
   ]
  },
  {
   "cell_type": "markdown",
   "metadata": {},
   "source": [
    "## A bit about the data"
   ]
  },
  {
   "cell_type": "markdown",
   "metadata": {},
   "source": [
    "The [PAMAP2 dataset](https://archive.ics.uci.edu/ml/datasets/PAMAP2+Physical+Activity+Monitoring) contains data from three movement sensors worn by nine test subjects. These subjects performed a protocol of several activities.\n",
    "\n",
    "The data originates from three sensors (on the hand, ankle and chest) and from each of the sensors we have three channels (acceleration on x, y and z axes). This gives us, for each time step, 9 values. The data is recorded on 100 Hz.\n",
    "\n",
    "The preprocessed data is split into smaller segments with a window of 512 time steps, corresponding to 5.12 seconds. We only include segments that completely fall into one activity period: the activity is the *label* of the segment.\n",
    "\n",
    "The goal of classification is to assign an activity label to an previously unseen segment."
   ]
  },
  {
   "cell_type": "markdown",
   "metadata": {},
   "source": [
    "## Load the pre-processed data"
   ]
  },
  {
   "cell_type": "markdown",
   "metadata": {},
   "source": [
    "Load the preprocessed data as stored in Numpy-files. Please note that the data has already been split up in a training (training), validation (val), and test subsets. It is common practice to call the input data X and the labels y."
   ]
  },
  {
   "cell_type": "code",
   "execution_count": 5,
   "metadata": {},
   "outputs": [],
   "source": [
    "# X_train, y_train_binary, X_val, y_val_binary, X_test, y_test_binary, labels = tutorial_pamap2.load_data(data_path)\n",
    "\n",
    "X_train = np.load(f'{data_path}/X_train.npy')\n",
    "y_train_binary = np.load(f'{data_path}/y_train.npy')\n",
    "X_val = np.load(f'{data_path}/X_val.npy')\n",
    "y_val_binary = np.load(f'{data_path}/y_val.npy')\n",
    "X_test = np.load(f'{data_path}/X_test.npy')\n",
    "y_test_binary = np.load(f'{data_path}/y_test.npy')"
   ]
  },
  {
   "cell_type": "markdown",
   "metadata": {},
   "source": [
    "Data X and labels y are of type Numpy array. In the cell below we inspect the shape of the data. As you can see the shape of X is expressed as a Python tuple containing: the number of samples, length of the time series, and the number of channels for each sample. Similarly, the shape of y is represents the number of samples and the number of classes (unique labels). Note that y has the format of a binary array where only the correct class for each sample is assigned a 1. This is called one-hot-encoding."
   ]
  },
  {
   "cell_type": "code",
   "execution_count": 6,
   "metadata": {},
   "outputs": [
    {
     "name": "stdout",
     "output_type": "stream",
     "text": [
      "x shape: (11397, 512, 9)\n",
      "y shape: (11397, 7)\n"
     ]
    }
   ],
   "source": [
    "print('x shape:', X_train.shape)\n",
    "print('y shape:', y_train_binary.shape)"
   ]
  },
  {
   "cell_type": "code",
   "execution_count": 20,
   "metadata": {},
   "outputs": [
    {
     "data": {
      "text/plain": [
       "(11397, 9, 512)"
      ]
     },
     "execution_count": 20,
     "metadata": {},
     "output_type": "execute_result"
    }
   ],
   "source": [
    "# try to reshape the data\n",
    "xs = X_train.shape\n",
    "X_train.reshape((xs[0], xs[2],xs[1])).shape"
   ]
  },
  {
   "cell_type": "markdown",
   "metadata": {},
   "source": [
    "The data is split between train test and validation."
   ]
  },
  {
   "cell_type": "code",
   "execution_count": 21,
   "metadata": {},
   "outputs": [
    {
     "name": "stdout",
     "output_type": "stream",
     "text": [
      "train set size: 11397\n",
      "validation set size: 100\n",
      "test set size: 1000\n"
     ]
    }
   ],
   "source": [
    "print('train set size:', X_train.shape[0])\n",
    "print('validation set size:', X_val.shape[0])\n",
    "print('test set size:', X_test.shape[0])"
   ]
  },
  {
   "cell_type": "markdown",
   "metadata": {},
   "source": [
    "Let's have a look at the distribution of the labels:"
   ]
  },
  {
   "cell_type": "code",
   "execution_count": null,
   "metadata": {},
   "outputs": [],
   "source": [
    "# frequencies = y_train_binary.mean(axis=0)\n",
    "# frequencies_df = pd.DataFrame(frequencies, index=labels, columns=['frequency'])\n",
    "# frequencies_df"
   ]
  },
  {
   "cell_type": "markdown",
   "metadata": {},
   "source": [
    "### *Question 1: How many channels does this dataset have?*\n",
    "### *Question 2: What is the least common activity label in this dataset?*\n",
    "\n",
    "    "
   ]
  },
  {
   "cell_type": "markdown",
   "metadata": {},
   "source": [
    "## Generate models"
   ]
  },
  {
   "cell_type": "markdown",
   "metadata": {},
   "source": [
    "First step in the development of any deep learning model is to create a model architecture. As we do not know what architecture is best for our data we will create a set of random models to investigate which architecture is most suitable for our data and classification task. This process, creating random models, checking how good they are and then selecting the best one is called a 'random search'. A random search is considered to be the most robust approach to finding a good model. You will need to specificy how many models you want to create with argument 'number_of_models'. See for a full overview of the optional arguments the function documentation of modelgen.generate_models by running `modelgen.generate_models?`.\n",
    "\n",
    "##### What number of models to select?\n",
    "This number differs per dataset. More models will give better results but it will take longer to evaluate them. For the purpose of this tutorial we recommend trying only 2 models to begin with. If you have enough time you can try a larger number of models, e.g. 10 or 20 models. Because mcfly uses random search, you will get better results when using more models."
   ]
  },
  {
   "cell_type": "code",
   "execution_count": 35,
   "metadata": {},
   "outputs": [],
   "source": [
    "num_classes = y_train_binary.shape[1]\n",
    "metric = 'accuracy'\n",
    "models = mcfly.modelgen.generate_models(X_train.shape,\n",
    "                                        number_of_classes=num_classes,\n",
    "                                        number_of_models = 5,\n",
    "                                        metrics=[metric])"
   ]
  },
  {
   "cell_type": "markdown",
   "metadata": {},
   "source": [
    "# Inspect the models\n",
    "We can have a look at the models that were generated. The layers are shown as table rows. Most common layer types are 'Convolution' and 'LSTM' and 'Dense'. For more information see the [mcfly user manual](https://github.com/NLeSC/mcfly/wiki/User-manual) and the [tutorial cheat sheet](https://github.com/NLeSC/mcfly-tutorial/blob/master/cheatsheet.md). The summary also shows the data shape of each layer output and the number of parameters that are trained within this layer."
   ]
  },
  {
   "cell_type": "code",
   "execution_count": 36,
   "metadata": {},
   "outputs": [
    {
     "name": "stdout",
     "output_type": "stream",
     "text": [
      "-------------------------------------------------------------------------------------------------------\n",
      "Model 0\n",
      " \n",
      "Hyperparameters:\n",
      "{'learning_rate': 0.002395661497204274, 'regularization_rate': 0.001495111309303957, 'filters': [52], 'lstm_dims': [46]}\n",
      " \n",
      "Model description:\n",
      "Model: \"sequential_7\"\n",
      "_________________________________________________________________\n",
      " Layer (type)                Output Shape              Param #   \n",
      "=================================================================\n",
      " batch_normalization_137 (Ba  (None, 512, 9)           36        \n",
      " tchNormalization)                                               \n",
      "                                                                 \n",
      " reshape_8 (Reshape)         (None, 512, 9, 1)         0         \n",
      "                                                                 \n",
      " conv2d_21 (Conv2D)          (None, 512, 9, 52)        208       \n",
      "                                                                 \n",
      " batch_normalization_138 (Ba  (None, 512, 9, 52)       208       \n",
      " tchNormalization)                                               \n",
      "                                                                 \n",
      " activation_70 (Activation)  (None, 512, 9, 52)        0         \n",
      "                                                                 \n",
      " reshape_9 (Reshape)         (None, 512, 468)          0         \n",
      "                                                                 \n",
      " lstm_12 (LSTM)              (None, 512, 46)           94760     \n",
      "                                                                 \n",
      " dropout_4 (Dropout)         (None, 512, 46)           0         \n",
      "                                                                 \n",
      " time_distributed_4 (TimeDis  (None, 512, 7)           329       \n",
      " tributed)                                                       \n",
      "                                                                 \n",
      " activation_71 (Activation)  (None, 512, 7)            0         \n",
      "                                                                 \n",
      " lambda_4 (Lambda)           (None, 7)                 0         \n",
      "                                                                 \n",
      "=================================================================\n",
      "Total params: 95,541\n",
      "Trainable params: 95,419\n",
      "Non-trainable params: 122\n",
      "_________________________________________________________________\n",
      " \n",
      "Model type:\n",
      "DeepConvLSTM\n",
      " \n",
      "-------------------------------------------------------------------------------------------------------\n",
      "Model 1\n",
      " \n",
      "Hyperparameters:\n",
      "{'learning_rate': 0.029502819024800692, 'regularization_rate': 0.001683557454356535, 'network_depth': 4, 'filters_number': 69, 'max_kernel_size': 19}\n",
      " \n",
      "Model description:\n",
      "Model: \"model_10\"\n",
      "__________________________________________________________________________________________________\n",
      " Layer (type)                   Output Shape         Param #     Connected to                     \n",
      "==================================================================================================\n",
      " input_11 (InputLayer)          [(None, 512, 9)]     0           []                               \n",
      "                                                                                                  \n",
      " batch_normalization_139 (Batch  (None, 512, 9)      36          ['input_11[0][0]']               \n",
      " Normalization)                                                                                   \n",
      "                                                                                                  \n",
      " conv1d_203 (Conv1D)            (None, 512, 32)      288         ['batch_normalization_139[0][0]']\n",
      "                                                                                                  \n",
      " max_pooling1d_22 (MaxPooling1D  (None, 512, 9)      0           ['batch_normalization_139[0][0]']\n",
      " )                                                                                                \n",
      "                                                                                                  \n",
      " conv1d_204 (Conv1D)            (None, 512, 69)      41952       ['conv1d_203[0][0]']             \n",
      "                                                                                                  \n",
      " conv1d_205 (Conv1D)            (None, 512, 69)      19872       ['conv1d_203[0][0]']             \n",
      "                                                                                                  \n",
      " conv1d_206 (Conv1D)            (None, 512, 69)      8832        ['conv1d_203[0][0]']             \n",
      "                                                                                                  \n",
      " conv1d_207 (Conv1D)            (None, 512, 69)      621         ['max_pooling1d_22[0][0]']       \n",
      "                                                                                                  \n",
      " concatenate_22 (Concatenate)   (None, 512, 276)     0           ['conv1d_204[0][0]',             \n",
      "                                                                  'conv1d_205[0][0]',             \n",
      "                                                                  'conv1d_206[0][0]',             \n",
      "                                                                  'conv1d_207[0][0]']             \n",
      "                                                                                                  \n",
      " batch_normalization_140 (Batch  (None, 512, 276)    1104        ['concatenate_22[0][0]']         \n",
      " Normalization)                                                                                   \n",
      "                                                                                                  \n",
      " activation_72 (Activation)     (None, 512, 276)     0           ['batch_normalization_140[0][0]']\n",
      "                                                                                                  \n",
      " conv1d_208 (Conv1D)            (None, 512, 32)      8832        ['activation_72[0][0]']          \n",
      "                                                                                                  \n",
      " max_pooling1d_23 (MaxPooling1D  (None, 512, 276)    0           ['activation_72[0][0]']          \n",
      " )                                                                                                \n",
      "                                                                                                  \n",
      " conv1d_209 (Conv1D)            (None, 512, 69)      41952       ['conv1d_208[0][0]']             \n",
      "                                                                                                  \n",
      " conv1d_210 (Conv1D)            (None, 512, 69)      19872       ['conv1d_208[0][0]']             \n",
      "                                                                                                  \n",
      " conv1d_211 (Conv1D)            (None, 512, 69)      8832        ['conv1d_208[0][0]']             \n",
      "                                                                                                  \n",
      " conv1d_212 (Conv1D)            (None, 512, 69)      19044       ['max_pooling1d_23[0][0]']       \n",
      "                                                                                                  \n",
      " concatenate_23 (Concatenate)   (None, 512, 276)     0           ['conv1d_209[0][0]',             \n",
      "                                                                  'conv1d_210[0][0]',             \n",
      "                                                                  'conv1d_211[0][0]',             \n",
      "                                                                  'conv1d_212[0][0]']             \n",
      "                                                                                                  \n",
      " batch_normalization_141 (Batch  (None, 512, 276)    1104        ['concatenate_23[0][0]']         \n",
      " Normalization)                                                                                   \n",
      "                                                                                                  \n",
      " activation_73 (Activation)     (None, 512, 276)     0           ['batch_normalization_141[0][0]']\n",
      "                                                                                                  \n",
      " conv1d_213 (Conv1D)            (None, 512, 32)      8832        ['activation_73[0][0]']          \n",
      "                                                                                                  \n"
     ]
    },
    {
     "name": "stdout",
     "output_type": "stream",
     "text": [
      " max_pooling1d_24 (MaxPooling1D  (None, 512, 276)    0           ['activation_73[0][0]']          \n",
      " )                                                                                                \n",
      "                                                                                                  \n",
      " conv1d_214 (Conv1D)            (None, 512, 69)      41952       ['conv1d_213[0][0]']             \n",
      "                                                                                                  \n",
      " conv1d_215 (Conv1D)            (None, 512, 69)      19872       ['conv1d_213[0][0]']             \n",
      "                                                                                                  \n",
      " conv1d_216 (Conv1D)            (None, 512, 69)      8832        ['conv1d_213[0][0]']             \n",
      "                                                                                                  \n",
      " conv1d_217 (Conv1D)            (None, 512, 69)      19044       ['max_pooling1d_24[0][0]']       \n",
      "                                                                                                  \n",
      " concatenate_24 (Concatenate)   (None, 512, 276)     0           ['conv1d_214[0][0]',             \n",
      "                                                                  'conv1d_215[0][0]',             \n",
      "                                                                  'conv1d_216[0][0]',             \n",
      "                                                                  'conv1d_217[0][0]']             \n",
      "                                                                                                  \n",
      " conv1d_218 (Conv1D)            (None, 512, 276)     2484        ['batch_normalization_139[0][0]']\n",
      "                                                                                                  \n",
      " batch_normalization_142 (Batch  (None, 512, 276)    1104        ['concatenate_24[0][0]']         \n",
      " Normalization)                                                                                   \n",
      "                                                                                                  \n",
      " batch_normalization_143 (Batch  (None, 512, 276)    1104        ['conv1d_218[0][0]']             \n",
      " Normalization)                                                                                   \n",
      "                                                                                                  \n",
      " activation_74 (Activation)     (None, 512, 276)     0           ['batch_normalization_142[0][0]']\n",
      "                                                                                                  \n",
      " add_25 (Add)                   (None, 512, 276)     0           ['batch_normalization_143[0][0]',\n",
      "                                                                  'activation_74[0][0]']          \n",
      "                                                                                                  \n",
      " activation_75 (Activation)     (None, 512, 276)     0           ['add_25[0][0]']                 \n",
      "                                                                                                  \n",
      " conv1d_219 (Conv1D)            (None, 512, 32)      8832        ['activation_75[0][0]']          \n",
      "                                                                                                  \n",
      " max_pooling1d_25 (MaxPooling1D  (None, 512, 276)    0           ['activation_75[0][0]']          \n",
      " )                                                                                                \n",
      "                                                                                                  \n",
      " conv1d_220 (Conv1D)            (None, 512, 69)      41952       ['conv1d_219[0][0]']             \n",
      "                                                                                                  \n",
      " conv1d_221 (Conv1D)            (None, 512, 69)      19872       ['conv1d_219[0][0]']             \n",
      "                                                                                                  \n",
      " conv1d_222 (Conv1D)            (None, 512, 69)      8832        ['conv1d_219[0][0]']             \n",
      "                                                                                                  \n",
      " conv1d_223 (Conv1D)            (None, 512, 69)      19044       ['max_pooling1d_25[0][0]']       \n",
      "                                                                                                  \n",
      " concatenate_25 (Concatenate)   (None, 512, 276)     0           ['conv1d_220[0][0]',             \n",
      "                                                                  'conv1d_221[0][0]',             \n",
      "                                                                  'conv1d_222[0][0]',             \n",
      "                                                                  'conv1d_223[0][0]']             \n",
      "                                                                                                  \n",
      " batch_normalization_144 (Batch  (None, 512, 276)    1104        ['concatenate_25[0][0]']         \n",
      " Normalization)                                                                                   \n",
      "                                                                                                  \n",
      " activation_76 (Activation)     (None, 512, 276)     0           ['batch_normalization_144[0][0]']\n",
      "                                                                                                  \n",
      " global_average_pooling1d_10 (G  (None, 276)         0           ['activation_76[0][0]']          \n",
      " lobalAveragePooling1D)                                                                           \n",
      "                                                                                                  \n",
      " dense_21 (Dense)               (None, 7)            1939        ['global_average_pooling1d_10[0][\n",
      "                                                                 0]']                             \n",
      "                                                                                                  \n",
      "==================================================================================================\n",
      "Total params: 377,140\n",
      "Trainable params: 374,362\n",
      "Non-trainable params: 2,778\n",
      "__________________________________________________________________________________________________\n",
      " \n",
      "Model type:\n",
      "InceptionTime\n",
      " \n",
      "-------------------------------------------------------------------------------------------------------\n",
      "Model 2\n",
      " \n",
      "Hyperparameters:\n",
      "{'learning_rate': 0.0007969629659162592, 'regularization_rate': 0.018304864073512624, 'filters': array([ 93, 100,  46,  50,  29,  66,  18,  88,  59]), 'fc_hidden_nodes': 1085}\n",
      " \n",
      "Model description:\n",
      "Model: \"sequential_8\"\n",
      "_________________________________________________________________\n",
      " Layer (type)                Output Shape              Param #   \n",
      "=================================================================\n",
      " batch_normalization_145 (Ba  (None, 512, 9)           36        \n",
      " tchNormalization)                                               \n",
      "                                                                 \n",
      " conv1d_224 (Conv1D)         (None, 512, 93)           2604      \n",
      "                                                                 \n",
      " batch_normalization_146 (Ba  (None, 512, 93)          372       \n",
      " tchNormalization)                                               \n",
      "                                                                 \n",
      " activation_77 (Activation)  (None, 512, 93)           0         \n",
      "                                                                 \n",
      " conv1d_225 (Conv1D)         (None, 512, 100)          28000     \n",
      "                                                                 \n",
      " batch_normalization_147 (Ba  (None, 512, 100)         400       \n",
      " tchNormalization)                                               \n",
      "                                                                 \n",
      " activation_78 (Activation)  (None, 512, 100)          0         \n",
      "                                                                 \n",
      " conv1d_226 (Conv1D)         (None, 512, 46)           13846     \n",
      "                                                                 \n",
      " batch_normalization_148 (Ba  (None, 512, 46)          184       \n",
      " tchNormalization)                                               \n",
      "                                                                 \n"
     ]
    },
    {
     "name": "stdout",
     "output_type": "stream",
     "text": [
      " activation_79 (Activation)  (None, 512, 46)           0         \n",
      "                                                                 \n",
      " conv1d_227 (Conv1D)         (None, 512, 50)           6950      \n",
      "                                                                 \n",
      " batch_normalization_149 (Ba  (None, 512, 50)          200       \n",
      " tchNormalization)                                               \n",
      "                                                                 \n",
      " activation_80 (Activation)  (None, 512, 50)           0         \n",
      "                                                                 \n",
      " conv1d_228 (Conv1D)         (None, 512, 29)           4379      \n",
      "                                                                 \n",
      " batch_normalization_150 (Ba  (None, 512, 29)          116       \n",
      " tchNormalization)                                               \n",
      "                                                                 \n",
      " activation_81 (Activation)  (None, 512, 29)           0         \n",
      "                                                                 \n",
      " conv1d_229 (Conv1D)         (None, 512, 66)           5808      \n",
      "                                                                 \n",
      " batch_normalization_151 (Ba  (None, 512, 66)          264       \n",
      " tchNormalization)                                               \n",
      "                                                                 \n",
      " activation_82 (Activation)  (None, 512, 66)           0         \n",
      "                                                                 \n",
      " conv1d_230 (Conv1D)         (None, 512, 18)           3582      \n",
      "                                                                 \n",
      " batch_normalization_152 (Ba  (None, 512, 18)          72        \n",
      " tchNormalization)                                               \n",
      "                                                                 \n",
      " activation_83 (Activation)  (None, 512, 18)           0         \n",
      "                                                                 \n",
      " conv1d_231 (Conv1D)         (None, 512, 88)           4840      \n",
      "                                                                 \n",
      " batch_normalization_153 (Ba  (None, 512, 88)          352       \n",
      " tchNormalization)                                               \n",
      "                                                                 \n",
      " activation_84 (Activation)  (None, 512, 88)           0         \n",
      "                                                                 \n",
      " conv1d_232 (Conv1D)         (None, 512, 59)           15635     \n",
      "                                                                 \n",
      " batch_normalization_154 (Ba  (None, 512, 59)          236       \n",
      " tchNormalization)                                               \n",
      "                                                                 \n",
      " activation_85 (Activation)  (None, 512, 59)           0         \n",
      "                                                                 \n",
      " flatten_3 (Flatten)         (None, 30208)             0         \n",
      "                                                                 \n",
      " dense_22 (Dense)            (None, 1085)              32776765  \n",
      "                                                                 \n",
      " activation_86 (Activation)  (None, 1085)              0         \n",
      "                                                                 \n",
      " dense_23 (Dense)            (None, 7)                 7602      \n",
      "                                                                 \n",
      " batch_normalization_155 (Ba  (None, 7)                28        \n",
      " tchNormalization)                                               \n",
      "                                                                 \n",
      " activation_87 (Activation)  (None, 7)                 0         \n",
      "                                                                 \n",
      "=================================================================\n",
      "Total params: 32,872,271\n",
      "Trainable params: 32,871,141\n",
      "Non-trainable params: 1,130\n",
      "_________________________________________________________________\n",
      " \n",
      "Model type:\n",
      "CNN\n",
      " \n",
      "-------------------------------------------------------------------------------------------------------\n",
      "Model 3\n",
      " \n",
      "Hyperparameters:\n",
      "{'learning_rate': 0.014084212778951739, 'regularization_rate': 0.022658275216524647, 'network_depth': 4, 'min_filters_number': 54, 'max_kernel_size': 13}\n",
      " \n",
      "Model description:\n",
      "Model: \"model_11\"\n",
      "__________________________________________________________________________________________________\n",
      " Layer (type)                   Output Shape         Param #     Connected to                     \n",
      "==================================================================================================\n",
      " input_12 (InputLayer)          [(None, 512, 9)]     0           []                               \n",
      "                                                                                                  \n",
      " batch_normalization_156 (Batch  (None, 512, 9)      36          ['input_12[0][0]']               \n",
      " Normalization)                                                                                   \n",
      "                                                                                                  \n",
      " conv1d_233 (Conv1D)            (None, 512, 54)      6372        ['batch_normalization_156[0][0]']\n",
      "                                                                                                  \n",
      " batch_normalization_157 (Batch  (None, 512, 54)     216         ['conv1d_233[0][0]']             \n",
      " Normalization)                                                                                   \n",
      "                                                                                                  \n",
      " re_lu_57 (ReLU)                (None, 512, 54)      0           ['batch_normalization_157[0][0]']\n",
      "                                                                                                  \n",
      " conv1d_234 (Conv1D)            (None, 512, 54)      37962       ['re_lu_57[0][0]']               \n",
      "                                                                                                  \n",
      " batch_normalization_158 (Batch  (None, 512, 54)     216         ['conv1d_234[0][0]']             \n",
      " Normalization)                                                                                   \n",
      "                                                                                                  \n",
      " re_lu_58 (ReLU)                (None, 512, 54)      0           ['batch_normalization_158[0][0]']\n",
      "                                                                                                  \n",
      " conv1d_235 (Conv1D)            (None, 512, 54)      37962       ['re_lu_58[0][0]']               \n",
      "                                                                                                  \n",
      " batch_normalization_159 (Batch  (None, 512, 54)     216         ['conv1d_235[0][0]']             \n",
      " Normalization)                                                                                   \n",
      "                                                                                                  \n",
      " re_lu_59 (ReLU)                (None, 512, 54)      0           ['batch_normalization_159[0][0]']\n",
      "                                                                                                  \n",
      " conv1d_236 (Conv1D)            (None, 512, 54)      2970        ['re_lu_59[0][0]']               \n",
      "                                                                                                  \n",
      " add_26 (Add)                   (None, 512, 54)      0           ['re_lu_59[0][0]',               \n",
      "                                                                  'conv1d_236[0][0]']             \n",
      "                                                                                                  \n",
      " conv1d_237 (Conv1D)            (None, 512, 76)      37012       ['add_26[0][0]']                 \n",
      "                                                                                                  \n",
      " batch_normalization_160 (Batch  (None, 512, 76)     304         ['conv1d_237[0][0]']             \n",
      " Normalization)                                                                                   \n",
      "                                                                                                  \n",
      " re_lu_60 (ReLU)                (None, 512, 76)      0           ['batch_normalization_160[0][0]']\n"
     ]
    },
    {
     "name": "stdout",
     "output_type": "stream",
     "text": [
      "                                                                                                  \n",
      " conv1d_238 (Conv1D)            (None, 512, 76)      52060       ['re_lu_60[0][0]']               \n",
      "                                                                                                  \n",
      " batch_normalization_161 (Batch  (None, 512, 76)     304         ['conv1d_238[0][0]']             \n",
      " Normalization)                                                                                   \n",
      "                                                                                                  \n",
      " re_lu_61 (ReLU)                (None, 512, 76)      0           ['batch_normalization_161[0][0]']\n",
      "                                                                                                  \n",
      " conv1d_239 (Conv1D)            (None, 512, 76)      52060       ['re_lu_61[0][0]']               \n",
      "                                                                                                  \n",
      " batch_normalization_162 (Batch  (None, 512, 76)     304         ['conv1d_239[0][0]']             \n",
      " Normalization)                                                                                   \n",
      "                                                                                                  \n",
      " re_lu_62 (ReLU)                (None, 512, 76)      0           ['batch_normalization_162[0][0]']\n",
      "                                                                                                  \n",
      " conv1d_240 (Conv1D)            (None, 512, 76)      5852        ['re_lu_62[0][0]']               \n",
      "                                                                                                  \n",
      " add_27 (Add)                   (None, 512, 76)      0           ['re_lu_62[0][0]',               \n",
      "                                                                  'conv1d_240[0][0]']             \n",
      "                                                                                                  \n",
      " conv1d_241 (Conv1D)            (None, 512, 107)     48899       ['add_27[0][0]']                 \n",
      "                                                                                                  \n",
      " batch_normalization_163 (Batch  (None, 512, 107)    428         ['conv1d_241[0][0]']             \n",
      " Normalization)                                                                                   \n",
      "                                                                                                  \n",
      " re_lu_63 (ReLU)                (None, 512, 107)     0           ['batch_normalization_163[0][0]']\n",
      "                                                                                                  \n",
      " conv1d_242 (Conv1D)            (None, 512, 107)     68801       ['re_lu_63[0][0]']               \n",
      "                                                                                                  \n",
      " batch_normalization_164 (Batch  (None, 512, 107)    428         ['conv1d_242[0][0]']             \n",
      " Normalization)                                                                                   \n",
      "                                                                                                  \n",
      " re_lu_64 (ReLU)                (None, 512, 107)     0           ['batch_normalization_164[0][0]']\n",
      "                                                                                                  \n",
      " conv1d_243 (Conv1D)            (None, 512, 107)     68801       ['re_lu_64[0][0]']               \n",
      "                                                                                                  \n",
      " batch_normalization_165 (Batch  (None, 512, 107)    428         ['conv1d_243[0][0]']             \n",
      " Normalization)                                                                                   \n",
      "                                                                                                  \n",
      " re_lu_65 (ReLU)                (None, 512, 107)     0           ['batch_normalization_165[0][0]']\n",
      "                                                                                                  \n",
      " conv1d_244 (Conv1D)            (None, 512, 107)     11556       ['re_lu_65[0][0]']               \n",
      "                                                                                                  \n",
      " add_28 (Add)                   (None, 512, 107)     0           ['re_lu_65[0][0]',               \n",
      "                                                                  'conv1d_244[0][0]']             \n",
      "                                                                                                  \n",
      " conv1d_245 (Conv1D)            (None, 512, 151)     64779       ['add_28[0][0]']                 \n",
      "                                                                                                  \n",
      " batch_normalization_166 (Batch  (None, 512, 151)    604         ['conv1d_245[0][0]']             \n",
      " Normalization)                                                                                   \n",
      "                                                                                                  \n",
      " re_lu_66 (ReLU)                (None, 512, 151)     0           ['batch_normalization_166[0][0]']\n",
      "                                                                                                  \n",
      " conv1d_246 (Conv1D)            (None, 512, 151)     91355       ['re_lu_66[0][0]']               \n",
      "                                                                                                  \n",
      " batch_normalization_167 (Batch  (None, 512, 151)    604         ['conv1d_246[0][0]']             \n",
      " Normalization)                                                                                   \n",
      "                                                                                                  \n",
      " re_lu_67 (ReLU)                (None, 512, 151)     0           ['batch_normalization_167[0][0]']\n",
      "                                                                                                  \n",
      " conv1d_247 (Conv1D)            (None, 512, 151)     91355       ['re_lu_67[0][0]']               \n",
      "                                                                                                  \n",
      " batch_normalization_168 (Batch  (None, 512, 151)    604         ['conv1d_247[0][0]']             \n",
      " Normalization)                                                                                   \n",
      "                                                                                                  \n",
      " re_lu_68 (ReLU)                (None, 512, 151)     0           ['batch_normalization_168[0][0]']\n",
      "                                                                                                  \n",
      " conv1d_248 (Conv1D)            (None, 512, 151)     22952       ['re_lu_68[0][0]']               \n",
      "                                                                                                  \n",
      " add_29 (Add)                   (None, 512, 151)     0           ['re_lu_68[0][0]',               \n",
      "                                                                  'conv1d_248[0][0]']             \n",
      "                                                                                                  \n",
      " global_average_pooling1d_11 (G  (None, 151)         0           ['add_29[0][0]']                 \n",
      " lobalAveragePooling1D)                                                                           \n",
      "                                                                                                  \n",
      " dense_24 (Dense)               (None, 7)            1064        ['global_average_pooling1d_11[0][\n",
      "                                                                 0]']                             \n",
      "                                                                                                  \n",
      "==================================================================================================\n",
      "Total params: 706,504\n",
      "Trainable params: 704,158\n",
      "Non-trainable params: 2,346\n",
      "__________________________________________________________________________________________________\n",
      " \n",
      "Model type:\n",
      "ResNet\n",
      " \n",
      "-------------------------------------------------------------------------------------------------------\n",
      "Model 4\n",
      " \n",
      "Hyperparameters:\n",
      "{'learning_rate': 0.08333885947154165, 'regularization_rate': 0.0002459654577473902, 'filters': [54, 15, 26, 79, 62, 72, 36], 'lstm_dims': [35, 46, 25, 95]}\n",
      " \n",
      "Model description:\n",
      "Model: \"sequential_9\"\n"
     ]
    },
    {
     "name": "stdout",
     "output_type": "stream",
     "text": [
      "_________________________________________________________________\n",
      " Layer (type)                Output Shape              Param #   \n",
      "=================================================================\n",
      " batch_normalization_169 (Ba  (None, 512, 9)           36        \n",
      " tchNormalization)                                               \n",
      "                                                                 \n",
      " reshape_10 (Reshape)        (None, 512, 9, 1)         0         \n",
      "                                                                 \n",
      " conv2d_22 (Conv2D)          (None, 512, 9, 54)        216       \n",
      "                                                                 \n",
      " batch_normalization_170 (Ba  (None, 512, 9, 54)       216       \n",
      " tchNormalization)                                               \n",
      "                                                                 \n",
      " activation_88 (Activation)  (None, 512, 9, 54)        0         \n",
      "                                                                 \n",
      " conv2d_23 (Conv2D)          (None, 512, 9, 15)        2445      \n",
      "                                                                 \n",
      " batch_normalization_171 (Ba  (None, 512, 9, 15)       60        \n",
      " tchNormalization)                                               \n",
      "                                                                 \n",
      " activation_89 (Activation)  (None, 512, 9, 15)        0         \n",
      "                                                                 \n",
      " conv2d_24 (Conv2D)          (None, 512, 9, 26)        1196      \n",
      "                                                                 \n",
      " batch_normalization_172 (Ba  (None, 512, 9, 26)       104       \n",
      " tchNormalization)                                               \n",
      "                                                                 \n",
      " activation_90 (Activation)  (None, 512, 9, 26)        0         \n",
      "                                                                 \n",
      " conv2d_25 (Conv2D)          (None, 512, 9, 79)        6241      \n",
      "                                                                 \n",
      " batch_normalization_173 (Ba  (None, 512, 9, 79)       316       \n",
      " tchNormalization)                                               \n",
      "                                                                 \n",
      " activation_91 (Activation)  (None, 512, 9, 79)        0         \n",
      "                                                                 \n",
      " conv2d_26 (Conv2D)          (None, 512, 9, 62)        14756     \n",
      "                                                                 \n",
      " batch_normalization_174 (Ba  (None, 512, 9, 62)       248       \n",
      " tchNormalization)                                               \n",
      "                                                                 \n",
      " activation_92 (Activation)  (None, 512, 9, 62)        0         \n",
      "                                                                 \n",
      " conv2d_27 (Conv2D)          (None, 512, 9, 72)        13464     \n",
      "                                                                 \n",
      " batch_normalization_175 (Ba  (None, 512, 9, 72)       288       \n",
      " tchNormalization)                                               \n",
      "                                                                 \n",
      " activation_93 (Activation)  (None, 512, 9, 72)        0         \n",
      "                                                                 \n",
      " conv2d_28 (Conv2D)          (None, 512, 9, 36)        7812      \n",
      "                                                                 \n",
      " batch_normalization_176 (Ba  (None, 512, 9, 36)       144       \n",
      " tchNormalization)                                               \n",
      "                                                                 \n",
      " activation_94 (Activation)  (None, 512, 9, 36)        0         \n",
      "                                                                 \n",
      " reshape_11 (Reshape)        (None, 512, 324)          0         \n",
      "                                                                 \n",
      " lstm_13 (LSTM)              (None, 512, 35)           50400     \n",
      "                                                                 \n",
      " lstm_14 (LSTM)              (None, 512, 46)           15088     \n",
      "                                                                 \n",
      " lstm_15 (LSTM)              (None, 512, 25)           7200      \n",
      "                                                                 \n",
      " lstm_16 (LSTM)              (None, 512, 95)           45980     \n",
      "                                                                 \n",
      " dropout_5 (Dropout)         (None, 512, 95)           0         \n",
      "                                                                 \n",
      " time_distributed_5 (TimeDis  (None, 512, 7)           672       \n",
      " tributed)                                                       \n",
      "                                                                 \n",
      " activation_95 (Activation)  (None, 512, 7)            0         \n",
      "                                                                 \n",
      " lambda_5 (Lambda)           (None, 7)                 0         \n",
      "                                                                 \n",
      "=================================================================\n",
      "Total params: 166,882\n",
      "Trainable params: 166,176\n",
      "Non-trainable params: 706\n",
      "_________________________________________________________________\n",
      " \n",
      "Model type:\n",
      "DeepConvLSTM\n",
      " \n"
     ]
    }
   ],
   "source": [
    "models_to_print = range(len(models))\n",
    "for i, item in enumerate(models):\n",
    "    if i in models_to_print:\n",
    "        model, params, model_types = item\n",
    "        print(\"-------------------------------------------------------------------------------------------------------\")\n",
    "        print(\"Model \" + str(i))\n",
    "        print(\" \")\n",
    "        print(\"Hyperparameters:\")\n",
    "        print(params)\n",
    "        print(\" \")\n",
    "        print(\"Model description:\")\n",
    "        model.summary()\n",
    "        print(\" \")\n",
    "        print(\"Model type:\")\n",
    "        print(model_types)\n",
    "        print(\" \")"
   ]
  },
  {
   "cell_type": "markdown",
   "metadata": {},
   "source": [
    "### *Question 3: Can you guess what hyperparameter 'learning rate' stands for?*"
   ]
  },
  {
   "cell_type": "markdown",
   "metadata": {},
   "source": [
    "## Compare models\n",
    "Now that the model architectures have been generated it is time to compare the models by training them on a subset of the training data and evaluating the models on the validation subset. This will help us to choose the best candidate model. The performance results for the models are stored in a json file, which we will visually inspect later on."
   ]
  },
  {
   "cell_type": "code",
   "execution_count": 37,
   "metadata": {},
   "outputs": [],
   "source": [
    "# Define directory where the results, e.g. json file, will be stored\n",
    "resultpath = os.path.join(directory_to_extract_to, 'models')\n",
    "if not os.path.exists(resultpath):\n",
    "        os.makedirs(resultpath)"
   ]
  },
  {
   "cell_type": "markdown",
   "metadata": {},
   "source": [
    "We are now going to train each of the models that we generated. On the one hand we want to train them as quickly as possible in order to be able to pick the best one as soon as possible. On the other hand we have to train each model long enough to get a good impression of its potential.\n",
    "\n",
    "We can influence the train time by adjusting the number of data samples that are used. This can be set with the argument 'subset_size'. We can also adjust the number of times the subset is iterated over. This number is called an epoch. We recommend to start with no more than 5 epochs and a maximum subset size of 300. You can experiment with these numbers."
   ]
  },
  {
   "cell_type": "code",
   "execution_count": 38,
   "metadata": {},
   "outputs": [
    {
     "name": "stdout",
     "output_type": "stream",
     "text": [
      "Generated models will be trained on subset of the data (subset size: 1000).\n",
      "Training model 0 DeepConvLSTM\n",
      "Epoch 1/10\n",
      "50/50 [==============================] - 37s 651ms/step - loss: 1.1915 - accuracy: 0.5970 - val_loss: 0.9288 - val_accuracy: 0.7600\n",
      "Epoch 2/10\n",
      "50/50 [==============================] - 34s 677ms/step - loss: 0.7588 - accuracy: 0.7820 - val_loss: 0.6740 - val_accuracy: 0.7700\n",
      "Epoch 3/10\n",
      "50/50 [==============================] - 33s 651ms/step - loss: 0.5956 - accuracy: 0.8210 - val_loss: 0.5025 - val_accuracy: 0.8500\n",
      "Epoch 4/10\n",
      "50/50 [==============================] - 31s 616ms/step - loss: 0.5562 - accuracy: 0.8490 - val_loss: 0.4276 - val_accuracy: 0.8700\n",
      "Epoch 5/10\n",
      "50/50 [==============================] - 30s 599ms/step - loss: 0.5278 - accuracy: 0.8420 - val_loss: 0.4115 - val_accuracy: 0.8800\n",
      "Epoch 6/10\n",
      "50/50 [==============================] - 31s 614ms/step - loss: 0.4679 - accuracy: 0.8780 - val_loss: 0.3092 - val_accuracy: 0.9200\n",
      "Epoch 7/10\n",
      "50/50 [==============================] - 30s 593ms/step - loss: 0.3946 - accuracy: 0.8900 - val_loss: 0.3004 - val_accuracy: 0.9100\n",
      "Epoch 8/10\n",
      "50/50 [==============================] - 31s 622ms/step - loss: 0.3716 - accuracy: 0.9010 - val_loss: 0.2548 - val_accuracy: 0.9400\n",
      "Epoch 9/10\n",
      "50/50 [==============================] - 31s 619ms/step - loss: 0.3553 - accuracy: 0.9040 - val_loss: 0.2801 - val_accuracy: 0.9400\n",
      "Epoch 9: early stopping\n",
      "Training model 1 InceptionTime\n",
      "Epoch 1/10\n",
      "50/50 [==============================] - 30s 501ms/step - loss: 0.8639 - accuracy: 0.7240 - val_loss: 192.4613 - val_accuracy: 0.3100\n",
      "Epoch 2/10\n",
      "50/50 [==============================] - 24s 477ms/step - loss: 0.3807 - accuracy: 0.8610 - val_loss: 12.0268 - val_accuracy: 0.4000\n",
      "Epoch 3/10\n",
      "50/50 [==============================] - 25s 504ms/step - loss: 0.2626 - accuracy: 0.9100 - val_loss: 1.6068 - val_accuracy: 0.6500\n",
      "Epoch 4/10\n",
      "50/50 [==============================] - 22s 436ms/step - loss: 0.2127 - accuracy: 0.9270 - val_loss: 0.6370 - val_accuracy: 0.8000\n",
      "Epoch 5/10\n",
      "50/50 [==============================] - 21s 424ms/step - loss: 0.1726 - accuracy: 0.9410 - val_loss: 0.2524 - val_accuracy: 0.9100\n",
      "Epoch 6/10\n",
      "50/50 [==============================] - 22s 436ms/step - loss: 0.1503 - accuracy: 0.9530 - val_loss: 0.4660 - val_accuracy: 0.9400\n",
      "Epoch 6: early stopping\n",
      "Training model 2 CNN\n",
      "Epoch 1/10\n",
      "50/50 [==============================] - 26s 453ms/step - loss: 21.7649 - accuracy: 0.7390 - val_loss: 14.0717 - val_accuracy: 0.3100\n",
      "Epoch 2/10\n",
      "50/50 [==============================] - 21s 426ms/step - loss: 10.1951 - accuracy: 0.8810 - val_loss: 9.7720 - val_accuracy: 0.2900\n",
      "Epoch 3/10\n",
      "50/50 [==============================] - 21s 430ms/step - loss: 7.5437 - accuracy: 0.9020 - val_loss: 8.0966 - val_accuracy: 0.3200\n",
      "Epoch 4/10\n",
      "50/50 [==============================] - 22s 439ms/step - loss: 6.1695 - accuracy: 0.8970 - val_loss: 6.7603 - val_accuracy: 0.5100\n",
      "Epoch 5/10\n",
      "50/50 [==============================] - 21s 414ms/step - loss: 5.1460 - accuracy: 0.9070 - val_loss: 5.7682 - val_accuracy: 0.5800\n",
      "Epoch 6/10\n",
      "50/50 [==============================] - 20s 404ms/step - loss: 4.3438 - accuracy: 0.9130 - val_loss: 5.1171 - val_accuracy: 0.6000\n",
      "Epoch 7/10\n",
      "50/50 [==============================] - 22s 431ms/step - loss: 3.7220 - accuracy: 0.9070 - val_loss: 4.2738 - val_accuracy: 0.6400\n",
      "Epoch 8/10\n",
      "50/50 [==============================] - 23s 467ms/step - loss: 3.2612 - accuracy: 0.8960 - val_loss: 3.8083 - val_accuracy: 0.6200\n",
      "Epoch 9/10\n",
      "50/50 [==============================] - 24s 478ms/step - loss: 2.9275 - accuracy: 0.8640 - val_loss: 3.2346 - val_accuracy: 0.6300\n",
      "Epoch 10/10\n",
      "50/50 [==============================] - 22s 439ms/step - loss: 2.5773 - accuracy: 0.9020 - val_loss: 2.7748 - val_accuracy: 0.7600\n",
      "Training model 3 ResNet\n",
      "Epoch 1/10\n",
      "50/50 [==============================] - 27s 479ms/step - loss: 2.3972 - accuracy: 0.3580 - val_loss: 26229.4277 - val_accuracy: 0.0800\n",
      "Epoch 2/10\n",
      "50/50 [==============================] - 23s 453ms/step - loss: 1.2378 - accuracy: 0.5410 - val_loss: 282.8122 - val_accuracy: 0.1800\n",
      "Epoch 3/10\n",
      "50/50 [==============================] - 24s 487ms/step - loss: 0.9761 - accuracy: 0.6740 - val_loss: 97.4267 - val_accuracy: 0.0800\n",
      "Epoch 4/10\n",
      "50/50 [==============================] - 24s 474ms/step - loss: 1.0249 - accuracy: 0.6420 - val_loss: 32.5908 - val_accuracy: 0.0000e+00\n",
      "Epoch 5/10\n",
      "50/50 [==============================] - 25s 500ms/step - loss: 0.7719 - accuracy: 0.6920 - val_loss: 13.8445 - val_accuracy: 0.2400\n",
      "Epoch 6/10\n",
      "50/50 [==============================] - 24s 471ms/step - loss: 0.6888 - accuracy: 0.7360 - val_loss: 8.4350 - val_accuracy: 0.3500\n",
      "Epoch 7/10\n",
      "50/50 [==============================] - 25s 501ms/step - loss: 0.6158 - accuracy: 0.7660 - val_loss: 2.5910 - val_accuracy: 0.5900\n",
      "Epoch 8/10\n",
      "50/50 [==============================] - 24s 472ms/step - loss: 0.6226 - accuracy: 0.7430 - val_loss: 0.5941 - val_accuracy: 0.7800\n",
      "Epoch 9/10\n",
      "50/50 [==============================] - 25s 500ms/step - loss: 0.5669 - accuracy: 0.7780 - val_loss: 1.0308 - val_accuracy: 0.7600\n",
      "Epoch 9: early stopping\n",
      "Training model 4 DeepConvLSTM\n",
      "Epoch 1/10\n",
      "50/50 [==============================] - 128s 2s/step - loss: 3.0325 - accuracy: 0.1430 - val_loss: 2.3505 - val_accuracy: 0.1800\n",
      "Epoch 2/10\n",
      "50/50 [==============================] - 119s 2s/step - loss: 2.1353 - accuracy: 0.1670 - val_loss: 2.0103 - val_accuracy: 0.1800\n",
      "Epoch 3/10\n",
      "50/50 [==============================] - 129s 3s/step - loss: 1.9981 - accuracy: 0.1620 - val_loss: 1.9683 - val_accuracy: 0.1800\n",
      "Epoch 4/10\n",
      "50/50 [==============================] - 118s 2s/step - loss: 1.9660 - accuracy: 0.1750 - val_loss: 1.9577 - val_accuracy: 0.1500\n",
      "Epoch 5/10\n",
      "50/50 [==============================] - 113s 2s/step - loss: 1.9567 - accuracy: 0.1780 - val_loss: 1.9541 - val_accuracy: 0.1500\n",
      "Epoch 6/10\n",
      "50/50 [==============================] - 114s 2s/step - loss: 1.9531 - accuracy: 0.1790 - val_loss: 1.9506 - val_accuracy: 0.1500\n",
      "Epoch 7/10\n",
      "50/50 [==============================] - 109s 2s/step - loss: 1.9511 - accuracy: 0.1780 - val_loss: 1.9489 - val_accuracy: 0.1500\n",
      "Epoch 8/10\n",
      "50/50 [==============================] - 109s 2s/step - loss: 1.9497 - accuracy: 0.1780 - val_loss: 1.9478 - val_accuracy: 0.1500\n",
      "Epoch 9/10\n",
      "50/50 [==============================] - 115s 2s/step - loss: 1.9488 - accuracy: 0.1780 - val_loss: 1.9471 - val_accuracy: 0.1500\n",
      "Epoch 10/10\n",
      "50/50 [==============================] - 109s 2s/step - loss: 1.9481 - accuracy: 0.1780 - val_loss: 1.9466 - val_accuracy: 0.1500\n",
      "Details of the training process were stored in  ../models/modelcomparison.json\n"
     ]
    }
   ],
   "source": [
    "outputfile = os.path.join(resultpath, 'modelcomparison.json')\n",
    "histories, val_accuracies, val_losses = train_models_on_samples(X_train, \n",
    "                                                                y_train_binary,\n",
    "                                                                X_val, \n",
    "                                                                y_val_binary,\n",
    "                                                                models,\n",
    "                                                                nr_epochs=10,\n",
    "                                                                subset_size=1000,\n",
    "                                                                verbose=True,\n",
    "                                                                outputfile=outputfile,\n",
    "                                                                metric=metric)\n",
    "\n",
    "print('Details of the training process were stored in ',outputfile)"
   ]
  },
  {
   "cell_type": "markdown",
   "metadata": {},
   "source": [
    "### *Question 4: What does the term 'loss' in the output refer to?*"
   ]
  },
  {
   "cell_type": "markdown",
   "metadata": {},
   "source": [
    "# Inspect model performance (Visualization)\n",
    "\n",
    "We can inspect the learning process in the visualization tool on http://nlesc.github.io/mcfly/.\n",
    "\n",
    "Alternatively, you can run the visualization from a local web service:\n",
    "- Clone the mcfly github repository (if you haven't done so already for visualization)\n",
    "\n",
    " `git clone https://github.com/NLeSC/mcfly`\n",
    "\n",
    "\n",
    "- navigate to the html folder:\n",
    "\n",
    " `cd mcfly/html`\n",
    "\n",
    "\n",
    "- Start a web server. This can be done in various ways, for example:\n",
    " - for python 3 you can use: `python3 -m http.server`\n",
    " - for python 2 you can use: `python2 -m SimpleHTTPServer`\n",
    "\n",
    "Notice the port number the web server is serving on. This is usually 8000.\n",
    "With a web browser, navigate to [localhost:8000](localhost:8000). \n",
    "\n",
    "You need to upload the json file that contains the details of the training process. The following line of code shows the path to this file:"
   ]
  },
  {
   "cell_type": "code",
   "execution_count": 13,
   "metadata": {},
   "outputs": [
    {
     "data": {
      "text/plain": [
       "'.\\\\data/models\\\\modelcomparison.json'"
      ]
     },
     "execution_count": 13,
     "metadata": {},
     "output_type": "execute_result"
    }
   ],
   "source": [
    "outputfile"
   ]
  },
  {
   "cell_type": "markdown",
   "metadata": {},
   "source": [
    "### *Question 5:  Look at the visualization. Which model performs best?*\n",
    "### *Question 6:  Did you train all models with a sufficient number of iterations?*"
   ]
  },
  {
   "cell_type": "markdown",
   "metadata": {},
   "source": [
    "# Inspect model performance (table)\n",
    "\n",
    "Let's compare the performance of the models by showing the results as a table."
   ]
  },
  {
   "cell_type": "code",
   "execution_count": 39,
   "metadata": {},
   "outputs": [
    {
     "data": {
      "text/html": [
       "<div>\n",
       "<style scoped>\n",
       "    .dataframe tbody tr th:only-of-type {\n",
       "        vertical-align: middle;\n",
       "    }\n",
       "\n",
       "    .dataframe tbody tr th {\n",
       "        vertical-align: top;\n",
       "    }\n",
       "\n",
       "    .dataframe thead th {\n",
       "        text-align: right;\n",
       "    }\n",
       "</style>\n",
       "<table border=\"1\" class=\"dataframe\">\n",
       "  <thead>\n",
       "    <tr style=\"text-align: right;\">\n",
       "      <th></th>\n",
       "      <th>model</th>\n",
       "      <th>train_accuracy</th>\n",
       "      <th>train_loss</th>\n",
       "      <th>val_accuracy</th>\n",
       "      <th>val_loss</th>\n",
       "    </tr>\n",
       "  </thead>\n",
       "  <tbody>\n",
       "    <tr>\n",
       "      <th>0</th>\n",
       "      <td>{'learning_rate': 0.002395661497204274, 'regul...</td>\n",
       "      <td>0.904</td>\n",
       "      <td>0.355312</td>\n",
       "      <td>0.94</td>\n",
       "      <td>0.280105</td>\n",
       "    </tr>\n",
       "    <tr>\n",
       "      <th>1</th>\n",
       "      <td>{'learning_rate': 0.029502819024800692, 'regul...</td>\n",
       "      <td>0.953</td>\n",
       "      <td>0.150311</td>\n",
       "      <td>0.94</td>\n",
       "      <td>0.465968</td>\n",
       "    </tr>\n",
       "    <tr>\n",
       "      <th>2</th>\n",
       "      <td>{'learning_rate': 0.0007969629659162592, 'regu...</td>\n",
       "      <td>0.902</td>\n",
       "      <td>2.577280</td>\n",
       "      <td>0.76</td>\n",
       "      <td>2.774839</td>\n",
       "    </tr>\n",
       "    <tr>\n",
       "      <th>3</th>\n",
       "      <td>{'learning_rate': 0.014084212778951739, 'regul...</td>\n",
       "      <td>0.778</td>\n",
       "      <td>0.566855</td>\n",
       "      <td>0.76</td>\n",
       "      <td>1.030817</td>\n",
       "    </tr>\n",
       "    <tr>\n",
       "      <th>4</th>\n",
       "      <td>{'learning_rate': 0.08333885947154165, 'regula...</td>\n",
       "      <td>0.178</td>\n",
       "      <td>1.948141</td>\n",
       "      <td>0.15</td>\n",
       "      <td>1.946559</td>\n",
       "    </tr>\n",
       "  </tbody>\n",
       "</table>\n",
       "</div>"
      ],
      "text/plain": [
       "                                               model  train_accuracy  \\\n",
       "0  {'learning_rate': 0.002395661497204274, 'regul...           0.904   \n",
       "1  {'learning_rate': 0.029502819024800692, 'regul...           0.953   \n",
       "2  {'learning_rate': 0.0007969629659162592, 'regu...           0.902   \n",
       "3  {'learning_rate': 0.014084212778951739, 'regul...           0.778   \n",
       "4  {'learning_rate': 0.08333885947154165, 'regula...           0.178   \n",
       "\n",
       "   train_loss  val_accuracy  val_loss  \n",
       "0    0.355312          0.94  0.280105  \n",
       "1    0.150311          0.94  0.465968  \n",
       "2    2.577280          0.76  2.774839  \n",
       "3    0.566855          0.76  1.030817  \n",
       "4    1.948141          0.15  1.946559  "
      ]
     },
     "execution_count": 39,
     "metadata": {},
     "output_type": "execute_result"
    }
   ],
   "source": [
    "metric = 'accuracy'\n",
    "modelcomparisons = pd.DataFrame({'model':[str(params) for model, params, model_types in models],\n",
    "                       'train_{}'.format(metric): [history.history[metric][-1] for history in histories],\n",
    "                       'train_loss': [history.history['loss'][-1] for history in histories],\n",
    "                       'val_{}'.format(metric): [history.history['val_{}'.format(metric)][-1] for history in histories],\n",
    "                       'val_loss': [history.history['val_loss'][-1] for history in histories]\n",
    "                       })\n",
    "modelcomparisons.to_csv(os.path.join(resultpath, 'modelcomparisons.csv'))\n",
    "\n",
    "modelcomparisons"
   ]
  },
  {
   "cell_type": "markdown",
   "metadata": {
    "collapsed": true
   },
   "source": [
    "# Choose the best model\n",
    "Now that we found an effective architecture, we can choose the most promising model. For example, we can choose the model with the highest accuracy on the validation data set. To maximize this models performance, we will train this model on more data and more epochs."
   ]
  },
  {
   "cell_type": "code",
   "execution_count": 21,
   "metadata": {},
   "outputs": [
    {
     "name": "stdout",
     "output_type": "stream",
     "text": [
      "Model type and parameters of the best model:\n",
      "ResNet\n",
      "{'learning_rate': 0.0022439468517196116, 'regularization_rate': 0.004943480463153602, 'network_depth': 2, 'min_filters_number': 39, 'max_kernel_size': 10}\n"
     ]
    }
   ],
   "source": [
    "best_model_index = np.argmax(val_accuracies)\n",
    "best_model, best_params, best_model_types = models[best_model_index]\n",
    "print('Model type and parameters of the best model:')\n",
    "print(best_model_types)\n",
    "print(best_params)"
   ]
  },
  {
   "cell_type": "markdown",
   "metadata": {},
   "source": [
    "## Train the best model on the full dataset"
   ]
  },
  {
   "cell_type": "markdown",
   "metadata": {},
   "source": [
    "Now that we have identified the best model architecture out of our random pool of models we can continue by training the model on the full training set.\n",
    "\n",
    "This would take some time, so instead we will train  on only a slightly larger subset."
   ]
  },
  {
   "cell_type": "code",
   "execution_count": 16,
   "metadata": {},
   "outputs": [
    {
     "name": "stdout",
     "output_type": "stream",
     "text": [
      "16/16 [==============================] - 4s 177ms/step - loss: 0.4542 - accuracy: 0.8520 - val_loss: 193.4366 - val_accuracy: 0.2800\n"
     ]
    }
   ],
   "source": [
    "#We make a copy of the model, to start training from fresh\n",
    "nr_epochs = 1\n",
    "datasize = 500 # Change in `X_train.shape[0]` if training complete data set\n",
    "history = best_model.fit(X_train[:datasize,:,:], y_train_binary[:datasize,:],\n",
    "              epochs=nr_epochs, validation_data=(X_val, y_val_binary))"
   ]
  },
  {
   "cell_type": "markdown",
   "metadata": {},
   "source": [
    "### *Question 7: Why does it take longer to train the best model for one epoch now than when we were  comparing model archicatures earlier on?*"
   ]
  },
  {
   "cell_type": "markdown",
   "metadata": {},
   "source": [
    "### *Question 8: Do you think it is useful to train with more than 1 epoch?*"
   ]
  },
  {
   "cell_type": "markdown",
   "metadata": {},
   "source": [
    "### Saving, loading and comparing reloaded model with original model"
   ]
  },
  {
   "cell_type": "markdown",
   "metadata": {},
   "source": [
    "The model can be saved for future use. The savemodel function will save two separate files: a json file for the architecture and a npy (numpy array) file for the weights."
   ]
  },
  {
   "cell_type": "code",
   "execution_count": 17,
   "metadata": {},
   "outputs": [],
   "source": [
    "modelname = 'my_bestmodel.h5'\n",
    "model_path = os.path.join(resultpath,modelname)"
   ]
  },
  {
   "cell_type": "code",
   "execution_count": 18,
   "metadata": {},
   "outputs": [
    {
     "name": "stderr",
     "output_type": "stream",
     "text": [
      "C:\\Users\\ChristiaanMeijer\\AppData\\Roaming\\Python\\Python39\\site-packages\\tensorflow\\python\\keras\\utils\\generic_utils.py:494: CustomMaskWarning: Custom mask layers require a config and must override get_config. When loading, the custom mask layer must be passed to the custom_objects argument.\n",
      "  warnings.warn('Custom mask layers require a config and must override '\n"
     ]
    }
   ],
   "source": [
    "best_model.save(model_path)"
   ]
  },
  {
   "cell_type": "code",
   "execution_count": 19,
   "metadata": {},
   "outputs": [],
   "source": [
    "model_reloaded = tf.keras.models.load_model(model_path)"
   ]
  },
  {
   "cell_type": "markdown",
   "metadata": {},
   "source": [
    "The model has been reloaded. Let's reassure that this model has the same weights"
   ]
  },
  {
   "cell_type": "code",
   "execution_count": 20,
   "metadata": {},
   "outputs": [
    {
     "data": {
      "text/plain": [
       "True"
      ]
     },
     "execution_count": 20,
     "metadata": {},
     "output_type": "execute_result"
    }
   ],
   "source": [
    "np.all([np.all(x==y) for x,y in zip(best_model.get_weights(), model_reloaded.get_weights())])"
   ]
  },
  {
   "cell_type": "markdown",
   "metadata": {},
   "source": [
    "## Investigate model predictions"
   ]
  },
  {
   "cell_type": "markdown",
   "metadata": {},
   "source": [
    "We will now dive further into the Neural network that we created.\n",
    "We provide here a network that has been trained on the complete train set."
   ]
  },
  {
   "cell_type": "code",
   "execution_count": 21,
   "metadata": {},
   "outputs": [],
   "source": [
    "model = tf.keras.models.load_model('./model/model.h5')"
   ]
  },
  {
   "cell_type": "markdown",
   "metadata": {},
   "source": [
    "Note that the objects `models`, `best_model_fullytrained` and `best_model` that resulted from the mcfly functions are Keras objects. This means that you can use Keras functions on the objects, for example  `.predict`, (which when given the data, outputs the predictions for each sample) and `.evaluate` (which when given the data and the labels computes how well this model performs) . These functions are all documented in the [Keras documentation](https://www.tensorflow.org/api_docs/python/tf/keras). "
   ]
  },
  {
   "cell_type": "code",
   "execution_count": 22,
   "metadata": {},
   "outputs": [],
   "source": [
    "## Inspect model predictions on validation data\n",
    "datasize = X_val.shape[0]\n",
    "probs = model.predict(X_val[:datasize,:,:],batch_size=1)"
   ]
  },
  {
   "cell_type": "markdown",
   "metadata": {},
   "source": [
    "Let's have a look at the [confusion matrix](https://en.wikipedia.org/wiki/Confusion_matrix)"
   ]
  },
  {
   "cell_type": "code",
   "execution_count": 23,
   "metadata": {},
   "outputs": [
    {
     "data": {
      "text/html": [
       "<div>\n",
       "<style scoped>\n",
       "    .dataframe tbody tr th:only-of-type {\n",
       "        vertical-align: middle;\n",
       "    }\n",
       "\n",
       "    .dataframe tbody tr th {\n",
       "        vertical-align: top;\n",
       "    }\n",
       "\n",
       "    .dataframe thead th {\n",
       "        text-align: right;\n",
       "    }\n",
       "</style>\n",
       "<table border=\"1\" class=\"dataframe\">\n",
       "  <thead>\n",
       "    <tr style=\"text-align: right;\">\n",
       "      <th></th>\n",
       "      <th>lying</th>\n",
       "      <th>sitting</th>\n",
       "      <th>standing</th>\n",
       "      <th>walking</th>\n",
       "      <th>cycling</th>\n",
       "      <th>vaccuum_cleaning</th>\n",
       "      <th>ironing</th>\n",
       "    </tr>\n",
       "  </thead>\n",
       "  <tbody>\n",
       "    <tr>\n",
       "      <th>lying</th>\n",
       "      <td>13</td>\n",
       "      <td>0</td>\n",
       "      <td>0</td>\n",
       "      <td>0</td>\n",
       "      <td>0</td>\n",
       "      <td>0</td>\n",
       "      <td>0</td>\n",
       "    </tr>\n",
       "    <tr>\n",
       "      <th>sitting</th>\n",
       "      <td>0</td>\n",
       "      <td>13</td>\n",
       "      <td>1</td>\n",
       "      <td>0</td>\n",
       "      <td>0</td>\n",
       "      <td>0</td>\n",
       "      <td>0</td>\n",
       "    </tr>\n",
       "    <tr>\n",
       "      <th>standing</th>\n",
       "      <td>0</td>\n",
       "      <td>0</td>\n",
       "      <td>20</td>\n",
       "      <td>0</td>\n",
       "      <td>0</td>\n",
       "      <td>0</td>\n",
       "      <td>0</td>\n",
       "    </tr>\n",
       "    <tr>\n",
       "      <th>walking</th>\n",
       "      <td>0</td>\n",
       "      <td>0</td>\n",
       "      <td>0</td>\n",
       "      <td>15</td>\n",
       "      <td>0</td>\n",
       "      <td>0</td>\n",
       "      <td>0</td>\n",
       "    </tr>\n",
       "    <tr>\n",
       "      <th>cycling</th>\n",
       "      <td>0</td>\n",
       "      <td>0</td>\n",
       "      <td>0</td>\n",
       "      <td>0</td>\n",
       "      <td>12</td>\n",
       "      <td>0</td>\n",
       "      <td>0</td>\n",
       "    </tr>\n",
       "    <tr>\n",
       "      <th>vaccuum_cleaning</th>\n",
       "      <td>0</td>\n",
       "      <td>0</td>\n",
       "      <td>0</td>\n",
       "      <td>0</td>\n",
       "      <td>0</td>\n",
       "      <td>8</td>\n",
       "      <td>0</td>\n",
       "    </tr>\n",
       "    <tr>\n",
       "      <th>ironing</th>\n",
       "      <td>0</td>\n",
       "      <td>1</td>\n",
       "      <td>0</td>\n",
       "      <td>0</td>\n",
       "      <td>1</td>\n",
       "      <td>0</td>\n",
       "      <td>16</td>\n",
       "    </tr>\n",
       "  </tbody>\n",
       "</table>\n",
       "</div>"
      ],
      "text/plain": [
       "                  lying  sitting  standing  walking  cycling  \\\n",
       "lying                13        0         0        0        0   \n",
       "sitting               0       13         1        0        0   \n",
       "standing              0        0        20        0        0   \n",
       "walking               0        0         0       15        0   \n",
       "cycling               0        0         0        0       12   \n",
       "vaccuum_cleaning      0        0         0        0        0   \n",
       "ironing               0        1         0        0        1   \n",
       "\n",
       "                  vaccuum_cleaning  ironing  \n",
       "lying                            0        0  \n",
       "sitting                          0        0  \n",
       "standing                         0        0  \n",
       "walking                          0        0  \n",
       "cycling                          0        0  \n",
       "vaccuum_cleaning                 8        0  \n",
       "ironing                          0       16  "
      ]
     },
     "execution_count": 23,
     "metadata": {},
     "output_type": "execute_result"
    }
   ],
   "source": [
    "#columns are predicted, rows are truth\n",
    "predicted = probs.argmax(axis=1)\n",
    "y_index = y_val_binary.argmax(axis=1)\n",
    "confusion_matrix = pd.crosstab(pd.Series(y_index), pd.Series(predicted))\n",
    "confusion_matrix.index = [labels[i] for i in confusion_matrix.index]\n",
    "confusion_matrix.columns = [labels[i] for i in confusion_matrix.columns]\n",
    "confusion_matrix.reindex(columns=[l for l in labels], fill_value=0)\n",
    "confusion_matrix"
   ]
  },
  {
   "cell_type": "code",
   "execution_count": 24,
   "metadata": {},
   "outputs": [
    {
     "name": "stdout",
     "output_type": "stream",
     "text": [
      "32/32 [==============================] - 0s 11ms/step - loss: 0.4157 - accuracy: 0.9620\n",
      "Score of best model: [0.4156666696071625, 0.9620000123977661]\n"
     ]
    }
   ],
   "source": [
    "## Test on Testset\n",
    "score_test = model.evaluate(X_test, y_test_binary, verbose=True)\n",
    "print('Score of best model: ' + str(score_test))"
   ]
  },
  {
   "cell_type": "code",
   "execution_count": null,
   "metadata": {},
   "outputs": [],
   "source": []
  }
 ],
 "metadata": {
  "anaconda-cloud": {},
  "kernelspec": {
   "display_name": "Python 3 (ipykernel)",
   "language": "python",
   "name": "python3"
  },
  "language_info": {
   "codemirror_mode": {
    "name": "ipython",
    "version": 3
   },
   "file_extension": ".py",
   "mimetype": "text/x-python",
   "name": "python",
   "nbconvert_exporter": "python",
   "pygments_lexer": "ipython3",
   "version": "3.8.10"
  }
 },
 "nbformat": 4,
 "nbformat_minor": 1
}
