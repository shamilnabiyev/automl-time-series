{
 "cells": [
  {
   "cell_type": "markdown",
   "id": "a011d22b",
   "metadata": {},
   "source": [
    "# Model training"
   ]
  },
  {
   "cell_type": "markdown",
   "id": "ce4b5fe5",
   "metadata": {},
   "source": [
    "## Cross-sectional data"
   ]
  },
  {
   "cell_type": "code",
   "execution_count": 304,
   "id": "d0a047e9",
   "metadata": {},
   "outputs": [],
   "source": [
    "import numpy as np\n",
    "import pandas as pd\n",
    "from sktime.classification.kernel_based import RocketClassifier\n",
    "from sktime.transformations.panel.rocket import MiniRocket, MiniRocketMultivariate\n",
    "from sktime.classification.interval_based import TimeSeriesForestClassifier\n",
    "from sktime.classification.interval_based import SupervisedTimeSeriesForest\n",
    "from sktime.datasets import load_from_arff_to_dataframe\n",
    "from sktime.classification.interval_based import (\n",
    "    CanonicalIntervalForest,\n",
    "    DrCIF,\n",
    "    RandomIntervalSpectralEnsemble,\n",
    "    SupervisedTimeSeriesForest,\n",
    "    TimeSeriesForestClassifier,\n",
    ")\n",
    "from sktime.classification.kernel_based import Arsenal\n",
    "from sktime.datatypes._panel._convert import from_multi_index_to_3d_numpy\n",
    "from sktime.datasets import load_from_tsfile\n",
    "from tsfresh.utilities.dataframe_functions import roll_time_series\n",
    "from sklearn.model_selection import train_test_split\n",
    "from sklearn.linear_model import RidgeClassifierCV\n",
    "from sklearn.ensemble import RandomForestClassifier\n",
    "from sklearn.linear_model import LogisticRegression\n",
    "from sklearn.svm import LinearSVC\n",
    "from sklearn.preprocessing import StandardScaler\n",
    "from sklearn.preprocessing import LabelBinarizer\n",
    "from sklearn.metrics import classification_report\n",
    "from sklearn.datasets import make_multilabel_classification\n",
    "from sklearn.discriminant_analysis import LinearDiscriminantAnalysis\n",
    "from mcfly.find_architecture import find_best_architecture\n",
    "import matplotlib.pyplot as plt\n",
    "from collections import Counter\n",
    "import seaborn as sns\n",
    "import warnings\n",
    "\n",
    "warnings.simplefilter('ignore')\n",
    "\n",
    "SEED=42\n",
    "\n",
    "%matplotlib inline"
   ]
  },
  {
   "cell_type": "code",
   "execution_count": null,
   "id": "99443d0b",
   "metadata": {},
   "outputs": [],
   "source": [
    "df = pd.read_csv(\"../data/odb-2-master-thesis/exp1_14drivers_14cars_dailyRoutes_interpolated.csv\")\n",
    "df.head()"
   ]
  },
  {
   "cell_type": "code",
   "execution_count": null,
   "id": "4b267c4c",
   "metadata": {},
   "outputs": [],
   "source": [
    "df.shape"
   ]
  },
  {
   "cell_type": "code",
   "execution_count": null,
   "id": "3cde7696",
   "metadata": {},
   "outputs": [],
   "source": [
    "selected_columns = df.columns.difference([\"TROUBLE_CODES\", \"VEHICLE_ID\", \"TIMESTAMP\"])\n",
    "df = df[selected_columns]\n",
    "\n",
    "TARGET = \"TROUBLE_CODES_BINARY\"\n",
    "\n",
    "X = df.drop([TARGET], axis=1)\n",
    "y = df[TARGET]\n",
    "\n",
    "X.shape, y.shape"
   ]
  },
  {
   "cell_type": "code",
   "execution_count": null,
   "id": "243359f1",
   "metadata": {},
   "outputs": [],
   "source": [
    "X_train, X_test, y_train, y_test = train_test_split(X, y, test_size=0.20, random_state=SEED, stratify=y)\n",
    "\n",
    "X_train.shape, X_test.shape, y_train.shape, y_test.shape"
   ]
  },
  {
   "cell_type": "code",
   "execution_count": null,
   "id": "4302c78e",
   "metadata": {},
   "outputs": [],
   "source": [
    "Counter(y)"
   ]
  },
  {
   "cell_type": "code",
   "execution_count": null,
   "id": "ccf26c4a",
   "metadata": {},
   "outputs": [],
   "source": [
    "scaler = StandardScaler()\n",
    "scaler.fit(X_train)\n",
    "\n",
    "index_train = X_train.index\n",
    "index_test = X_test.index\n",
    "\n",
    "X_train = scaler.transform(X_train)\n",
    "X_train = pd.DataFrame(X_train, index=index_train, columns=X.columns)\n",
    "\n",
    "X_test = scaler.transform(X_test)\n",
    "X_test = pd.DataFrame(X_test, index=index_test, columns=X.columns)"
   ]
  },
  {
   "cell_type": "markdown",
   "id": "8d4b188b",
   "metadata": {},
   "source": []
  },
  {
   "cell_type": "markdown",
   "id": "2dfad7a2",
   "metadata": {},
   "source": [
    "### Logistic Regression"
   ]
  },
  {
   "cell_type": "code",
   "execution_count": null,
   "id": "182747a7",
   "metadata": {},
   "outputs": [],
   "source": [
    "log_reg = LogisticRegression(random_state=SEED)\n",
    "log_reg.fit(X_train, y_train)\n",
    "\n",
    "y_pred = lin_svc.predict(X_test)\n",
    "\n",
    "print(\"Classification Report for the LinearSVC model \\n\")\n",
    "print(classification_report(y_test, y_pred))"
   ]
  },
  {
   "cell_type": "markdown",
   "id": "722a9d36",
   "metadata": {},
   "source": []
  },
  {
   "cell_type": "markdown",
   "id": "0cb6c2c7",
   "metadata": {},
   "source": [
    "### Linear Support Vector Classifier"
   ]
  },
  {
   "cell_type": "code",
   "execution_count": null,
   "id": "8c948167",
   "metadata": {},
   "outputs": [],
   "source": [
    "lin_svc = LinearSVC(random_state=SEED)\n",
    "lin_svc.fit(X_train, y_train)\n",
    "\n",
    "y_pred = lin_svc.predict(X_test)\n",
    "\n",
    "print(\"Classification Report for the LinearSVC model \\n\")\n",
    "print(classification_report(y_test, y_pred))"
   ]
  },
  {
   "cell_type": "markdown",
   "id": "876a6fe5",
   "metadata": {},
   "source": [
    "### Random Forest Classifier"
   ]
  },
  {
   "cell_type": "code",
   "execution_count": null,
   "id": "794fb2dc",
   "metadata": {},
   "outputs": [],
   "source": [
    "# Model training\n",
    "random_forest = RandomForestClassifier(random_state=SEED)\n",
    "random_forest.fit(X_train, y_train)\n",
    "\n",
    "y_pred = random_forest.predict(X_test)\n",
    "\n",
    "print(\"Classification Report for the RandomForestClassifier model \\n\")\n",
    "print(classification_report(y_test, y_pred))"
   ]
  },
  {
   "cell_type": "markdown",
   "id": "d47176d9",
   "metadata": {},
   "source": [
    "## Time Series Classification on (3D) Panel Data"
   ]
  },
  {
   "cell_type": "code",
   "execution_count": 284,
   "id": "4c637c4d",
   "metadata": {},
   "outputs": [],
   "source": [
    "features_all = pd.read_parquet(\"../data/odb-2-window-89/features-all-windowsize89.parquet.gzip\")\n",
    "target_all = pd.read_parquet(\"../data/odb-2-window-89/target-binary-all-windowsize89.parquet.gzip\")"
   ]
  },
  {
   "cell_type": "code",
   "execution_count": 285,
   "id": "3ef95673",
   "metadata": {
    "scrolled": false
   },
   "outputs": [
    {
     "data": {
      "text/html": [
       "<div>\n",
       "<style scoped>\n",
       "    .dataframe tbody tr th:only-of-type {\n",
       "        vertical-align: middle;\n",
       "    }\n",
       "\n",
       "    .dataframe tbody tr th {\n",
       "        vertical-align: top;\n",
       "    }\n",
       "\n",
       "    .dataframe thead th {\n",
       "        text-align: right;\n",
       "    }\n",
       "</style>\n",
       "<table border=\"1\" class=\"dataframe\">\n",
       "  <thead>\n",
       "    <tr style=\"text-align: right;\">\n",
       "      <th></th>\n",
       "      <th></th>\n",
       "      <th>AIR_INTAKE_TEMP</th>\n",
       "      <th>ENGINE_COOLANT_TEMP</th>\n",
       "      <th>ENGINE_LOAD</th>\n",
       "      <th>ENGINE_RPM</th>\n",
       "      <th>SHORT TERM FUEL TRIM BANK 1</th>\n",
       "      <th>SPEED</th>\n",
       "      <th>THROTTLE_POS</th>\n",
       "      <th>TIMING_ADVANCE</th>\n",
       "    </tr>\n",
       "    <tr>\n",
       "      <th>INSTANCES</th>\n",
       "      <th>TIMEPOINTS</th>\n",
       "      <th></th>\n",
       "      <th></th>\n",
       "      <th></th>\n",
       "      <th></th>\n",
       "      <th></th>\n",
       "      <th></th>\n",
       "      <th></th>\n",
       "      <th></th>\n",
       "    </tr>\n",
       "  </thead>\n",
       "  <tbody>\n",
       "    <tr>\n",
       "      <th rowspan=\"5\" valign=\"top\">0</th>\n",
       "      <th>0</th>\n",
       "      <td>59.000000</td>\n",
       "      <td>80.0</td>\n",
       "      <td>0.3330</td>\n",
       "      <td>1009.00</td>\n",
       "      <td>0.000000</td>\n",
       "      <td>0.0</td>\n",
       "      <td>0.2510</td>\n",
       "      <td>0.569000</td>\n",
       "    </tr>\n",
       "    <tr>\n",
       "      <th>1</th>\n",
       "      <td>59.000000</td>\n",
       "      <td>80.0</td>\n",
       "      <td>0.3250</td>\n",
       "      <td>1003.00</td>\n",
       "      <td>0.000000</td>\n",
       "      <td>0.0</td>\n",
       "      <td>0.2510</td>\n",
       "      <td>0.565000</td>\n",
       "    </tr>\n",
       "    <tr>\n",
       "      <th>2</th>\n",
       "      <td>59.000000</td>\n",
       "      <td>80.0</td>\n",
       "      <td>0.3290</td>\n",
       "      <td>995.00</td>\n",
       "      <td>0.000000</td>\n",
       "      <td>0.0</td>\n",
       "      <td>0.2510</td>\n",
       "      <td>0.573000</td>\n",
       "    </tr>\n",
       "    <tr>\n",
       "      <th>3</th>\n",
       "      <td>60.000000</td>\n",
       "      <td>80.0</td>\n",
       "      <td>0.3250</td>\n",
       "      <td>1004.00</td>\n",
       "      <td>0.000000</td>\n",
       "      <td>0.0</td>\n",
       "      <td>0.2510</td>\n",
       "      <td>0.565000</td>\n",
       "    </tr>\n",
       "    <tr>\n",
       "      <th>4</th>\n",
       "      <td>60.000000</td>\n",
       "      <td>80.0</td>\n",
       "      <td>0.3290</td>\n",
       "      <td>1005.00</td>\n",
       "      <td>0.000000</td>\n",
       "      <td>0.0</td>\n",
       "      <td>0.2510</td>\n",
       "      <td>0.569000</td>\n",
       "    </tr>\n",
       "    <tr>\n",
       "      <th>...</th>\n",
       "      <th>...</th>\n",
       "      <td>...</td>\n",
       "      <td>...</td>\n",
       "      <td>...</td>\n",
       "      <td>...</td>\n",
       "      <td>...</td>\n",
       "      <td>...</td>\n",
       "      <td>...</td>\n",
       "      <td>...</td>\n",
       "    </tr>\n",
       "    <tr>\n",
       "      <th rowspan=\"5\" valign=\"top\">46253</th>\n",
       "      <th>84</th>\n",
       "      <td>47.222222</td>\n",
       "      <td>81.0</td>\n",
       "      <td>0.1665</td>\n",
       "      <td>823.75</td>\n",
       "      <td>-0.181889</td>\n",
       "      <td>0.0</td>\n",
       "      <td>0.1055</td>\n",
       "      <td>0.340125</td>\n",
       "    </tr>\n",
       "    <tr>\n",
       "      <th>85</th>\n",
       "      <td>47.777778</td>\n",
       "      <td>79.0</td>\n",
       "      <td>0.1450</td>\n",
       "      <td>841.00</td>\n",
       "      <td>-0.233111</td>\n",
       "      <td>0.0</td>\n",
       "      <td>0.1040</td>\n",
       "      <td>0.274500</td>\n",
       "    </tr>\n",
       "    <tr>\n",
       "      <th>86</th>\n",
       "      <td>48.333333</td>\n",
       "      <td>77.0</td>\n",
       "      <td>0.1235</td>\n",
       "      <td>858.25</td>\n",
       "      <td>-0.284333</td>\n",
       "      <td>0.0</td>\n",
       "      <td>0.1025</td>\n",
       "      <td>0.208875</td>\n",
       "    </tr>\n",
       "    <tr>\n",
       "      <th>87</th>\n",
       "      <td>48.888889</td>\n",
       "      <td>75.0</td>\n",
       "      <td>0.1020</td>\n",
       "      <td>875.50</td>\n",
       "      <td>-0.335556</td>\n",
       "      <td>0.0</td>\n",
       "      <td>0.1010</td>\n",
       "      <td>0.143250</td>\n",
       "    </tr>\n",
       "    <tr>\n",
       "      <th>88</th>\n",
       "      <td>49.444444</td>\n",
       "      <td>73.0</td>\n",
       "      <td>0.0805</td>\n",
       "      <td>892.75</td>\n",
       "      <td>-0.386778</td>\n",
       "      <td>0.0</td>\n",
       "      <td>0.0995</td>\n",
       "      <td>0.077625</td>\n",
       "    </tr>\n",
       "  </tbody>\n",
       "</table>\n",
       "<p>4116606 rows × 8 columns</p>\n",
       "</div>"
      ],
      "text/plain": [
       "                      AIR_INTAKE_TEMP  ENGINE_COOLANT_TEMP  ENGINE_LOAD  \\\n",
       "INSTANCES TIMEPOINTS                                                      \n",
       "0         0                 59.000000                 80.0       0.3330   \n",
       "          1                 59.000000                 80.0       0.3250   \n",
       "          2                 59.000000                 80.0       0.3290   \n",
       "          3                 60.000000                 80.0       0.3250   \n",
       "          4                 60.000000                 80.0       0.3290   \n",
       "...                               ...                  ...          ...   \n",
       "46253     84                47.222222                 81.0       0.1665   \n",
       "          85                47.777778                 79.0       0.1450   \n",
       "          86                48.333333                 77.0       0.1235   \n",
       "          87                48.888889                 75.0       0.1020   \n",
       "          88                49.444444                 73.0       0.0805   \n",
       "\n",
       "                      ENGINE_RPM  SHORT TERM FUEL TRIM BANK 1  SPEED  \\\n",
       "INSTANCES TIMEPOINTS                                                   \n",
       "0         0              1009.00                     0.000000    0.0   \n",
       "          1              1003.00                     0.000000    0.0   \n",
       "          2               995.00                     0.000000    0.0   \n",
       "          3              1004.00                     0.000000    0.0   \n",
       "          4              1005.00                     0.000000    0.0   \n",
       "...                          ...                          ...    ...   \n",
       "46253     84              823.75                    -0.181889    0.0   \n",
       "          85              841.00                    -0.233111    0.0   \n",
       "          86              858.25                    -0.284333    0.0   \n",
       "          87              875.50                    -0.335556    0.0   \n",
       "          88              892.75                    -0.386778    0.0   \n",
       "\n",
       "                      THROTTLE_POS  TIMING_ADVANCE  \n",
       "INSTANCES TIMEPOINTS                                \n",
       "0         0                 0.2510        0.569000  \n",
       "          1                 0.2510        0.565000  \n",
       "          2                 0.2510        0.573000  \n",
       "          3                 0.2510        0.565000  \n",
       "          4                 0.2510        0.569000  \n",
       "...                            ...             ...  \n",
       "46253     84                0.1055        0.340125  \n",
       "          85                0.1040        0.274500  \n",
       "          86                0.1025        0.208875  \n",
       "          87                0.1010        0.143250  \n",
       "          88                0.0995        0.077625  \n",
       "\n",
       "[4116606 rows x 8 columns]"
      ]
     },
     "execution_count": 285,
     "metadata": {},
     "output_type": "execute_result"
    }
   ],
   "source": [
    "features_all = features_all.set_index([\"INSTANCES\", \"TIMEPOINTS\"])\n",
    "features_all"
   ]
  },
  {
   "cell_type": "code",
   "execution_count": 287,
   "id": "3aee3bcf",
   "metadata": {},
   "outputs": [],
   "source": [
    "# Create indices\n",
    "index_train, index_test = train_test_split(features_all.index.levels[0], \n",
    "                                           test_size=0.20, \n",
    "                                           random_state=42)"
   ]
  },
  {
   "cell_type": "code",
   "execution_count": 288,
   "id": "89cc4ec2",
   "metadata": {
    "scrolled": true
   },
   "outputs": [
    {
     "data": {
      "text/plain": [
       "((37003, 8, 89), (9251, 8, 89), (37003,), (9251,))"
      ]
     },
     "execution_count": 288,
     "metadata": {},
     "output_type": "execute_result"
    }
   ],
   "source": [
    "# Split train and test\n",
    "X_train = features_all.loc[index_train]\n",
    "X_train = from_multi_index_to_3d_numpy(X_train)\n",
    "\n",
    "y_train = target_all.loc[index_train]\n",
    "y_train = y_train.values.flatten()\n",
    "\n",
    "X_test = features_all.loc[index_test]\n",
    "X_test = from_multi_index_to_3d_numpy(X_test)\n",
    "\n",
    "y_test = target_all.loc[index_test]\n",
    "y_test = y_test.values.flatten()\n",
    "\n",
    "X_train.shape, X_test.shape, y_train.shape, y_test.shape"
   ]
  },
  {
   "cell_type": "markdown",
   "id": "158836ff",
   "metadata": {},
   "source": [
    "### MiniRocket transformation for the ODB-II DTC dataset + RidgeClassifierCV"
   ]
  },
  {
   "cell_type": "code",
   "execution_count": 289,
   "id": "4f20db2c",
   "metadata": {},
   "outputs": [
    {
     "name": "stdout",
     "output_type": "stream",
     "text": [
      "CPU times: user 1min 14s, sys: 26.4 s, total: 1min 40s\n",
      "Wall time: 1min 40s\n"
     ]
    }
   ],
   "source": [
    "%%time\n",
    "\n",
    "minirocket_multi = MiniRocketMultivariate()\n",
    "minirocket_multi.fit(X_train)\n",
    "\n",
    "X_train_transform = minirocket_multi.transform(X_train)"
   ]
  },
  {
   "cell_type": "code",
   "execution_count": null,
   "id": "e3481644",
   "metadata": {},
   "outputs": [],
   "source": [
    "%%time \n",
    "\n",
    "ridge = RidgeClassifierCV(alphas=np.logspace(-3, 3, 10), normalize=True)\n",
    "ridge.fit(X_train_transform, y_train)"
   ]
  },
  {
   "cell_type": "markdown",
   "id": "849e4f5b",
   "metadata": {},
   "source": [
    "MemoryError: Unable to allocate 2.76 GiB for an array with shape (37003, 9996) and data type float64"
   ]
  },
  {
   "cell_type": "markdown",
   "id": "5ab23084",
   "metadata": {},
   "source": [
    "### MiniRocket transformation for the ODB-II DTC dataset + LogisticRegression"
   ]
  },
  {
   "cell_type": "code",
   "execution_count": 303,
   "id": "f89d787a",
   "metadata": {},
   "outputs": [
    {
     "ename": "MemoryError",
     "evalue": "Unable to allocate 2.76 GiB for an array with shape (37003, 9996) and data type float64",
     "output_type": "error",
     "traceback": [
      "\u001b[0;31m---------------------------------------------------------------------------\u001b[0m",
      "\u001b[0;31mMemoryError\u001b[0m                               Traceback (most recent call last)",
      "File \u001b[0;32m<timed exec>:2\u001b[0m, in \u001b[0;36m<module>\u001b[0;34m\u001b[0m\n",
      "File \u001b[0;32m~/projects/automl-time-series/venv/lib/python3.8/site-packages/sklearn/linear_model/_logistic.py:1508\u001b[0m, in \u001b[0;36mLogisticRegression.fit\u001b[0;34m(self, X, y, sample_weight)\u001b[0m\n\u001b[1;32m   1505\u001b[0m \u001b[38;5;28;01melse\u001b[39;00m:\n\u001b[1;32m   1506\u001b[0m     _dtype \u001b[38;5;241m=\u001b[39m [np\u001b[38;5;241m.\u001b[39mfloat64, np\u001b[38;5;241m.\u001b[39mfloat32]\n\u001b[0;32m-> 1508\u001b[0m X, y \u001b[38;5;241m=\u001b[39m \u001b[38;5;28;43mself\u001b[39;49m\u001b[38;5;241;43m.\u001b[39;49m\u001b[43m_validate_data\u001b[49m\u001b[43m(\u001b[49m\n\u001b[1;32m   1509\u001b[0m \u001b[43m    \u001b[49m\u001b[43mX\u001b[49m\u001b[43m,\u001b[49m\n\u001b[1;32m   1510\u001b[0m \u001b[43m    \u001b[49m\u001b[43my\u001b[49m\u001b[43m,\u001b[49m\n\u001b[1;32m   1511\u001b[0m \u001b[43m    \u001b[49m\u001b[43maccept_sparse\u001b[49m\u001b[38;5;241;43m=\u001b[39;49m\u001b[38;5;124;43m\"\u001b[39;49m\u001b[38;5;124;43mcsr\u001b[39;49m\u001b[38;5;124;43m\"\u001b[39;49m\u001b[43m,\u001b[49m\n\u001b[1;32m   1512\u001b[0m \u001b[43m    \u001b[49m\u001b[43mdtype\u001b[49m\u001b[38;5;241;43m=\u001b[39;49m\u001b[43m_dtype\u001b[49m\u001b[43m,\u001b[49m\n\u001b[1;32m   1513\u001b[0m \u001b[43m    \u001b[49m\u001b[43morder\u001b[49m\u001b[38;5;241;43m=\u001b[39;49m\u001b[38;5;124;43m\"\u001b[39;49m\u001b[38;5;124;43mC\u001b[39;49m\u001b[38;5;124;43m\"\u001b[39;49m\u001b[43m,\u001b[49m\n\u001b[1;32m   1514\u001b[0m \u001b[43m    \u001b[49m\u001b[43maccept_large_sparse\u001b[49m\u001b[38;5;241;43m=\u001b[39;49m\u001b[43msolver\u001b[49m\u001b[43m \u001b[49m\u001b[38;5;129;43;01mnot\u001b[39;49;00m\u001b[43m \u001b[49m\u001b[38;5;129;43;01min\u001b[39;49;00m\u001b[43m \u001b[49m\u001b[43m[\u001b[49m\u001b[38;5;124;43m\"\u001b[39;49m\u001b[38;5;124;43mliblinear\u001b[39;49m\u001b[38;5;124;43m\"\u001b[39;49m\u001b[43m,\u001b[49m\u001b[43m \u001b[49m\u001b[38;5;124;43m\"\u001b[39;49m\u001b[38;5;124;43msag\u001b[39;49m\u001b[38;5;124;43m\"\u001b[39;49m\u001b[43m,\u001b[49m\u001b[43m \u001b[49m\u001b[38;5;124;43m\"\u001b[39;49m\u001b[38;5;124;43msaga\u001b[39;49m\u001b[38;5;124;43m\"\u001b[39;49m\u001b[43m]\u001b[49m\u001b[43m,\u001b[49m\n\u001b[1;32m   1515\u001b[0m \u001b[43m\u001b[49m\u001b[43m)\u001b[49m\n\u001b[1;32m   1516\u001b[0m check_classification_targets(y)\n\u001b[1;32m   1517\u001b[0m \u001b[38;5;28mself\u001b[39m\u001b[38;5;241m.\u001b[39mclasses_ \u001b[38;5;241m=\u001b[39m np\u001b[38;5;241m.\u001b[39munique(y)\n",
      "File \u001b[0;32m~/projects/automl-time-series/venv/lib/python3.8/site-packages/sklearn/base.py:581\u001b[0m, in \u001b[0;36mBaseEstimator._validate_data\u001b[0;34m(self, X, y, reset, validate_separately, **check_params)\u001b[0m\n\u001b[1;32m    579\u001b[0m         y \u001b[38;5;241m=\u001b[39m check_array(y, \u001b[38;5;241m*\u001b[39m\u001b[38;5;241m*\u001b[39mcheck_y_params)\n\u001b[1;32m    580\u001b[0m     \u001b[38;5;28;01melse\u001b[39;00m:\n\u001b[0;32m--> 581\u001b[0m         X, y \u001b[38;5;241m=\u001b[39m \u001b[43mcheck_X_y\u001b[49m\u001b[43m(\u001b[49m\u001b[43mX\u001b[49m\u001b[43m,\u001b[49m\u001b[43m \u001b[49m\u001b[43my\u001b[49m\u001b[43m,\u001b[49m\u001b[43m \u001b[49m\u001b[38;5;241;43m*\u001b[39;49m\u001b[38;5;241;43m*\u001b[39;49m\u001b[43mcheck_params\u001b[49m\u001b[43m)\u001b[49m\n\u001b[1;32m    582\u001b[0m     out \u001b[38;5;241m=\u001b[39m X, y\n\u001b[1;32m    584\u001b[0m \u001b[38;5;28;01mif\u001b[39;00m \u001b[38;5;129;01mnot\u001b[39;00m no_val_X \u001b[38;5;129;01mand\u001b[39;00m check_params\u001b[38;5;241m.\u001b[39mget(\u001b[38;5;124m\"\u001b[39m\u001b[38;5;124mensure_2d\u001b[39m\u001b[38;5;124m\"\u001b[39m, \u001b[38;5;28;01mTrue\u001b[39;00m):\n",
      "File \u001b[0;32m~/projects/automl-time-series/venv/lib/python3.8/site-packages/sklearn/utils/validation.py:964\u001b[0m, in \u001b[0;36mcheck_X_y\u001b[0;34m(X, y, accept_sparse, accept_large_sparse, dtype, order, copy, force_all_finite, ensure_2d, allow_nd, multi_output, ensure_min_samples, ensure_min_features, y_numeric, estimator)\u001b[0m\n\u001b[1;32m    961\u001b[0m \u001b[38;5;28;01mif\u001b[39;00m y \u001b[38;5;129;01mis\u001b[39;00m \u001b[38;5;28;01mNone\u001b[39;00m:\n\u001b[1;32m    962\u001b[0m     \u001b[38;5;28;01mraise\u001b[39;00m \u001b[38;5;167;01mValueError\u001b[39;00m(\u001b[38;5;124m\"\u001b[39m\u001b[38;5;124my cannot be None\u001b[39m\u001b[38;5;124m\"\u001b[39m)\n\u001b[0;32m--> 964\u001b[0m X \u001b[38;5;241m=\u001b[39m \u001b[43mcheck_array\u001b[49m\u001b[43m(\u001b[49m\n\u001b[1;32m    965\u001b[0m \u001b[43m    \u001b[49m\u001b[43mX\u001b[49m\u001b[43m,\u001b[49m\n\u001b[1;32m    966\u001b[0m \u001b[43m    \u001b[49m\u001b[43maccept_sparse\u001b[49m\u001b[38;5;241;43m=\u001b[39;49m\u001b[43maccept_sparse\u001b[49m\u001b[43m,\u001b[49m\n\u001b[1;32m    967\u001b[0m \u001b[43m    \u001b[49m\u001b[43maccept_large_sparse\u001b[49m\u001b[38;5;241;43m=\u001b[39;49m\u001b[43maccept_large_sparse\u001b[49m\u001b[43m,\u001b[49m\n\u001b[1;32m    968\u001b[0m \u001b[43m    \u001b[49m\u001b[43mdtype\u001b[49m\u001b[38;5;241;43m=\u001b[39;49m\u001b[43mdtype\u001b[49m\u001b[43m,\u001b[49m\n\u001b[1;32m    969\u001b[0m \u001b[43m    \u001b[49m\u001b[43morder\u001b[49m\u001b[38;5;241;43m=\u001b[39;49m\u001b[43morder\u001b[49m\u001b[43m,\u001b[49m\n\u001b[1;32m    970\u001b[0m \u001b[43m    \u001b[49m\u001b[43mcopy\u001b[49m\u001b[38;5;241;43m=\u001b[39;49m\u001b[43mcopy\u001b[49m\u001b[43m,\u001b[49m\n\u001b[1;32m    971\u001b[0m \u001b[43m    \u001b[49m\u001b[43mforce_all_finite\u001b[49m\u001b[38;5;241;43m=\u001b[39;49m\u001b[43mforce_all_finite\u001b[49m\u001b[43m,\u001b[49m\n\u001b[1;32m    972\u001b[0m \u001b[43m    \u001b[49m\u001b[43mensure_2d\u001b[49m\u001b[38;5;241;43m=\u001b[39;49m\u001b[43mensure_2d\u001b[49m\u001b[43m,\u001b[49m\n\u001b[1;32m    973\u001b[0m \u001b[43m    \u001b[49m\u001b[43mallow_nd\u001b[49m\u001b[38;5;241;43m=\u001b[39;49m\u001b[43mallow_nd\u001b[49m\u001b[43m,\u001b[49m\n\u001b[1;32m    974\u001b[0m \u001b[43m    \u001b[49m\u001b[43mensure_min_samples\u001b[49m\u001b[38;5;241;43m=\u001b[39;49m\u001b[43mensure_min_samples\u001b[49m\u001b[43m,\u001b[49m\n\u001b[1;32m    975\u001b[0m \u001b[43m    \u001b[49m\u001b[43mensure_min_features\u001b[49m\u001b[38;5;241;43m=\u001b[39;49m\u001b[43mensure_min_features\u001b[49m\u001b[43m,\u001b[49m\n\u001b[1;32m    976\u001b[0m \u001b[43m    \u001b[49m\u001b[43mestimator\u001b[49m\u001b[38;5;241;43m=\u001b[39;49m\u001b[43mestimator\u001b[49m\u001b[43m,\u001b[49m\n\u001b[1;32m    977\u001b[0m \u001b[43m\u001b[49m\u001b[43m)\u001b[49m\n\u001b[1;32m    979\u001b[0m y \u001b[38;5;241m=\u001b[39m _check_y(y, multi_output\u001b[38;5;241m=\u001b[39mmulti_output, y_numeric\u001b[38;5;241m=\u001b[39my_numeric)\n\u001b[1;32m    981\u001b[0m check_consistent_length(X, y)\n",
      "File \u001b[0;32m~/projects/automl-time-series/venv/lib/python3.8/site-packages/sklearn/utils/validation.py:746\u001b[0m, in \u001b[0;36mcheck_array\u001b[0;34m(array, accept_sparse, accept_large_sparse, dtype, order, copy, force_all_finite, ensure_2d, allow_nd, ensure_min_samples, ensure_min_features, estimator)\u001b[0m\n\u001b[1;32m    744\u001b[0m         array \u001b[38;5;241m=\u001b[39m array\u001b[38;5;241m.\u001b[39mastype(dtype, casting\u001b[38;5;241m=\u001b[39m\u001b[38;5;124m\"\u001b[39m\u001b[38;5;124munsafe\u001b[39m\u001b[38;5;124m\"\u001b[39m, copy\u001b[38;5;241m=\u001b[39m\u001b[38;5;28;01mFalse\u001b[39;00m)\n\u001b[1;32m    745\u001b[0m     \u001b[38;5;28;01melse\u001b[39;00m:\n\u001b[0;32m--> 746\u001b[0m         array \u001b[38;5;241m=\u001b[39m \u001b[43mnp\u001b[49m\u001b[38;5;241;43m.\u001b[39;49m\u001b[43masarray\u001b[49m\u001b[43m(\u001b[49m\u001b[43marray\u001b[49m\u001b[43m,\u001b[49m\u001b[43m \u001b[49m\u001b[43morder\u001b[49m\u001b[38;5;241;43m=\u001b[39;49m\u001b[43morder\u001b[49m\u001b[43m,\u001b[49m\u001b[43m \u001b[49m\u001b[43mdtype\u001b[49m\u001b[38;5;241;43m=\u001b[39;49m\u001b[43mdtype\u001b[49m\u001b[43m)\u001b[49m\n\u001b[1;32m    747\u001b[0m \u001b[38;5;28;01mexcept\u001b[39;00m ComplexWarning \u001b[38;5;28;01mas\u001b[39;00m complex_warning:\n\u001b[1;32m    748\u001b[0m     \u001b[38;5;28;01mraise\u001b[39;00m \u001b[38;5;167;01mValueError\u001b[39;00m(\n\u001b[1;32m    749\u001b[0m         \u001b[38;5;124m\"\u001b[39m\u001b[38;5;124mComplex data not supported\u001b[39m\u001b[38;5;130;01m\\n\u001b[39;00m\u001b[38;5;132;01m{}\u001b[39;00m\u001b[38;5;130;01m\\n\u001b[39;00m\u001b[38;5;124m\"\u001b[39m\u001b[38;5;241m.\u001b[39mformat(array)\n\u001b[1;32m    750\u001b[0m     ) \u001b[38;5;28;01mfrom\u001b[39;00m \u001b[38;5;21;01mcomplex_warning\u001b[39;00m\n",
      "File \u001b[0;32m~/projects/automl-time-series/venv/lib/python3.8/site-packages/pandas/core/generic.py:2072\u001b[0m, in \u001b[0;36mNDFrame.__array__\u001b[0;34m(self, dtype)\u001b[0m\n\u001b[1;32m   2071\u001b[0m \u001b[38;5;28;01mdef\u001b[39;00m \u001b[38;5;21m__array__\u001b[39m(\u001b[38;5;28mself\u001b[39m, dtype: npt\u001b[38;5;241m.\u001b[39mDTypeLike \u001b[38;5;241m|\u001b[39m \u001b[38;5;28;01mNone\u001b[39;00m \u001b[38;5;241m=\u001b[39m \u001b[38;5;28;01mNone\u001b[39;00m) \u001b[38;5;241m-\u001b[39m\u001b[38;5;241m>\u001b[39m np\u001b[38;5;241m.\u001b[39mndarray:\n\u001b[0;32m-> 2072\u001b[0m     \u001b[38;5;28;01mreturn\u001b[39;00m \u001b[43mnp\u001b[49m\u001b[38;5;241;43m.\u001b[39;49m\u001b[43masarray\u001b[49m\u001b[43m(\u001b[49m\u001b[38;5;28;43mself\u001b[39;49m\u001b[38;5;241;43m.\u001b[39;49m\u001b[43m_values\u001b[49m\u001b[43m,\u001b[49m\u001b[43m \u001b[49m\u001b[43mdtype\u001b[49m\u001b[38;5;241;43m=\u001b[39;49m\u001b[43mdtype\u001b[49m\u001b[43m)\u001b[49m\n",
      "\u001b[0;31mMemoryError\u001b[0m: Unable to allocate 2.76 GiB for an array with shape (37003, 9996) and data type float64"
     ]
    }
   ],
   "source": [
    "%%time\n",
    "\n",
    "log_reg = LogisticRegression(random_state=SEED)\n",
    "log_reg.fit(X_train_transform, y_train)"
   ]
  },
  {
   "cell_type": "markdown",
   "id": "9e71c9c8",
   "metadata": {},
   "source": [
    "### Supervised Time Series Forest Classifier"
   ]
  },
  {
   "cell_type": "code",
   "execution_count": null,
   "id": "1dd68a24",
   "metadata": {},
   "outputs": [],
   "source": [
    "%%time \n",
    "\n",
    "# sts_forest = SupervisedTimeSeriesForest(n_estimators=10)\n",
    "# sts_forest.fit(X_train, y_train)"
   ]
  },
  {
   "cell_type": "markdown",
   "id": "41a1c932",
   "metadata": {},
   "source": [
    "ValueError: Data seen by SupervisedTimeSeriesForest instance has multivariate series, but this SupervisedTimeSeriesForest instance cannot handle multivariate series. Calls with multivariate series may result in error or unreliable results."
   ]
  },
  {
   "cell_type": "code",
   "execution_count": null,
   "id": "35ef8fc2",
   "metadata": {},
   "outputs": [],
   "source": [
    "# y_pred = clf.predict(X_test)\n",
    "\n",
    "# print(\"Classification Report for the SupervisedTimeSeriesForest model \\n\")\n",
    "# print(classification_report(y_test.values.flatten(), y_pred.values.flatten()))"
   ]
  },
  {
   "cell_type": "markdown",
   "id": "9fb10245",
   "metadata": {},
   "source": [
    "### Mini Rocket Multivariate Transformer + Ridge Classifier"
   ]
  },
  {
   "cell_type": "code",
   "execution_count": null,
   "id": "d66f5fd4",
   "metadata": {},
   "outputs": [],
   "source": [
    "%%time\n",
    "\n",
    "minirocket_multi = MiniRocketMultivariate()\n",
    "minirocket_multi.fit(X_train)\n",
    "\n",
    "X_train_transform = minirocket_multi.transform(X_train)"
   ]
  },
  {
   "cell_type": "code",
   "execution_count": null,
   "id": "999f470f",
   "metadata": {},
   "outputs": [],
   "source": [
    "%%time \n",
    "\n",
    "ridge = RidgeClassifierCV(alphas=np.logspace(-3, 3, 10), normalize=True)\n",
    "ridge.fit(X_train_transform, y_train)"
   ]
  },
  {
   "cell_type": "code",
   "execution_count": null,
   "id": "056126ea",
   "metadata": {},
   "outputs": [],
   "source": [
    "X_test_transform = minirocket_multi.transform(X_test)\n",
    "y_pred = ridge.predict(X_test_transform)\n",
    "\n",
    "print(\"Classification Report for the RidgeClassifierCV model \\n\")\n",
    "print(classification_report(y_test, y_pred))"
   ]
  },
  {
   "cell_type": "markdown",
   "id": "d2c20662",
   "metadata": {},
   "source": [
    "### Canonical Interval Forest (CIF) Classifier"
   ]
  },
  {
   "cell_type": "code",
   "execution_count": null,
   "id": "a20f5e4a",
   "metadata": {},
   "outputs": [],
   "source": [
    "%%time\n",
    "\n",
    "cif = CanonicalIntervalForest(n_estimators=50, att_subsample_size=8, random_state=47)\n",
    "cif.fit(X_train, y_train)"
   ]
  },
  {
   "cell_type": "code",
   "execution_count": null,
   "id": "f31030c3",
   "metadata": {},
   "outputs": [],
   "source": [
    "%%time \n",
    "\n",
    "y_pred = cif.predict(X_test)\n",
    "\n",
    "print(\"Classification Report for the Canonical Interval Forest model \\n\")\n",
    "print(classification_report(y_test, y_pred))"
   ]
  },
  {
   "cell_type": "markdown",
   "id": "1029a86a",
   "metadata": {},
   "source": [
    "### Mcfly AutoML"
   ]
  },
  {
   "cell_type": "code",
   "execution_count": null,
   "id": "26a29657",
   "metadata": {},
   "outputs": [],
   "source": [
    "X_train, X_val, y_train, y_val = train_test_split(X_train, y_train, test_size=0.2, random_state=SEED)\n",
    "\n",
    "X_train.shape, X_val.shape, y_train.shape, y_val.shape"
   ]
  },
  {
   "cell_type": "code",
   "execution_count": null,
   "id": "49c12ad7",
   "metadata": {},
   "outputs": [],
   "source": [
    "X_train = np.swapaxes(X_train, 1, 2)\n",
    "X_val = np.swapaxes(X_val, 1, 2)"
   ]
  },
  {
   "cell_type": "code",
   "execution_count": null,
   "id": "c28cba08",
   "metadata": {},
   "outputs": [],
   "source": [
    "from sklearn.preprocessing import LabelBinarizer\n",
    "lb = LabelBinarizer()\n",
    "lb.fit(y_train)"
   ]
  },
  {
   "cell_type": "code",
   "execution_count": null,
   "id": "02240efe",
   "metadata": {},
   "outputs": [],
   "source": [
    "y_train"
   ]
  },
  {
   "cell_type": "code",
   "execution_count": null,
   "id": "6716c612",
   "metadata": {},
   "outputs": [],
   "source": [
    "%%time\n",
    "\n",
    "best_model, best_params, best_model_type, knn_acc = \\\n",
    "            find_best_architecture(\n",
    "                X_train=X_train,\n",
    "                y_train=y_train,\n",
    "                X_val=X_val,\n",
    "                y_val=y_val, \n",
    "                number_of_models=10,\n",
    "                nr_epochs=20,\n",
    "                # subset_size=5000,\n",
    "            )"
   ]
  },
  {
   "cell_type": "markdown",
   "id": "862d9f62",
   "metadata": {},
   "source": [
    "```\n",
    "Training model 9 ResNet\n",
    "Epoch 1/20\n",
    "5/5 [==============================] - 20s 4s/step - loss: 0.0000e+00 - accuracy: 0.2900 - val_loss: 0.0000e+00 - val_accuracy: 0.2531\n",
    "Epoch 2/20\n",
    "5/5 [==============================] - 16s 4s/step - loss: 0.0000e+00 - accuracy: 0.2900 - val_loss: 0.0000e+00 - val_accuracy: 0.2531\n",
    "Epoch 3/20\n",
    "5/5 [==============================] - 15s 4s/step - loss: 0.0000e+00 - accuracy: 0.2900 - val_loss: 0.0000e+00 - val_accuracy: 0.2531\n",
    "Epoch 3: early stopping\n",
    "Best model: model  0\n",
    "Model type:  InceptionTime\n",
    "Hyperparameters:  {'learning_rate': 0.00987769396837994, 'regularization_rate': 0.0009260936235962637, 'network_depth': 6, 'filters_number': 79, 'max_kernel_size': 71}\n",
    "accuracy on validation set:  0.25307390093803406\n",
    "Accuracy of kNN on validation set 0.7289555465477638\n",
    "CPU times: user 1h 55min 49s, sys: 28min 50s, total: 2h 24min 40s\n",
    "Wall time: 30min 29s\n",
    "```"
   ]
  },
  {
   "cell_type": "code",
   "execution_count": null,
   "id": "a681c141",
   "metadata": {},
   "outputs": [],
   "source": [
    "history = best_model.fit(\n",
    "    X_train, \n",
    "    y_train,\n",
    "    epochs=3, \n",
    "    validation_data=(X_val, y_val)\n",
    ")"
   ]
  },
  {
   "cell_type": "markdown",
   "id": "7d58139d",
   "metadata": {},
   "source": [
    "## Car Dataset"
   ]
  },
  {
   "cell_type": "markdown",
   "id": "c3681b6d",
   "metadata": {},
   "source": [
    "### MiniRocket Transformer + RidgeClassifierCV"
   ]
  },
  {
   "cell_type": "code",
   "execution_count": 2,
   "id": "e00a7c66",
   "metadata": {},
   "outputs": [
    {
     "data": {
      "text/html": [
       "<div>\n",
       "<style scoped>\n",
       "    .dataframe tbody tr th:only-of-type {\n",
       "        vertical-align: middle;\n",
       "    }\n",
       "\n",
       "    .dataframe tbody tr th {\n",
       "        vertical-align: top;\n",
       "    }\n",
       "\n",
       "    .dataframe thead th {\n",
       "        text-align: right;\n",
       "    }\n",
       "</style>\n",
       "<table border=\"1\" class=\"dataframe\">\n",
       "  <thead>\n",
       "    <tr style=\"text-align: right;\">\n",
       "      <th></th>\n",
       "      <th>dim_0</th>\n",
       "    </tr>\n",
       "  </thead>\n",
       "  <tbody>\n",
       "    <tr>\n",
       "      <th>0</th>\n",
       "      <td>0      1.654107\n",
       "1      1.621582\n",
       "2      1.58921...</td>\n",
       "    </tr>\n",
       "    <tr>\n",
       "      <th>1</th>\n",
       "      <td>0      1.750569\n",
       "1      1.710457\n",
       "2      1.67046...</td>\n",
       "    </tr>\n",
       "    <tr>\n",
       "      <th>2</th>\n",
       "      <td>0      1.551691\n",
       "1      1.517339\n",
       "2      1.48199...</td>\n",
       "    </tr>\n",
       "    <tr>\n",
       "      <th>3</th>\n",
       "      <td>0      1.495626\n",
       "1      1.457534\n",
       "2      1.43109...</td>\n",
       "    </tr>\n",
       "    <tr>\n",
       "      <th>4</th>\n",
       "      <td>0      1.713808\n",
       "1      1.675160\n",
       "2      1.65091...</td>\n",
       "    </tr>\n",
       "  </tbody>\n",
       "</table>\n",
       "</div>"
      ],
      "text/plain": [
       "                                               dim_0\n",
       "0  0      1.654107\n",
       "1      1.621582\n",
       "2      1.58921...\n",
       "1  0      1.750569\n",
       "1      1.710457\n",
       "2      1.67046...\n",
       "2  0      1.551691\n",
       "1      1.517339\n",
       "2      1.48199...\n",
       "3  0      1.495626\n",
       "1      1.457534\n",
       "2      1.43109...\n",
       "4  0      1.713808\n",
       "1      1.675160\n",
       "2      1.65091..."
      ]
     },
     "metadata": {},
     "output_type": "display_data"
    },
    {
     "data": {
      "text/plain": [
       "array(['1', '4', '2', '1', '2'], dtype='<U1')"
      ]
     },
     "metadata": {},
     "output_type": "display_data"
    }
   ],
   "source": [
    "X_train, y_train =  load_from_tsfile(\"/mnt/f/Documents/Car_TRAIN.ts\")\n",
    "X_test, y_test =  load_from_tsfile(\"/mnt/f/Documents/Car_TEST.ts\")\n",
    "\n",
    "display(X_train.head())\n",
    "display(y_train[:5])"
   ]
  },
  {
   "cell_type": "code",
   "execution_count": 3,
   "id": "0ecba67e",
   "metadata": {},
   "outputs": [
    {
     "data": {
      "text/plain": [
       "((60, 1), (60, 1), (60,), (60,))"
      ]
     },
     "execution_count": 3,
     "metadata": {},
     "output_type": "execute_result"
    }
   ],
   "source": [
    "X_train.shape, X_test.shape, y_train.shape, y_test.shape"
   ]
  },
  {
   "cell_type": "code",
   "execution_count": 4,
   "id": "5af58cd2",
   "metadata": {},
   "outputs": [
    {
     "name": "stdout",
     "output_type": "stream",
     "text": [
      "CPU times: user 2.55 s, sys: 32 µs, total: 2.55 s\n",
      "Wall time: 2.54 s\n"
     ]
    }
   ],
   "source": [
    "%%time\n",
    "\n",
    "minirocket = MiniRocket()\n",
    "minirocket.fit(X_train)\n",
    "\n",
    "X_train_transform = minirocket.transform(X_train)"
   ]
  },
  {
   "cell_type": "code",
   "execution_count": null,
   "id": "dfde4947",
   "metadata": {},
   "outputs": [],
   "source": []
  },
  {
   "cell_type": "code",
   "execution_count": 5,
   "id": "b8c81ba8",
   "metadata": {},
   "outputs": [
    {
     "name": "stdout",
     "output_type": "stream",
     "text": [
      "CPU times: user 795 ms, sys: 740 ms, total: 1.53 s\n",
      "Wall time: 422 ms\n"
     ]
    }
   ],
   "source": [
    "%%time \n",
    "\n",
    "ridge = RidgeClassifierCV(alphas=np.logspace(-3, 3, 10), normalize=True)\n",
    "ridge = ridge.fit(X_train_transform, y_train)"
   ]
  },
  {
   "cell_type": "code",
   "execution_count": 6,
   "id": "f50cd10e",
   "metadata": {},
   "outputs": [
    {
     "name": "stdout",
     "output_type": "stream",
     "text": [
      "              precision    recall  f1-score   support\n",
      "\n",
      "           1       1.00      1.00      1.00        14\n",
      "           2       1.00      1.00      1.00        14\n",
      "           3       0.85      0.89      0.87        19\n",
      "           4       0.83      0.77      0.80        13\n",
      "\n",
      "    accuracy                           0.92        60\n",
      "   macro avg       0.92      0.92      0.92        60\n",
      "weighted avg       0.92      0.92      0.92        60\n",
      "\n"
     ]
    }
   ],
   "source": [
    "X_test_transform = minirocket.transform(X_test)\n",
    "y_pred = ridge.predict(X_test_transform)\n",
    "\n",
    "print(classification_report(y_test, y_pred))"
   ]
  },
  {
   "cell_type": "markdown",
   "id": "a49cd917",
   "metadata": {},
   "source": [
    "## Epilepsy Dataset"
   ]
  },
  {
   "cell_type": "markdown",
   "id": "dfc7e942",
   "metadata": {},
   "source": [
    "### MiniRocketMultivariate + RidgeClassifierCV"
   ]
  },
  {
   "cell_type": "code",
   "execution_count": 159,
   "id": "1a2d95c6",
   "metadata": {},
   "outputs": [
    {
     "data": {
      "text/html": [
       "<div>\n",
       "<style scoped>\n",
       "    .dataframe tbody tr th:only-of-type {\n",
       "        vertical-align: middle;\n",
       "    }\n",
       "\n",
       "    .dataframe tbody tr th {\n",
       "        vertical-align: top;\n",
       "    }\n",
       "\n",
       "    .dataframe thead th {\n",
       "        text-align: right;\n",
       "    }\n",
       "</style>\n",
       "<table border=\"1\" class=\"dataframe\">\n",
       "  <thead>\n",
       "    <tr style=\"text-align: right;\">\n",
       "      <th></th>\n",
       "      <th>dim_0</th>\n",
       "      <th>dim_1</th>\n",
       "      <th>dim_2</th>\n",
       "    </tr>\n",
       "  </thead>\n",
       "  <tbody>\n",
       "    <tr>\n",
       "      <th>0</th>\n",
       "      <td>0      0.35\n",
       "1      0.40\n",
       "2      0.44\n",
       "3      0.4...</td>\n",
       "      <td>0      0.22\n",
       "1      0.01\n",
       "2     -0.71\n",
       "3     -0.3...</td>\n",
       "      <td>0      0.55\n",
       "1      0.51\n",
       "2      0.52\n",
       "3      0.4...</td>\n",
       "    </tr>\n",
       "    <tr>\n",
       "      <th>1</th>\n",
       "      <td>0     -0.91\n",
       "1     -0.92\n",
       "2     -0.95\n",
       "3     -0.9...</td>\n",
       "      <td>0     -0.05\n",
       "1     -0.02\n",
       "2      0.01\n",
       "3      0.0...</td>\n",
       "      <td>0      0.06\n",
       "1     -1.57\n",
       "2     -0.99\n",
       "3      0.2...</td>\n",
       "    </tr>\n",
       "    <tr>\n",
       "      <th>2</th>\n",
       "      <td>0      0.32\n",
       "1      0.71\n",
       "2      0.70\n",
       "3      0.7...</td>\n",
       "      <td>0      1.00\n",
       "1     -1.33\n",
       "2     -1.44\n",
       "3     -0.1...</td>\n",
       "      <td>0      0.37\n",
       "1      0.37\n",
       "2      0.37\n",
       "3      0.3...</td>\n",
       "    </tr>\n",
       "    <tr>\n",
       "      <th>3</th>\n",
       "      <td>0     -0.68\n",
       "1     -0.36\n",
       "2     -0.13\n",
       "3     -0.3...</td>\n",
       "      <td>0     -1.69\n",
       "1     -0.58\n",
       "2      1.05\n",
       "3     -0.1...</td>\n",
       "      <td>0      0.31\n",
       "1      0.31\n",
       "2      0.32\n",
       "3      0.0...</td>\n",
       "    </tr>\n",
       "    <tr>\n",
       "      <th>4</th>\n",
       "      <td>0      0.34\n",
       "1      0.53\n",
       "2      0.58\n",
       "3      0.6...</td>\n",
       "      <td>0     -0.89\n",
       "1      1.17\n",
       "2      1.00\n",
       "3     -1.8...</td>\n",
       "      <td>0      0.45\n",
       "1     -0.05\n",
       "2     -0.17\n",
       "3     -0.4...</td>\n",
       "    </tr>\n",
       "  </tbody>\n",
       "</table>\n",
       "</div>"
      ],
      "text/plain": [
       "                                               dim_0  \\\n",
       "0  0      0.35\n",
       "1      0.40\n",
       "2      0.44\n",
       "3      0.4...   \n",
       "1  0     -0.91\n",
       "1     -0.92\n",
       "2     -0.95\n",
       "3     -0.9...   \n",
       "2  0      0.32\n",
       "1      0.71\n",
       "2      0.70\n",
       "3      0.7...   \n",
       "3  0     -0.68\n",
       "1     -0.36\n",
       "2     -0.13\n",
       "3     -0.3...   \n",
       "4  0      0.34\n",
       "1      0.53\n",
       "2      0.58\n",
       "3      0.6...   \n",
       "\n",
       "                                               dim_1  \\\n",
       "0  0      0.22\n",
       "1      0.01\n",
       "2     -0.71\n",
       "3     -0.3...   \n",
       "1  0     -0.05\n",
       "1     -0.02\n",
       "2      0.01\n",
       "3      0.0...   \n",
       "2  0      1.00\n",
       "1     -1.33\n",
       "2     -1.44\n",
       "3     -0.1...   \n",
       "3  0     -1.69\n",
       "1     -0.58\n",
       "2      1.05\n",
       "3     -0.1...   \n",
       "4  0     -0.89\n",
       "1      1.17\n",
       "2      1.00\n",
       "3     -1.8...   \n",
       "\n",
       "                                               dim_2  \n",
       "0  0      0.55\n",
       "1      0.51\n",
       "2      0.52\n",
       "3      0.4...  \n",
       "1  0      0.06\n",
       "1     -1.57\n",
       "2     -0.99\n",
       "3      0.2...  \n",
       "2  0      0.37\n",
       "1      0.37\n",
       "2      0.37\n",
       "3      0.3...  \n",
       "3  0      0.31\n",
       "1      0.31\n",
       "2      0.32\n",
       "3      0.0...  \n",
       "4  0      0.45\n",
       "1     -0.05\n",
       "2     -0.17\n",
       "3     -0.4...  "
      ]
     },
     "metadata": {},
     "output_type": "display_data"
    },
    {
     "data": {
      "text/plain": [
       "array(['EPILEPSY', 'EPILEPSY', 'EPILEPSY', 'EPILEPSY', 'EPILEPSY'],\n",
       "      dtype='<U8')"
      ]
     },
     "metadata": {},
     "output_type": "display_data"
    }
   ],
   "source": [
    "X_train, y_train =  load_from_tsfile(\"/mnt/f/Documents/Epilepsy_TRAIN.ts\")\n",
    "X_test, y_test =  load_from_tsfile(\"/mnt/f/Documents/Epilepsy_TEST.ts\")\n",
    "\n",
    "display(X_train.head())\n",
    "display(y_train[:5])"
   ]
  },
  {
   "cell_type": "code",
   "execution_count": 160,
   "id": "ace372ec",
   "metadata": {},
   "outputs": [
    {
     "name": "stdout",
     "output_type": "stream",
     "text": [
      "X_train.shape (num_sample, num_features, num_timesteps): (137, 3, 206)\n",
      "X_test.shape (num_samples, num_features, num_timesteps): (138, 3, 206)\n",
      "\n",
      "y_train.shape (num_sample,): (137,)\n",
      "y_test.shape (num_sample,): (138,)\n"
     ]
    }
   ],
   "source": [
    "print(\"X_train.shape (num_sample, num_features, num_timesteps):\", X_train.shape + X_train.iloc[0,0].shape)\n",
    "print(\"X_test.shape (num_samples, num_features, num_timesteps):\", X_test.shape + X_test.iloc[0,0].shape)\n",
    "print(\"\")\n",
    "print(\"y_train.shape (num_sample,):\", y_train.shape)\n",
    "print(\"y_test.shape (num_sample,):\", y_test.shape)"
   ]
  },
  {
   "cell_type": "code",
   "execution_count": 11,
   "id": "a85b0fed",
   "metadata": {},
   "outputs": [
    {
     "name": "stdout",
     "output_type": "stream",
     "text": [
      "CPU times: user 5.14 s, sys: 0 ns, total: 5.14 s\n",
      "Wall time: 5.13 s\n"
     ]
    }
   ],
   "source": [
    "%%time\n",
    "\n",
    "minirocket_multi = MiniRocketMultivariate()\n",
    "minirocket_multi.fit(X_train)\n",
    "\n",
    "X_train_transform = minirocket_multi.transform(X_train)"
   ]
  },
  {
   "cell_type": "code",
   "execution_count": 14,
   "id": "061d6b12",
   "metadata": {},
   "outputs": [
    {
     "name": "stdout",
     "output_type": "stream",
     "text": [
      "CPU times: user 1.13 s, sys: 860 ms, total: 1.99 s\n",
      "Wall time: 350 ms\n"
     ]
    },
    {
     "data": {
      "text/plain": [
       "RidgeClassifierCV(alphas=array([1.00000000e-03, 4.64158883e-03, 2.15443469e-02, 1.00000000e-01,\n",
       "       4.64158883e-01, 2.15443469e+00, 1.00000000e+01, 4.64158883e+01,\n",
       "       2.15443469e+02, 1.00000000e+03]),\n",
       "                  normalize=True)"
      ]
     },
     "execution_count": 14,
     "metadata": {},
     "output_type": "execute_result"
    }
   ],
   "source": [
    "%%time \n",
    "\n",
    "ridge = RidgeClassifierCV(alphas=np.logspace(-3, 3, 10), normalize=True)\n",
    "ridge.fit(X_train_transform, y_train)"
   ]
  },
  {
   "cell_type": "code",
   "execution_count": 15,
   "id": "c0feb0af",
   "metadata": {
    "scrolled": true
   },
   "outputs": [
    {
     "name": "stdout",
     "output_type": "stream",
     "text": [
      "Classification Report for the RidgeClassifierCV model \n",
      "\n",
      "              precision    recall  f1-score   support\n",
      "\n",
      "    EPILEPSY       1.00      1.00      1.00        34\n",
      "     RUNNING       1.00      1.00      1.00        37\n",
      "      SAWING       1.00      1.00      1.00        30\n",
      "     WALKING       1.00      1.00      1.00        37\n",
      "\n",
      "    accuracy                           1.00       138\n",
      "   macro avg       1.00      1.00      1.00       138\n",
      "weighted avg       1.00      1.00      1.00       138\n",
      "\n"
     ]
    }
   ],
   "source": [
    "X_test_transform = minirocket_multi.transform(X_test)\n",
    "y_pred = ridge.predict(X_test_transform)\n",
    "\n",
    "print(\"Classification Report for the RidgeClassifierCV model \\n\")\n",
    "print(classification_report(y_test, y_pred))"
   ]
  },
  {
   "cell_type": "code",
   "execution_count": null,
   "id": "9a4f8133",
   "metadata": {},
   "outputs": [],
   "source": []
  },
  {
   "cell_type": "code",
   "execution_count": null,
   "id": "1838b54e",
   "metadata": {},
   "outputs": [],
   "source": [
    "%%time \n",
    "\n",
    "stsf = SupervisedTimeSeriesForest(n_estimators=5)\n",
    "stsf.fit(X_train, y_train)"
   ]
  },
  {
   "cell_type": "markdown",
   "id": "5911a073",
   "metadata": {},
   "source": [
    "ValueError: Data seen by SupervisedTimeSeriesForest instance has multivariate series, but this SupervisedTimeSeriesForest instance cannot handle multivariate series. Calls with multivariate series may result in error or unreliable results.\n"
   ]
  },
  {
   "cell_type": "markdown",
   "id": "e0c4499c",
   "metadata": {},
   "source": [
    "## FordA Dataset"
   ]
  },
  {
   "cell_type": "code",
   "execution_count": 147,
   "id": "7671e182",
   "metadata": {},
   "outputs": [
    {
     "data": {
      "text/html": [
       "<div>\n",
       "<style scoped>\n",
       "    .dataframe tbody tr th:only-of-type {\n",
       "        vertical-align: middle;\n",
       "    }\n",
       "\n",
       "    .dataframe tbody tr th {\n",
       "        vertical-align: top;\n",
       "    }\n",
       "\n",
       "    .dataframe thead th {\n",
       "        text-align: right;\n",
       "    }\n",
       "</style>\n",
       "<table border=\"1\" class=\"dataframe\">\n",
       "  <thead>\n",
       "    <tr style=\"text-align: right;\">\n",
       "      <th></th>\n",
       "      <th>dim_0</th>\n",
       "    </tr>\n",
       "  </thead>\n",
       "  <tbody>\n",
       "    <tr>\n",
       "      <th>0</th>\n",
       "      <td>0     -0.797172\n",
       "1     -0.664392\n",
       "2     -0.37301...</td>\n",
       "    </tr>\n",
       "    <tr>\n",
       "      <th>1</th>\n",
       "      <td>0      0.804855\n",
       "1      0.634629\n",
       "2      0.37347...</td>\n",
       "    </tr>\n",
       "    <tr>\n",
       "      <th>2</th>\n",
       "      <td>0      0.727985\n",
       "1      0.111284\n",
       "2     -0.49912...</td>\n",
       "    </tr>\n",
       "    <tr>\n",
       "      <th>3</th>\n",
       "      <td>0     -0.234439\n",
       "1     -0.502157\n",
       "2     -0.73248...</td>\n",
       "    </tr>\n",
       "    <tr>\n",
       "      <th>4</th>\n",
       "      <td>0     -0.171328\n",
       "1     -0.062285\n",
       "2      0.23582...</td>\n",
       "    </tr>\n",
       "  </tbody>\n",
       "</table>\n",
       "</div>"
      ],
      "text/plain": [
       "                                               dim_0\n",
       "0  0     -0.797172\n",
       "1     -0.664392\n",
       "2     -0.37301...\n",
       "1  0      0.804855\n",
       "1      0.634629\n",
       "2      0.37347...\n",
       "2  0      0.727985\n",
       "1      0.111284\n",
       "2     -0.49912...\n",
       "3  0     -0.234439\n",
       "1     -0.502157\n",
       "2     -0.73248...\n",
       "4  0     -0.171328\n",
       "1     -0.062285\n",
       "2      0.23582..."
      ]
     },
     "metadata": {},
     "output_type": "display_data"
    },
    {
     "data": {
      "text/plain": [
       "array(['-1', '1', '-1', '-1', '-1'], dtype='<U2')"
      ]
     },
     "metadata": {},
     "output_type": "display_data"
    },
    {
     "name": "stdout",
     "output_type": "stream",
     "text": [
      "CPU times: user 6.13 s, sys: 162 ms, total: 6.29 s\n",
      "Wall time: 8.09 s\n"
     ]
    }
   ],
   "source": [
    "%%time \n",
    "\n",
    "X_train, y_train =  load_from_tsfile(\"/mnt/f/Downloads/FordA/FordA_TRAIN.ts\")\n",
    "# y_train = np.where(y_train == \"1\" , 1, 0)\n",
    "\n",
    "X_test, y_test =  load_from_tsfile(\"/mnt/f/Downloads/FordA/FordA_TEST.ts\")\n",
    "# y_test = np.where(y_test == \"1\" , 1, 0)\n",
    "\n",
    "display(X_train.head())\n",
    "display(y_train[:5])"
   ]
  },
  {
   "cell_type": "code",
   "execution_count": 148,
   "id": "41bf05bd",
   "metadata": {},
   "outputs": [
    {
     "name": "stdout",
     "output_type": "stream",
     "text": [
      "X_train.shape (num_sample, num_features, num_timesteps): (3601, 1, 500)\n",
      "X_test.shape (num_samples, num_features, num_timesteps): (1320, 1, 500)\n",
      "\n",
      "y_train.shape (num_sample,): (3601,)\n",
      "y_test.shape (num_sample,): (1320,)\n"
     ]
    }
   ],
   "source": [
    "print(\"X_train.shape (num_sample, num_features, num_timesteps):\", X_train.shape + X_train.iloc[0,0].shape)\n",
    "print(\"X_test.shape (num_samples, num_features, num_timesteps):\", X_test.shape + X_test.iloc[0,0].shape)\n",
    "print(\"\")\n",
    "print(\"y_train.shape (num_sample,):\", y_train.shape)\n",
    "print(\"y_test.shape (num_sample,):\", y_test.shape)"
   ]
  },
  {
   "cell_type": "code",
   "execution_count": 42,
   "id": "5884da74",
   "metadata": {},
   "outputs": [
    {
     "name": "stdout",
     "output_type": "stream",
     "text": [
      "CPU times: user 1min 35s, sys: 0 ns, total: 1min 35s\n",
      "Wall time: 1min 35s\n"
     ]
    }
   ],
   "source": [
    "%%time\n",
    "\n",
    "minirocket = MiniRocket()\n",
    "minirocket.fit(X_train)\n",
    "\n",
    "X_train_transform = minirocket.transform(X_train)"
   ]
  },
  {
   "cell_type": "code",
   "execution_count": 43,
   "id": "e978345b",
   "metadata": {},
   "outputs": [
    {
     "name": "stdout",
     "output_type": "stream",
     "text": [
      "CPU times: user 2min 27s, sys: 1min 10s, total: 3min 38s\n",
      "Wall time: 34.5 s\n"
     ]
    }
   ],
   "source": [
    "%%time \n",
    "\n",
    "ridge = RidgeClassifierCV(alphas=np.logspace(-3, 3, 10), normalize=True)\n",
    "ridge = ridge.fit(X_train_transform, y_train)"
   ]
  },
  {
   "cell_type": "code",
   "execution_count": 44,
   "id": "709a0839",
   "metadata": {},
   "outputs": [
    {
     "name": "stdout",
     "output_type": "stream",
     "text": [
      "Classification Report for the RidgeClassifierCV model \n",
      "\n",
      "              precision    recall  f1-score   support\n",
      "\n",
      "           0       0.95      0.95      0.95       681\n",
      "           1       0.95      0.94      0.95       639\n",
      "\n",
      "    accuracy                           0.95      1320\n",
      "   macro avg       0.95      0.95      0.95      1320\n",
      "weighted avg       0.95      0.95      0.95      1320\n",
      "\n",
      "CPU times: user 25 s, sys: 321 ms, total: 25.3 s\n",
      "Wall time: 24.7 s\n",
      "Parser   : 255 ms\n"
     ]
    }
   ],
   "source": [
    "%%time \n",
    "\n",
    "X_test_transform = minirocket.transform(X_test)\n",
    "y_pred = ridge.predict(X_test_transform)\n",
    "\n",
    "print(\"Classification Report for the RidgeClassifierCV model \\n\")\n",
    "print(classification_report(y_test, y_pred))"
   ]
  },
  {
   "cell_type": "markdown",
   "id": "4f2f4cdf",
   "metadata": {},
   "source": [
    "##### Arsenal ensemble"
   ]
  },
  {
   "cell_type": "code",
   "execution_count": 140,
   "id": "b942036b",
   "metadata": {},
   "outputs": [
    {
     "name": "stdout",
     "output_type": "stream",
     "text": [
      "CPU times: user 25.6 s, sys: 971 ms, total: 26.5 s\n",
      "Wall time: 1min 38s\n"
     ]
    },
    {
     "data": {
      "text/plain": [
       "Arsenal(n_estimators=5, n_jobs=4, random_state=42,\n",
       "        rocket_transform='minirocket')"
      ]
     },
     "execution_count": 140,
     "metadata": {},
     "output_type": "execute_result"
    }
   ],
   "source": [
    "%%time\n",
    "\n",
    "# started at 22:15 24.06.2022\n",
    "arsenal = Arsenal(rocket_transform=\"minirocket\", \n",
    "                  n_estimators=5,\n",
    "                  random_state=42,\n",
    "                  n_jobs=4)\n",
    "\n",
    "arsenal.fit(X_train, y_train)"
   ]
  },
  {
   "cell_type": "code",
   "execution_count": 141,
   "id": "c7181de7",
   "metadata": {},
   "outputs": [
    {
     "name": "stdout",
     "output_type": "stream",
     "text": [
      "Classification Report for the Arsenal model with MiniROCKET transformation \n",
      "\n",
      "              precision    recall  f1-score   support\n",
      "\n",
      "          -1       0.94      0.95      0.95       681\n",
      "           1       0.95      0.94      0.94       639\n",
      "\n",
      "    accuracy                           0.94      1320\n",
      "   macro avg       0.94      0.94      0.94      1320\n",
      "weighted avg       0.94      0.94      0.94      1320\n",
      "\n"
     ]
    }
   ],
   "source": [
    "%%time\n",
    "\n",
    "y_pred = arsenal.predict(X_test)\n",
    "\n",
    "print(\"Classification Report for the Arsenal model with MiniROCKET transformation \\n\")\n",
    "print(classification_report(y_test, y_pred))"
   ]
  },
  {
   "cell_type": "markdown",
   "id": "c06c98cc",
   "metadata": {},
   "source": [
    "##### TimeSeriesForestClassifier"
   ]
  },
  {
   "cell_type": "code",
   "execution_count": 155,
   "id": "80d31d53",
   "metadata": {},
   "outputs": [
    {
     "name": "stdout",
     "output_type": "stream",
     "text": [
      "CPU times: user 20.7 s, sys: 659 ms, total: 21.3 s\n",
      "Wall time: 26.8 s\n"
     ]
    },
    {
     "data": {
      "text/plain": [
       "TimeSeriesForestClassifier(n_estimators=10, n_jobs=4, random_state=42)"
      ]
     },
     "execution_count": 155,
     "metadata": {},
     "output_type": "execute_result"
    }
   ],
   "source": [
    "%%time\n",
    "\n",
    "tsf = TimeSeriesForestClassifier(n_estimators=10,\n",
    "                                 random_state=42, \n",
    "                                 n_jobs=4)\n",
    "tsf.fit(X_train, y_train)"
   ]
  },
  {
   "cell_type": "code",
   "execution_count": 156,
   "id": "8cb8c46f",
   "metadata": {},
   "outputs": [
    {
     "name": "stdout",
     "output_type": "stream",
     "text": [
      "Classification Report for the TimeSeriesForestClassifier model \n",
      "\n",
      "              precision    recall  f1-score   support\n",
      "\n",
      "          -1       0.65      0.79      0.72       681\n",
      "           1       0.71      0.55      0.62       639\n",
      "\n",
      "    accuracy                           0.68      1320\n",
      "   macro avg       0.68      0.67      0.67      1320\n",
      "weighted avg       0.68      0.68      0.67      1320\n",
      "\n",
      "CPU times: user 9.28 s, sys: 59.2 ms, total: 9.34 s\n",
      "Wall time: 10.3 s\n"
     ]
    }
   ],
   "source": [
    "%%time \n",
    "\n",
    "y_pred = tsf.predict(X_test)\n",
    "\n",
    "print(\"Classification Report for the TimeSeriesForestClassifier model \\n\")\n",
    "print(classification_report(y_test, y_pred))"
   ]
  },
  {
   "cell_type": "markdown",
   "id": "3b1bf14e",
   "metadata": {},
   "source": [
    "##### SupervisedTimeSeriesForest"
   ]
  },
  {
   "cell_type": "code",
   "execution_count": 157,
   "id": "a9c50094",
   "metadata": {},
   "outputs": [
    {
     "name": "stdout",
     "output_type": "stream",
     "text": [
      "CPU times: user 50 s, sys: 3.42 ms, total: 50 s\n",
      "Wall time: 50 s\n"
     ]
    },
    {
     "data": {
      "text/plain": [
       "SupervisedTimeSeriesForest(n_estimators=5)"
      ]
     },
     "execution_count": 157,
     "metadata": {},
     "output_type": "execute_result"
    }
   ],
   "source": [
    "%%time \n",
    "\n",
    "stsf = SupervisedTimeSeriesForest(n_estimators=5)\n",
    "stsf.fit(X_train, y_train)"
   ]
  },
  {
   "cell_type": "code",
   "execution_count": 158,
   "id": "fc75bb27",
   "metadata": {},
   "outputs": [
    {
     "name": "stdout",
     "output_type": "stream",
     "text": [
      "Classification Report for the SupervisedTimeSeriesForest model \n",
      "\n",
      "              precision    recall  f1-score   support\n",
      "\n",
      "          -1       0.94      0.91      0.93       681\n",
      "           1       0.91      0.94      0.92       639\n",
      "\n",
      "    accuracy                           0.93      1320\n",
      "   macro avg       0.93      0.93      0.92      1320\n",
      "weighted avg       0.93      0.93      0.93      1320\n",
      "\n",
      "CPU times: user 12.3 s, sys: 0 ns, total: 12.3 s\n",
      "Wall time: 12.3 s\n"
     ]
    }
   ],
   "source": [
    "%%time \n",
    "\n",
    "y_pred = stsf.predict(X_test)\n",
    "\n",
    "print(\"Classification Report for the SupervisedTimeSeriesForest model \\n\")\n",
    "print(classification_report(y_test, y_pred))"
   ]
  },
  {
   "cell_type": "code",
   "execution_count": 46,
   "id": "71c4e889",
   "metadata": {},
   "outputs": [
    {
     "data": {
      "text/plain": [
       "((3601, 1), (3601, 9996))"
      ]
     },
     "execution_count": 46,
     "metadata": {},
     "output_type": "execute_result"
    }
   ],
   "source": [
    "X_train.shape, X_train_transform.shape"
   ]
  },
  {
   "cell_type": "code",
   "execution_count": 52,
   "id": "24a80fbe",
   "metadata": {},
   "outputs": [
    {
     "data": {
      "text/plain": [
       "0     -0.797172\n",
       "1     -0.664392\n",
       "2     -0.373015\n",
       "3      0.040815\n",
       "4      0.526936\n",
       "         ...   \n",
       "495   -0.212573\n",
       "496   -0.391456\n",
       "497   -0.664392\n",
       "498   -1.073796\n",
       "499   -1.564343\n",
       "Length: 500, dtype: float64"
      ]
     },
     "execution_count": 52,
     "metadata": {},
     "output_type": "execute_result"
    }
   ],
   "source": [
    "X_train.iloc[0,0]"
   ]
  },
  {
   "cell_type": "code",
   "execution_count": 51,
   "id": "dcdb9fec",
   "metadata": {},
   "outputs": [
    {
     "data": {
      "text/html": [
       "<div>\n",
       "<style scoped>\n",
       "    .dataframe tbody tr th:only-of-type {\n",
       "        vertical-align: middle;\n",
       "    }\n",
       "\n",
       "    .dataframe tbody tr th {\n",
       "        vertical-align: top;\n",
       "    }\n",
       "\n",
       "    .dataframe thead th {\n",
       "        text-align: right;\n",
       "    }\n",
       "</style>\n",
       "<table border=\"1\" class=\"dataframe\">\n",
       "  <thead>\n",
       "    <tr style=\"text-align: right;\">\n",
       "      <th></th>\n",
       "      <th>0</th>\n",
       "      <th>1</th>\n",
       "      <th>2</th>\n",
       "      <th>3</th>\n",
       "      <th>4</th>\n",
       "      <th>5</th>\n",
       "      <th>6</th>\n",
       "      <th>7</th>\n",
       "      <th>8</th>\n",
       "      <th>9</th>\n",
       "      <th>...</th>\n",
       "      <th>9986</th>\n",
       "      <th>9987</th>\n",
       "      <th>9988</th>\n",
       "      <th>9989</th>\n",
       "      <th>9990</th>\n",
       "      <th>9991</th>\n",
       "      <th>9992</th>\n",
       "      <th>9993</th>\n",
       "      <th>9994</th>\n",
       "      <th>9995</th>\n",
       "    </tr>\n",
       "  </thead>\n",
       "  <tbody>\n",
       "    <tr>\n",
       "      <th>0</th>\n",
       "      <td>0.364</td>\n",
       "      <td>0.744</td>\n",
       "      <td>0.138</td>\n",
       "      <td>0.518</td>\n",
       "      <td>0.912</td>\n",
       "      <td>0.296</td>\n",
       "      <td>0.674</td>\n",
       "      <td>0.052</td>\n",
       "      <td>0.412</td>\n",
       "      <td>0.816</td>\n",
       "      <td>...</td>\n",
       "      <td>0.714</td>\n",
       "      <td>0.0</td>\n",
       "      <td>0.00</td>\n",
       "      <td>0.25</td>\n",
       "      <td>0.204</td>\n",
       "      <td>0.666</td>\n",
       "      <td>0.972</td>\n",
       "      <td>0.50</td>\n",
       "      <td>1.00</td>\n",
       "      <td>0.0</td>\n",
       "    </tr>\n",
       "    <tr>\n",
       "      <th>1</th>\n",
       "      <td>0.388</td>\n",
       "      <td>0.754</td>\n",
       "      <td>0.120</td>\n",
       "      <td>0.532</td>\n",
       "      <td>0.910</td>\n",
       "      <td>0.298</td>\n",
       "      <td>0.672</td>\n",
       "      <td>0.062</td>\n",
       "      <td>0.444</td>\n",
       "      <td>0.814</td>\n",
       "      <td>...</td>\n",
       "      <td>0.700</td>\n",
       "      <td>0.0</td>\n",
       "      <td>0.00</td>\n",
       "      <td>1.00</td>\n",
       "      <td>0.234</td>\n",
       "      <td>0.622</td>\n",
       "      <td>0.994</td>\n",
       "      <td>1.00</td>\n",
       "      <td>1.00</td>\n",
       "      <td>0.0</td>\n",
       "    </tr>\n",
       "    <tr>\n",
       "      <th>2</th>\n",
       "      <td>0.376</td>\n",
       "      <td>0.818</td>\n",
       "      <td>0.094</td>\n",
       "      <td>0.530</td>\n",
       "      <td>0.916</td>\n",
       "      <td>0.242</td>\n",
       "      <td>0.726</td>\n",
       "      <td>0.046</td>\n",
       "      <td>0.448</td>\n",
       "      <td>0.854</td>\n",
       "      <td>...</td>\n",
       "      <td>0.752</td>\n",
       "      <td>0.0</td>\n",
       "      <td>0.00</td>\n",
       "      <td>1.00</td>\n",
       "      <td>0.166</td>\n",
       "      <td>0.660</td>\n",
       "      <td>1.000</td>\n",
       "      <td>0.00</td>\n",
       "      <td>0.50</td>\n",
       "      <td>0.0</td>\n",
       "    </tr>\n",
       "    <tr>\n",
       "      <th>3</th>\n",
       "      <td>0.400</td>\n",
       "      <td>0.774</td>\n",
       "      <td>0.132</td>\n",
       "      <td>0.524</td>\n",
       "      <td>0.894</td>\n",
       "      <td>0.298</td>\n",
       "      <td>0.676</td>\n",
       "      <td>0.056</td>\n",
       "      <td>0.454</td>\n",
       "      <td>0.818</td>\n",
       "      <td>...</td>\n",
       "      <td>0.750</td>\n",
       "      <td>0.0</td>\n",
       "      <td>0.25</td>\n",
       "      <td>1.00</td>\n",
       "      <td>0.232</td>\n",
       "      <td>0.612</td>\n",
       "      <td>0.968</td>\n",
       "      <td>0.25</td>\n",
       "      <td>1.00</td>\n",
       "      <td>0.0</td>\n",
       "    </tr>\n",
       "    <tr>\n",
       "      <th>4</th>\n",
       "      <td>0.378</td>\n",
       "      <td>0.756</td>\n",
       "      <td>0.152</td>\n",
       "      <td>0.498</td>\n",
       "      <td>0.866</td>\n",
       "      <td>0.296</td>\n",
       "      <td>0.674</td>\n",
       "      <td>0.088</td>\n",
       "      <td>0.426</td>\n",
       "      <td>0.802</td>\n",
       "      <td>...</td>\n",
       "      <td>0.698</td>\n",
       "      <td>0.0</td>\n",
       "      <td>0.75</td>\n",
       "      <td>1.00</td>\n",
       "      <td>0.186</td>\n",
       "      <td>0.654</td>\n",
       "      <td>0.984</td>\n",
       "      <td>0.25</td>\n",
       "      <td>1.00</td>\n",
       "      <td>0.0</td>\n",
       "    </tr>\n",
       "    <tr>\n",
       "      <th>...</th>\n",
       "      <td>...</td>\n",
       "      <td>...</td>\n",
       "      <td>...</td>\n",
       "      <td>...</td>\n",
       "      <td>...</td>\n",
       "      <td>...</td>\n",
       "      <td>...</td>\n",
       "      <td>...</td>\n",
       "      <td>...</td>\n",
       "      <td>...</td>\n",
       "      <td>...</td>\n",
       "      <td>...</td>\n",
       "      <td>...</td>\n",
       "      <td>...</td>\n",
       "      <td>...</td>\n",
       "      <td>...</td>\n",
       "      <td>...</td>\n",
       "      <td>...</td>\n",
       "      <td>...</td>\n",
       "      <td>...</td>\n",
       "      <td>...</td>\n",
       "    </tr>\n",
       "    <tr>\n",
       "      <th>3596</th>\n",
       "      <td>0.340</td>\n",
       "      <td>0.794</td>\n",
       "      <td>0.100</td>\n",
       "      <td>0.544</td>\n",
       "      <td>0.918</td>\n",
       "      <td>0.244</td>\n",
       "      <td>0.738</td>\n",
       "      <td>0.052</td>\n",
       "      <td>0.416</td>\n",
       "      <td>0.832</td>\n",
       "      <td>...</td>\n",
       "      <td>0.730</td>\n",
       "      <td>0.0</td>\n",
       "      <td>0.00</td>\n",
       "      <td>0.00</td>\n",
       "      <td>0.240</td>\n",
       "      <td>0.622</td>\n",
       "      <td>0.958</td>\n",
       "      <td>0.00</td>\n",
       "      <td>0.00</td>\n",
       "      <td>0.0</td>\n",
       "    </tr>\n",
       "    <tr>\n",
       "      <th>3597</th>\n",
       "      <td>0.354</td>\n",
       "      <td>0.764</td>\n",
       "      <td>0.158</td>\n",
       "      <td>0.516</td>\n",
       "      <td>0.894</td>\n",
       "      <td>0.284</td>\n",
       "      <td>0.696</td>\n",
       "      <td>0.088</td>\n",
       "      <td>0.402</td>\n",
       "      <td>0.806</td>\n",
       "      <td>...</td>\n",
       "      <td>0.740</td>\n",
       "      <td>0.0</td>\n",
       "      <td>0.00</td>\n",
       "      <td>1.00</td>\n",
       "      <td>0.188</td>\n",
       "      <td>0.592</td>\n",
       "      <td>1.000</td>\n",
       "      <td>0.00</td>\n",
       "      <td>0.25</td>\n",
       "      <td>0.0</td>\n",
       "    </tr>\n",
       "    <tr>\n",
       "      <th>3598</th>\n",
       "      <td>0.384</td>\n",
       "      <td>0.740</td>\n",
       "      <td>0.180</td>\n",
       "      <td>0.498</td>\n",
       "      <td>0.878</td>\n",
       "      <td>0.300</td>\n",
       "      <td>0.646</td>\n",
       "      <td>0.114</td>\n",
       "      <td>0.428</td>\n",
       "      <td>0.792</td>\n",
       "      <td>...</td>\n",
       "      <td>0.714</td>\n",
       "      <td>0.0</td>\n",
       "      <td>0.00</td>\n",
       "      <td>0.25</td>\n",
       "      <td>0.212</td>\n",
       "      <td>0.638</td>\n",
       "      <td>0.986</td>\n",
       "      <td>0.00</td>\n",
       "      <td>0.00</td>\n",
       "      <td>0.0</td>\n",
       "    </tr>\n",
       "    <tr>\n",
       "      <th>3599</th>\n",
       "      <td>0.424</td>\n",
       "      <td>0.734</td>\n",
       "      <td>0.156</td>\n",
       "      <td>0.530</td>\n",
       "      <td>0.892</td>\n",
       "      <td>0.340</td>\n",
       "      <td>0.664</td>\n",
       "      <td>0.040</td>\n",
       "      <td>0.472</td>\n",
       "      <td>0.776</td>\n",
       "      <td>...</td>\n",
       "      <td>0.672</td>\n",
       "      <td>0.0</td>\n",
       "      <td>0.00</td>\n",
       "      <td>0.25</td>\n",
       "      <td>0.208</td>\n",
       "      <td>0.632</td>\n",
       "      <td>0.978</td>\n",
       "      <td>0.00</td>\n",
       "      <td>0.00</td>\n",
       "      <td>0.0</td>\n",
       "    </tr>\n",
       "    <tr>\n",
       "      <th>3600</th>\n",
       "      <td>0.406</td>\n",
       "      <td>0.756</td>\n",
       "      <td>0.168</td>\n",
       "      <td>0.520</td>\n",
       "      <td>0.876</td>\n",
       "      <td>0.290</td>\n",
       "      <td>0.690</td>\n",
       "      <td>0.076</td>\n",
       "      <td>0.448</td>\n",
       "      <td>0.780</td>\n",
       "      <td>...</td>\n",
       "      <td>0.772</td>\n",
       "      <td>0.0</td>\n",
       "      <td>1.00</td>\n",
       "      <td>1.00</td>\n",
       "      <td>0.234</td>\n",
       "      <td>0.664</td>\n",
       "      <td>0.992</td>\n",
       "      <td>0.00</td>\n",
       "      <td>1.00</td>\n",
       "      <td>0.0</td>\n",
       "    </tr>\n",
       "  </tbody>\n",
       "</table>\n",
       "<p>3601 rows × 9996 columns</p>\n",
       "</div>"
      ],
      "text/plain": [
       "       0      1      2      3      4      5      6      7      8      9     \\\n",
       "0     0.364  0.744  0.138  0.518  0.912  0.296  0.674  0.052  0.412  0.816   \n",
       "1     0.388  0.754  0.120  0.532  0.910  0.298  0.672  0.062  0.444  0.814   \n",
       "2     0.376  0.818  0.094  0.530  0.916  0.242  0.726  0.046  0.448  0.854   \n",
       "3     0.400  0.774  0.132  0.524  0.894  0.298  0.676  0.056  0.454  0.818   \n",
       "4     0.378  0.756  0.152  0.498  0.866  0.296  0.674  0.088  0.426  0.802   \n",
       "...     ...    ...    ...    ...    ...    ...    ...    ...    ...    ...   \n",
       "3596  0.340  0.794  0.100  0.544  0.918  0.244  0.738  0.052  0.416  0.832   \n",
       "3597  0.354  0.764  0.158  0.516  0.894  0.284  0.696  0.088  0.402  0.806   \n",
       "3598  0.384  0.740  0.180  0.498  0.878  0.300  0.646  0.114  0.428  0.792   \n",
       "3599  0.424  0.734  0.156  0.530  0.892  0.340  0.664  0.040  0.472  0.776   \n",
       "3600  0.406  0.756  0.168  0.520  0.876  0.290  0.690  0.076  0.448  0.780   \n",
       "\n",
       "      ...   9986  9987  9988  9989   9990   9991   9992  9993  9994  9995  \n",
       "0     ...  0.714   0.0  0.00  0.25  0.204  0.666  0.972  0.50  1.00   0.0  \n",
       "1     ...  0.700   0.0  0.00  1.00  0.234  0.622  0.994  1.00  1.00   0.0  \n",
       "2     ...  0.752   0.0  0.00  1.00  0.166  0.660  1.000  0.00  0.50   0.0  \n",
       "3     ...  0.750   0.0  0.25  1.00  0.232  0.612  0.968  0.25  1.00   0.0  \n",
       "4     ...  0.698   0.0  0.75  1.00  0.186  0.654  0.984  0.25  1.00   0.0  \n",
       "...   ...    ...   ...   ...   ...    ...    ...    ...   ...   ...   ...  \n",
       "3596  ...  0.730   0.0  0.00  0.00  0.240  0.622  0.958  0.00  0.00   0.0  \n",
       "3597  ...  0.740   0.0  0.00  1.00  0.188  0.592  1.000  0.00  0.25   0.0  \n",
       "3598  ...  0.714   0.0  0.00  0.25  0.212  0.638  0.986  0.00  0.00   0.0  \n",
       "3599  ...  0.672   0.0  0.00  0.25  0.208  0.632  0.978  0.00  0.00   0.0  \n",
       "3600  ...  0.772   0.0  1.00  1.00  0.234  0.664  0.992  0.00  1.00   0.0  \n",
       "\n",
       "[3601 rows x 9996 columns]"
      ]
     },
     "execution_count": 51,
     "metadata": {},
     "output_type": "execute_result"
    }
   ],
   "source": [
    "X_train_transform"
   ]
  },
  {
   "cell_type": "markdown",
   "id": "e4e25365",
   "metadata": {},
   "source": [
    "## DuckDuckGeese Dataset"
   ]
  },
  {
   "cell_type": "code",
   "execution_count": 130,
   "id": "d98ceb14",
   "metadata": {},
   "outputs": [
    {
     "data": {
      "text/html": [
       "<div>\n",
       "<style scoped>\n",
       "    .dataframe tbody tr th:only-of-type {\n",
       "        vertical-align: middle;\n",
       "    }\n",
       "\n",
       "    .dataframe tbody tr th {\n",
       "        vertical-align: top;\n",
       "    }\n",
       "\n",
       "    .dataframe thead th {\n",
       "        text-align: right;\n",
       "    }\n",
       "</style>\n",
       "<table border=\"1\" class=\"dataframe\">\n",
       "  <thead>\n",
       "    <tr style=\"text-align: right;\">\n",
       "      <th></th>\n",
       "      <th>dim_0</th>\n",
       "      <th>dim_1</th>\n",
       "      <th>dim_2</th>\n",
       "      <th>dim_3</th>\n",
       "      <th>dim_4</th>\n",
       "      <th>dim_5</th>\n",
       "      <th>dim_6</th>\n",
       "      <th>dim_7</th>\n",
       "      <th>dim_8</th>\n",
       "      <th>dim_9</th>\n",
       "      <th>...</th>\n",
       "      <th>dim_1335</th>\n",
       "      <th>dim_1336</th>\n",
       "      <th>dim_1337</th>\n",
       "      <th>dim_1338</th>\n",
       "      <th>dim_1339</th>\n",
       "      <th>dim_1340</th>\n",
       "      <th>dim_1341</th>\n",
       "      <th>dim_1342</th>\n",
       "      <th>dim_1343</th>\n",
       "      <th>dim_1344</th>\n",
       "    </tr>\n",
       "  </thead>\n",
       "  <tbody>\n",
       "    <tr>\n",
       "      <th>0</th>\n",
       "      <td>0      0.002521\n",
       "1      0.000277\n",
       "2      0.00285...</td>\n",
       "      <td>0      0.002454\n",
       "1      0.000307\n",
       "2      0.00260...</td>\n",
       "      <td>0      0.002432\n",
       "1      0.000495\n",
       "2      0.00311...</td>\n",
       "      <td>0      0.002354\n",
       "1      0.000382\n",
       "2      0.00255...</td>\n",
       "      <td>0      0.002492\n",
       "1      0.000322\n",
       "2      0.00285...</td>\n",
       "      <td>0      0.002612\n",
       "1      0.000446\n",
       "2      0.00283...</td>\n",
       "      <td>0      0.002352\n",
       "1      0.000219\n",
       "2      0.00251...</td>\n",
       "      <td>0      0.002613\n",
       "1      0.000524\n",
       "2      0.00301...</td>\n",
       "      <td>0      0.002020\n",
       "1      0.000574\n",
       "2      0.00293...</td>\n",
       "      <td>0      0.002725\n",
       "1      0.000393\n",
       "2      0.00251...</td>\n",
       "      <td>...</td>\n",
       "      <td>0      1.04540\n",
       "1      0.31535\n",
       "2      0.21581\n",
       "3...</td>\n",
       "      <td>0      1.55870\n",
       "1      0.70458\n",
       "2      0.28944\n",
       "3...</td>\n",
       "      <td>0      1.13950\n",
       "1      0.73141\n",
       "2      0.10059\n",
       "3...</td>\n",
       "      <td>0      0.072909\n",
       "1      0.724850\n",
       "2      0.26561...</td>\n",
       "      <td>0      0.33849\n",
       "1      0.89081\n",
       "2      1.14800\n",
       "3...</td>\n",
       "      <td>0      1.55380\n",
       "1      1.75910\n",
       "2      1.65120\n",
       "3...</td>\n",
       "      <td>0      3.16440\n",
       "1      2.83790\n",
       "2      0.93226\n",
       "3...</td>\n",
       "      <td>0      4.21110\n",
       "1      6.64530\n",
       "2      3.34940\n",
       "3...</td>\n",
       "      <td>0       7.4078\n",
       "1      11.3190\n",
       "2       1.6533\n",
       "3...</td>\n",
       "      <td>0      14.62600\n",
       "1      14.25500\n",
       "2       6.4533...</td>\n",
       "    </tr>\n",
       "    <tr>\n",
       "      <th>1</th>\n",
       "      <td>0      0.000462\n",
       "1      0.001039\n",
       "2      0.00100...</td>\n",
       "      <td>0      0.000966\n",
       "1      0.000893\n",
       "2      0.00058...</td>\n",
       "      <td>0      0.000861\n",
       "1      0.001251\n",
       "2      0.00105...</td>\n",
       "      <td>0      0.000660\n",
       "1      0.001017\n",
       "2      0.00077...</td>\n",
       "      <td>0      0.000872\n",
       "1      0.000999\n",
       "2      0.00095...</td>\n",
       "      <td>0      0.000836\n",
       "1      0.000972\n",
       "2      0.00084...</td>\n",
       "      <td>0      0.000554\n",
       "1      0.001006\n",
       "2      0.00088...</td>\n",
       "      <td>0      0.000852\n",
       "1      0.001041\n",
       "2      0.00085...</td>\n",
       "      <td>0      0.000713\n",
       "1      0.001046\n",
       "2      0.00075...</td>\n",
       "      <td>0      0.000814\n",
       "1      0.001138\n",
       "2      0.00098...</td>\n",
       "      <td>...</td>\n",
       "      <td>0      0.003522\n",
       "1      0.001036\n",
       "2      0.00117...</td>\n",
       "      <td>0      0.003070\n",
       "1      0.000806\n",
       "2      0.00373...</td>\n",
       "      <td>0      0.002715\n",
       "1      0.001190\n",
       "2      0.00199...</td>\n",
       "      <td>0      0.002167\n",
       "1      0.001196\n",
       "2      0.00212...</td>\n",
       "      <td>0      0.003005\n",
       "1      0.001344\n",
       "2      0.00198...</td>\n",
       "      <td>0      0.003070\n",
       "1      0.001275\n",
       "2      0.00212...</td>\n",
       "      <td>0      0.004577\n",
       "1      0.001126\n",
       "2      0.00215...</td>\n",
       "      <td>0      0.003602\n",
       "1      0.000861\n",
       "2      0.00225...</td>\n",
       "      <td>0      0.012004\n",
       "1      0.008038\n",
       "2      0.00758...</td>\n",
       "      <td>0      0.021280\n",
       "1      0.023337\n",
       "2      0.02457...</td>\n",
       "    </tr>\n",
       "    <tr>\n",
       "      <th>2</th>\n",
       "      <td>0      0.003184\n",
       "1      0.003277\n",
       "2      0.00156...</td>\n",
       "      <td>0      0.002838\n",
       "1      0.002895\n",
       "2      0.00181...</td>\n",
       "      <td>0      0.003556\n",
       "1      0.003088\n",
       "2      0.00205...</td>\n",
       "      <td>0      0.003057\n",
       "1      0.003184\n",
       "2      0.00176...</td>\n",
       "      <td>0      0.003288\n",
       "1      0.003002\n",
       "2      0.00198...</td>\n",
       "      <td>0      0.003071\n",
       "1      0.003108\n",
       "2      0.00168...</td>\n",
       "      <td>0      0.003274\n",
       "1      0.003125\n",
       "2      0.00174...</td>\n",
       "      <td>0      0.003131\n",
       "1      0.002951\n",
       "2      0.00204...</td>\n",
       "      <td>0      0.003312\n",
       "1      0.003060\n",
       "2      0.00176...</td>\n",
       "      <td>0      0.003115\n",
       "1      0.003080\n",
       "2      0.00179...</td>\n",
       "      <td>...</td>\n",
       "      <td>0      0.59723\n",
       "1      0.32982\n",
       "2      0.45380\n",
       "3...</td>\n",
       "      <td>0      0.31631\n",
       "1      0.65371\n",
       "2      0.61650\n",
       "3...</td>\n",
       "      <td>0      1.46850\n",
       "1      0.63233\n",
       "2      0.68847\n",
       "3...</td>\n",
       "      <td>0      0.94231\n",
       "1      0.99218\n",
       "2      1.50020\n",
       "3...</td>\n",
       "      <td>0      0.70434\n",
       "1      1.57300\n",
       "2      2.53500\n",
       "3...</td>\n",
       "      <td>0      2.16570\n",
       "1      2.48120\n",
       "2      0.59361\n",
       "3...</td>\n",
       "      <td>0      0.89482\n",
       "1      3.02350\n",
       "2      2.91730\n",
       "3...</td>\n",
       "      <td>0      1.9756\n",
       "1      2.9339\n",
       "2      4.0420\n",
       "3   ...</td>\n",
       "      <td>0      5.81120\n",
       "1      3.34940\n",
       "2      3.29950\n",
       "3...</td>\n",
       "      <td>0      4.67260\n",
       "1      2.58500\n",
       "2      7.31020\n",
       "3...</td>\n",
       "    </tr>\n",
       "    <tr>\n",
       "      <th>3</th>\n",
       "      <td>0      0.007514\n",
       "1      0.001063\n",
       "2      0.00214...</td>\n",
       "      <td>0      0.007364\n",
       "1      0.000793\n",
       "2      0.00238...</td>\n",
       "      <td>0      0.006705\n",
       "1      0.000968\n",
       "2      0.00240...</td>\n",
       "      <td>0      0.007279\n",
       "1      0.000742\n",
       "2      0.00259...</td>\n",
       "      <td>0      0.007045\n",
       "1      0.001047\n",
       "2      0.00196...</td>\n",
       "      <td>0      0.006999\n",
       "1      0.001063\n",
       "2      0.00273...</td>\n",
       "      <td>0      0.007004\n",
       "1      0.000600\n",
       "2      0.00203...</td>\n",
       "      <td>0      0.007399\n",
       "1      0.000926\n",
       "2      0.00249...</td>\n",
       "      <td>0      0.006983\n",
       "1      0.000864\n",
       "2      0.00222...</td>\n",
       "      <td>0      0.007212\n",
       "1      0.000965\n",
       "2      0.00233...</td>\n",
       "      <td>...</td>\n",
       "      <td>0      0.32407\n",
       "1      1.24210\n",
       "2      2.24020\n",
       "3...</td>\n",
       "      <td>0       3.22330\n",
       "1       3.81800\n",
       "2       1.8297...</td>\n",
       "      <td>0      3.4687\n",
       "1      3.3047\n",
       "2      5.0506\n",
       "3   ...</td>\n",
       "      <td>0      2.4288\n",
       "1      2.3310\n",
       "2      3.6119\n",
       "3   ...</td>\n",
       "      <td>0      3.5828\n",
       "1      7.7250\n",
       "2      3.4564\n",
       "3   ...</td>\n",
       "      <td>0       5.5693\n",
       "1       9.0899\n",
       "2       9.7752\n",
       "3...</td>\n",
       "      <td>0      6.7191\n",
       "1      1.8833\n",
       "2      8.4854\n",
       "3   ...</td>\n",
       "      <td>0       7.66550\n",
       "1       6.50790\n",
       "2       0.5668...</td>\n",
       "      <td>0       4.9222\n",
       "1       5.1791\n",
       "2       1.8471\n",
       "3...</td>\n",
       "      <td>0       4.9479\n",
       "1       1.4597\n",
       "2       1.9562\n",
       "3...</td>\n",
       "    </tr>\n",
       "    <tr>\n",
       "      <th>4</th>\n",
       "      <td>0      0.012562\n",
       "1      0.003865\n",
       "2      0.02231...</td>\n",
       "      <td>0      0.012730\n",
       "1      0.003744\n",
       "2      0.02186...</td>\n",
       "      <td>0      0.012808\n",
       "1      0.003675\n",
       "2      0.02217...</td>\n",
       "      <td>0      0.012614\n",
       "1      0.003729\n",
       "2      0.02210...</td>\n",
       "      <td>0      0.013019\n",
       "1      0.003988\n",
       "2      0.02229...</td>\n",
       "      <td>0      0.012501\n",
       "1      0.003504\n",
       "2      0.02230...</td>\n",
       "      <td>0      0.012913\n",
       "1      0.004020\n",
       "2      0.02164...</td>\n",
       "      <td>0      0.012673\n",
       "1      0.003696\n",
       "2      0.02249...</td>\n",
       "      <td>0      0.012785\n",
       "1      0.003675\n",
       "2      0.02186...</td>\n",
       "      <td>0      0.012690\n",
       "1      0.003639\n",
       "2      0.02240...</td>\n",
       "      <td>...</td>\n",
       "      <td>0      0.024468\n",
       "1      0.005338\n",
       "2      0.07729...</td>\n",
       "      <td>0      0.023412\n",
       "1      0.010576\n",
       "2      0.07574...</td>\n",
       "      <td>0      0.023310\n",
       "1      0.004241\n",
       "2      0.07888...</td>\n",
       "      <td>0      0.020773\n",
       "1      0.005716\n",
       "2      0.07998...</td>\n",
       "      <td>0      0.024109\n",
       "1      0.002918\n",
       "2      0.07670...</td>\n",
       "      <td>0      0.023192\n",
       "1      0.002612\n",
       "2      0.07713...</td>\n",
       "      <td>0      0.022846\n",
       "1      0.002613\n",
       "2      0.07703...</td>\n",
       "      <td>0      0.023165\n",
       "1      0.002152\n",
       "2      0.07761...</td>\n",
       "      <td>0      0.032393\n",
       "1      0.011811\n",
       "2      0.08657...</td>\n",
       "      <td>0      0.000588\n",
       "1      0.019481\n",
       "2      0.05494...</td>\n",
       "    </tr>\n",
       "  </tbody>\n",
       "</table>\n",
       "<p>5 rows × 1345 columns</p>\n",
       "</div>"
      ],
      "text/plain": [
       "                                               dim_0  \\\n",
       "0  0      0.002521\n",
       "1      0.000277\n",
       "2      0.00285...   \n",
       "1  0      0.000462\n",
       "1      0.001039\n",
       "2      0.00100...   \n",
       "2  0      0.003184\n",
       "1      0.003277\n",
       "2      0.00156...   \n",
       "3  0      0.007514\n",
       "1      0.001063\n",
       "2      0.00214...   \n",
       "4  0      0.012562\n",
       "1      0.003865\n",
       "2      0.02231...   \n",
       "\n",
       "                                               dim_1  \\\n",
       "0  0      0.002454\n",
       "1      0.000307\n",
       "2      0.00260...   \n",
       "1  0      0.000966\n",
       "1      0.000893\n",
       "2      0.00058...   \n",
       "2  0      0.002838\n",
       "1      0.002895\n",
       "2      0.00181...   \n",
       "3  0      0.007364\n",
       "1      0.000793\n",
       "2      0.00238...   \n",
       "4  0      0.012730\n",
       "1      0.003744\n",
       "2      0.02186...   \n",
       "\n",
       "                                               dim_2  \\\n",
       "0  0      0.002432\n",
       "1      0.000495\n",
       "2      0.00311...   \n",
       "1  0      0.000861\n",
       "1      0.001251\n",
       "2      0.00105...   \n",
       "2  0      0.003556\n",
       "1      0.003088\n",
       "2      0.00205...   \n",
       "3  0      0.006705\n",
       "1      0.000968\n",
       "2      0.00240...   \n",
       "4  0      0.012808\n",
       "1      0.003675\n",
       "2      0.02217...   \n",
       "\n",
       "                                               dim_3  \\\n",
       "0  0      0.002354\n",
       "1      0.000382\n",
       "2      0.00255...   \n",
       "1  0      0.000660\n",
       "1      0.001017\n",
       "2      0.00077...   \n",
       "2  0      0.003057\n",
       "1      0.003184\n",
       "2      0.00176...   \n",
       "3  0      0.007279\n",
       "1      0.000742\n",
       "2      0.00259...   \n",
       "4  0      0.012614\n",
       "1      0.003729\n",
       "2      0.02210...   \n",
       "\n",
       "                                               dim_4  \\\n",
       "0  0      0.002492\n",
       "1      0.000322\n",
       "2      0.00285...   \n",
       "1  0      0.000872\n",
       "1      0.000999\n",
       "2      0.00095...   \n",
       "2  0      0.003288\n",
       "1      0.003002\n",
       "2      0.00198...   \n",
       "3  0      0.007045\n",
       "1      0.001047\n",
       "2      0.00196...   \n",
       "4  0      0.013019\n",
       "1      0.003988\n",
       "2      0.02229...   \n",
       "\n",
       "                                               dim_5  \\\n",
       "0  0      0.002612\n",
       "1      0.000446\n",
       "2      0.00283...   \n",
       "1  0      0.000836\n",
       "1      0.000972\n",
       "2      0.00084...   \n",
       "2  0      0.003071\n",
       "1      0.003108\n",
       "2      0.00168...   \n",
       "3  0      0.006999\n",
       "1      0.001063\n",
       "2      0.00273...   \n",
       "4  0      0.012501\n",
       "1      0.003504\n",
       "2      0.02230...   \n",
       "\n",
       "                                               dim_6  \\\n",
       "0  0      0.002352\n",
       "1      0.000219\n",
       "2      0.00251...   \n",
       "1  0      0.000554\n",
       "1      0.001006\n",
       "2      0.00088...   \n",
       "2  0      0.003274\n",
       "1      0.003125\n",
       "2      0.00174...   \n",
       "3  0      0.007004\n",
       "1      0.000600\n",
       "2      0.00203...   \n",
       "4  0      0.012913\n",
       "1      0.004020\n",
       "2      0.02164...   \n",
       "\n",
       "                                               dim_7  \\\n",
       "0  0      0.002613\n",
       "1      0.000524\n",
       "2      0.00301...   \n",
       "1  0      0.000852\n",
       "1      0.001041\n",
       "2      0.00085...   \n",
       "2  0      0.003131\n",
       "1      0.002951\n",
       "2      0.00204...   \n",
       "3  0      0.007399\n",
       "1      0.000926\n",
       "2      0.00249...   \n",
       "4  0      0.012673\n",
       "1      0.003696\n",
       "2      0.02249...   \n",
       "\n",
       "                                               dim_8  \\\n",
       "0  0      0.002020\n",
       "1      0.000574\n",
       "2      0.00293...   \n",
       "1  0      0.000713\n",
       "1      0.001046\n",
       "2      0.00075...   \n",
       "2  0      0.003312\n",
       "1      0.003060\n",
       "2      0.00176...   \n",
       "3  0      0.006983\n",
       "1      0.000864\n",
       "2      0.00222...   \n",
       "4  0      0.012785\n",
       "1      0.003675\n",
       "2      0.02186...   \n",
       "\n",
       "                                               dim_9  ...  \\\n",
       "0  0      0.002725\n",
       "1      0.000393\n",
       "2      0.00251...  ...   \n",
       "1  0      0.000814\n",
       "1      0.001138\n",
       "2      0.00098...  ...   \n",
       "2  0      0.003115\n",
       "1      0.003080\n",
       "2      0.00179...  ...   \n",
       "3  0      0.007212\n",
       "1      0.000965\n",
       "2      0.00233...  ...   \n",
       "4  0      0.012690\n",
       "1      0.003639\n",
       "2      0.02240...  ...   \n",
       "\n",
       "                                            dim_1335  \\\n",
       "0  0      1.04540\n",
       "1      0.31535\n",
       "2      0.21581\n",
       "3...   \n",
       "1  0      0.003522\n",
       "1      0.001036\n",
       "2      0.00117...   \n",
       "2  0      0.59723\n",
       "1      0.32982\n",
       "2      0.45380\n",
       "3...   \n",
       "3  0      0.32407\n",
       "1      1.24210\n",
       "2      2.24020\n",
       "3...   \n",
       "4  0      0.024468\n",
       "1      0.005338\n",
       "2      0.07729...   \n",
       "\n",
       "                                            dim_1336  \\\n",
       "0  0      1.55870\n",
       "1      0.70458\n",
       "2      0.28944\n",
       "3...   \n",
       "1  0      0.003070\n",
       "1      0.000806\n",
       "2      0.00373...   \n",
       "2  0      0.31631\n",
       "1      0.65371\n",
       "2      0.61650\n",
       "3...   \n",
       "3  0       3.22330\n",
       "1       3.81800\n",
       "2       1.8297...   \n",
       "4  0      0.023412\n",
       "1      0.010576\n",
       "2      0.07574...   \n",
       "\n",
       "                                            dim_1337  \\\n",
       "0  0      1.13950\n",
       "1      0.73141\n",
       "2      0.10059\n",
       "3...   \n",
       "1  0      0.002715\n",
       "1      0.001190\n",
       "2      0.00199...   \n",
       "2  0      1.46850\n",
       "1      0.63233\n",
       "2      0.68847\n",
       "3...   \n",
       "3  0      3.4687\n",
       "1      3.3047\n",
       "2      5.0506\n",
       "3   ...   \n",
       "4  0      0.023310\n",
       "1      0.004241\n",
       "2      0.07888...   \n",
       "\n",
       "                                            dim_1338  \\\n",
       "0  0      0.072909\n",
       "1      0.724850\n",
       "2      0.26561...   \n",
       "1  0      0.002167\n",
       "1      0.001196\n",
       "2      0.00212...   \n",
       "2  0      0.94231\n",
       "1      0.99218\n",
       "2      1.50020\n",
       "3...   \n",
       "3  0      2.4288\n",
       "1      2.3310\n",
       "2      3.6119\n",
       "3   ...   \n",
       "4  0      0.020773\n",
       "1      0.005716\n",
       "2      0.07998...   \n",
       "\n",
       "                                            dim_1339  \\\n",
       "0  0      0.33849\n",
       "1      0.89081\n",
       "2      1.14800\n",
       "3...   \n",
       "1  0      0.003005\n",
       "1      0.001344\n",
       "2      0.00198...   \n",
       "2  0      0.70434\n",
       "1      1.57300\n",
       "2      2.53500\n",
       "3...   \n",
       "3  0      3.5828\n",
       "1      7.7250\n",
       "2      3.4564\n",
       "3   ...   \n",
       "4  0      0.024109\n",
       "1      0.002918\n",
       "2      0.07670...   \n",
       "\n",
       "                                            dim_1340  \\\n",
       "0  0      1.55380\n",
       "1      1.75910\n",
       "2      1.65120\n",
       "3...   \n",
       "1  0      0.003070\n",
       "1      0.001275\n",
       "2      0.00212...   \n",
       "2  0      2.16570\n",
       "1      2.48120\n",
       "2      0.59361\n",
       "3...   \n",
       "3  0       5.5693\n",
       "1       9.0899\n",
       "2       9.7752\n",
       "3...   \n",
       "4  0      0.023192\n",
       "1      0.002612\n",
       "2      0.07713...   \n",
       "\n",
       "                                            dim_1341  \\\n",
       "0  0      3.16440\n",
       "1      2.83790\n",
       "2      0.93226\n",
       "3...   \n",
       "1  0      0.004577\n",
       "1      0.001126\n",
       "2      0.00215...   \n",
       "2  0      0.89482\n",
       "1      3.02350\n",
       "2      2.91730\n",
       "3...   \n",
       "3  0      6.7191\n",
       "1      1.8833\n",
       "2      8.4854\n",
       "3   ...   \n",
       "4  0      0.022846\n",
       "1      0.002613\n",
       "2      0.07703...   \n",
       "\n",
       "                                            dim_1342  \\\n",
       "0  0      4.21110\n",
       "1      6.64530\n",
       "2      3.34940\n",
       "3...   \n",
       "1  0      0.003602\n",
       "1      0.000861\n",
       "2      0.00225...   \n",
       "2  0      1.9756\n",
       "1      2.9339\n",
       "2      4.0420\n",
       "3   ...   \n",
       "3  0       7.66550\n",
       "1       6.50790\n",
       "2       0.5668...   \n",
       "4  0      0.023165\n",
       "1      0.002152\n",
       "2      0.07761...   \n",
       "\n",
       "                                            dim_1343  \\\n",
       "0  0       7.4078\n",
       "1      11.3190\n",
       "2       1.6533\n",
       "3...   \n",
       "1  0      0.012004\n",
       "1      0.008038\n",
       "2      0.00758...   \n",
       "2  0      5.81120\n",
       "1      3.34940\n",
       "2      3.29950\n",
       "3...   \n",
       "3  0       4.9222\n",
       "1       5.1791\n",
       "2       1.8471\n",
       "3...   \n",
       "4  0      0.032393\n",
       "1      0.011811\n",
       "2      0.08657...   \n",
       "\n",
       "                                            dim_1344  \n",
       "0  0      14.62600\n",
       "1      14.25500\n",
       "2       6.4533...  \n",
       "1  0      0.021280\n",
       "1      0.023337\n",
       "2      0.02457...  \n",
       "2  0      4.67260\n",
       "1      2.58500\n",
       "2      7.31020\n",
       "3...  \n",
       "3  0       4.9479\n",
       "1       1.4597\n",
       "2       1.9562\n",
       "3...  \n",
       "4  0      0.000588\n",
       "1      0.019481\n",
       "2      0.05494...  \n",
       "\n",
       "[5 rows x 1345 columns]"
      ]
     },
     "metadata": {},
     "output_type": "display_data"
    },
    {
     "data": {
      "text/plain": [
       "array(['Black-bellied_Whistling_Duck', 'Black-bellied_Whistling_Duck',\n",
       "       'Black-bellied_Whistling_Duck', 'Black-bellied_Whistling_Duck',\n",
       "       'Black-bellied_Whistling_Duck'], dtype='<U28')"
      ]
     },
     "metadata": {},
     "output_type": "display_data"
    },
    {
     "name": "stdout",
     "output_type": "stream",
     "text": [
      "CPU times: user 3min 46s, sys: 6.6 s, total: 3min 53s\n",
      "Wall time: 4min 9s\n"
     ]
    }
   ],
   "source": [
    "%%time\n",
    "\n",
    "X_train, y_train =  load_from_tsfile(\"/mnt/f/Documents/DuckDuckGeese_TRAIN.ts\")\n",
    "# y_train = np.where(y_train == \"1\" , 1, 0)\n",
    "\n",
    "X_test, y_test =  load_from_tsfile(\"/mnt/f/Documents/DuckDuckGeese_TEST.ts\")\n",
    "# y_test = np.where(y_test == \"1\" , 1, 0)\n",
    "\n",
    "display(X_train.head())\n",
    "display(y_train[:5])"
   ]
  },
  {
   "cell_type": "code",
   "execution_count": 131,
   "id": "049516ac",
   "metadata": {},
   "outputs": [
    {
     "data": {
      "text/plain": [
       "array(['Black-bellied_Whistling_Duck', 'Canadian_Goose', 'Greylag_Goose',\n",
       "       'Pink-footed_Goose', 'White-faced_Whistling_Duck'], dtype='<U28')"
      ]
     },
     "execution_count": 131,
     "metadata": {},
     "output_type": "execute_result"
    }
   ],
   "source": [
    "np.unique(y_train)"
   ]
  },
  {
   "cell_type": "code",
   "execution_count": 132,
   "id": "d6379b7c",
   "metadata": {},
   "outputs": [
    {
     "name": "stdout",
     "output_type": "stream",
     "text": [
      "X_train.shape (num_sample, num_features, num_timesteps): (50, 1345, 270)\n",
      "X_test.shape (num_samples, num_features, num_timesteps): (50, 1345, 270)\n",
      "\n",
      "y_train.shape (num_sample,): (50,)\n",
      "y_test.shape (num_sample,): (50,)\n"
     ]
    }
   ],
   "source": [
    "print(\"X_train.shape (num_sample, num_features, num_timesteps):\", X_train.shape + X_train.iloc[0,0].shape)\n",
    "print(\"X_test.shape (num_samples, num_features, num_timesteps):\", X_test.shape + X_test.iloc[0,0].shape)\n",
    "print(\"\")\n",
    "print(\"y_train.shape (num_sample,):\", y_train.shape)\n",
    "print(\"y_test.shape (num_sample,):\", y_test.shape)"
   ]
  },
  {
   "cell_type": "code",
   "execution_count": 67,
   "id": "561e6eb5",
   "metadata": {},
   "outputs": [
    {
     "name": "stdout",
     "output_type": "stream",
     "text": [
      "CPU times: user 3min 21s, sys: 5.57 ms, total: 3min 21s\n",
      "Wall time: 3min 21s\n"
     ]
    }
   ],
   "source": [
    "%%time\n",
    "\n",
    "minirocket_multi = MiniRocketMultivariate()\n",
    "minirocket_multi.fit(X_train)\n",
    "\n",
    "X_train_transform = minirocket_multi.transform(X_train)"
   ]
  },
  {
   "cell_type": "code",
   "execution_count": 68,
   "id": "08bd6df5",
   "metadata": {},
   "outputs": [
    {
     "name": "stdout",
     "output_type": "stream",
     "text": [
      "CPU times: user 166 ms, sys: 168 ms, total: 334 ms\n",
      "Wall time: 78.3 ms\n"
     ]
    },
    {
     "data": {
      "text/plain": [
       "RidgeClassifierCV(alphas=array([1.00000000e-03, 4.64158883e-03, 2.15443469e-02, 1.00000000e-01,\n",
       "       4.64158883e-01, 2.15443469e+00, 1.00000000e+01, 4.64158883e+01,\n",
       "       2.15443469e+02, 1.00000000e+03]),\n",
       "                  normalize=True)"
      ]
     },
     "execution_count": 68,
     "metadata": {},
     "output_type": "execute_result"
    }
   ],
   "source": [
    "%%time \n",
    "\n",
    "ridge = RidgeClassifierCV(alphas=np.logspace(-3, 3, 10), normalize=True)\n",
    "ridge.fit(X_train_transform, y_train)"
   ]
  },
  {
   "cell_type": "code",
   "execution_count": 69,
   "id": "3775ec8b",
   "metadata": {},
   "outputs": [
    {
     "name": "stdout",
     "output_type": "stream",
     "text": [
      "Classification Report for the RidgeClassifierCV model \n",
      "\n",
      "                              precision    recall  f1-score   support\n",
      "\n",
      "Black-bellied_Whistling_Duck       0.64      0.90      0.75        10\n",
      "              Canadian_Goose       0.64      0.70      0.67        10\n",
      "               Greylag_Goose       0.70      0.70      0.70        10\n",
      "           Pink-footed_Goose       0.89      0.80      0.84        10\n",
      "  White-faced_Whistling_Duck       1.00      0.60      0.75        10\n",
      "\n",
      "                    accuracy                           0.74        50\n",
      "                   macro avg       0.77      0.74      0.74        50\n",
      "                weighted avg       0.77      0.74      0.74        50\n",
      "\n",
      "CPU times: user 1min 47s, sys: 489 ms, total: 1min 47s\n",
      "Wall time: 1min 46s\n"
     ]
    }
   ],
   "source": [
    "%%time\n",
    "\n",
    "X_test_transform = minirocket_multi.transform(X_test)\n",
    "y_pred = ridge.predict(X_test_transform)\n",
    "\n",
    "print(\"Classification Report for the RidgeClassifierCV model \\n\")\n",
    "print(classification_report(y_test, y_pred))"
   ]
  },
  {
   "cell_type": "markdown",
   "id": "e0fe7321",
   "metadata": {},
   "source": [
    "##### Arsenal ensemble"
   ]
  },
  {
   "cell_type": "code",
   "execution_count": null,
   "id": "80b0f0e3",
   "metadata": {},
   "outputs": [],
   "source": [
    "%%time\n",
    "\n",
    "# started at 22:08 24.06.2022\n",
    "arsenal = Arsenal(rocket_transform=\"minirocket\", \n",
    "                  random_state=42,\n",
    "                  n_jobs=4)\n",
    "\n",
    "arsenal.fit(X_train, y_train)"
   ]
  },
  {
   "cell_type": "markdown",
   "id": "aa40f12f",
   "metadata": {},
   "source": [
    "## DucksAndGeese Dataset"
   ]
  },
  {
   "cell_type": "code",
   "execution_count": 142,
   "id": "9b477170",
   "metadata": {},
   "outputs": [
    {
     "name": "stdout",
     "output_type": "stream",
     "text": [
      "CPU times: user 40.9 s, sys: 4.35 s, total: 45.3 s\n",
      "Wall time: 1min 12s\n"
     ]
    }
   ],
   "source": [
    "%%time \n",
    "\n",
    "X_train, y_train = load_from_arff_to_dataframe(\"/mnt/f/Documents/DucksAndGeese_TRAIN.arff\")\n",
    "X_test, y_test = load_from_arff_to_dataframe(\"/mnt/f/Documents/DucksAndGeese_TEST.arff\")"
   ]
  },
  {
   "cell_type": "code",
   "execution_count": 77,
   "id": "5c74fc03",
   "metadata": {},
   "outputs": [
    {
     "name": "stdout",
     "output_type": "stream",
     "text": [
      "X_train.shape (num_sample, num_features, num_timesteps): (50, 1, 236784)\n",
      "X_test.shape (num_samples, num_features, num_timesteps): (50, 1, 236784)\n",
      "\n",
      "y_train.shape (num_sample,): (50,)\n",
      "y_test.shape (num_sample,): (50,)\n"
     ]
    }
   ],
   "source": [
    "print(\"X_train.shape (num_sample, num_features, num_timesteps):\", X_train.shape + X_train.iloc[0,0].shape)\n",
    "print(\"X_test.shape (num_samples, num_features, num_timesteps):\", X_test.shape + X_test.iloc[0,0].shape)\n",
    "print(\"\")\n",
    "print(\"y_train.shape (num_sample,):\", y_train.shape)\n",
    "print(\"y_test.shape (num_sample,):\", y_test.shape)"
   ]
  },
  {
   "cell_type": "code",
   "execution_count": 78,
   "id": "711b8a35",
   "metadata": {},
   "outputs": [
    {
     "name": "stdout",
     "output_type": "stream",
     "text": [
      "CPU times: user 1min 23s, sys: 53.4 ms, total: 1min 24s\n",
      "Wall time: 1min 23s\n"
     ]
    },
    {
     "data": {
      "text/plain": [
       "MiniRocket()"
      ]
     },
     "execution_count": 78,
     "metadata": {},
     "output_type": "execute_result"
    }
   ],
   "source": [
    "%%time\n",
    "\n",
    "minirocket = MiniRocket()\n",
    "minirocket.fit(X_train)"
   ]
  },
  {
   "cell_type": "code",
   "execution_count": 79,
   "id": "bddb0b69",
   "metadata": {},
   "outputs": [
    {
     "name": "stdout",
     "output_type": "stream",
     "text": [
      "CPU times: user 2min 54s, sys: 0 ns, total: 2min 54s\n",
      "Wall time: 2min 54s\n"
     ]
    }
   ],
   "source": [
    "%%time \n",
    "\n",
    "X_train_transform = minirocket.transform(X_train)"
   ]
  },
  {
   "cell_type": "code",
   "execution_count": 80,
   "id": "4824c7f3",
   "metadata": {},
   "outputs": [
    {
     "name": "stdout",
     "output_type": "stream",
     "text": [
      "CPU times: user 233 ms, sys: 172 ms, total: 405 ms\n",
      "Wall time: 88.7 ms\n"
     ]
    }
   ],
   "source": [
    "%%time \n",
    "\n",
    "ridge = RidgeClassifierCV(alphas=np.logspace(-3, 3, 10), normalize=True)\n",
    "ridge = ridge.fit(X_train_transform, y_train)"
   ]
  },
  {
   "cell_type": "code",
   "execution_count": 81,
   "id": "99915128",
   "metadata": {},
   "outputs": [
    {
     "name": "stdout",
     "output_type": "stream",
     "text": [
      "CPU times: user 2min 58s, sys: 523 ms, total: 2min 58s\n",
      "Wall time: 2min 57s\n"
     ]
    }
   ],
   "source": [
    "%%time \n",
    "\n",
    "X_test_transform = minirocket.transform(X_test)"
   ]
  },
  {
   "cell_type": "code",
   "execution_count": 82,
   "id": "aa5908c3",
   "metadata": {},
   "outputs": [
    {
     "name": "stdout",
     "output_type": "stream",
     "text": [
      "CPU times: user 54.1 ms, sys: 906 µs, total: 55 ms\n",
      "Wall time: 45.8 ms\n"
     ]
    }
   ],
   "source": [
    "%%time \n",
    "\n",
    "y_pred = ridge.predict(X_test_transform)"
   ]
  },
  {
   "cell_type": "code",
   "execution_count": 83,
   "id": "4da616ba",
   "metadata": {},
   "outputs": [
    {
     "name": "stdout",
     "output_type": "stream",
     "text": [
      "Classification Report for the RidgeClassifierCV model \n",
      "\n",
      "                              precision    recall  f1-score   support\n",
      "\n",
      "Black-bellied_Whistling_Duck       0.14      0.10      0.12        10\n",
      "              Canadian_Goose       0.30      0.30      0.30        10\n",
      "               Greylag_Goose       0.10      0.10      0.10        10\n",
      "           Pink-footed_Goose       0.67      0.60      0.63        10\n",
      "  White-faced_Whistling_Duck       0.43      0.60      0.50        10\n",
      "\n",
      "                    accuracy                           0.34        50\n",
      "                   macro avg       0.33      0.34      0.33        50\n",
      "                weighted avg       0.33      0.34      0.33        50\n",
      "\n",
      "CPU times: user 24.2 ms, sys: 347 µs, total: 24.5 ms\n",
      "Wall time: 14.9 ms\n"
     ]
    }
   ],
   "source": [
    "%%time \n",
    "\n",
    "print(\"Classification Report for the RidgeClassifierCV model \\n\")\n",
    "print(classification_report(y_test, y_pred))"
   ]
  },
  {
   "cell_type": "code",
   "execution_count": 92,
   "id": "72b372c2",
   "metadata": {},
   "outputs": [
    {
     "name": "stdout",
     "output_type": "stream",
     "text": [
      "CPU times: user 279 ms, sys: 10.7 ms, total: 290 ms\n",
      "Wall time: 285 ms\n"
     ]
    },
    {
     "data": {
      "text/plain": [
       "RandomForestClassifier(random_state=42)"
      ]
     },
     "execution_count": 92,
     "metadata": {},
     "output_type": "execute_result"
    }
   ],
   "source": [
    "%%time \n",
    "\n",
    "# Model training\n",
    "random_forest = RandomForestClassifier(random_state=SEED)\n",
    "random_forest.fit(X_train_transform, y_train)"
   ]
  },
  {
   "cell_type": "code",
   "execution_count": 93,
   "id": "5d6a7871",
   "metadata": {},
   "outputs": [
    {
     "name": "stdout",
     "output_type": "stream",
     "text": [
      "CPU times: user 65.8 ms, sys: 477 µs, total: 66.3 ms\n",
      "Wall time: 59.8 ms\n"
     ]
    }
   ],
   "source": [
    "%%time\n",
    "\n",
    "y_pred = random_forest.predict(X_test_transform)"
   ]
  },
  {
   "cell_type": "code",
   "execution_count": 94,
   "id": "2f01a51d",
   "metadata": {},
   "outputs": [
    {
     "name": "stdout",
     "output_type": "stream",
     "text": [
      "Classification Report for the RandomForestClassifier model \n",
      "\n",
      "                              precision    recall  f1-score   support\n",
      "\n",
      "Black-bellied_Whistling_Duck       0.14      0.10      0.12        10\n",
      "              Canadian_Goose       0.42      0.50      0.45        10\n",
      "               Greylag_Goose       0.40      0.40      0.40        10\n",
      "           Pink-footed_Goose       0.50      0.40      0.44        10\n",
      "  White-faced_Whistling_Duck       0.23      0.30      0.26        10\n",
      "\n",
      "                    accuracy                           0.34        50\n",
      "                   macro avg       0.34      0.34      0.34        50\n",
      "                weighted avg       0.34      0.34      0.34        50\n",
      "\n"
     ]
    }
   ],
   "source": [
    "print(\"Classification Report for the RandomForestClassifier model \\n\")\n",
    "print(classification_report(y_test, y_pred))"
   ]
  }
 ],
 "metadata": {
  "kernelspec": {
   "display_name": "Python 3 (ipykernel)",
   "language": "python",
   "name": "python3"
  },
  "language_info": {
   "codemirror_mode": {
    "name": "ipython",
    "version": 3
   },
   "file_extension": ".py",
   "mimetype": "text/x-python",
   "name": "python",
   "nbconvert_exporter": "python",
   "pygments_lexer": "ipython3",
   "version": "3.8.10"
  }
 },
 "nbformat": 4,
 "nbformat_minor": 5
}
