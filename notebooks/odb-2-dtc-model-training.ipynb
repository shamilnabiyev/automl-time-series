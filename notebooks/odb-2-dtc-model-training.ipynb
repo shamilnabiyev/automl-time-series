{
 "cells": [
  {
   "cell_type": "markdown",
   "id": "fda11dac",
   "metadata": {},
   "source": [
    "# Model training"
   ]
  },
  {
   "cell_type": "markdown",
   "id": "ce4b5fe5",
   "metadata": {},
   "source": [
    "## Cross-sectional data"
   ]
  },
  {
   "cell_type": "code",
   "execution_count": 1,
   "id": "d0a047e9",
   "metadata": {},
   "outputs": [],
   "source": [
    "import numpy as np\n",
    "import pandas as pd\n",
    "from sktime.classification.kernel_based import RocketClassifier\n",
    "from sktime.transformations.panel.rocket import MiniRocket, MiniRocketMultivariate\n",
    "from sktime.datatypes._panel._convert import from_multi_index_to_3d_numpy\n",
    "from tsfresh.utilities.dataframe_functions import roll_time_series\n",
    "from sklearn.model_selection import train_test_split\n",
    "from sklearn.linear_model import RidgeClassifierCV\n",
    "from sklearn.ensemble import RandomForestClassifier\n",
    "from sklearn.linear_model import LogisticRegression\n",
    "from sklearn.svm import LinearSVC\n",
    "from sklearn.preprocessing import StandardScaler\n",
    "from sklearn.metrics import classification_report\n",
    "import matplotlib.pyplot as plt\n",
    "from collections import Counter\n",
    "import seaborn as sns\n",
    "import warnings\n",
    "\n",
    "warnings.simplefilter('ignore')\n",
    "\n",
    "SEED=42\n",
    "\n",
    "%matplotlib inline"
   ]
  },
  {
   "cell_type": "code",
   "execution_count": 2,
   "id": "99443d0b",
   "metadata": {},
   "outputs": [
    {
     "data": {
      "text/html": [
       "<div>\n",
       "<style scoped>\n",
       "    .dataframe tbody tr th:only-of-type {\n",
       "        vertical-align: middle;\n",
       "    }\n",
       "\n",
       "    .dataframe tbody tr th {\n",
       "        vertical-align: top;\n",
       "    }\n",
       "\n",
       "    .dataframe thead th {\n",
       "        text-align: right;\n",
       "    }\n",
       "</style>\n",
       "<table border=\"1\" class=\"dataframe\">\n",
       "  <thead>\n",
       "    <tr style=\"text-align: right;\">\n",
       "      <th></th>\n",
       "      <th>AIR_INTAKE_TEMP</th>\n",
       "      <th>ENGINE_COOLANT_TEMP</th>\n",
       "      <th>ENGINE_LOAD</th>\n",
       "      <th>ENGINE_RPM</th>\n",
       "      <th>SHORT TERM FUEL TRIM BANK 1</th>\n",
       "      <th>SPEED</th>\n",
       "      <th>THROTTLE_POS</th>\n",
       "      <th>TIMING_ADVANCE</th>\n",
       "      <th>TROUBLE_CODES</th>\n",
       "      <th>VEHICLE_ID</th>\n",
       "      <th>TIMESTAMP</th>\n",
       "      <th>TROUBLE_CODES_BINARY</th>\n",
       "    </tr>\n",
       "  </thead>\n",
       "  <tbody>\n",
       "    <tr>\n",
       "      <th>0</th>\n",
       "      <td>59.0</td>\n",
       "      <td>80.0</td>\n",
       "      <td>0.333</td>\n",
       "      <td>1009.0</td>\n",
       "      <td>0.0</td>\n",
       "      <td>0.0</td>\n",
       "      <td>0.251</td>\n",
       "      <td>0.569</td>\n",
       "      <td>NaN</td>\n",
       "      <td>car1</td>\n",
       "      <td>2017-08-16 16:55:04.267</td>\n",
       "      <td>0</td>\n",
       "    </tr>\n",
       "    <tr>\n",
       "      <th>1</th>\n",
       "      <td>59.0</td>\n",
       "      <td>80.0</td>\n",
       "      <td>0.325</td>\n",
       "      <td>1003.0</td>\n",
       "      <td>0.0</td>\n",
       "      <td>0.0</td>\n",
       "      <td>0.251</td>\n",
       "      <td>0.565</td>\n",
       "      <td>NaN</td>\n",
       "      <td>car1</td>\n",
       "      <td>2017-08-16 16:55:12.283</td>\n",
       "      <td>0</td>\n",
       "    </tr>\n",
       "    <tr>\n",
       "      <th>2</th>\n",
       "      <td>59.0</td>\n",
       "      <td>80.0</td>\n",
       "      <td>0.329</td>\n",
       "      <td>995.0</td>\n",
       "      <td>0.0</td>\n",
       "      <td>0.0</td>\n",
       "      <td>0.251</td>\n",
       "      <td>0.573</td>\n",
       "      <td>NaN</td>\n",
       "      <td>car1</td>\n",
       "      <td>2017-08-16 16:55:20.291</td>\n",
       "      <td>0</td>\n",
       "    </tr>\n",
       "    <tr>\n",
       "      <th>3</th>\n",
       "      <td>60.0</td>\n",
       "      <td>80.0</td>\n",
       "      <td>0.325</td>\n",
       "      <td>1004.0</td>\n",
       "      <td>0.0</td>\n",
       "      <td>0.0</td>\n",
       "      <td>0.251</td>\n",
       "      <td>0.565</td>\n",
       "      <td>NaN</td>\n",
       "      <td>car1</td>\n",
       "      <td>2017-08-16 16:55:28.300</td>\n",
       "      <td>0</td>\n",
       "    </tr>\n",
       "    <tr>\n",
       "      <th>4</th>\n",
       "      <td>60.0</td>\n",
       "      <td>80.0</td>\n",
       "      <td>0.329</td>\n",
       "      <td>1005.0</td>\n",
       "      <td>0.0</td>\n",
       "      <td>0.0</td>\n",
       "      <td>0.251</td>\n",
       "      <td>0.569</td>\n",
       "      <td>NaN</td>\n",
       "      <td>car1</td>\n",
       "      <td>2017-08-16 16:55:36.320</td>\n",
       "      <td>0</td>\n",
       "    </tr>\n",
       "  </tbody>\n",
       "</table>\n",
       "</div>"
      ],
      "text/plain": [
       "   AIR_INTAKE_TEMP  ENGINE_COOLANT_TEMP  ENGINE_LOAD  ENGINE_RPM  \\\n",
       "0             59.0                 80.0        0.333      1009.0   \n",
       "1             59.0                 80.0        0.325      1003.0   \n",
       "2             59.0                 80.0        0.329       995.0   \n",
       "3             60.0                 80.0        0.325      1004.0   \n",
       "4             60.0                 80.0        0.329      1005.0   \n",
       "\n",
       "   SHORT TERM FUEL TRIM BANK 1  SPEED  THROTTLE_POS  TIMING_ADVANCE  \\\n",
       "0                          0.0    0.0         0.251           0.569   \n",
       "1                          0.0    0.0         0.251           0.565   \n",
       "2                          0.0    0.0         0.251           0.573   \n",
       "3                          0.0    0.0         0.251           0.565   \n",
       "4                          0.0    0.0         0.251           0.569   \n",
       "\n",
       "  TROUBLE_CODES VEHICLE_ID                TIMESTAMP  TROUBLE_CODES_BINARY  \n",
       "0           NaN       car1  2017-08-16 16:55:04.267                     0  \n",
       "1           NaN       car1  2017-08-16 16:55:12.283                     0  \n",
       "2           NaN       car1  2017-08-16 16:55:20.291                     0  \n",
       "3           NaN       car1  2017-08-16 16:55:28.300                     0  \n",
       "4           NaN       car1  2017-08-16 16:55:36.320                     0  "
      ]
     },
     "execution_count": 2,
     "metadata": {},
     "output_type": "execute_result"
    }
   ],
   "source": [
    "df = pd.read_csv(\"../data/odb-2-master-thesis/exp1_14drivers_14cars_dailyRoutes_interpolated.csv\")\n",
    "df.head()"
   ]
  },
  {
   "cell_type": "code",
   "execution_count": 3,
   "id": "4b267c4c",
   "metadata": {},
   "outputs": [
    {
     "data": {
      "text/plain": [
       "(47514, 12)"
      ]
     },
     "execution_count": 3,
     "metadata": {},
     "output_type": "execute_result"
    }
   ],
   "source": [
    "df.shape"
   ]
  },
  {
   "cell_type": "code",
   "execution_count": 10,
   "id": "3cde7696",
   "metadata": {},
   "outputs": [
    {
     "data": {
      "text/plain": [
       "((47514, 8), (47514,))"
      ]
     },
     "execution_count": 10,
     "metadata": {},
     "output_type": "execute_result"
    }
   ],
   "source": [
    "selected_columns = df.columns.difference([\"TROUBLE_CODES\", \"VEHICLE_ID\", \"TIMESTAMP\"])\n",
    "df = df[selected_columns]\n",
    "\n",
    "TARGET = \"TROUBLE_CODES_BINARY\"\n",
    "\n",
    "X = df.drop([TARGET], axis=1)\n",
    "y = df[TARGET]\n",
    "\n",
    "X.shape, y.shape"
   ]
  },
  {
   "cell_type": "code",
   "execution_count": 37,
   "id": "243359f1",
   "metadata": {},
   "outputs": [
    {
     "data": {
      "text/plain": [
       "((38011, 8), (9503, 8), (38011,), (9503,))"
      ]
     },
     "execution_count": 37,
     "metadata": {},
     "output_type": "execute_result"
    }
   ],
   "source": [
    "X_train, X_test, y_train, y_test = train_test_split(X, y, test_size=0.20, random_state=SEED, stratify=y)\n",
    "\n",
    "X_train.shape, X_test.shape, y_train.shape, y_test.shape"
   ]
  },
  {
   "cell_type": "code",
   "execution_count": 40,
   "id": "4302c78e",
   "metadata": {},
   "outputs": [
    {
     "data": {
      "text/plain": [
       "Counter({0: 35589, 1: 11925})"
      ]
     },
     "execution_count": 40,
     "metadata": {},
     "output_type": "execute_result"
    }
   ],
   "source": [
    "Counter(y)"
   ]
  },
  {
   "cell_type": "code",
   "execution_count": 24,
   "id": "ccf26c4a",
   "metadata": {},
   "outputs": [],
   "source": [
    "scaler = StandardScaler()\n",
    "scaler.fit(X_train)\n",
    "\n",
    "index_train = X_train.index\n",
    "index_test = X_test.index\n",
    "\n",
    "X_train = scaler.transform(X_train)\n",
    "X_train = pd.DataFrame(X_train, index=index_train, columns=X.columns)\n",
    "\n",
    "X_test = scaler.transform(X_test)\n",
    "X_test = pd.DataFrame(X_test, index=index_test, columns=X.columns)"
   ]
  },
  {
   "cell_type": "markdown",
   "id": "8d4b188b",
   "metadata": {},
   "source": []
  },
  {
   "cell_type": "markdown",
   "id": "2dfad7a2",
   "metadata": {},
   "source": [
    "### Logistic Regression"
   ]
  },
  {
   "cell_type": "code",
   "execution_count": 65,
   "id": "182747a7",
   "metadata": {},
   "outputs": [
    {
     "name": "stdout",
     "output_type": "stream",
     "text": [
      "Classification Repost for the LinearSVC model \n",
      "\n",
      "              precision    recall  f1-score   support\n",
      "\n",
      "           0       0.75      1.00      0.85      7118\n",
      "           1       0.20      0.00      0.01      2385\n",
      "\n",
      "    accuracy                           0.75      9503\n",
      "   macro avg       0.47      0.50      0.43      9503\n",
      "weighted avg       0.61      0.75      0.64      9503\n",
      "\n"
     ]
    }
   ],
   "source": [
    "log_reg = LogisticRegression(random_state=SEED)\n",
    "log_reg.fit(X_train, y_train)\n",
    "\n",
    "y_pred = lin_svc.predict(X_test)\n",
    "\n",
    "print(\"Classification Repost for the LinearSVC model \\n\")\n",
    "print(classification_report(y_test, y_pred))"
   ]
  },
  {
   "cell_type": "markdown",
   "id": "722a9d36",
   "metadata": {},
   "source": []
  },
  {
   "cell_type": "markdown",
   "id": "0cb6c2c7",
   "metadata": {},
   "source": [
    "### Linear Support Vector Classifier"
   ]
  },
  {
   "cell_type": "code",
   "execution_count": 64,
   "id": "8c948167",
   "metadata": {},
   "outputs": [
    {
     "name": "stdout",
     "output_type": "stream",
     "text": [
      "Classification Repost for the LinearSVC model \n",
      "\n",
      "              precision    recall  f1-score   support\n",
      "\n",
      "           0       0.75      1.00      0.85      7118\n",
      "           1       0.20      0.00      0.01      2385\n",
      "\n",
      "    accuracy                           0.75      9503\n",
      "   macro avg       0.47      0.50      0.43      9503\n",
      "weighted avg       0.61      0.75      0.64      9503\n",
      "\n"
     ]
    }
   ],
   "source": [
    "lin_svc = LinearSVC(random_state=SEED)\n",
    "lin_svc.fit(X_train, y_train)\n",
    "\n",
    "y_pred = lin_svc.predict(X_test)\n",
    "\n",
    "print(\"Classification Repost for the LinearSVC model \\n\")\n",
    "print(classification_report(y_test, y_pred))"
   ]
  },
  {
   "cell_type": "markdown",
   "id": "876a6fe5",
   "metadata": {},
   "source": [
    "### Random Forest Classifier"
   ]
  },
  {
   "cell_type": "code",
   "execution_count": 63,
   "id": "794fb2dc",
   "metadata": {},
   "outputs": [
    {
     "name": "stdout",
     "output_type": "stream",
     "text": [
      "Classification Repost for the RandomForestClassifier model \n",
      "\n",
      "              precision    recall  f1-score   support\n",
      "\n",
      "           0       0.98      0.99      0.99      7118\n",
      "           1       0.96      0.95      0.96      2385\n",
      "\n",
      "    accuracy                           0.98      9503\n",
      "   macro avg       0.97      0.97      0.97      9503\n",
      "weighted avg       0.98      0.98      0.98      9503\n",
      "\n"
     ]
    }
   ],
   "source": [
    "# Model training\n",
    "random_forest = RandomForestClassifier(random_state=SEED)\n",
    "random_forest.fit(X_train, y_train)\n",
    "\n",
    "y_pred = random_forest.predict(X_test)\n",
    "\n",
    "print(\"Classification Repost for the RandomForestClassifier model \\n\")\n",
    "print(classification_report(y_test, y_pred))"
   ]
  },
  {
   "cell_type": "markdown",
   "id": "d47176d9",
   "metadata": {},
   "source": [
    "## Time Series Classification on (3D) Panel Data"
   ]
  },
  {
   "cell_type": "code",
   "execution_count": 2,
   "id": "4c637c4d",
   "metadata": {},
   "outputs": [],
   "source": [
    "features_all = pd.read_parquet(\"../data/odb-2-window-89/features-all-windowsize89.parquet.gzip\")\n",
    "target_all = pd.read_parquet(\"../data/odb-2-window-89/target-binary-all-windowsize89.parquet.gzip\")"
   ]
  },
  {
   "cell_type": "code",
   "execution_count": 3,
   "id": "3ef95673",
   "metadata": {
    "scrolled": false
   },
   "outputs": [
    {
     "data": {
      "text/html": [
       "<div>\n",
       "<style scoped>\n",
       "    .dataframe tbody tr th:only-of-type {\n",
       "        vertical-align: middle;\n",
       "    }\n",
       "\n",
       "    .dataframe tbody tr th {\n",
       "        vertical-align: top;\n",
       "    }\n",
       "\n",
       "    .dataframe thead th {\n",
       "        text-align: right;\n",
       "    }\n",
       "</style>\n",
       "<table border=\"1\" class=\"dataframe\">\n",
       "  <thead>\n",
       "    <tr style=\"text-align: right;\">\n",
       "      <th></th>\n",
       "      <th></th>\n",
       "      <th>AIR_INTAKE_TEMP</th>\n",
       "      <th>ENGINE_COOLANT_TEMP</th>\n",
       "      <th>ENGINE_LOAD</th>\n",
       "      <th>ENGINE_RPM</th>\n",
       "      <th>SHORT TERM FUEL TRIM BANK 1</th>\n",
       "      <th>SPEED</th>\n",
       "      <th>THROTTLE_POS</th>\n",
       "      <th>TIMING_ADVANCE</th>\n",
       "    </tr>\n",
       "    <tr>\n",
       "      <th>INSTANCES</th>\n",
       "      <th>TIMEPOINTS</th>\n",
       "      <th></th>\n",
       "      <th></th>\n",
       "      <th></th>\n",
       "      <th></th>\n",
       "      <th></th>\n",
       "      <th></th>\n",
       "      <th></th>\n",
       "      <th></th>\n",
       "    </tr>\n",
       "  </thead>\n",
       "  <tbody>\n",
       "    <tr>\n",
       "      <th rowspan=\"5\" valign=\"top\">0</th>\n",
       "      <th>0</th>\n",
       "      <td>59.000000</td>\n",
       "      <td>80.0</td>\n",
       "      <td>0.3330</td>\n",
       "      <td>1009.00</td>\n",
       "      <td>0.000000</td>\n",
       "      <td>0.0</td>\n",
       "      <td>0.2510</td>\n",
       "      <td>0.569000</td>\n",
       "    </tr>\n",
       "    <tr>\n",
       "      <th>1</th>\n",
       "      <td>59.000000</td>\n",
       "      <td>80.0</td>\n",
       "      <td>0.3250</td>\n",
       "      <td>1003.00</td>\n",
       "      <td>0.000000</td>\n",
       "      <td>0.0</td>\n",
       "      <td>0.2510</td>\n",
       "      <td>0.565000</td>\n",
       "    </tr>\n",
       "    <tr>\n",
       "      <th>2</th>\n",
       "      <td>59.000000</td>\n",
       "      <td>80.0</td>\n",
       "      <td>0.3290</td>\n",
       "      <td>995.00</td>\n",
       "      <td>0.000000</td>\n",
       "      <td>0.0</td>\n",
       "      <td>0.2510</td>\n",
       "      <td>0.573000</td>\n",
       "    </tr>\n",
       "    <tr>\n",
       "      <th>3</th>\n",
       "      <td>60.000000</td>\n",
       "      <td>80.0</td>\n",
       "      <td>0.3250</td>\n",
       "      <td>1004.00</td>\n",
       "      <td>0.000000</td>\n",
       "      <td>0.0</td>\n",
       "      <td>0.2510</td>\n",
       "      <td>0.565000</td>\n",
       "    </tr>\n",
       "    <tr>\n",
       "      <th>4</th>\n",
       "      <td>60.000000</td>\n",
       "      <td>80.0</td>\n",
       "      <td>0.3290</td>\n",
       "      <td>1005.00</td>\n",
       "      <td>0.000000</td>\n",
       "      <td>0.0</td>\n",
       "      <td>0.2510</td>\n",
       "      <td>0.569000</td>\n",
       "    </tr>\n",
       "    <tr>\n",
       "      <th>...</th>\n",
       "      <th>...</th>\n",
       "      <td>...</td>\n",
       "      <td>...</td>\n",
       "      <td>...</td>\n",
       "      <td>...</td>\n",
       "      <td>...</td>\n",
       "      <td>...</td>\n",
       "      <td>...</td>\n",
       "      <td>...</td>\n",
       "    </tr>\n",
       "    <tr>\n",
       "      <th rowspan=\"5\" valign=\"top\">46253</th>\n",
       "      <th>84</th>\n",
       "      <td>47.222222</td>\n",
       "      <td>81.0</td>\n",
       "      <td>0.1665</td>\n",
       "      <td>823.75</td>\n",
       "      <td>-0.181889</td>\n",
       "      <td>0.0</td>\n",
       "      <td>0.1055</td>\n",
       "      <td>0.340125</td>\n",
       "    </tr>\n",
       "    <tr>\n",
       "      <th>85</th>\n",
       "      <td>47.777778</td>\n",
       "      <td>79.0</td>\n",
       "      <td>0.1450</td>\n",
       "      <td>841.00</td>\n",
       "      <td>-0.233111</td>\n",
       "      <td>0.0</td>\n",
       "      <td>0.1040</td>\n",
       "      <td>0.274500</td>\n",
       "    </tr>\n",
       "    <tr>\n",
       "      <th>86</th>\n",
       "      <td>48.333333</td>\n",
       "      <td>77.0</td>\n",
       "      <td>0.1235</td>\n",
       "      <td>858.25</td>\n",
       "      <td>-0.284333</td>\n",
       "      <td>0.0</td>\n",
       "      <td>0.1025</td>\n",
       "      <td>0.208875</td>\n",
       "    </tr>\n",
       "    <tr>\n",
       "      <th>87</th>\n",
       "      <td>48.888889</td>\n",
       "      <td>75.0</td>\n",
       "      <td>0.1020</td>\n",
       "      <td>875.50</td>\n",
       "      <td>-0.335556</td>\n",
       "      <td>0.0</td>\n",
       "      <td>0.1010</td>\n",
       "      <td>0.143250</td>\n",
       "    </tr>\n",
       "    <tr>\n",
       "      <th>88</th>\n",
       "      <td>49.444444</td>\n",
       "      <td>73.0</td>\n",
       "      <td>0.0805</td>\n",
       "      <td>892.75</td>\n",
       "      <td>-0.386778</td>\n",
       "      <td>0.0</td>\n",
       "      <td>0.0995</td>\n",
       "      <td>0.077625</td>\n",
       "    </tr>\n",
       "  </tbody>\n",
       "</table>\n",
       "<p>4116606 rows × 8 columns</p>\n",
       "</div>"
      ],
      "text/plain": [
       "                      AIR_INTAKE_TEMP  ENGINE_COOLANT_TEMP  ENGINE_LOAD  \\\n",
       "INSTANCES TIMEPOINTS                                                      \n",
       "0         0                 59.000000                 80.0       0.3330   \n",
       "          1                 59.000000                 80.0       0.3250   \n",
       "          2                 59.000000                 80.0       0.3290   \n",
       "          3                 60.000000                 80.0       0.3250   \n",
       "          4                 60.000000                 80.0       0.3290   \n",
       "...                               ...                  ...          ...   \n",
       "46253     84                47.222222                 81.0       0.1665   \n",
       "          85                47.777778                 79.0       0.1450   \n",
       "          86                48.333333                 77.0       0.1235   \n",
       "          87                48.888889                 75.0       0.1020   \n",
       "          88                49.444444                 73.0       0.0805   \n",
       "\n",
       "                      ENGINE_RPM  SHORT TERM FUEL TRIM BANK 1  SPEED  \\\n",
       "INSTANCES TIMEPOINTS                                                   \n",
       "0         0              1009.00                     0.000000    0.0   \n",
       "          1              1003.00                     0.000000    0.0   \n",
       "          2               995.00                     0.000000    0.0   \n",
       "          3              1004.00                     0.000000    0.0   \n",
       "          4              1005.00                     0.000000    0.0   \n",
       "...                          ...                          ...    ...   \n",
       "46253     84              823.75                    -0.181889    0.0   \n",
       "          85              841.00                    -0.233111    0.0   \n",
       "          86              858.25                    -0.284333    0.0   \n",
       "          87              875.50                    -0.335556    0.0   \n",
       "          88              892.75                    -0.386778    0.0   \n",
       "\n",
       "                      THROTTLE_POS  TIMING_ADVANCE  \n",
       "INSTANCES TIMEPOINTS                                \n",
       "0         0                 0.2510        0.569000  \n",
       "          1                 0.2510        0.565000  \n",
       "          2                 0.2510        0.573000  \n",
       "          3                 0.2510        0.565000  \n",
       "          4                 0.2510        0.569000  \n",
       "...                            ...             ...  \n",
       "46253     84                0.1055        0.340125  \n",
       "          85                0.1040        0.274500  \n",
       "          86                0.1025        0.208875  \n",
       "          87                0.1010        0.143250  \n",
       "          88                0.0995        0.077625  \n",
       "\n",
       "[4116606 rows x 8 columns]"
      ]
     },
     "execution_count": 3,
     "metadata": {},
     "output_type": "execute_result"
    }
   ],
   "source": [
    "features_all = features_all.set_index([\"INSTANCES\", \"TIMEPOINTS\"])\n",
    "features_all"
   ]
  },
  {
   "cell_type": "code",
   "execution_count": 4,
   "id": "3aee3bcf",
   "metadata": {},
   "outputs": [],
   "source": [
    "# Create indices\n",
    "index_train, index_test = train_test_split(features_all.index.levels[0], \n",
    "                                           test_size=0.20, \n",
    "                                           random_state=42)"
   ]
  },
  {
   "cell_type": "code",
   "execution_count": 5,
   "id": "89cc4ec2",
   "metadata": {
    "scrolled": true
   },
   "outputs": [
    {
     "data": {
      "text/plain": [
       "((37003, 8, 89), (9251, 8, 89), (37003,), (9251,))"
      ]
     },
     "execution_count": 5,
     "metadata": {},
     "output_type": "execute_result"
    }
   ],
   "source": [
    "# Split train and test\n",
    "X_train = features_all.loc[index_train]\n",
    "X_train = from_multi_index_to_3d_numpy(X_train)\n",
    "\n",
    "y_train = target_all.loc[index_train]\n",
    "y_train = y_train.values.flatten()\n",
    "\n",
    "X_test = features_all.loc[index_test]\n",
    "X_test = from_multi_index_to_3d_numpy(X_test)\n",
    "\n",
    "y_test = target_all.loc[index_test]\n",
    "y_test = y_test.values.flatten()\n",
    "\n",
    "X_train.shape, X_test.shape, y_train.shape, y_test.shape"
   ]
  },
  {
   "cell_type": "markdown",
   "id": "9e71c9c8",
   "metadata": {},
   "source": [
    "### Supervised Time Series Forest Classifier"
   ]
  },
  {
   "cell_type": "code",
   "execution_count": null,
   "id": "1dd68a24",
   "metadata": {},
   "outputs": [],
   "source": [
    "%%time \n",
    "\n",
    "# sts_forest = SupervisedTimeSeriesForest(n_estimators=10)\n",
    "# sts_forest.fit(X_train, y_train)"
   ]
  },
  {
   "cell_type": "markdown",
   "id": "41a1c932",
   "metadata": {},
   "source": [
    "ValueError: Data seen by SupervisedTimeSeriesForest instance has multivariate series, but this SupervisedTimeSeriesForest instance cannot handle multivariate series. Calls with multivariate series may result in error or unreliable results."
   ]
  },
  {
   "cell_type": "code",
   "execution_count": null,
   "id": "35ef8fc2",
   "metadata": {},
   "outputs": [],
   "source": [
    "# y_pred = clf.predict(X_test)\n",
    "\n",
    "# print(\"Classification Repost for the SupervisedTimeSeriesForest model \\n\")\n",
    "# print(classification_report(y_test.values.flatten(), y_pred.values.flatten()))"
   ]
  },
  {
   "cell_type": "markdown",
   "id": "9fb10245",
   "metadata": {},
   "source": [
    "### Mini Rocket Multivariate Transformer + Ridge Classifier"
   ]
  },
  {
   "cell_type": "code",
   "execution_count": 6,
   "id": "d66f5fd4",
   "metadata": {},
   "outputs": [
    {
     "name": "stdout",
     "output_type": "stream",
     "text": [
      "CPU times: user 3min 1s, sys: 1.17 s, total: 3min 2s\n",
      "Wall time: 3min 2s\n"
     ]
    }
   ],
   "source": [
    "%%time\n",
    "\n",
    "minirocket_multi = MiniRocketMultivariate()\n",
    "minirocket_multi.fit(X_train)\n",
    "\n",
    "X_train_transform = minirocket_multi.transform(X_train)"
   ]
  },
  {
   "cell_type": "code",
   "execution_count": null,
   "id": "999f470f",
   "metadata": {},
   "outputs": [],
   "source": [
    "%%time \n",
    "\n",
    "ridge = RidgeClassifierCV(alphas=np.logspace(-3, 3, 10), normalize=True)\n",
    "ridge.fit(X_train_transform, y_train)"
   ]
  },
  {
   "cell_type": "code",
   "execution_count": null,
   "id": "056126ea",
   "metadata": {},
   "outputs": [],
   "source": [
    "X_test_transform = minirocket_multi.transform(X_test)\n",
    "y_pred = ridge.predict(X_test_transform)\n",
    "\n",
    "print(\"Classification Repost for the RidgeClassifierCV model \\n\")\n",
    "print(classification_report(y_test, y_pred))"
   ]
  }
 ],
 "metadata": {
  "kernelspec": {
   "display_name": "Python 3 (ipykernel)",
   "language": "python",
   "name": "python3"
  },
  "language_info": {
   "codemirror_mode": {
    "name": "ipython",
    "version": 3
   },
   "file_extension": ".py",
   "mimetype": "text/x-python",
   "name": "python",
   "nbconvert_exporter": "python",
   "pygments_lexer": "ipython3",
   "version": "3.8.10"
  }
 },
 "nbformat": 4,
 "nbformat_minor": 5
}
