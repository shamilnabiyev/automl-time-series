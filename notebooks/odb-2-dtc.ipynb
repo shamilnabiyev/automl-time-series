{
 "cells": [
  {
   "cell_type": "markdown",
   "id": "5f7b6d0f",
   "metadata": {},
   "source": [
    "# Predicting DTC occurence using ODB-II dataset"
   ]
  },
  {
   "cell_type": "markdown",
   "id": "ebd620c6",
   "metadata": {},
   "source": [
    "## Data pre-processing"
   ]
  },
  {
   "cell_type": "code",
   "execution_count": 1,
   "id": "69c4b2e0",
   "metadata": {},
   "outputs": [],
   "source": [
    "import numpy as np\n",
    "import pandas as pd\n",
    "from tsfresh.utilities.dataframe_functions import roll_time_series\n",
    "import matplotlib.pyplot as plt\n",
    "import seaborn as sns\n",
    "import warnings\n",
    "\n",
    "warnings.simplefilter('ignore')\n",
    "\n",
    "%matplotlib inline"
   ]
  },
  {
   "cell_type": "code",
   "execution_count": 43,
   "id": "13266dce",
   "metadata": {},
   "outputs": [
    {
     "name": "stderr",
     "output_type": "stream",
     "text": [
      "/tmp/ipykernel_6167/1774789070.py:3: DtypeWarning: Columns (22,25) have mixed types. Specify dtype option on import or set low_memory=False.\n",
      "  df = pd.read_csv(data_path)\n"
     ]
    },
    {
     "data": {
      "text/html": [
       "<div>\n",
       "<style scoped>\n",
       "    .dataframe tbody tr th:only-of-type {\n",
       "        vertical-align: middle;\n",
       "    }\n",
       "\n",
       "    .dataframe tbody tr th {\n",
       "        vertical-align: top;\n",
       "    }\n",
       "\n",
       "    .dataframe thead th {\n",
       "        text-align: right;\n",
       "    }\n",
       "</style>\n",
       "<table border=\"1\" class=\"dataframe\">\n",
       "  <thead>\n",
       "    <tr style=\"text-align: right;\">\n",
       "      <th></th>\n",
       "      <th>TIMESTAMP</th>\n",
       "      <th>MARK</th>\n",
       "      <th>MODEL</th>\n",
       "      <th>CAR_YEAR</th>\n",
       "      <th>ENGINE_POWER</th>\n",
       "      <th>AUTOMATIC</th>\n",
       "      <th>VEHICLE_ID</th>\n",
       "      <th>BAROMETRIC_PRESSURE(KPA)</th>\n",
       "      <th>ENGINE_COOLANT_TEMP</th>\n",
       "      <th>FUEL_LEVEL</th>\n",
       "      <th>...</th>\n",
       "      <th>THROTTLE_POS</th>\n",
       "      <th>DTC_NUMBER</th>\n",
       "      <th>TROUBLE_CODES</th>\n",
       "      <th>TIMING_ADVANCE</th>\n",
       "      <th>EQUIV_RATIO</th>\n",
       "      <th>MIN</th>\n",
       "      <th>HOURS</th>\n",
       "      <th>DAYS_OF_WEEK</th>\n",
       "      <th>MONTHS</th>\n",
       "      <th>YEAR</th>\n",
       "    </tr>\n",
       "  </thead>\n",
       "  <tbody>\n",
       "    <tr>\n",
       "      <th>0</th>\n",
       "      <td>2017-08-16 16:55:04.267</td>\n",
       "      <td>chevrolet</td>\n",
       "      <td>agile</td>\n",
       "      <td>2011.0</td>\n",
       "      <td>1.4</td>\n",
       "      <td>n</td>\n",
       "      <td>car1</td>\n",
       "      <td>100.0</td>\n",
       "      <td>80.0</td>\n",
       "      <td>0.486</td>\n",
       "      <td>...</td>\n",
       "      <td>0.251</td>\n",
       "      <td>MIL is OFF0 codes</td>\n",
       "      <td>NaN</td>\n",
       "      <td>0.569</td>\n",
       "      <td>0.01</td>\n",
       "      <td>13.0</td>\n",
       "      <td>16.0</td>\n",
       "      <td>2.0</td>\n",
       "      <td>8.0</td>\n",
       "      <td>2017.0</td>\n",
       "    </tr>\n",
       "    <tr>\n",
       "      <th>1</th>\n",
       "      <td>2017-08-16 16:55:12.283</td>\n",
       "      <td>chevrolet</td>\n",
       "      <td>agile</td>\n",
       "      <td>2011.0</td>\n",
       "      <td>1.4</td>\n",
       "      <td>n</td>\n",
       "      <td>car1</td>\n",
       "      <td>100.0</td>\n",
       "      <td>80.0</td>\n",
       "      <td>0.486</td>\n",
       "      <td>...</td>\n",
       "      <td>0.251</td>\n",
       "      <td>MIL is OFF0 codes</td>\n",
       "      <td>NaN</td>\n",
       "      <td>0.565</td>\n",
       "      <td>0.01</td>\n",
       "      <td>13.0</td>\n",
       "      <td>16.0</td>\n",
       "      <td>2.0</td>\n",
       "      <td>8.0</td>\n",
       "      <td>2017.0</td>\n",
       "    </tr>\n",
       "    <tr>\n",
       "      <th>2</th>\n",
       "      <td>2017-08-16 16:55:20.291</td>\n",
       "      <td>chevrolet</td>\n",
       "      <td>agile</td>\n",
       "      <td>2011.0</td>\n",
       "      <td>1.4</td>\n",
       "      <td>n</td>\n",
       "      <td>car1</td>\n",
       "      <td>100.0</td>\n",
       "      <td>80.0</td>\n",
       "      <td>0.486</td>\n",
       "      <td>...</td>\n",
       "      <td>0.251</td>\n",
       "      <td>MIL is OFF0 codes</td>\n",
       "      <td>NaN</td>\n",
       "      <td>0.573</td>\n",
       "      <td>0.01</td>\n",
       "      <td>13.0</td>\n",
       "      <td>16.0</td>\n",
       "      <td>2.0</td>\n",
       "      <td>8.0</td>\n",
       "      <td>2017.0</td>\n",
       "    </tr>\n",
       "    <tr>\n",
       "      <th>3</th>\n",
       "      <td>2017-08-16 16:55:28.300</td>\n",
       "      <td>chevrolet</td>\n",
       "      <td>agile</td>\n",
       "      <td>2011.0</td>\n",
       "      <td>1.4</td>\n",
       "      <td>n</td>\n",
       "      <td>car1</td>\n",
       "      <td>100.0</td>\n",
       "      <td>80.0</td>\n",
       "      <td>0.486</td>\n",
       "      <td>...</td>\n",
       "      <td>0.251</td>\n",
       "      <td>MIL is OFF0 codes</td>\n",
       "      <td>NaN</td>\n",
       "      <td>0.565</td>\n",
       "      <td>0.01</td>\n",
       "      <td>13.0</td>\n",
       "      <td>16.0</td>\n",
       "      <td>2.0</td>\n",
       "      <td>8.0</td>\n",
       "      <td>2017.0</td>\n",
       "    </tr>\n",
       "    <tr>\n",
       "      <th>4</th>\n",
       "      <td>2017-08-16 16:55:36.320</td>\n",
       "      <td>chevrolet</td>\n",
       "      <td>agile</td>\n",
       "      <td>2011.0</td>\n",
       "      <td>1.4</td>\n",
       "      <td>n</td>\n",
       "      <td>car1</td>\n",
       "      <td>100.0</td>\n",
       "      <td>80.0</td>\n",
       "      <td>0.486</td>\n",
       "      <td>...</td>\n",
       "      <td>0.251</td>\n",
       "      <td>MIL is OFF0 codes</td>\n",
       "      <td>NaN</td>\n",
       "      <td>0.569</td>\n",
       "      <td>0.01</td>\n",
       "      <td>13.0</td>\n",
       "      <td>16.0</td>\n",
       "      <td>2.0</td>\n",
       "      <td>8.0</td>\n",
       "      <td>2017.0</td>\n",
       "    </tr>\n",
       "  </tbody>\n",
       "</table>\n",
       "<p>5 rows × 33 columns</p>\n",
       "</div>"
      ],
      "text/plain": [
       "                TIMESTAMP       MARK  MODEL  CAR_YEAR  ENGINE_POWER AUTOMATIC  \\\n",
       "0 2017-08-16 16:55:04.267  chevrolet  agile    2011.0           1.4         n   \n",
       "1 2017-08-16 16:55:12.283  chevrolet  agile    2011.0           1.4         n   \n",
       "2 2017-08-16 16:55:20.291  chevrolet  agile    2011.0           1.4         n   \n",
       "3 2017-08-16 16:55:28.300  chevrolet  agile    2011.0           1.4         n   \n",
       "4 2017-08-16 16:55:36.320  chevrolet  agile    2011.0           1.4         n   \n",
       "\n",
       "  VEHICLE_ID  BAROMETRIC_PRESSURE(KPA)  ENGINE_COOLANT_TEMP  FUEL_LEVEL  ...  \\\n",
       "0       car1                     100.0                 80.0       0.486  ...   \n",
       "1       car1                     100.0                 80.0       0.486  ...   \n",
       "2       car1                     100.0                 80.0       0.486  ...   \n",
       "3       car1                     100.0                 80.0       0.486  ...   \n",
       "4       car1                     100.0                 80.0       0.486  ...   \n",
       "\n",
       "   THROTTLE_POS         DTC_NUMBER  TROUBLE_CODES  TIMING_ADVANCE  \\\n",
       "0         0.251  MIL is OFF0 codes            NaN           0.569   \n",
       "1         0.251  MIL is OFF0 codes            NaN           0.565   \n",
       "2         0.251  MIL is OFF0 codes            NaN           0.573   \n",
       "3         0.251  MIL is OFF0 codes            NaN           0.565   \n",
       "4         0.251  MIL is OFF0 codes            NaN           0.569   \n",
       "\n",
       "   EQUIV_RATIO   MIN HOURS  DAYS_OF_WEEK  MONTHS    YEAR  \n",
       "0         0.01  13.0  16.0           2.0     8.0  2017.0  \n",
       "1         0.01  13.0  16.0           2.0     8.0  2017.0  \n",
       "2         0.01  13.0  16.0           2.0     8.0  2017.0  \n",
       "3         0.01  13.0  16.0           2.0     8.0  2017.0  \n",
       "4         0.01  13.0  16.0           2.0     8.0  2017.0  \n",
       "\n",
       "[5 rows x 33 columns]"
      ]
     },
     "execution_count": 43,
     "metadata": {},
     "output_type": "execute_result"
    }
   ],
   "source": [
    "data_path = '../data/odb-2-master-thesis/exp1_14drivers_14cars_dailyRoutes_formatted.csv' \n",
    "\n",
    "df = pd.read_csv(data_path)\n",
    "df['TIMESTAMP'] = pd.to_datetime(df['TIMESTAMP'], unit='ms')\n",
    "\n",
    "df.head()"
   ]
  },
  {
   "cell_type": "code",
   "execution_count": 44,
   "id": "c7f050b2",
   "metadata": {},
   "outputs": [
    {
     "name": "stdout",
     "output_type": "stream",
     "text": [
      "<class 'pandas.core.frame.DataFrame'>\n",
      "RangeIndex: 47514 entries, 0 to 47513\n",
      "Data columns (total 33 columns):\n",
      " #   Column                       Non-Null Count  Dtype         \n",
      "---  ------                       --------------  -----         \n",
      " 0   TIMESTAMP                    47514 non-null  datetime64[ns]\n",
      " 1   MARK                         47459 non-null  object        \n",
      " 2   MODEL                        47459 non-null  object        \n",
      " 3   CAR_YEAR                     47459 non-null  float64       \n",
      " 4   ENGINE_POWER                 47459 non-null  float64       \n",
      " 5   AUTOMATIC                    47459 non-null  object        \n",
      " 6   VEHICLE_ID                   47514 non-null  object        \n",
      " 7   BAROMETRIC_PRESSURE(KPA)     10212 non-null  float64       \n",
      " 8   ENGINE_COOLANT_TEMP          33964 non-null  float64       \n",
      " 9   FUEL_LEVEL                   2994 non-null   float64       \n",
      " 10  ENGINE_LOAD                  30972 non-null  float64       \n",
      " 11  AMBIENT_AIR_TEMP             3619 non-null   float64       \n",
      " 12  ENGINE_RPM                   33859 non-null  float64       \n",
      " 13  INTAKE_MANIFOLD_PRESSURE     25089 non-null  float64       \n",
      " 14  MAF                          11828 non-null  float64       \n",
      " 15  LONG TERM FUEL TRIM BANK 2   13070 non-null  float64       \n",
      " 16  FUEL_TYPE                    20005 non-null  object        \n",
      " 17  AIR_INTAKE_TEMP              34352 non-null  float64       \n",
      " 18  FUEL_PRESSURE                138 non-null    float64       \n",
      " 19  SPEED                        46529 non-null  float64       \n",
      " 20  SHORT TERM FUEL TRIM BANK 2  13070 non-null  float64       \n",
      " 21  SHORT TERM FUEL TRIM BANK 1  37595 non-null  float64       \n",
      " 22  ENGINE_RUNTIME               11902 non-null  object        \n",
      " 23  THROTTLE_POS                 33859 non-null  float64       \n",
      " 24  DTC_NUMBER                   47142 non-null  object        \n",
      " 25  TROUBLE_CODES                11925 non-null  object        \n",
      " 26  TIMING_ADVANCE               34162 non-null  float64       \n",
      " 27  EQUIV_RATIO                  11896 non-null  float64       \n",
      " 28  MIN                          47512 non-null  float64       \n",
      " 29  HOURS                        47512 non-null  float64       \n",
      " 30  DAYS_OF_WEEK                 47512 non-null  float64       \n",
      " 31  MONTHS                       47512 non-null  float64       \n",
      " 32  YEAR                         47512 non-null  float64       \n",
      "dtypes: datetime64[ns](1), float64(24), object(8)\n",
      "memory usage: 12.0+ MB\n"
     ]
    }
   ],
   "source": [
    "df.info()"
   ]
  },
  {
   "cell_type": "code",
   "execution_count": 61,
   "id": "a8211533",
   "metadata": {
    "scrolled": false
   },
   "outputs": [
    {
     "data": {
      "image/png": "[encoded data removed]",
      "text/plain": [
       "<Figure size 1080x360 with 2 Axes>"
      ]
     },
     "metadata": {
      "needs_background": "light"
     },
     "output_type": "display_data"
    }
   ],
   "source": [
    "def plot_missing_counts(dataset):\n",
    "    # Leere Subplots (Barplots) erstellen\n",
    "    fig, (ax1, ax2) = plt.subplots(1, 2, figsize=(15, 5))\n",
    "\n",
    "    features = dataset.count().index\n",
    "    values = dataset.count().values\n",
    "    \n",
    "    # Das Barplot 1.a konfigurieren\n",
    "    ax1.set_title(\"Anzahl der vollständigen Daten pro Variable\")\n",
    "    ax1.set_ylabel(\"Anzahl\")\n",
    "    ax1.set_xticklabels(features, rotation=90)\n",
    "    sns.barplot(features, values, ax=ax1, color=\"blue\")\n",
    "\n",
    "    # Das Barplot 1.b konfigurieren\n",
    "    values = (len(dataset.index) - dataset.count().values) / len(dataset.index)\n",
    "    ax2.set_title(\"Relative Häufigkeit der unvollständigen Daten\")\n",
    "    ax2.set_ylabel(\"Relative Häufigkeit\")\n",
    "    ax2.set_xticklabels(features, rotation=90)\n",
    "    sns.barplot(features, values, ax=ax2, color=\"blue\")\n",
    "\n",
    "    plt.show()\n",
    "    \n",
    "plot_missing_counts(df)"
   ]
  },
  {
   "cell_type": "code",
   "execution_count": 96,
   "id": "0509f27d",
   "metadata": {},
   "outputs": [
    {
     "name": "stdout",
     "output_type": "stream",
     "text": [
      "Index(['AIR_INTAKE_TEMP', 'ENGINE_COOLANT_TEMP', 'ENGINE_LOAD', 'ENGINE_RPM',\n",
      "       'SHORT TERM FUEL TRIM BANK 1', 'SPEED', 'THROTTLE_POS', 'TIMESTAMP',\n",
      "       'TIMING_ADVANCE', 'TROUBLE_CODES', 'VEHICLE_ID'],\n",
      "      dtype='object')\n"
     ]
    }
   ],
   "source": [
    "cols = [\"BAROMETRIC_PRESSURE(KPA)\", \"FUEL_LEVEL\", \"AMBIENT_AIR_TEMP\", \"MAF\", \"LONG TERM FUEL TRIM BANK 2\", \n",
    "        \"INTAKE_MANIFOLD_PRESSURE\", \"FUEL_TYPE\", \"FUEL_PRESSURE\", \"SHORT TERM FUEL TRIM BANK 2\", \n",
    "        \"ENGINE_RUNTIME\", \"EQUIV_RATIO\", \"MARK\", \"MODEL\", \"CAR_YEAR\", \"ENGINE_POWER\", \"AUTOMATIC\", \n",
    "        \"FUEL_TYPE\", \"DTC_NUMBER\", \"DAYS_OF_WEEK\", \"HOURS\", \"MIN\", \"MONTHS\", \"YEAR\"]\n",
    "\n",
    "selected_columns = df.columns.difference(cols)\n",
    "\n",
    "print(selected_columns)"
   ]
  },
  {
   "cell_type": "code",
   "execution_count": 98,
   "id": "db0627b8",
   "metadata": {},
   "outputs": [
    {
     "name": "stdout",
     "output_type": "stream",
     "text": [
      "<class 'pandas.core.frame.DataFrame'>\n",
      "RangeIndex: 47514 entries, 0 to 47513\n",
      "Data columns (total 11 columns):\n",
      " #   Column                       Non-Null Count  Dtype         \n",
      "---  ------                       --------------  -----         \n",
      " 0   AIR_INTAKE_TEMP              34352 non-null  float64       \n",
      " 1   ENGINE_COOLANT_TEMP          33964 non-null  float64       \n",
      " 2   ENGINE_LOAD                  30972 non-null  float64       \n",
      " 3   ENGINE_RPM                   33859 non-null  float64       \n",
      " 4   SHORT TERM FUEL TRIM BANK 1  37595 non-null  float64       \n",
      " 5   SPEED                        46529 non-null  float64       \n",
      " 6   THROTTLE_POS                 33859 non-null  float64       \n",
      " 7   TIMESTAMP                    47514 non-null  datetime64[ns]\n",
      " 8   TIMING_ADVANCE               34162 non-null  float64       \n",
      " 9   TROUBLE_CODES                11925 non-null  object        \n",
      " 10  VEHICLE_ID                   47514 non-null  object        \n",
      "dtypes: datetime64[ns](1), float64(8), object(2)\n",
      "memory usage: 4.0+ MB\n"
     ]
    }
   ],
   "source": [
    "df[selected_columns].info()"
   ]
  },
  {
   "cell_type": "code",
   "execution_count": 103,
   "id": "7ba2b822",
   "metadata": {},
   "outputs": [
    {
     "data": {
      "image/png": "[encoded data removed]",
      "text/plain": [
       "<Figure size 1080x360 with 2 Axes>"
      ]
     },
     "metadata": {
      "needs_background": "light"
     },
     "output_type": "display_data"
    }
   ],
   "source": [
    "plot_missing_counts(df[selected_columns])"
   ]
  },
  {
   "cell_type": "code",
   "execution_count": 100,
   "id": "a233e9c9",
   "metadata": {},
   "outputs": [
    {
     "data": {
      "text/plain": [
       "Index(['AIR_INTAKE_TEMP', 'ENGINE_COOLANT_TEMP', 'ENGINE_LOAD', 'ENGINE_RPM',\n",
       "       'SHORT TERM FUEL TRIM BANK 1', 'SPEED', 'THROTTLE_POS', 'TIMESTAMP',\n",
       "       'TIMING_ADVANCE', 'VEHICLE_ID'],\n",
       "      dtype='object')"
      ]
     },
     "execution_count": 100,
     "metadata": {},
     "output_type": "execute_result"
    }
   ],
   "source": [
    "selected_columns.difference([\"TROUBLE_CODES\"])"
   ]
  },
  {
   "cell_type": "code",
   "execution_count": 91,
   "id": "20bfa85f",
   "metadata": {},
   "outputs": [
    {
     "data": {
      "text/plain": [
       "array(['car1', 'car7', 'car3', 'car4', 'car5', 'car6', 'car8', 'car11',\n",
       "       'car2', 'car9', 'car10', 'car12', 'car13', 'car14'], dtype=object)"
      ]
     },
     "execution_count": 91,
     "metadata": {},
     "output_type": "execute_result"
    }
   ],
   "source": [
    "df[\"VEHICLE_ID\"].unique()"
   ]
  },
  {
   "cell_type": "code",
   "execution_count": 102,
   "id": "72511677",
   "metadata": {},
   "outputs": [
    {
     "data": {
      "image/png": "[encoded data removed]",
      "text/plain": [
       "<Figure size 1080x360 with 2 Axes>"
      ]
     },
     "metadata": {
      "needs_background": "light"
     },
     "output_type": "display_data"
    }
   ],
   "source": [
    "plot_missing_counts(\n",
    "    df[selected_columns.difference([\"TROUBLE_CODES\", \"VEHICLE_ID\"])]\n",
    ")"
   ]
  },
  {
   "cell_type": "code",
   "execution_count": 66,
   "id": "fd179086",
   "metadata": {},
   "outputs": [
    {
     "data": {
      "image/png": "[encoded data removed]",
      "text/plain": [
       "<Figure size 432x288 with 1 Axes>"
      ]
     },
     "metadata": {
      "needs_background": "light"
     },
     "output_type": "display_data"
    }
   ],
   "source": [
    "plt.plot(df[\"AIR_INTAKE_TEMP\"])\n",
    "plt.show()"
   ]
  },
  {
   "cell_type": "code",
   "execution_count": 83,
   "id": "9b44630d",
   "metadata": {},
   "outputs": [
    {
     "data": {
      "image/png": "[encoded data removed]",
      "text/plain": [
       "<Figure size 432x288 with 1 Axes>"
      ]
     },
     "metadata": {
      "needs_background": "light"
     },
     "output_type": "display_data"
    }
   ],
   "source": [
    "plt.plot(df[col_name].interpolate(method=\"linear\").values)\n",
    "plt.show()"
   ]
  },
  {
   "cell_type": "code",
   "execution_count": null,
   "id": "5ed5390c",
   "metadata": {},
   "outputs": [],
   "source": [
    "df2 = df[col_name].interpolate(method=\"spline\")\n",
    "\n",
    "plt.plot(df2.values)\n",
    "plt.show()"
   ]
  },
  {
   "cell_type": "code",
   "execution_count": 107,
   "id": "83d19d6f",
   "metadata": {},
   "outputs": [
    {
     "data": {
      "text/html": [
       "<div>\n",
       "<style scoped>\n",
       "    .dataframe tbody tr th:only-of-type {\n",
       "        vertical-align: middle;\n",
       "    }\n",
       "\n",
       "    .dataframe tbody tr th {\n",
       "        vertical-align: top;\n",
       "    }\n",
       "\n",
       "    .dataframe thead th {\n",
       "        text-align: right;\n",
       "    }\n",
       "</style>\n",
       "<table border=\"1\" class=\"dataframe\">\n",
       "  <thead>\n",
       "    <tr style=\"text-align: right;\">\n",
       "      <th></th>\n",
       "      <th>AIR_INTAKE_TEMP</th>\n",
       "      <th>ENGINE_COOLANT_TEMP</th>\n",
       "      <th>ENGINE_LOAD</th>\n",
       "      <th>ENGINE_RPM</th>\n",
       "      <th>SHORT TERM FUEL TRIM BANK 1</th>\n",
       "      <th>SPEED</th>\n",
       "      <th>THROTTLE_POS</th>\n",
       "      <th>TIMING_ADVANCE</th>\n",
       "    </tr>\n",
       "  </thead>\n",
       "  <tbody>\n",
       "    <tr>\n",
       "      <th>count</th>\n",
       "      <td>34352.000000</td>\n",
       "      <td>33964.000000</td>\n",
       "      <td>30972.000000</td>\n",
       "      <td>33859.000000</td>\n",
       "      <td>37595.000000</td>\n",
       "      <td>46529.000000</td>\n",
       "      <td>33859.000000</td>\n",
       "      <td>34162.000000</td>\n",
       "    </tr>\n",
       "    <tr>\n",
       "      <th>mean</th>\n",
       "      <td>41.243101</td>\n",
       "      <td>81.772023</td>\n",
       "      <td>0.404915</td>\n",
       "      <td>1517.803391</td>\n",
       "      <td>-0.349164</td>\n",
       "      <td>24.743751</td>\n",
       "      <td>0.179412</td>\n",
       "      <td>0.549504</td>\n",
       "    </tr>\n",
       "    <tr>\n",
       "      <th>std</th>\n",
       "      <td>8.517170</td>\n",
       "      <td>10.910737</td>\n",
       "      <td>0.214347</td>\n",
       "      <td>613.937502</td>\n",
       "      <td>0.538568</td>\n",
       "      <td>29.294017</td>\n",
       "      <td>0.088885</td>\n",
       "      <td>0.177077</td>\n",
       "    </tr>\n",
       "    <tr>\n",
       "      <th>min</th>\n",
       "      <td>23.000000</td>\n",
       "      <td>22.000000</td>\n",
       "      <td>0.051000</td>\n",
       "      <td>438.000000</td>\n",
       "      <td>-1.000000</td>\n",
       "      <td>0.000000</td>\n",
       "      <td>0.008000</td>\n",
       "      <td>0.004000</td>\n",
       "    </tr>\n",
       "    <tr>\n",
       "      <th>25%</th>\n",
       "      <td>35.000000</td>\n",
       "      <td>78.000000</td>\n",
       "      <td>0.255000</td>\n",
       "      <td>906.000000</td>\n",
       "      <td>-1.000000</td>\n",
       "      <td>0.000000</td>\n",
       "      <td>0.125000</td>\n",
       "      <td>0.498000</td>\n",
       "    </tr>\n",
       "    <tr>\n",
       "      <th>50%</th>\n",
       "      <td>40.000000</td>\n",
       "      <td>85.000000</td>\n",
       "      <td>0.388000</td>\n",
       "      <td>1487.000000</td>\n",
       "      <td>-0.039000</td>\n",
       "      <td>14.000000</td>\n",
       "      <td>0.176000</td>\n",
       "      <td>0.584000</td>\n",
       "    </tr>\n",
       "    <tr>\n",
       "      <th>75%</th>\n",
       "      <td>47.000000</td>\n",
       "      <td>88.000000</td>\n",
       "      <td>0.494000</td>\n",
       "      <td>1957.000000</td>\n",
       "      <td>0.008000</td>\n",
       "      <td>42.000000</td>\n",
       "      <td>0.231000</td>\n",
       "      <td>0.675000</td>\n",
       "    </tr>\n",
       "    <tr>\n",
       "      <th>max</th>\n",
       "      <td>80.000000</td>\n",
       "      <td>105.000000</td>\n",
       "      <td>1.000000</td>\n",
       "      <td>3816.000000</td>\n",
       "      <td>0.992000</td>\n",
       "      <td>143.000000</td>\n",
       "      <td>0.871000</td>\n",
       "      <td>0.878000</td>\n",
       "    </tr>\n",
       "  </tbody>\n",
       "</table>\n",
       "</div>"
      ],
      "text/plain": [
       "       AIR_INTAKE_TEMP  ENGINE_COOLANT_TEMP   ENGINE_LOAD    ENGINE_RPM  \\\n",
       "count     34352.000000         33964.000000  30972.000000  33859.000000   \n",
       "mean         41.243101            81.772023      0.404915   1517.803391   \n",
       "std           8.517170            10.910737      0.214347    613.937502   \n",
       "min          23.000000            22.000000      0.051000    438.000000   \n",
       "25%          35.000000            78.000000      0.255000    906.000000   \n",
       "50%          40.000000            85.000000      0.388000   1487.000000   \n",
       "75%          47.000000            88.000000      0.494000   1957.000000   \n",
       "max          80.000000           105.000000      1.000000   3816.000000   \n",
       "\n",
       "       SHORT TERM FUEL TRIM BANK 1         SPEED  THROTTLE_POS  TIMING_ADVANCE  \n",
       "count                 37595.000000  46529.000000  33859.000000    34162.000000  \n",
       "mean                     -0.349164     24.743751      0.179412        0.549504  \n",
       "std                       0.538568     29.294017      0.088885        0.177077  \n",
       "min                      -1.000000      0.000000      0.008000        0.004000  \n",
       "25%                      -1.000000      0.000000      0.125000        0.498000  \n",
       "50%                      -0.039000     14.000000      0.176000        0.584000  \n",
       "75%                       0.008000     42.000000      0.231000        0.675000  \n",
       "max                       0.992000    143.000000      0.871000        0.878000  "
      ]
     },
     "execution_count": 107,
     "metadata": {},
     "output_type": "execute_result"
    }
   ],
   "source": [
    "df[selected_columns.difference([\"TROUBLE_CODES\", \"VEHICLE_ID\"])].describe()"
   ]
  },
  {
   "cell_type": "code",
   "execution_count": 121,
   "id": "11027693",
   "metadata": {},
   "outputs": [
    {
     "name": "stdout",
     "output_type": "stream",
     "text": [
      "AIR_INTAKE_TEMP\n",
      "ENGINE_COOLANT_TEMP\n",
      "ENGINE_LOAD\n",
      "ENGINE_RPM\n",
      "SHORT TERM FUEL TRIM BANK 1\n",
      "SPEED\n",
      "THROTTLE_POS\n",
      "TIMING_ADVANCE\n"
     ]
    }
   ],
   "source": [
    "df_interpolated = pd.DataFrame()\n",
    "\n",
    "for col in selected_columns.difference([\"TROUBLE_CODES\", \"VEHICLE_ID\", \"TIMESTAMP\"]):\n",
    "    print(col)\n",
    "    df_interpolated[col] = df[col].interpolate(method=\"linear\")"
   ]
  },
  {
   "cell_type": "code",
   "execution_count": 123,
   "id": "df7ae86a",
   "metadata": {},
   "outputs": [
    {
     "name": "stdout",
     "output_type": "stream",
     "text": [
      "<class 'pandas.core.frame.DataFrame'>\n",
      "RangeIndex: 47514 entries, 0 to 47513\n",
      "Data columns (total 8 columns):\n",
      " #   Column                       Non-Null Count  Dtype  \n",
      "---  ------                       --------------  -----  \n",
      " 0   AIR_INTAKE_TEMP              47514 non-null  float64\n",
      " 1   ENGINE_COOLANT_TEMP          47514 non-null  float64\n",
      " 2   ENGINE_LOAD                  47514 non-null  float64\n",
      " 3   ENGINE_RPM                   47514 non-null  float64\n",
      " 4   SHORT TERM FUEL TRIM BANK 1  46692 non-null  float64\n",
      " 5   SPEED                        47514 non-null  float64\n",
      " 6   THROTTLE_POS                 47514 non-null  float64\n",
      " 7   TIMING_ADVANCE               47514 non-null  float64\n",
      "dtypes: float64(8)\n",
      "memory usage: 2.9 MB\n"
     ]
    }
   ],
   "source": [
    "df_interpolated.info()"
   ]
  },
  {
   "cell_type": "code",
   "execution_count": 133,
   "id": "089c18f6",
   "metadata": {},
   "outputs": [],
   "source": [
    "df_interpolated[\"SHORT TERM FUEL TRIM BANK 1\"] = df_interpolated[\"SHORT TERM FUEL TRIM BANK 1\"].fillna(0)"
   ]
  },
  {
   "cell_type": "code",
   "execution_count": 137,
   "id": "5d6b2222",
   "metadata": {},
   "outputs": [],
   "source": [
    "df_interpolated[[\"TROUBLE_CODES\", \"VEHICLE_ID\", \"TIMESTAMP\"]] = df[[\"TROUBLE_CODES\", \"VEHICLE_ID\", \"TIMESTAMP\"]]"
   ]
  },
  {
   "cell_type": "code",
   "execution_count": 138,
   "id": "f4460203",
   "metadata": {},
   "outputs": [
    {
     "name": "stdout",
     "output_type": "stream",
     "text": [
      "<class 'pandas.core.frame.DataFrame'>\n",
      "RangeIndex: 47514 entries, 0 to 47513\n",
      "Data columns (total 11 columns):\n",
      " #   Column                       Non-Null Count  Dtype         \n",
      "---  ------                       --------------  -----         \n",
      " 0   AIR_INTAKE_TEMP              47514 non-null  float64       \n",
      " 1   ENGINE_COOLANT_TEMP          47514 non-null  float64       \n",
      " 2   ENGINE_LOAD                  47514 non-null  float64       \n",
      " 3   ENGINE_RPM                   47514 non-null  float64       \n",
      " 4   SHORT TERM FUEL TRIM BANK 1  47514 non-null  float64       \n",
      " 5   SPEED                        47514 non-null  float64       \n",
      " 6   THROTTLE_POS                 47514 non-null  float64       \n",
      " 7   TIMING_ADVANCE               47514 non-null  float64       \n",
      " 8   TROUBLE_CODES                11925 non-null  object        \n",
      " 9   VEHICLE_ID                   47514 non-null  object        \n",
      " 10  TIMESTAMP                    47514 non-null  datetime64[ns]\n",
      "dtypes: datetime64[ns](1), float64(8), object(2)\n",
      "memory usage: 4.0+ MB\n"
     ]
    }
   ],
   "source": [
    "df_interpolated.info()"
   ]
  },
  {
   "cell_type": "code",
   "execution_count": 134,
   "id": "b503071b",
   "metadata": {},
   "outputs": [
    {
     "data": {
      "image/png": "[encoded data removed]",
      "text/plain": [
       "<Figure size 432x288 with 1 Axes>"
      ]
     },
     "metadata": {
      "needs_background": "light"
     },
     "output_type": "display_data"
    }
   ],
   "source": [
    "plt.plot(df_interpolated[\"SHORT TERM FUEL TRIM BANK 1\"].index, \n",
    "         df_interpolated[\"SHORT TERM FUEL TRIM BANK 1\"].values)\n",
    "\n",
    "plt.show()"
   ]
  },
  {
   "cell_type": "code",
   "execution_count": 140,
   "id": "948a171e",
   "metadata": {},
   "outputs": [
    {
     "data": {
      "image/png": "[encoded data removed]",
      "text/plain": [
       "<Figure size 432x288 with 1 Axes>"
      ]
     },
     "metadata": {
      "needs_background": "light"
     },
     "output_type": "display_data"
    }
   ],
   "source": [
    "plt.plot(df[\"SHORT TERM FUEL TRIM BANK 1\"].index, \n",
    "         df[\"SHORT TERM FUEL TRIM BANK 1\"].values)\n",
    "\n",
    "plt.show()"
   ]
  },
  {
   "cell_type": "code",
   "execution_count": 141,
   "id": "c12de91f",
   "metadata": {},
   "outputs": [
    {
     "data": {
      "text/plain": [
       "array(['car1', 'car7', 'car3', 'car4', 'car5', 'car6', 'car8', 'car11',\n",
       "       'car2', 'car9', 'car10', 'car12', 'car13', 'car14'], dtype=object)"
      ]
     },
     "execution_count": 141,
     "metadata": {},
     "output_type": "execute_result"
    }
   ],
   "source": [
    "df[\"VEHICLE_ID\"].unique()"
   ]
  },
  {
   "cell_type": "code",
   "execution_count": 183,
   "id": "8e8ae417",
   "metadata": {},
   "outputs": [
    {
     "name": "stdout",
     "output_type": "stream",
     "text": [
      "VEHICLE_ID: car1\n",
      "Num rows: 13617\n",
      "TROUBLE_CODES unique values: [nan]\n",
      "TROUBLE_CODES:\n",
      " Series([], Name: TROUBLE_CODES, dtype: int64)\n",
      "\n",
      "VEHICLE_ID: car7\n",
      "Num rows: 507\n",
      "TROUBLE_CODES unique values: [nan]\n",
      "TROUBLE_CODES:\n",
      " Series([], Name: TROUBLE_CODES, dtype: int64)\n",
      "\n",
      "VEHICLE_ID: car3\n",
      "Num rows: 903\n",
      "TROUBLE_CODES unique values: [nan]\n",
      "TROUBLE_CODES:\n",
      " Series([], Name: TROUBLE_CODES, dtype: int64)\n",
      "\n",
      "VEHICLE_ID: car4\n",
      "Num rows: 2920\n",
      "TROUBLE_CODES unique values: [nan]\n",
      "TROUBLE_CODES:\n",
      " Series([], Name: TROUBLE_CODES, dtype: int64)\n",
      "\n",
      "VEHICLE_ID: car5\n",
      "Num rows: 55\n",
      "TROUBLE_CODES unique values: [nan]\n",
      "TROUBLE_CODES:\n",
      " Series([], Name: TROUBLE_CODES, dtype: int64)\n",
      "\n",
      "VEHICLE_ID: car6\n",
      "Num rows: 6184\n",
      "TROUBLE_CODES unique values: ['P0133' nan]\n",
      "TROUBLE_CODES:\n",
      " P0133    6070\n",
      "Name: TROUBLE_CODES, dtype: int64\n",
      "\n",
      "VEHICLE_ID: car8\n",
      "Num rows: 5574\n",
      "TROUBLE_CODES unique values: [nan]\n",
      "TROUBLE_CODES:\n",
      " Series([], Name: TROUBLE_CODES, dtype: int64)\n",
      "\n",
      "VEHICLE_ID: car11\n",
      "Num rows: 7485\n",
      "TROUBLE_CODES unique values: [nan]\n",
      "TROUBLE_CODES:\n",
      " Series([], Name: TROUBLE_CODES, dtype: int64)\n",
      "\n",
      "VEHICLE_ID: car2\n",
      "Num rows: 138\n",
      "TROUBLE_CODES unique values: [nan]\n",
      "TROUBLE_CODES:\n",
      " Series([], Name: TROUBLE_CODES, dtype: int64)\n",
      "\n",
      "VEHICLE_ID: car9\n",
      "Num rows: 6018\n",
      "TROUBLE_CODES unique values: ['C0300' nan]\n",
      "TROUBLE_CODES:\n",
      " C0300    5673\n",
      "Name: TROUBLE_CODES, dtype: int64\n",
      "\n",
      "VEHICLE_ID: car10\n",
      "Num rows: 7\n",
      "TROUBLE_CODES unique values: [nan]\n",
      "TROUBLE_CODES:\n",
      " Series([], Name: TROUBLE_CODES, dtype: int64)\n",
      "\n",
      "VEHICLE_ID: car12\n",
      "Num rows: 1866\n",
      "TROUBLE_CODES unique values: [nan]\n",
      "TROUBLE_CODES:\n",
      " Series([], Name: TROUBLE_CODES, dtype: int64)\n",
      "\n",
      "VEHICLE_ID: car13\n",
      "Num rows: 2060\n",
      "TROUBLE_CODES unique values: [nan 'P0079P2004P3000' 'P0078U1004P3000' 'P0079C1004P3000'\n",
      " 'P007EP2036P18F0' 'P007EP2036P18D0' 'P007FP2036P18D0' 'P0079P1004P3000'\n",
      " 'P007EP2036P18E0' 'P007FP2036P18E0' 'P0078B0004P3000' 'P007FP2036P18F0']\n",
      "TROUBLE_CODES:\n",
      " P0079P2004P3000    48\n",
      "P0079C1004P3000    30\n",
      "P0078U1004P3000    29\n",
      "P007EP2036P18D0    20\n",
      "P007EP2036P18E0    18\n",
      "P0078B0004P3000    12\n",
      "P007EP2036P18F0     9\n",
      "P0079P1004P3000     5\n",
      "P007FP2036P18E0     5\n",
      "P007FP2036P18D0     3\n",
      "P007FP2036P18F0     3\n",
      "Name: TROUBLE_CODES, dtype: int64\n",
      "\n",
      "VEHICLE_ID: car14\n",
      "Num rows: 180\n",
      "TROUBLE_CODES unique values: [nan]\n",
      "TROUBLE_CODES:\n",
      " Series([], Name: TROUBLE_CODES, dtype: int64)\n",
      "\n"
     ]
    }
   ],
   "source": [
    "for car_id in df_interpolated[\"VEHICLE_ID\"].unique():\n",
    "    print(\"VEHICLE_ID:\", car_id)\n",
    "    trouble_codes = df_interpolated[df_interpolated[\"VEHICLE_ID\"] == car_id][\"TROUBLE_CODES\"]\n",
    "    print(\"Num rows:\", len(trouble_codes))\n",
    "    print(\"TROUBLE_CODES unique values:\", trouble_codes.unique())\n",
    "    print(\"TROUBLE_CODES:\\n\", trouble_codes.value_counts())\n",
    "    print(\"\")\n",
    "    \n",
    "    "
   ]
  },
  {
   "cell_type": "code",
   "execution_count": null,
   "id": "18b196d2",
   "metadata": {},
   "outputs": [],
   "source": [
    "df_interpolated[\"TROUBLE_CODES_BINARY\"] = (df_interpolated[\"TROUBLE_CODES\"].notnull() * 1)"
   ]
  },
  {
   "cell_type": "code",
   "execution_count": 177,
   "id": "fa1c838c",
   "metadata": {},
   "outputs": [
    {
     "name": "stdout",
     "output_type": "stream",
     "text": [
      "ERROR! Session/line number was not unique in database. History logging moved to new session 70\n",
      "<class 'pandas.core.frame.DataFrame'>\n",
      "RangeIndex: 47514 entries, 0 to 47513\n",
      "Data columns (total 12 columns):\n",
      " #   Column                       Non-Null Count  Dtype         \n",
      "---  ------                       --------------  -----         \n",
      " 0   AIR_INTAKE_TEMP              47514 non-null  float64       \n",
      " 1   ENGINE_COOLANT_TEMP          47514 non-null  float64       \n",
      " 2   ENGINE_LOAD                  47514 non-null  float64       \n",
      " 3   ENGINE_RPM                   47514 non-null  float64       \n",
      " 4   SHORT TERM FUEL TRIM BANK 1  47514 non-null  float64       \n",
      " 5   SPEED                        47514 non-null  float64       \n",
      " 6   THROTTLE_POS                 47514 non-null  float64       \n",
      " 7   TIMING_ADVANCE               47514 non-null  float64       \n",
      " 8   TROUBLE_CODES                11925 non-null  object        \n",
      " 9   VEHICLE_ID                   47514 non-null  object        \n",
      " 10  TIMESTAMP                    47514 non-null  datetime64[ns]\n",
      " 11  TROUBLE_CODES_BINARY         47514 non-null  int64         \n",
      "dtypes: datetime64[ns](1), float64(8), int64(1), object(2)\n",
      "memory usage: 4.4+ MB\n"
     ]
    }
   ],
   "source": [
    "df_interpolated.info()"
   ]
  },
  {
   "cell_type": "code",
   "execution_count": null,
   "id": "f5a065fd",
   "metadata": {},
   "outputs": [],
   "source": [
    "%%time\n",
    "\n",
    "df3 = df_interpolated[df_interpolated.columns.difference([\"TROUBLE_CODES\"])].head(1000)\n",
    "\n",
    "window_size = 89\n",
    "\n",
    "df_rolling = roll_time_series(df3, \n",
    "                              column_id=\"VEHICLE_ID\", \n",
    "                              column_sort=\"TIMESTAMP\", \n",
    "                              max_timeshift=window_size, \n",
    "                              min_timeshift=window_size, \n",
    "                              n_jobs=1)\n",
    "df_rolling.head()"
   ]
  },
  {
   "cell_type": "code",
   "execution_count": 200,
   "id": "3b4c01ed",
   "metadata": {},
   "outputs": [],
   "source": [
    "df_interpolated.to_csv('../data/odb-2-master-thesis/exp1_14drivers_14cars_dailyRoutes_interpolated.csv', index=False)"
   ]
  },
  {
   "cell_type": "markdown",
   "id": "c7f2075c",
   "metadata": {},
   "source": [
    "## Create sliding windows"
   ]
  },
  {
   "cell_type": "code",
   "execution_count": 2,
   "id": "92c25381",
   "metadata": {},
   "outputs": [
    {
     "data": {
      "text/html": [
       "<div>\n",
       "<style scoped>\n",
       "    .dataframe tbody tr th:only-of-type {\n",
       "        vertical-align: middle;\n",
       "    }\n",
       "\n",
       "    .dataframe tbody tr th {\n",
       "        vertical-align: top;\n",
       "    }\n",
       "\n",
       "    .dataframe thead th {\n",
       "        text-align: right;\n",
       "    }\n",
       "</style>\n",
       "<table border=\"1\" class=\"dataframe\">\n",
       "  <thead>\n",
       "    <tr style=\"text-align: right;\">\n",
       "      <th></th>\n",
       "      <th>AIR_INTAKE_TEMP</th>\n",
       "      <th>ENGINE_COOLANT_TEMP</th>\n",
       "      <th>ENGINE_LOAD</th>\n",
       "      <th>ENGINE_RPM</th>\n",
       "      <th>SHORT TERM FUEL TRIM BANK 1</th>\n",
       "      <th>SPEED</th>\n",
       "      <th>THROTTLE_POS</th>\n",
       "      <th>TIMING_ADVANCE</th>\n",
       "      <th>TROUBLE_CODES</th>\n",
       "      <th>VEHICLE_ID</th>\n",
       "      <th>TIMESTAMP</th>\n",
       "      <th>TROUBLE_CODES_BINARY</th>\n",
       "    </tr>\n",
       "  </thead>\n",
       "  <tbody>\n",
       "    <tr>\n",
       "      <th>0</th>\n",
       "      <td>59.0</td>\n",
       "      <td>80.0</td>\n",
       "      <td>0.333</td>\n",
       "      <td>1009.0</td>\n",
       "      <td>0.0</td>\n",
       "      <td>0.0</td>\n",
       "      <td>0.251</td>\n",
       "      <td>0.569</td>\n",
       "      <td>NaN</td>\n",
       "      <td>car1</td>\n",
       "      <td>2017-08-16 16:55:04.267</td>\n",
       "      <td>0</td>\n",
       "    </tr>\n",
       "    <tr>\n",
       "      <th>1</th>\n",
       "      <td>59.0</td>\n",
       "      <td>80.0</td>\n",
       "      <td>0.325</td>\n",
       "      <td>1003.0</td>\n",
       "      <td>0.0</td>\n",
       "      <td>0.0</td>\n",
       "      <td>0.251</td>\n",
       "      <td>0.565</td>\n",
       "      <td>NaN</td>\n",
       "      <td>car1</td>\n",
       "      <td>2017-08-16 16:55:12.283</td>\n",
       "      <td>0</td>\n",
       "    </tr>\n",
       "    <tr>\n",
       "      <th>2</th>\n",
       "      <td>59.0</td>\n",
       "      <td>80.0</td>\n",
       "      <td>0.329</td>\n",
       "      <td>995.0</td>\n",
       "      <td>0.0</td>\n",
       "      <td>0.0</td>\n",
       "      <td>0.251</td>\n",
       "      <td>0.573</td>\n",
       "      <td>NaN</td>\n",
       "      <td>car1</td>\n",
       "      <td>2017-08-16 16:55:20.291</td>\n",
       "      <td>0</td>\n",
       "    </tr>\n",
       "    <tr>\n",
       "      <th>3</th>\n",
       "      <td>60.0</td>\n",
       "      <td>80.0</td>\n",
       "      <td>0.325</td>\n",
       "      <td>1004.0</td>\n",
       "      <td>0.0</td>\n",
       "      <td>0.0</td>\n",
       "      <td>0.251</td>\n",
       "      <td>0.565</td>\n",
       "      <td>NaN</td>\n",
       "      <td>car1</td>\n",
       "      <td>2017-08-16 16:55:28.300</td>\n",
       "      <td>0</td>\n",
       "    </tr>\n",
       "    <tr>\n",
       "      <th>4</th>\n",
       "      <td>60.0</td>\n",
       "      <td>80.0</td>\n",
       "      <td>0.329</td>\n",
       "      <td>1005.0</td>\n",
       "      <td>0.0</td>\n",
       "      <td>0.0</td>\n",
       "      <td>0.251</td>\n",
       "      <td>0.569</td>\n",
       "      <td>NaN</td>\n",
       "      <td>car1</td>\n",
       "      <td>2017-08-16 16:55:36.320</td>\n",
       "      <td>0</td>\n",
       "    </tr>\n",
       "  </tbody>\n",
       "</table>\n",
       "</div>"
      ],
      "text/plain": [
       "   AIR_INTAKE_TEMP  ENGINE_COOLANT_TEMP  ENGINE_LOAD  ENGINE_RPM  \\\n",
       "0             59.0                 80.0        0.333      1009.0   \n",
       "1             59.0                 80.0        0.325      1003.0   \n",
       "2             59.0                 80.0        0.329       995.0   \n",
       "3             60.0                 80.0        0.325      1004.0   \n",
       "4             60.0                 80.0        0.329      1005.0   \n",
       "\n",
       "   SHORT TERM FUEL TRIM BANK 1  SPEED  THROTTLE_POS  TIMING_ADVANCE  \\\n",
       "0                          0.0    0.0         0.251           0.569   \n",
       "1                          0.0    0.0         0.251           0.565   \n",
       "2                          0.0    0.0         0.251           0.573   \n",
       "3                          0.0    0.0         0.251           0.565   \n",
       "4                          0.0    0.0         0.251           0.569   \n",
       "\n",
       "  TROUBLE_CODES VEHICLE_ID                TIMESTAMP  TROUBLE_CODES_BINARY  \n",
       "0           NaN       car1  2017-08-16 16:55:04.267                     0  \n",
       "1           NaN       car1  2017-08-16 16:55:12.283                     0  \n",
       "2           NaN       car1  2017-08-16 16:55:20.291                     0  \n",
       "3           NaN       car1  2017-08-16 16:55:28.300                     0  \n",
       "4           NaN       car1  2017-08-16 16:55:36.320                     0  "
      ]
     },
     "execution_count": 2,
     "metadata": {},
     "output_type": "execute_result"
    }
   ],
   "source": [
    "df = pd.read_csv(\"../data/odb-2-master-thesis/exp1_14drivers_14cars_dailyRoutes_interpolated.csv\")\n",
    "df.head()"
   ]
  },
  {
   "cell_type": "code",
   "execution_count": 37,
   "id": "9dd4a28d",
   "metadata": {
    "scrolled": false
   },
   "outputs": [
    {
     "name": "stderr",
     "output_type": "stream",
     "text": [
      "Rolling: 100%|████████████████████████████████████████████████████████████████| 40/40 [00:17<00:00,  2.25it/s]\n"
     ]
    },
    {
     "data": {
      "text/html": [
       "<div>\n",
       "<style scoped>\n",
       "    .dataframe tbody tr th:only-of-type {\n",
       "        vertical-align: middle;\n",
       "    }\n",
       "\n",
       "    .dataframe tbody tr th {\n",
       "        vertical-align: top;\n",
       "    }\n",
       "\n",
       "    .dataframe thead th {\n",
       "        text-align: right;\n",
       "    }\n",
       "</style>\n",
       "<table border=\"1\" class=\"dataframe\">\n",
       "  <thead>\n",
       "    <tr style=\"text-align: right;\">\n",
       "      <th></th>\n",
       "      <th>AIR_INTAKE_TEMP</th>\n",
       "      <th>ENGINE_COOLANT_TEMP</th>\n",
       "      <th>ENGINE_LOAD</th>\n",
       "      <th>ENGINE_RPM</th>\n",
       "      <th>SHORT TERM FUEL TRIM BANK 1</th>\n",
       "      <th>SPEED</th>\n",
       "      <th>THROTTLE_POS</th>\n",
       "      <th>TIMESTAMP</th>\n",
       "      <th>TIMING_ADVANCE</th>\n",
       "      <th>TROUBLE_CODES_BINARY</th>\n",
       "      <th>VEHICLE_ID</th>\n",
       "      <th>id</th>\n",
       "    </tr>\n",
       "  </thead>\n",
       "  <tbody>\n",
       "    <tr>\n",
       "      <th>0</th>\n",
       "      <td>59.0</td>\n",
       "      <td>80.0</td>\n",
       "      <td>0.333</td>\n",
       "      <td>1009.0</td>\n",
       "      <td>0.0</td>\n",
       "      <td>0.0</td>\n",
       "      <td>0.251</td>\n",
       "      <td>2017-08-16 16:55:04.267</td>\n",
       "      <td>0.569</td>\n",
       "      <td>0</td>\n",
       "      <td>car1</td>\n",
       "      <td>(car1, 2017-08-16 20:08:32.130)</td>\n",
       "    </tr>\n",
       "    <tr>\n",
       "      <th>1</th>\n",
       "      <td>59.0</td>\n",
       "      <td>80.0</td>\n",
       "      <td>0.325</td>\n",
       "      <td>1003.0</td>\n",
       "      <td>0.0</td>\n",
       "      <td>0.0</td>\n",
       "      <td>0.251</td>\n",
       "      <td>2017-08-16 16:55:12.283</td>\n",
       "      <td>0.565</td>\n",
       "      <td>0</td>\n",
       "      <td>car1</td>\n",
       "      <td>(car1, 2017-08-16 20:08:32.130)</td>\n",
       "    </tr>\n",
       "    <tr>\n",
       "      <th>2</th>\n",
       "      <td>59.0</td>\n",
       "      <td>80.0</td>\n",
       "      <td>0.329</td>\n",
       "      <td>995.0</td>\n",
       "      <td>0.0</td>\n",
       "      <td>0.0</td>\n",
       "      <td>0.251</td>\n",
       "      <td>2017-08-16 16:55:20.291</td>\n",
       "      <td>0.573</td>\n",
       "      <td>0</td>\n",
       "      <td>car1</td>\n",
       "      <td>(car1, 2017-08-16 20:08:32.130)</td>\n",
       "    </tr>\n",
       "    <tr>\n",
       "      <th>3</th>\n",
       "      <td>60.0</td>\n",
       "      <td>80.0</td>\n",
       "      <td>0.325</td>\n",
       "      <td>1004.0</td>\n",
       "      <td>0.0</td>\n",
       "      <td>0.0</td>\n",
       "      <td>0.251</td>\n",
       "      <td>2017-08-16 16:55:28.300</td>\n",
       "      <td>0.565</td>\n",
       "      <td>0</td>\n",
       "      <td>car1</td>\n",
       "      <td>(car1, 2017-08-16 20:08:32.130)</td>\n",
       "    </tr>\n",
       "    <tr>\n",
       "      <th>4</th>\n",
       "      <td>60.0</td>\n",
       "      <td>80.0</td>\n",
       "      <td>0.329</td>\n",
       "      <td>1005.0</td>\n",
       "      <td>0.0</td>\n",
       "      <td>0.0</td>\n",
       "      <td>0.251</td>\n",
       "      <td>2017-08-16 16:55:36.320</td>\n",
       "      <td>0.569</td>\n",
       "      <td>0</td>\n",
       "      <td>car1</td>\n",
       "      <td>(car1, 2017-08-16 20:08:32.130)</td>\n",
       "    </tr>\n",
       "  </tbody>\n",
       "</table>\n",
       "</div>"
      ],
      "text/plain": [
       "   AIR_INTAKE_TEMP  ENGINE_COOLANT_TEMP  ENGINE_LOAD  ENGINE_RPM  \\\n",
       "0             59.0                 80.0        0.333      1009.0   \n",
       "1             59.0                 80.0        0.325      1003.0   \n",
       "2             59.0                 80.0        0.329       995.0   \n",
       "3             60.0                 80.0        0.325      1004.0   \n",
       "4             60.0                 80.0        0.329      1005.0   \n",
       "\n",
       "   SHORT TERM FUEL TRIM BANK 1  SPEED  THROTTLE_POS                TIMESTAMP  \\\n",
       "0                          0.0    0.0         0.251  2017-08-16 16:55:04.267   \n",
       "1                          0.0    0.0         0.251  2017-08-16 16:55:12.283   \n",
       "2                          0.0    0.0         0.251  2017-08-16 16:55:20.291   \n",
       "3                          0.0    0.0         0.251  2017-08-16 16:55:28.300   \n",
       "4                          0.0    0.0         0.251  2017-08-16 16:55:36.320   \n",
       "\n",
       "   TIMING_ADVANCE  TROUBLE_CODES_BINARY VEHICLE_ID  \\\n",
       "0           0.569                     0       car1   \n",
       "1           0.565                     0       car1   \n",
       "2           0.573                     0       car1   \n",
       "3           0.565                     0       car1   \n",
       "4           0.569                     0       car1   \n",
       "\n",
       "                                id  \n",
       "0  (car1, 2017-08-16 20:08:32.130)  \n",
       "1  (car1, 2017-08-16 20:08:32.130)  \n",
       "2  (car1, 2017-08-16 20:08:32.130)  \n",
       "3  (car1, 2017-08-16 20:08:32.130)  \n",
       "4  (car1, 2017-08-16 20:08:32.130)  "
      ]
     },
     "execution_count": 37,
     "metadata": {},
     "output_type": "execute_result"
    }
   ],
   "source": [
    "selected_columns = df.columns.difference([\"TROUBLE_CODES\"])\n",
    "df_car1 = df[selected_columns]\n",
    "df_car1 = df_car1[df_car1[\"VEHICLE_ID\"] == \"car1\"]\n",
    "window_size = 89\n",
    "\n",
    "df_car1_windows = roll_time_series(df_car1, \n",
    "                                    column_id=\"VEHICLE_ID\", \n",
    "                                    column_sort=\"TIMESTAMP\", \n",
    "                                    max_timeshift=(window_size - 1), \n",
    "                                    min_timeshift=(window_size - 1), \n",
    "                                    n_jobs=8)\n",
    "df_car1_windows.head()"
   ]
  },
  {
   "cell_type": "code",
   "execution_count": 36,
   "id": "7aeb3b87",
   "metadata": {},
   "outputs": [
    {
     "data": {
      "text/plain": [
       "1204081"
      ]
     },
     "execution_count": 36,
     "metadata": {},
     "output_type": "execute_result"
    }
   ],
   "source": [
    "len(df_car1_windows)"
   ]
  },
  {
   "cell_type": "code",
   "execution_count": 58,
   "id": "cd8e5b09",
   "metadata": {},
   "outputs": [
    {
     "data": {
      "text/plain": [
       "88         0\n",
       "177        0\n",
       "266        0\n",
       "355        0\n",
       "444        0\n",
       "          ..\n",
       "1203724    0\n",
       "1203813    0\n",
       "1203902    0\n",
       "1203991    0\n",
       "1204080    0\n",
       "Name: TROUBLE_CODES_BINARY, Length: 13529, dtype: int64"
      ]
     },
     "metadata": {},
     "output_type": "display_data"
    },
    {
     "data": {
      "text/plain": [
       "array([0, 0, 0, ..., 0, 0, 0])"
      ]
     },
     "metadata": {},
     "output_type": "display_data"
    }
   ],
   "source": [
    "grouped_target = df_car1_windows.groupby(\"id\")[\"TROUBLE_CODES_BINARY\"].tail(1)\n",
    "\n",
    "display(grouped_target)\n",
    "display(grouped_target.values)"
   ]
  },
  {
   "cell_type": "code",
   "execution_count": 82,
   "id": "d0ab7240",
   "metadata": {},
   "outputs": [
    {
     "data": {
      "text/html": [
       "<div>\n",
       "<style scoped>\n",
       "    .dataframe tbody tr th:only-of-type {\n",
       "        vertical-align: middle;\n",
       "    }\n",
       "\n",
       "    .dataframe tbody tr th {\n",
       "        vertical-align: top;\n",
       "    }\n",
       "\n",
       "    .dataframe thead th {\n",
       "        text-align: right;\n",
       "    }\n",
       "</style>\n",
       "<table border=\"1\" class=\"dataframe\">\n",
       "  <thead>\n",
       "    <tr style=\"text-align: right;\">\n",
       "      <th></th>\n",
       "      <th>0</th>\n",
       "    </tr>\n",
       "  </thead>\n",
       "  <tbody>\n",
       "    <tr>\n",
       "      <th>0</th>\n",
       "      <td>0</td>\n",
       "    </tr>\n",
       "    <tr>\n",
       "      <th>1</th>\n",
       "      <td>0</td>\n",
       "    </tr>\n",
       "    <tr>\n",
       "      <th>2</th>\n",
       "      <td>0</td>\n",
       "    </tr>\n",
       "    <tr>\n",
       "      <th>3</th>\n",
       "      <td>0</td>\n",
       "    </tr>\n",
       "    <tr>\n",
       "      <th>4</th>\n",
       "      <td>0</td>\n",
       "    </tr>\n",
       "    <tr>\n",
       "      <th>...</th>\n",
       "      <td>...</td>\n",
       "    </tr>\n",
       "    <tr>\n",
       "      <th>13524</th>\n",
       "      <td>0</td>\n",
       "    </tr>\n",
       "    <tr>\n",
       "      <th>13525</th>\n",
       "      <td>0</td>\n",
       "    </tr>\n",
       "    <tr>\n",
       "      <th>13526</th>\n",
       "      <td>0</td>\n",
       "    </tr>\n",
       "    <tr>\n",
       "      <th>13527</th>\n",
       "      <td>0</td>\n",
       "    </tr>\n",
       "    <tr>\n",
       "      <th>13528</th>\n",
       "      <td>0</td>\n",
       "    </tr>\n",
       "  </tbody>\n",
       "</table>\n",
       "<p>13529 rows × 1 columns</p>\n",
       "</div>"
      ],
      "text/plain": [
       "       0\n",
       "0      0\n",
       "1      0\n",
       "2      0\n",
       "3      0\n",
       "4      0\n",
       "...   ..\n",
       "13524  0\n",
       "13525  0\n",
       "13526  0\n",
       "13527  0\n",
       "13528  0\n",
       "\n",
       "[13529 rows x 1 columns]"
      ]
     },
     "execution_count": 82,
     "metadata": {},
     "output_type": "execute_result"
    }
   ],
   "source": [
    "pd.DataFrame(grouped_target.values)"
   ]
  },
  {
   "cell_type": "code",
   "execution_count": 55,
   "id": "09761bea",
   "metadata": {},
   "outputs": [
    {
     "data": {
      "text/plain": [
       "True"
      ]
     },
     "execution_count": 55,
     "metadata": {},
     "output_type": "execute_result"
    }
   ],
   "source": [
    "len(len(grouped_target) * list(range(0, window_size))) == len(df_car1_windows)"
   ]
  },
  {
   "cell_type": "code",
   "execution_count": 62,
   "id": "10d0e5ee",
   "metadata": {},
   "outputs": [
    {
     "data": {
      "text/plain": [
       "Index(['AIR_INTAKE_TEMP', 'ENGINE_COOLANT_TEMP', 'ENGINE_LOAD', 'ENGINE_RPM',\n",
       "       'SHORT TERM FUEL TRIM BANK 1', 'SPEED', 'THROTTLE_POS', 'TIMESTAMP',\n",
       "       'TIMING_ADVANCE', 'TROUBLE_CODES_BINARY', 'VEHICLE_ID', 'id',\n",
       "       'TIMEPOINTS'],\n",
       "      dtype='object')"
      ]
     },
     "execution_count": 62,
     "metadata": {},
     "output_type": "execute_result"
    }
   ],
   "source": [
    "# Add a new timepoints column\n",
    "df_car1_windows[\"TIMEPOINTS\"] = pd.Series(len(grouped_target) * list(range(0, window_size)))\n",
    "df_car1_windows.columns"
   ]
  },
  {
   "cell_type": "code",
   "execution_count": 63,
   "id": "9b3186c7",
   "metadata": {},
   "outputs": [
    {
     "data": {
      "text/plain": [
       "Index(['AIR_INTAKE_TEMP', 'ENGINE_COOLANT_TEMP', 'ENGINE_LOAD', 'ENGINE_RPM',\n",
       "       'SHORT TERM FUEL TRIM BANK 1', 'SPEED', 'THROTTLE_POS',\n",
       "       'TIMING_ADVANCE', 'TIMEPOINTS'],\n",
       "      dtype='object')"
      ]
     },
     "execution_count": 63,
     "metadata": {},
     "output_type": "execute_result"
    }
   ],
   "source": [
    "# Drop unnecessary columns \n",
    "df_car1_windows = df_car1_windows.drop([\"TIMESTAMP\", \"TROUBLE_CODES_BINARY\", \"VEHICLE_ID\", \"id\"], axis=1)\n",
    "df_car1_windows.columns"
   ]
  },
  {
   "cell_type": "code",
   "execution_count": 72,
   "id": "e9ab56b5",
   "metadata": {},
   "outputs": [
    {
     "data": {
      "text/plain": [
       "Index(['AIR_INTAKE_TEMP', 'ENGINE_COOLANT_TEMP', 'ENGINE_LOAD', 'ENGINE_RPM',\n",
       "       'SHORT TERM FUEL TRIM BANK 1', 'SPEED', 'THROTTLE_POS',\n",
       "       'TIMING_ADVANCE', 'TIMEPOINTS', 'INSTANCES'],\n",
       "      dtype='object')"
      ]
     },
     "execution_count": 72,
     "metadata": {},
     "output_type": "execute_result"
    }
   ],
   "source": [
    "df_car1_windows[\"INSTANCES\"] = pd.Series(\n",
    "    np.array(([[x]*len(grouped_target) for x in range(0, window_size)])).flatten()\n",
    ")\n",
    "df_car1_windows.columns"
   ]
  },
  {
   "cell_type": "code",
   "execution_count": 73,
   "id": "78c22e9e",
   "metadata": {},
   "outputs": [
    {
     "data": {
      "text/plain": [
       "Index(['INSTANCES', 'TIMEPOINTS', 'AIR_INTAKE_TEMP', 'ENGINE_COOLANT_TEMP',\n",
       "       'ENGINE_LOAD', 'ENGINE_RPM', 'SHORT TERM FUEL TRIM BANK 1', 'SPEED',\n",
       "       'THROTTLE_POS', 'TIMING_ADVANCE'],\n",
       "      dtype='object')"
      ]
     },
     "execution_count": 73,
     "metadata": {},
     "output_type": "execute_result"
    }
   ],
   "source": [
    "# Adjust columns order\n",
    "df_car1_windows = df_car1_windows[['INSTANCES', 'TIMEPOINTS', 'AIR_INTAKE_TEMP', 'ENGINE_COOLANT_TEMP', \n",
    "                                   'ENGINE_LOAD', 'ENGINE_RPM', 'SHORT TERM FUEL TRIM BANK 1', \n",
    "                                   'SPEED', 'THROTTLE_POS', 'TIMING_ADVANCE']]\n",
    "df_car1_windows.columns"
   ]
  },
  {
   "cell_type": "code",
   "execution_count": 74,
   "id": "43563729",
   "metadata": {},
   "outputs": [
    {
     "data": {
      "text/html": [
       "<div>\n",
       "<style scoped>\n",
       "    .dataframe tbody tr th:only-of-type {\n",
       "        vertical-align: middle;\n",
       "    }\n",
       "\n",
       "    .dataframe tbody tr th {\n",
       "        vertical-align: top;\n",
       "    }\n",
       "\n",
       "    .dataframe thead th {\n",
       "        text-align: right;\n",
       "    }\n",
       "</style>\n",
       "<table border=\"1\" class=\"dataframe\">\n",
       "  <thead>\n",
       "    <tr style=\"text-align: right;\">\n",
       "      <th></th>\n",
       "      <th>INSTANCES</th>\n",
       "      <th>TIMEPOINTS</th>\n",
       "      <th>AIR_INTAKE_TEMP</th>\n",
       "      <th>ENGINE_COOLANT_TEMP</th>\n",
       "      <th>ENGINE_LOAD</th>\n",
       "      <th>ENGINE_RPM</th>\n",
       "      <th>SHORT TERM FUEL TRIM BANK 1</th>\n",
       "      <th>SPEED</th>\n",
       "      <th>THROTTLE_POS</th>\n",
       "      <th>TIMING_ADVANCE</th>\n",
       "    </tr>\n",
       "  </thead>\n",
       "  <tbody>\n",
       "    <tr>\n",
       "      <th>0</th>\n",
       "      <td>0</td>\n",
       "      <td>0</td>\n",
       "      <td>59.0</td>\n",
       "      <td>80.0</td>\n",
       "      <td>0.333</td>\n",
       "      <td>1009.0</td>\n",
       "      <td>0.0</td>\n",
       "      <td>0.0</td>\n",
       "      <td>0.251</td>\n",
       "      <td>0.569</td>\n",
       "    </tr>\n",
       "    <tr>\n",
       "      <th>1</th>\n",
       "      <td>0</td>\n",
       "      <td>1</td>\n",
       "      <td>59.0</td>\n",
       "      <td>80.0</td>\n",
       "      <td>0.325</td>\n",
       "      <td>1003.0</td>\n",
       "      <td>0.0</td>\n",
       "      <td>0.0</td>\n",
       "      <td>0.251</td>\n",
       "      <td>0.565</td>\n",
       "    </tr>\n",
       "    <tr>\n",
       "      <th>2</th>\n",
       "      <td>0</td>\n",
       "      <td>2</td>\n",
       "      <td>59.0</td>\n",
       "      <td>80.0</td>\n",
       "      <td>0.329</td>\n",
       "      <td>995.0</td>\n",
       "      <td>0.0</td>\n",
       "      <td>0.0</td>\n",
       "      <td>0.251</td>\n",
       "      <td>0.573</td>\n",
       "    </tr>\n",
       "    <tr>\n",
       "      <th>3</th>\n",
       "      <td>0</td>\n",
       "      <td>3</td>\n",
       "      <td>60.0</td>\n",
       "      <td>80.0</td>\n",
       "      <td>0.325</td>\n",
       "      <td>1004.0</td>\n",
       "      <td>0.0</td>\n",
       "      <td>0.0</td>\n",
       "      <td>0.251</td>\n",
       "      <td>0.565</td>\n",
       "    </tr>\n",
       "    <tr>\n",
       "      <th>4</th>\n",
       "      <td>0</td>\n",
       "      <td>4</td>\n",
       "      <td>60.0</td>\n",
       "      <td>80.0</td>\n",
       "      <td>0.329</td>\n",
       "      <td>1005.0</td>\n",
       "      <td>0.0</td>\n",
       "      <td>0.0</td>\n",
       "      <td>0.251</td>\n",
       "      <td>0.569</td>\n",
       "    </tr>\n",
       "  </tbody>\n",
       "</table>\n",
       "</div>"
      ],
      "text/plain": [
       "   INSTANCES  TIMEPOINTS  AIR_INTAKE_TEMP  ENGINE_COOLANT_TEMP  ENGINE_LOAD  \\\n",
       "0          0           0             59.0                 80.0        0.333   \n",
       "1          0           1             59.0                 80.0        0.325   \n",
       "2          0           2             59.0                 80.0        0.329   \n",
       "3          0           3             60.0                 80.0        0.325   \n",
       "4          0           4             60.0                 80.0        0.329   \n",
       "\n",
       "   ENGINE_RPM  SHORT TERM FUEL TRIM BANK 1  SPEED  THROTTLE_POS  \\\n",
       "0      1009.0                          0.0    0.0         0.251   \n",
       "1      1003.0                          0.0    0.0         0.251   \n",
       "2       995.0                          0.0    0.0         0.251   \n",
       "3      1004.0                          0.0    0.0         0.251   \n",
       "4      1005.0                          0.0    0.0         0.251   \n",
       "\n",
       "   TIMING_ADVANCE  \n",
       "0           0.569  \n",
       "1           0.565  \n",
       "2           0.573  \n",
       "3           0.565  \n",
       "4           0.569  "
      ]
     },
     "execution_count": 74,
     "metadata": {},
     "output_type": "execute_result"
    }
   ],
   "source": [
    "df_car1_windows.head()"
   ]
  },
  {
   "cell_type": "code",
   "execution_count": 79,
   "id": "a44cb1bd",
   "metadata": {},
   "outputs": [
    {
     "data": {
      "text/plain": [
       "Index(['INSTANCES', 'TIMEPOINTS', 'AIR INTAKE TEMP', 'ENGINE COOLANT TEMP',\n",
       "       'ENGINE LOAD', 'ENGINE RPM', 'SHORT TERM FUEL TRIM BANK 1', 'SPEED',\n",
       "       'THROTTLE POS', 'TIMING ADVANCE'],\n",
       "      dtype='object')"
      ]
     },
     "execution_count": 79,
     "metadata": {},
     "output_type": "execute_result"
    }
   ],
   "source": [
    "df_car1_windows = df_car1_windows.rename(columns={\"AIR_INTAKE_TEMP\": \"AIR INTAKE TEMP\", \n",
    "                                                  \"ENGINE_COOLANT_TEMP\": \"ENGINE COOLANT TEMP\", \n",
    "                                                  \"ENGINE_LOAD\": \"ENGINE LOAD\", \n",
    "                                                  \"ENGINE_RPM\": \"ENGINE RPM\", \n",
    "                                                  \"THROTTLE_POS\": \"THROTTLE POS\", \n",
    "                                                  \"TIMING_ADVANCE\": \"TIMING ADVANCE\"})\n",
    "df_car1_windows.columns"
   ]
  },
  {
   "cell_type": "markdown",
   "id": "7b202eef",
   "metadata": {},
   "source": [
    "## Save the features and target variables into csv files"
   ]
  },
  {
   "cell_type": "code",
   "execution_count": 80,
   "id": "057c99ff",
   "metadata": {},
   "outputs": [],
   "source": [
    "# Save the dataframe to csv file\n",
    "car_id = \"car1\"\n",
    "data_path = f'../data/odb-2-master-thesis/features-{car_id}-windowsize{window_size}.csv'\n",
    "df_car1_windows.to_csv(data_path, index=False)"
   ]
  },
  {
   "cell_type": "code",
   "execution_count": 84,
   "id": "60eec04f",
   "metadata": {},
   "outputs": [],
   "source": [
    "data_path = f'../data/odb-2-master-thesis/target-binary-{car_id}-windowsize{window_size}.csv'\n",
    "pd.DataFrame(grouped_target.values).to_csv(data_path, index=False)"
   ]
  },
  {
   "cell_type": "markdown",
   "id": "857e9a74",
   "metadata": {},
   "source": [
    "## Read the multiindex csv file"
   ]
  },
  {
   "cell_type": "code",
   "execution_count": 81,
   "id": "a2ecc9f9",
   "metadata": {
    "scrolled": true
   },
   "outputs": [
    {
     "data": {
      "text/html": [
       "<div>\n",
       "<style scoped>\n",
       "    .dataframe tbody tr th:only-of-type {\n",
       "        vertical-align: middle;\n",
       "    }\n",
       "\n",
       "    .dataframe tbody tr th {\n",
       "        vertical-align: top;\n",
       "    }\n",
       "\n",
       "    .dataframe thead th {\n",
       "        text-align: right;\n",
       "    }\n",
       "</style>\n",
       "<table border=\"1\" class=\"dataframe\">\n",
       "  <thead>\n",
       "    <tr style=\"text-align: right;\">\n",
       "      <th></th>\n",
       "      <th></th>\n",
       "      <th>AIR INTAKE TEMP</th>\n",
       "      <th>ENGINE COOLANT TEMP</th>\n",
       "      <th>ENGINE LOAD</th>\n",
       "      <th>ENGINE RPM</th>\n",
       "      <th>SHORT TERM FUEL TRIM BANK 1</th>\n",
       "      <th>SPEED</th>\n",
       "      <th>THROTTLE POS</th>\n",
       "      <th>TIMING ADVANCE</th>\n",
       "    </tr>\n",
       "    <tr>\n",
       "      <th>INSTANCES</th>\n",
       "      <th>TIMEPOINTS</th>\n",
       "      <th></th>\n",
       "      <th></th>\n",
       "      <th></th>\n",
       "      <th></th>\n",
       "      <th></th>\n",
       "      <th></th>\n",
       "      <th></th>\n",
       "      <th></th>\n",
       "    </tr>\n",
       "  </thead>\n",
       "  <tbody>\n",
       "    <tr>\n",
       "      <th rowspan=\"5\" valign=\"top\">0</th>\n",
       "      <th>0</th>\n",
       "      <td>59.0</td>\n",
       "      <td>80.0</td>\n",
       "      <td>0.333</td>\n",
       "      <td>1009.0</td>\n",
       "      <td>0.0</td>\n",
       "      <td>0.0</td>\n",
       "      <td>0.251</td>\n",
       "      <td>0.569</td>\n",
       "    </tr>\n",
       "    <tr>\n",
       "      <th>1</th>\n",
       "      <td>59.0</td>\n",
       "      <td>80.0</td>\n",
       "      <td>0.325</td>\n",
       "      <td>1003.0</td>\n",
       "      <td>0.0</td>\n",
       "      <td>0.0</td>\n",
       "      <td>0.251</td>\n",
       "      <td>0.565</td>\n",
       "    </tr>\n",
       "    <tr>\n",
       "      <th>2</th>\n",
       "      <td>59.0</td>\n",
       "      <td>80.0</td>\n",
       "      <td>0.329</td>\n",
       "      <td>995.0</td>\n",
       "      <td>0.0</td>\n",
       "      <td>0.0</td>\n",
       "      <td>0.251</td>\n",
       "      <td>0.573</td>\n",
       "    </tr>\n",
       "    <tr>\n",
       "      <th>3</th>\n",
       "      <td>60.0</td>\n",
       "      <td>80.0</td>\n",
       "      <td>0.325</td>\n",
       "      <td>1004.0</td>\n",
       "      <td>0.0</td>\n",
       "      <td>0.0</td>\n",
       "      <td>0.251</td>\n",
       "      <td>0.565</td>\n",
       "    </tr>\n",
       "    <tr>\n",
       "      <th>4</th>\n",
       "      <td>60.0</td>\n",
       "      <td>80.0</td>\n",
       "      <td>0.329</td>\n",
       "      <td>1005.0</td>\n",
       "      <td>0.0</td>\n",
       "      <td>0.0</td>\n",
       "      <td>0.251</td>\n",
       "      <td>0.569</td>\n",
       "    </tr>\n",
       "  </tbody>\n",
       "</table>\n",
       "</div>"
      ],
      "text/plain": [
       "                      AIR INTAKE TEMP  ENGINE COOLANT TEMP  ENGINE LOAD  \\\n",
       "INSTANCES TIMEPOINTS                                                      \n",
       "0         0                      59.0                 80.0        0.333   \n",
       "          1                      59.0                 80.0        0.325   \n",
       "          2                      59.0                 80.0        0.329   \n",
       "          3                      60.0                 80.0        0.325   \n",
       "          4                      60.0                 80.0        0.329   \n",
       "\n",
       "                      ENGINE RPM  SHORT TERM FUEL TRIM BANK 1  SPEED  \\\n",
       "INSTANCES TIMEPOINTS                                                   \n",
       "0         0               1009.0                          0.0    0.0   \n",
       "          1               1003.0                          0.0    0.0   \n",
       "          2                995.0                          0.0    0.0   \n",
       "          3               1004.0                          0.0    0.0   \n",
       "          4               1005.0                          0.0    0.0   \n",
       "\n",
       "                      THROTTLE POS  TIMING ADVANCE  \n",
       "INSTANCES TIMEPOINTS                                \n",
       "0         0                  0.251           0.569  \n",
       "          1                  0.251           0.565  \n",
       "          2                  0.251           0.573  \n",
       "          3                  0.251           0.565  \n",
       "          4                  0.251           0.569  "
      ]
     },
     "execution_count": 81,
     "metadata": {},
     "output_type": "execute_result"
    }
   ],
   "source": [
    "# Read multiindex csv\n",
    "df_car1_windows = pd.read_csv(data_path, index_col=[0,1])\n",
    "df_car1_windows.head()"
   ]
  },
  {
   "cell_type": "markdown",
   "id": "14be638f",
   "metadata": {},
   "source": [
    "## Data processing for all car ID"
   ]
  },
  {
   "cell_type": "code",
   "execution_count": 11,
   "id": "86e37e6a",
   "metadata": {},
   "outputs": [
    {
     "data": {
      "text/plain": [
       "Index(['car1', 'car11', 'car12', 'car13', 'car3', 'car4', 'car6', 'car7',\n",
       "       'car8', 'car9'],\n",
       "      dtype='object')"
      ]
     },
     "execution_count": 11,
     "metadata": {},
     "output_type": "execute_result"
    }
   ],
   "source": [
    "car_ids = df[\"VEHICLE_ID\"].unique()\n",
    "car_ids = pd.Index(car_ids)\n",
    "car_ids = car_ids.difference([\"car5\", \"car2\", \"car10\", \"car14\"])\n",
    "car_ids"
   ]
  },
  {
   "cell_type": "markdown",
   "id": "1cc0165a",
   "metadata": {},
   "source": [
    "..."
   ]
  }
 ],
 "metadata": {
  "kernelspec": {
   "display_name": "Python 3 (ipykernel)",
   "language": "python",
   "name": "python3"
  },
  "language_info": {
   "codemirror_mode": {
    "name": "ipython",
    "version": 3
   },
   "file_extension": ".py",
   "mimetype": "text/x-python",
   "name": "python",
   "nbconvert_exporter": "python",
   "pygments_lexer": "ipython3",
   "version": "3.8.10"
  }
 },
 "nbformat": 4,
 "nbformat_minor": 5
}
