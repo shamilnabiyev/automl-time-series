{
 "cells": [
  {
   "cell_type": "markdown",
   "id": "4f716e2d",
   "metadata": {},
   "source": [
    "# SKTIME\n",
    "\n",
    "GitHub: https://github.com/alan-turing-institute/sktime\n",
    "\n",
    "Documentation: https://www.sktime.org/en/stable/index.html\n"
   ]
  },
  {
   "cell_type": "code",
   "execution_count": 2,
   "id": "01027de9",
   "metadata": {},
   "outputs": [],
   "source": [
    "import pandas as pd\n",
    "import numpy as np\n",
    "\n",
    "from sklearn.pipeline import Pipeline\n",
    "from sklearn.model_selection import train_test_split\n",
    "from sklearn.metrics import auc, plot_precision_recall_curve\n",
    "from sklearn.metrics import average_precision_score, precision_recall_curve\n",
    "from sklearn.metrics import accuracy_score, classification_report\n",
    "from sklearn.metrics import confusion_matrix, ConfusionMatrixDisplay\n",
    "\n",
    "from sktime.datasets import load_basic_motions\n",
    "from sktime.transformations.panel.compose import ColumnConcatenator\n",
    "from sktime.datatypes._panel._convert import from_2d_array_to_nested\n",
    "from sktime.classification.dictionary_based import BOSSEnsemble\n",
    "from sktime.classification.compose import ColumnEnsembleClassifier\n",
    "from sktime.classification.interval_based import TimeSeriesForestClassifier\n",
    "from sktime.classification.interval_based import SupervisedTimeSeriesForest\n",
    "\n",
    "import matplotlib.pyplot as plt\n",
    "%matplotlib inline"
   ]
  },
  {
   "cell_type": "markdown",
   "id": "186d1f22",
   "metadata": {},
   "source": [
    "## Load Dataset"
   ]
  },
  {
   "cell_type": "code",
   "execution_count": 3,
   "id": "fd47b332",
   "metadata": {},
   "outputs": [
    {
     "data": {
      "text/html": [
       "<div>\n",
       "<style scoped>\n",
       "    .dataframe tbody tr th:only-of-type {\n",
       "        vertical-align: middle;\n",
       "    }\n",
       "\n",
       "    .dataframe tbody tr th {\n",
       "        vertical-align: top;\n",
       "    }\n",
       "\n",
       "    .dataframe thead th {\n",
       "        text-align: right;\n",
       "    }\n",
       "</style>\n",
       "<table border=\"1\" class=\"dataframe\">\n",
       "  <thead>\n",
       "    <tr style=\"text-align: right;\">\n",
       "      <th></th>\n",
       "      <th>tBodyAcc-mean()-X</th>\n",
       "      <th>tBodyAcc-mean()-Y</th>\n",
       "      <th>tBodyAcc-mean()-Z</th>\n",
       "      <th>tBodyAcc-std()-X</th>\n",
       "      <th>tBodyAcc-std()-Y</th>\n",
       "      <th>tBodyAcc-std()-Z</th>\n",
       "      <th>tBodyAcc-mad()-X</th>\n",
       "      <th>tBodyAcc-mad()-Y</th>\n",
       "      <th>tBodyAcc-mad()-Z</th>\n",
       "      <th>tBodyAcc-max()-X</th>\n",
       "      <th>...</th>\n",
       "      <th>fBodyBodyGyroJerkMag-skewness()</th>\n",
       "      <th>fBodyBodyGyroJerkMag-kurtosis()</th>\n",
       "      <th>angle(tBodyAccMean,gravity)</th>\n",
       "      <th>angle(tBodyAccJerkMean),gravityMean)</th>\n",
       "      <th>angle(tBodyGyroMean,gravityMean)</th>\n",
       "      <th>angle(tBodyGyroJerkMean,gravityMean)</th>\n",
       "      <th>angle(X,gravityMean)</th>\n",
       "      <th>angle(Y,gravityMean)</th>\n",
       "      <th>angle(Z,gravityMean)</th>\n",
       "      <th>activity</th>\n",
       "    </tr>\n",
       "  </thead>\n",
       "  <tbody>\n",
       "    <tr>\n",
       "      <th>0</th>\n",
       "      <td>0.288585</td>\n",
       "      <td>-0.020294</td>\n",
       "      <td>-0.132905</td>\n",
       "      <td>-0.995279</td>\n",
       "      <td>-0.983111</td>\n",
       "      <td>-0.913526</td>\n",
       "      <td>-0.995112</td>\n",
       "      <td>-0.983185</td>\n",
       "      <td>-0.923527</td>\n",
       "      <td>-0.934724</td>\n",
       "      <td>...</td>\n",
       "      <td>-0.298676</td>\n",
       "      <td>-0.710304</td>\n",
       "      <td>-0.112754</td>\n",
       "      <td>0.030400</td>\n",
       "      <td>-0.464761</td>\n",
       "      <td>-0.018446</td>\n",
       "      <td>-0.841247</td>\n",
       "      <td>0.179941</td>\n",
       "      <td>-0.058627</td>\n",
       "      <td>0</td>\n",
       "    </tr>\n",
       "    <tr>\n",
       "      <th>1</th>\n",
       "      <td>0.278419</td>\n",
       "      <td>-0.016411</td>\n",
       "      <td>-0.123520</td>\n",
       "      <td>-0.998245</td>\n",
       "      <td>-0.975300</td>\n",
       "      <td>-0.960322</td>\n",
       "      <td>-0.998807</td>\n",
       "      <td>-0.974914</td>\n",
       "      <td>-0.957686</td>\n",
       "      <td>-0.943068</td>\n",
       "      <td>...</td>\n",
       "      <td>-0.595051</td>\n",
       "      <td>-0.861499</td>\n",
       "      <td>0.053477</td>\n",
       "      <td>-0.007435</td>\n",
       "      <td>-0.732626</td>\n",
       "      <td>0.703511</td>\n",
       "      <td>-0.844788</td>\n",
       "      <td>0.180289</td>\n",
       "      <td>-0.054317</td>\n",
       "      <td>0</td>\n",
       "    </tr>\n",
       "    <tr>\n",
       "      <th>2</th>\n",
       "      <td>0.279653</td>\n",
       "      <td>-0.019467</td>\n",
       "      <td>-0.113462</td>\n",
       "      <td>-0.995380</td>\n",
       "      <td>-0.967187</td>\n",
       "      <td>-0.978944</td>\n",
       "      <td>-0.996520</td>\n",
       "      <td>-0.963668</td>\n",
       "      <td>-0.977469</td>\n",
       "      <td>-0.938692</td>\n",
       "      <td>...</td>\n",
       "      <td>-0.390748</td>\n",
       "      <td>-0.760104</td>\n",
       "      <td>-0.118559</td>\n",
       "      <td>0.177899</td>\n",
       "      <td>0.100699</td>\n",
       "      <td>0.808529</td>\n",
       "      <td>-0.848933</td>\n",
       "      <td>0.180637</td>\n",
       "      <td>-0.049118</td>\n",
       "      <td>0</td>\n",
       "    </tr>\n",
       "  </tbody>\n",
       "</table>\n",
       "<p>3 rows × 562 columns</p>\n",
       "</div>"
      ],
      "text/plain": [
       "   tBodyAcc-mean()-X  tBodyAcc-mean()-Y  tBodyAcc-mean()-Z  tBodyAcc-std()-X  \\\n",
       "0           0.288585          -0.020294          -0.132905         -0.995279   \n",
       "1           0.278419          -0.016411          -0.123520         -0.998245   \n",
       "2           0.279653          -0.019467          -0.113462         -0.995380   \n",
       "\n",
       "   tBodyAcc-std()-Y  tBodyAcc-std()-Z  tBodyAcc-mad()-X  tBodyAcc-mad()-Y  \\\n",
       "0         -0.983111         -0.913526         -0.995112         -0.983185   \n",
       "1         -0.975300         -0.960322         -0.998807         -0.974914   \n",
       "2         -0.967187         -0.978944         -0.996520         -0.963668   \n",
       "\n",
       "   tBodyAcc-mad()-Z  tBodyAcc-max()-X  ...  fBodyBodyGyroJerkMag-skewness()  \\\n",
       "0         -0.923527         -0.934724  ...                        -0.298676   \n",
       "1         -0.957686         -0.943068  ...                        -0.595051   \n",
       "2         -0.977469         -0.938692  ...                        -0.390748   \n",
       "\n",
       "   fBodyBodyGyroJerkMag-kurtosis()  angle(tBodyAccMean,gravity)  \\\n",
       "0                        -0.710304                    -0.112754   \n",
       "1                        -0.861499                     0.053477   \n",
       "2                        -0.760104                    -0.118559   \n",
       "\n",
       "   angle(tBodyAccJerkMean),gravityMean)  angle(tBodyGyroMean,gravityMean)  \\\n",
       "0                              0.030400                         -0.464761   \n",
       "1                             -0.007435                         -0.732626   \n",
       "2                              0.177899                          0.100699   \n",
       "\n",
       "   angle(tBodyGyroJerkMean,gravityMean)  angle(X,gravityMean)  \\\n",
       "0                             -0.018446             -0.841247   \n",
       "1                              0.703511             -0.844788   \n",
       "2                              0.808529             -0.848933   \n",
       "\n",
       "   angle(Y,gravityMean)  angle(Z,gravityMean)  activity  \n",
       "0              0.179941             -0.058627         0  \n",
       "1              0.180289             -0.054317         0  \n",
       "2              0.180637             -0.049118         0  \n",
       "\n",
       "[3 rows x 562 columns]"
      ]
     },
     "execution_count": 3,
     "metadata": {},
     "output_type": "execute_result"
    }
   ],
   "source": [
    "target = 'activity'\n",
    "ts_column = 'datetime'\n",
    "\n",
    "# Train dataset\n",
    "# Data source: https://www.kaggle.com/datasets/uciml/human-activity-recognition-with-smartphones\n",
    "train = pd.read_csv(\"../data/human-activity-recognition/train.csv\")\n",
    "\n",
    "# Convert labels to binary\n",
    "train[target] = pd.DataFrame(np.where(train['Activity']=='WALKING_DOWNSTAIRS', 1, 0))\n",
    "\n",
    "# Drop unused columns\n",
    "train.drop(['subject', 'Activity'], axis=1, inplace=True)\n",
    "\n",
    "train.head(3)"
   ]
  },
  {
   "cell_type": "code",
   "execution_count": 4,
   "id": "985684f4",
   "metadata": {},
   "outputs": [
    {
     "data": {
      "text/html": [
       "<div>\n",
       "<style scoped>\n",
       "    .dataframe tbody tr th:only-of-type {\n",
       "        vertical-align: middle;\n",
       "    }\n",
       "\n",
       "    .dataframe tbody tr th {\n",
       "        vertical-align: top;\n",
       "    }\n",
       "\n",
       "    .dataframe thead th {\n",
       "        text-align: right;\n",
       "    }\n",
       "</style>\n",
       "<table border=\"1\" class=\"dataframe\">\n",
       "  <thead>\n",
       "    <tr style=\"text-align: right;\">\n",
       "      <th></th>\n",
       "      <th>tBodyAcc-mean()-X</th>\n",
       "      <th>tBodyAcc-mean()-Y</th>\n",
       "      <th>tBodyAcc-mean()-Z</th>\n",
       "      <th>tBodyAcc-std()-X</th>\n",
       "      <th>tBodyAcc-std()-Y</th>\n",
       "      <th>tBodyAcc-std()-Z</th>\n",
       "      <th>tBodyAcc-mad()-X</th>\n",
       "      <th>tBodyAcc-mad()-Y</th>\n",
       "      <th>tBodyAcc-mad()-Z</th>\n",
       "      <th>tBodyAcc-max()-X</th>\n",
       "      <th>...</th>\n",
       "      <th>fBodyBodyGyroJerkMag-skewness()</th>\n",
       "      <th>fBodyBodyGyroJerkMag-kurtosis()</th>\n",
       "      <th>angle(tBodyAccMean,gravity)</th>\n",
       "      <th>angle(tBodyAccJerkMean),gravityMean)</th>\n",
       "      <th>angle(tBodyGyroMean,gravityMean)</th>\n",
       "      <th>angle(tBodyGyroJerkMean,gravityMean)</th>\n",
       "      <th>angle(X,gravityMean)</th>\n",
       "      <th>angle(Y,gravityMean)</th>\n",
       "      <th>angle(Z,gravityMean)</th>\n",
       "      <th>activity</th>\n",
       "    </tr>\n",
       "  </thead>\n",
       "  <tbody>\n",
       "    <tr>\n",
       "      <th>0</th>\n",
       "      <td>0.257178</td>\n",
       "      <td>-0.023285</td>\n",
       "      <td>-0.014654</td>\n",
       "      <td>-0.938404</td>\n",
       "      <td>-0.920091</td>\n",
       "      <td>-0.667683</td>\n",
       "      <td>-0.952501</td>\n",
       "      <td>-0.925249</td>\n",
       "      <td>-0.674302</td>\n",
       "      <td>-0.894088</td>\n",
       "      <td>...</td>\n",
       "      <td>-0.330370</td>\n",
       "      <td>-0.705974</td>\n",
       "      <td>0.006462</td>\n",
       "      <td>0.162920</td>\n",
       "      <td>-0.825886</td>\n",
       "      <td>0.271151</td>\n",
       "      <td>-0.720009</td>\n",
       "      <td>0.276801</td>\n",
       "      <td>-0.057978</td>\n",
       "      <td>0</td>\n",
       "    </tr>\n",
       "    <tr>\n",
       "      <th>1</th>\n",
       "      <td>0.286027</td>\n",
       "      <td>-0.013163</td>\n",
       "      <td>-0.119083</td>\n",
       "      <td>-0.975415</td>\n",
       "      <td>-0.967458</td>\n",
       "      <td>-0.944958</td>\n",
       "      <td>-0.986799</td>\n",
       "      <td>-0.968401</td>\n",
       "      <td>-0.945823</td>\n",
       "      <td>-0.894088</td>\n",
       "      <td>...</td>\n",
       "      <td>-0.121845</td>\n",
       "      <td>-0.594944</td>\n",
       "      <td>-0.083495</td>\n",
       "      <td>0.017500</td>\n",
       "      <td>-0.434375</td>\n",
       "      <td>0.920593</td>\n",
       "      <td>-0.698091</td>\n",
       "      <td>0.281343</td>\n",
       "      <td>-0.083898</td>\n",
       "      <td>0</td>\n",
       "    </tr>\n",
       "    <tr>\n",
       "      <th>2</th>\n",
       "      <td>0.275485</td>\n",
       "      <td>-0.026050</td>\n",
       "      <td>-0.118152</td>\n",
       "      <td>-0.993819</td>\n",
       "      <td>-0.969926</td>\n",
       "      <td>-0.962748</td>\n",
       "      <td>-0.994403</td>\n",
       "      <td>-0.970735</td>\n",
       "      <td>-0.963483</td>\n",
       "      <td>-0.939260</td>\n",
       "      <td>...</td>\n",
       "      <td>-0.190422</td>\n",
       "      <td>-0.640736</td>\n",
       "      <td>-0.034956</td>\n",
       "      <td>0.202302</td>\n",
       "      <td>0.064103</td>\n",
       "      <td>0.145068</td>\n",
       "      <td>-0.702771</td>\n",
       "      <td>0.280083</td>\n",
       "      <td>-0.079346</td>\n",
       "      <td>0</td>\n",
       "    </tr>\n",
       "  </tbody>\n",
       "</table>\n",
       "<p>3 rows × 562 columns</p>\n",
       "</div>"
      ],
      "text/plain": [
       "   tBodyAcc-mean()-X  tBodyAcc-mean()-Y  tBodyAcc-mean()-Z  tBodyAcc-std()-X  \\\n",
       "0           0.257178          -0.023285          -0.014654         -0.938404   \n",
       "1           0.286027          -0.013163          -0.119083         -0.975415   \n",
       "2           0.275485          -0.026050          -0.118152         -0.993819   \n",
       "\n",
       "   tBodyAcc-std()-Y  tBodyAcc-std()-Z  tBodyAcc-mad()-X  tBodyAcc-mad()-Y  \\\n",
       "0         -0.920091         -0.667683         -0.952501         -0.925249   \n",
       "1         -0.967458         -0.944958         -0.986799         -0.968401   \n",
       "2         -0.969926         -0.962748         -0.994403         -0.970735   \n",
       "\n",
       "   tBodyAcc-mad()-Z  tBodyAcc-max()-X  ...  fBodyBodyGyroJerkMag-skewness()  \\\n",
       "0         -0.674302         -0.894088  ...                        -0.330370   \n",
       "1         -0.945823         -0.894088  ...                        -0.121845   \n",
       "2         -0.963483         -0.939260  ...                        -0.190422   \n",
       "\n",
       "   fBodyBodyGyroJerkMag-kurtosis()  angle(tBodyAccMean,gravity)  \\\n",
       "0                        -0.705974                     0.006462   \n",
       "1                        -0.594944                    -0.083495   \n",
       "2                        -0.640736                    -0.034956   \n",
       "\n",
       "   angle(tBodyAccJerkMean),gravityMean)  angle(tBodyGyroMean,gravityMean)  \\\n",
       "0                              0.162920                         -0.825886   \n",
       "1                              0.017500                         -0.434375   \n",
       "2                              0.202302                          0.064103   \n",
       "\n",
       "   angle(tBodyGyroJerkMean,gravityMean)  angle(X,gravityMean)  \\\n",
       "0                              0.271151             -0.720009   \n",
       "1                              0.920593             -0.698091   \n",
       "2                              0.145068             -0.702771   \n",
       "\n",
       "   angle(Y,gravityMean)  angle(Z,gravityMean)  activity  \n",
       "0              0.276801             -0.057978         0  \n",
       "1              0.281343             -0.083898         0  \n",
       "2              0.280083             -0.079346         0  \n",
       "\n",
       "[3 rows x 562 columns]"
      ]
     },
     "execution_count": 4,
     "metadata": {},
     "output_type": "execute_result"
    }
   ],
   "source": [
    "# Test dataset\n",
    "test = pd.read_csv(\"../data/human-activity-recognition/test.csv\")\n",
    "\n",
    "# Convert labels to binary\n",
    "test[target] = pd.DataFrame(np.where(test['Activity']=='WALKING_DOWNSTAIRS', 1, 0))\n",
    "\n",
    "# Drop unused columns\n",
    "test.drop(['subject', 'Activity'], axis=1, inplace=True)\n",
    "\n",
    "test.head(3)"
   ]
  },
  {
   "cell_type": "code",
   "execution_count": null,
   "id": "1ec50aa4",
   "metadata": {},
   "outputs": [],
   "source": [
    "print('Train dataset shape:', train.shape)\n",
    "print('Test dataset shape:', test.shape)"
   ]
  },
  {
   "cell_type": "markdown",
   "id": "1976d0f8",
   "metadata": {},
   "source": [
    "## Preprocess data"
   ]
  },
  {
   "cell_type": "code",
   "execution_count": 5,
   "id": "b9af196a",
   "metadata": {},
   "outputs": [
    {
     "name": "stdout",
     "output_type": "stream",
     "text": [
      "Train dataset shape: (7352, 1) (7352,)\n",
      "Test dataset shape: (2947, 1) (2947,)\n"
     ]
    }
   ],
   "source": [
    "# Convert to nested dataframe\n",
    "features = train.columns.difference([target, 'datetime'])\n",
    "\n",
    "X_train = train[features]\n",
    "X_train = from_2d_array_to_nested(X_train)\n",
    "y_train = train[target]\n",
    "\n",
    "X_test = test[features]\n",
    "X_test = from_2d_array_to_nested(X_test)\n",
    "y_test = test[target]\n",
    "\n",
    "# X_train, X_val, y_train, y_val = train_test_split(X, y, random_state=42, shuffle=False, test_size=0.2)\n",
    "\n",
    "# print('Dataset shape:', X_train.shape, y_train.shape, X_val.shape, y_val.shape)\n",
    "\n",
    "print('Train dataset shape:', X_train.shape, y_train.shape)\n",
    "print('Test dataset shape:', X_test.shape, y_test.shape)"
   ]
  },
  {
   "cell_type": "code",
   "execution_count": null,
   "id": "2c3b4225",
   "metadata": {},
   "outputs": [],
   "source": [
    "# from sktime.registry import all_estimators\n",
    "\n",
    "# A list of all available classifiers\n",
    "# all_estimators(\"classifier\")"
   ]
  },
  {
   "cell_type": "markdown",
   "id": "5d0e1dd0",
   "metadata": {},
   "source": [
    "A list of all available classifiers:\n",
    "\n",
    "```\n",
    "[('Arsenal', sktime.classification.kernel_based._arsenal.Arsenal),\n",
    " ('BOSSEnsemble', sktime.classification.dictionary_based._boss.BOSSEnsemble),\n",
    " ('CanonicalIntervalForest',\n",
    "  sktime.classification.interval_based._cif.CanonicalIntervalForest),\n",
    " ('Catch22Classifier',\n",
    "  sktime.classification.feature_based._catch22_classifier.Catch22Classifier),\n",
    " ('ClassifierPipeline',\n",
    "  sktime.classification.compose._pipeline.ClassifierPipeline),\n",
    " ('ColumnEnsembleClassifier',\n",
    "  sktime.classification.compose._column_ensemble.ColumnEnsembleClassifier),\n",
    " ('ComposableTimeSeriesForestClassifier',\n",
    "  sktime.classification.compose._ensemble.ComposableTimeSeriesForestClassifier),\n",
    " ('ContractableBOSS',\n",
    "  sktime.classification.dictionary_based._cboss.ContractableBOSS),\n",
    " ('DrCIF', sktime.classification.interval_based._drcif.DrCIF),\n",
    " ('ElasticEnsemble',\n",
    "  sktime.classification.distance_based._elastic_ensemble.ElasticEnsemble),\n",
    " ('FreshPRINCE',\n",
    "  sktime.classification.feature_based._fresh_prince.FreshPRINCE),\n",
    " ('HIVECOTEV1', sktime.classification.hybrid._hivecote_v1.HIVECOTEV1),\n",
    " ('HIVECOTEV2', sktime.classification.hybrid._hivecote_v2.HIVECOTEV2),\n",
    " ('IndividualBOSS',\n",
    "  sktime.classification.dictionary_based._boss.IndividualBOSS),\n",
    " ('IndividualTDE', sktime.classification.dictionary_based._tde.IndividualTDE),\n",
    " ('KNeighborsTimeSeriesClassifier',\n",
    "  sktime.classification.distance_based._time_series_neighbors.KNeighborsTimeSeriesClassifier),\n",
    " ('MUSE', sktime.classification.dictionary_based._muse.MUSE),\n",
    " ('MatrixProfileClassifier',\n",
    "  sktime.classification.feature_based._matrix_profile_classifier.MatrixProfileClassifier),\n",
    " ('ProbabilityThresholdEarlyClassifier',\n",
    "  sktime.classification.early_classification._probability_threshold.ProbabilityThresholdEarlyClassifier),\n",
    " ('ProximityForest',\n",
    "  sktime.classification.distance_based._proximity_forest.ProximityForest),\n",
    " ('ProximityStump',\n",
    "  sktime.classification.distance_based._proximity_forest.ProximityStump),\n",
    " ('ProximityTree',\n",
    "  sktime.classification.distance_based._proximity_forest.ProximityTree),\n",
    " ('RandomIntervalClassifier',\n",
    "  sktime.classification.feature_based._random_interval_classifier.RandomIntervalClassifier),\n",
    " ('RandomIntervalSpectralEnsemble',\n",
    "  sktime.classification.interval_based._rise.RandomIntervalSpectralEnsemble),\n",
    " ('RocketClassifier',\n",
    "  sktime.classification.kernel_based._rocket_classifier.RocketClassifier),\n",
    " ('ShapeDTW', sktime.classification.distance_based._shape_dtw.ShapeDTW),\n",
    " ('ShapeletTransformClassifier',\n",
    "  sktime.classification.shapelet_based._stc.ShapeletTransformClassifier),\n",
    " ('SignatureClassifier',\n",
    "  sktime.classification.feature_based._signature_classifier.SignatureClassifier),\n",
    " ('SummaryClassifier',\n",
    "  sktime.classification.feature_based._summary_classifier.SummaryClassifier),\n",
    " ('SupervisedTimeSeriesForest',\n",
    "  sktime.classification.interval_based._stsf.SupervisedTimeSeriesForest),\n",
    " ('TEASER', sktime.classification.early_classification._teaser.TEASER),\n",
    " ('TSFreshClassifier',\n",
    "  sktime.classification.feature_based._tsfresh_classifier.TSFreshClassifier),\n",
    " ('TemporalDictionaryEnsemble',\n",
    "  sktime.classification.dictionary_based._tde.TemporalDictionaryEnsemble),\n",
    " ('TimeSeriesForestClassifier',\n",
    "  sktime.classification.interval_based._tsf.TimeSeriesForestClassifier),\n",
    " ('WEASEL', sktime.classification.dictionary_based._weasel.WEASEL)]\n",
    "```"
   ]
  },
  {
   "cell_type": "markdown",
   "id": "ea9f6ab0",
   "metadata": {},
   "source": [
    "## Train Model"
   ]
  },
  {
   "cell_type": "markdown",
   "id": "aae4ebe3",
   "metadata": {},
   "source": [
    "sktime offers three main ways of solving multivariate time series classification problems:\n",
    "* Concatenation \n",
    "* Column-wise ensembling \n",
    "* Bespoke estimator-specific methods\n",
    "\n",
    "Reference: [Multivariate time series classification with sktime](https://www.sktime.org/en/v0.8.1/examples/03_classification_multivariate.html)"
   ]
  },
  {
   "cell_type": "markdown",
   "id": "6ea390c5",
   "metadata": {},
   "source": [
    "### Column ensembling"
   ]
  },
  {
   "cell_type": "code",
   "execution_count": 6,
   "id": "652bbdfc",
   "metadata": {},
   "outputs": [
    {
     "name": "stdout",
     "output_type": "stream",
     "text": [
      "Training accuracy score 0.9995919477693145\n"
     ]
    }
   ],
   "source": [
    "clf = ColumnEnsembleClassifier(\n",
    "    estimators=[\n",
    "        # (\"TSF0\", TimeSeriesForestClassifier(random_state=42), 0),\n",
    "        # (\"BOSSEnsemble3\", BOSSEnsemble(max_ensemble_size=5,random_state=42), 0),\n",
    "        ('STSF0', SupervisedTimeSeriesForest(n_estimators=5, random_state=42), 0)\n",
    "    ]\n",
    ")\n",
    "\n",
    "clf.fit(X_train, y_train)\n",
    "\n",
    "print('Training accuracy score', clf.score(X_train, y_train))"
   ]
  },
  {
   "cell_type": "markdown",
   "id": "2f1d43ba",
   "metadata": {},
   "source": [
    "Exception while using BOSSEnsemble3:\n",
    "\n",
    "```\n",
    "TypeError: loop of ufunc does not support argument 0 of type float which has no callable sqrt method\n",
    "```"
   ]
  },
  {
   "cell_type": "code",
   "execution_count": 7,
   "id": "28295f49",
   "metadata": {},
   "outputs": [
    {
     "name": "stdout",
     "output_type": "stream",
     "text": [
      "Accuracy:  0.9701391245334238\n",
      "Classification report:\n",
      "              precision    recall  f1-score   support\n",
      "\n",
      "           0       0.97      0.99      0.98      2527\n",
      "           1       0.95      0.83      0.89       420\n",
      "\n",
      "    accuracy                           0.97      2947\n",
      "   macro avg       0.96      0.91      0.94      2947\n",
      "weighted avg       0.97      0.97      0.97      2947\n",
      "\n",
      "Confusion matrix\n",
      "[[2510   17]\n",
      " [  71  349]]\n"
     ]
    }
   ],
   "source": [
    "# Evaluate the model\n",
    "\n",
    "# Predict y testues\n",
    "y_pred = clf.predict(X_test)\n",
    "\n",
    "# print accuracy\n",
    "print(\"Accuracy: \", accuracy_score(y_test, y_pred))\n",
    "\n",
    "# print precision, recall, F1-score per each class/tag\n",
    "print('Classification report:')\n",
    "print(classification_report(y_test, y_pred))\n",
    "\n",
    "# print confusion matrix, check documentation for sorting rows/columns\n",
    "print('Confusion matrix')\n",
    "print(confusion_matrix(y_test, y_pred))"
   ]
  },
  {
   "cell_type": "code",
   "execution_count": 12,
   "id": "20ab1f86",
   "metadata": {},
   "outputs": [
    {
     "data": {
      "image/png": "[encoded data removed]",
      "text/plain": [
       "<Figure size 432x288 with 2 Axes>"
      ]
     },
     "metadata": {
      "needs_background": "light"
     },
     "output_type": "display_data"
    }
   ],
   "source": [
    "cm = confusion_matrix(y_test, y_pred, labels=clf.classes_)\n",
    "disp = ConfusionMatrixDisplay(confusion_matrix=cm, display_labels=clf.classes_)\n",
    "disp.plot()\n",
    "plt.title('Confusion Matrix for the test dataset')\n",
    "plt.show()"
   ]
  },
  {
   "cell_type": "markdown",
   "id": "3514e691",
   "metadata": {},
   "source": [
    "### Time series concatenation"
   ]
  },
  {
   "cell_type": "code",
   "execution_count": 13,
   "id": "1dfa22fa",
   "metadata": {},
   "outputs": [
    {
     "data": {
      "text/plain": [
       "Pipeline(steps=[('concatenate', ColumnConcatenator()),\n",
       "                ('classify',\n",
       "                 SupervisedTimeSeriesForest(n_estimators=5, random_state=42))])"
      ]
     },
     "execution_count": 13,
     "metadata": {},
     "output_type": "execute_result"
    }
   ],
   "source": [
    "steps = [\n",
    "    (\"concatenate\", ColumnConcatenator()),\n",
    "    (\"classify\", SupervisedTimeSeriesForest(n_estimators=5, random_state=42)),\n",
    "]\n",
    "\n",
    "clf = Pipeline(steps)\n",
    "clf.fit(X_train, y_train)"
   ]
  },
  {
   "cell_type": "code",
   "execution_count": 16,
   "id": "8db36eaa",
   "metadata": {},
   "outputs": [
    {
     "name": "stdout",
     "output_type": "stream",
     "text": [
      "Test Accuracy:  0.9701391245334238\n",
      "Classification report:\n",
      "              precision    recall  f1-score   support\n",
      "\n",
      "           0       0.97      0.99      0.98      2527\n",
      "           1       0.95      0.83      0.89       420\n",
      "\n",
      "    accuracy                           0.97      2947\n",
      "   macro avg       0.96      0.91      0.94      2947\n",
      "weighted avg       0.97      0.97      0.97      2947\n",
      "\n",
      "Confusion matrix\n",
      "[[2510   17]\n",
      " [  71  349]]\n"
     ]
    }
   ],
   "source": [
    "# Evaluate the model\n",
    "\n",
    "# Predict y testues\n",
    "y_pred = clf.predict(X_test)\n",
    "\n",
    "# print accuracy\n",
    "print(\"Test Accuracy: \", accuracy_score(y_test, y_pred))\n",
    "\n",
    "# print precision, recall, F1-score per each class/tag\n",
    "print('Classification report:')\n",
    "print(classification_report(y_test, y_pred))\n",
    "\n",
    "# print confusion matrix, check documentation for sorting rows/columns\n",
    "print('Confusion matrix')\n",
    "print(confusion_matrix(y_test, y_pred))"
   ]
  },
  {
   "cell_type": "code",
   "execution_count": 15,
   "id": "08ee4079",
   "metadata": {},
   "outputs": [
    {
     "data": {
      "image/png": "[encoded data removed]",
      "text/plain": [
       "<Figure size 432x288 with 2 Axes>"
      ]
     },
     "metadata": {
      "needs_background": "light"
     },
     "output_type": "display_data"
    }
   ],
   "source": [
    "cm = confusion_matrix(y_test, y_pred, labels=clf.classes_)\n",
    "disp = ConfusionMatrixDisplay(confusion_matrix=cm, display_labels=clf.classes_)\n",
    "disp.plot()\n",
    "plt.title('Confusion Matrix for the test dataset')\n",
    "plt.show()"
   ]
  },
  {
   "cell_type": "code",
   "execution_count": 17,
   "id": "bbb07193",
   "metadata": {},
   "outputs": [],
   "source": [
    "# Get the predicited probability of testing data\n",
    "y_score = clf.predict_proba(X_test)[:, 1]"
   ]
  },
  {
   "cell_type": "code",
   "execution_count": 18,
   "id": "eaa6d607",
   "metadata": {},
   "outputs": [
    {
     "name": "stdout",
     "output_type": "stream",
     "text": [
      "AVG Precision: 0.9277776334012855\n"
     ]
    }
   ],
   "source": [
    "# Average precision score\n",
    "average_precision = average_precision_score(y_test, y_score)\n",
    "print('AVG Precision:', average_precision)"
   ]
  },
  {
   "cell_type": "code",
   "execution_count": 19,
   "id": "d09027d3",
   "metadata": {},
   "outputs": [
    {
     "name": "stdout",
     "output_type": "stream",
     "text": [
      "AUC: 0.9499754060286587\n"
     ]
    }
   ],
   "source": [
    "# Data to plot precision - recall curve\n",
    "precision, recall, thresholds = precision_recall_curve(y_test, y_score)\n",
    "# Use AUC function to calculate the area under the curve of precision recall curve\n",
    "auc_precision_recall = auc(recall, precision)\n",
    "print('AUC:', auc_precision_recall)"
   ]
  },
  {
   "cell_type": "code",
   "execution_count": 20,
   "id": "9e01af4c",
   "metadata": {},
   "outputs": [
    {
     "data": {
      "image/png": "[encoded data removed]",
      "text/plain": [
       "<Figure size 432x288 with 1 Axes>"
      ]
     },
     "metadata": {
      "needs_background": "light"
     },
     "output_type": "display_data"
    }
   ],
   "source": [
    "plt.plot(recall, precision)\n",
    "plt.title('Binary class Precision-Recall curve')\n",
    "plt.xlabel('Recall')\n",
    "plt.ylabel('Precision')\n",
    "plt.show()"
   ]
  }
 ],
 "metadata": {
  "kernelspec": {
   "display_name": "Python 3 (ipykernel)",
   "language": "python",
   "name": "python3"
  },
  "language_info": {
   "codemirror_mode": {
    "name": "ipython",
    "version": 3
   },
   "file_extension": ".py",
   "mimetype": "text/x-python",
   "name": "python",
   "nbconvert_exporter": "python",
   "pygments_lexer": "ipython3",
   "version": "3.8.10"
  }
 },
 "nbformat": 4,
 "nbformat_minor": 5
}
