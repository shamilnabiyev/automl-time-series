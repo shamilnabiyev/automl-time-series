{
 "cells": [
  {
   "cell_type": "markdown",
   "id": "4f716e2d",
   "metadata": {},
   "source": [
    "# SKTIME\n",
    "\n",
    "GitHub: https://github.com/alan-turing-institute/sktime\n",
    "\n",
    "Documentation: https://www.sktime.org/en/stable/index.html\n"
   ]
  },
  {
   "cell_type": "code",
   "execution_count": 3,
   "id": "01027de9",
   "metadata": {},
   "outputs": [],
   "source": [
    "import pandas as pd\n",
    "import numpy as np\n",
    "\n",
    "from sklearn.pipeline import Pipeline\n",
    "from sklearn.model_selection import train_test_split\n",
    "from sklearn.metrics import auc, plot_precision_recall_curve\n",
    "from sklearn.metrics import average_precision_score, precision_recall_curve\n",
    "from sklearn.metrics import accuracy_score, classification_report\n",
    "from sklearn.metrics import confusion_matrix, ConfusionMatrixDisplay\n",
    "\n",
    "from sktime.datasets import load_basic_motions\n",
    "from sktime.transformations.panel.compose import ColumnConcatenator\n",
    "from sktime.datatypes._panel._convert import from_2d_array_to_nested\n",
    "from sktime.classification.dictionary_based import BOSSEnsemble\n",
    "from sktime.classification.compose import ColumnEnsembleClassifier\n",
    "from sktime.classification.interval_based import TimeSeriesForestClassifier\n",
    "from sktime.classification.interval_based import SupervisedTimeSeriesForest\n",
    "from sktime.datasets import load_from_tsfile\n",
    "from sktime.forecasting.model_selection import temporal_train_test_split\n",
    "from sktime.datasets import load_from_tsfile\n",
    "from sktime.datatypes import convert_to\n",
    "\n",
    "import matplotlib.pyplot as plt\n",
    "%matplotlib inline"
   ]
  },
  {
   "cell_type": "markdown",
   "id": "186d1f22",
   "metadata": {},
   "source": [
    "## Load Dataset"
   ]
  },
  {
   "cell_type": "code",
   "execution_count": 3,
   "id": "fd47b332",
   "metadata": {},
   "outputs": [
    {
     "data": {
      "text/html": [
       "<div>\n",
       "<style scoped>\n",
       "    .dataframe tbody tr th:only-of-type {\n",
       "        vertical-align: middle;\n",
       "    }\n",
       "\n",
       "    .dataframe tbody tr th {\n",
       "        vertical-align: top;\n",
       "    }\n",
       "\n",
       "    .dataframe thead th {\n",
       "        text-align: right;\n",
       "    }\n",
       "</style>\n",
       "<table border=\"1\" class=\"dataframe\">\n",
       "  <thead>\n",
       "    <tr style=\"text-align: right;\">\n",
       "      <th></th>\n",
       "      <th>tBodyAcc-mean()-X</th>\n",
       "      <th>tBodyAcc-mean()-Y</th>\n",
       "      <th>tBodyAcc-mean()-Z</th>\n",
       "      <th>tBodyAcc-std()-X</th>\n",
       "      <th>tBodyAcc-std()-Y</th>\n",
       "      <th>tBodyAcc-std()-Z</th>\n",
       "      <th>tBodyAcc-mad()-X</th>\n",
       "      <th>tBodyAcc-mad()-Y</th>\n",
       "      <th>tBodyAcc-mad()-Z</th>\n",
       "      <th>tBodyAcc-max()-X</th>\n",
       "      <th>...</th>\n",
       "      <th>fBodyBodyGyroJerkMag-skewness()</th>\n",
       "      <th>fBodyBodyGyroJerkMag-kurtosis()</th>\n",
       "      <th>angle(tBodyAccMean,gravity)</th>\n",
       "      <th>angle(tBodyAccJerkMean),gravityMean)</th>\n",
       "      <th>angle(tBodyGyroMean,gravityMean)</th>\n",
       "      <th>angle(tBodyGyroJerkMean,gravityMean)</th>\n",
       "      <th>angle(X,gravityMean)</th>\n",
       "      <th>angle(Y,gravityMean)</th>\n",
       "      <th>angle(Z,gravityMean)</th>\n",
       "      <th>activity</th>\n",
       "    </tr>\n",
       "  </thead>\n",
       "  <tbody>\n",
       "    <tr>\n",
       "      <th>0</th>\n",
       "      <td>0.288585</td>\n",
       "      <td>-0.020294</td>\n",
       "      <td>-0.132905</td>\n",
       "      <td>-0.995279</td>\n",
       "      <td>-0.983111</td>\n",
       "      <td>-0.913526</td>\n",
       "      <td>-0.995112</td>\n",
       "      <td>-0.983185</td>\n",
       "      <td>-0.923527</td>\n",
       "      <td>-0.934724</td>\n",
       "      <td>...</td>\n",
       "      <td>-0.298676</td>\n",
       "      <td>-0.710304</td>\n",
       "      <td>-0.112754</td>\n",
       "      <td>0.030400</td>\n",
       "      <td>-0.464761</td>\n",
       "      <td>-0.018446</td>\n",
       "      <td>-0.841247</td>\n",
       "      <td>0.179941</td>\n",
       "      <td>-0.058627</td>\n",
       "      <td>0</td>\n",
       "    </tr>\n",
       "    <tr>\n",
       "      <th>1</th>\n",
       "      <td>0.278419</td>\n",
       "      <td>-0.016411</td>\n",
       "      <td>-0.123520</td>\n",
       "      <td>-0.998245</td>\n",
       "      <td>-0.975300</td>\n",
       "      <td>-0.960322</td>\n",
       "      <td>-0.998807</td>\n",
       "      <td>-0.974914</td>\n",
       "      <td>-0.957686</td>\n",
       "      <td>-0.943068</td>\n",
       "      <td>...</td>\n",
       "      <td>-0.595051</td>\n",
       "      <td>-0.861499</td>\n",
       "      <td>0.053477</td>\n",
       "      <td>-0.007435</td>\n",
       "      <td>-0.732626</td>\n",
       "      <td>0.703511</td>\n",
       "      <td>-0.844788</td>\n",
       "      <td>0.180289</td>\n",
       "      <td>-0.054317</td>\n",
       "      <td>0</td>\n",
       "    </tr>\n",
       "    <tr>\n",
       "      <th>2</th>\n",
       "      <td>0.279653</td>\n",
       "      <td>-0.019467</td>\n",
       "      <td>-0.113462</td>\n",
       "      <td>-0.995380</td>\n",
       "      <td>-0.967187</td>\n",
       "      <td>-0.978944</td>\n",
       "      <td>-0.996520</td>\n",
       "      <td>-0.963668</td>\n",
       "      <td>-0.977469</td>\n",
       "      <td>-0.938692</td>\n",
       "      <td>...</td>\n",
       "      <td>-0.390748</td>\n",
       "      <td>-0.760104</td>\n",
       "      <td>-0.118559</td>\n",
       "      <td>0.177899</td>\n",
       "      <td>0.100699</td>\n",
       "      <td>0.808529</td>\n",
       "      <td>-0.848933</td>\n",
       "      <td>0.180637</td>\n",
       "      <td>-0.049118</td>\n",
       "      <td>0</td>\n",
       "    </tr>\n",
       "  </tbody>\n",
       "</table>\n",
       "<p>3 rows × 562 columns</p>\n",
       "</div>"
      ],
      "text/plain": [
       "   tBodyAcc-mean()-X  tBodyAcc-mean()-Y  tBodyAcc-mean()-Z  tBodyAcc-std()-X  \\\n",
       "0           0.288585          -0.020294          -0.132905         -0.995279   \n",
       "1           0.278419          -0.016411          -0.123520         -0.998245   \n",
       "2           0.279653          -0.019467          -0.113462         -0.995380   \n",
       "\n",
       "   tBodyAcc-std()-Y  tBodyAcc-std()-Z  tBodyAcc-mad()-X  tBodyAcc-mad()-Y  \\\n",
       "0         -0.983111         -0.913526         -0.995112         -0.983185   \n",
       "1         -0.975300         -0.960322         -0.998807         -0.974914   \n",
       "2         -0.967187         -0.978944         -0.996520         -0.963668   \n",
       "\n",
       "   tBodyAcc-mad()-Z  tBodyAcc-max()-X  ...  fBodyBodyGyroJerkMag-skewness()  \\\n",
       "0         -0.923527         -0.934724  ...                        -0.298676   \n",
       "1         -0.957686         -0.943068  ...                        -0.595051   \n",
       "2         -0.977469         -0.938692  ...                        -0.390748   \n",
       "\n",
       "   fBodyBodyGyroJerkMag-kurtosis()  angle(tBodyAccMean,gravity)  \\\n",
       "0                        -0.710304                    -0.112754   \n",
       "1                        -0.861499                     0.053477   \n",
       "2                        -0.760104                    -0.118559   \n",
       "\n",
       "   angle(tBodyAccJerkMean),gravityMean)  angle(tBodyGyroMean,gravityMean)  \\\n",
       "0                              0.030400                         -0.464761   \n",
       "1                             -0.007435                         -0.732626   \n",
       "2                              0.177899                          0.100699   \n",
       "\n",
       "   angle(tBodyGyroJerkMean,gravityMean)  angle(X,gravityMean)  \\\n",
       "0                             -0.018446             -0.841247   \n",
       "1                              0.703511             -0.844788   \n",
       "2                              0.808529             -0.848933   \n",
       "\n",
       "   angle(Y,gravityMean)  angle(Z,gravityMean)  activity  \n",
       "0              0.179941             -0.058627         0  \n",
       "1              0.180289             -0.054317         0  \n",
       "2              0.180637             -0.049118         0  \n",
       "\n",
       "[3 rows x 562 columns]"
      ]
     },
     "execution_count": 3,
     "metadata": {},
     "output_type": "execute_result"
    }
   ],
   "source": [
    "target = 'activity'\n",
    "ts_column = 'datetime'\n",
    "\n",
    "# Train dataset\n",
    "# Data source: https://www.kaggle.com/datasets/uciml/human-activity-recognition-with-smartphones\n",
    "train = pd.read_csv(\"../data/human-activity-recognition/train.csv\")\n",
    "\n",
    "# Convert labels to binary\n",
    "train[target] = pd.DataFrame(np.where(train['Activity']=='WALKING_DOWNSTAIRS', 1, 0))\n",
    "\n",
    "# Drop unused columns\n",
    "train.drop(['subject', 'Activity'], axis=1, inplace=True)\n",
    "\n",
    "train.head(3)"
   ]
  },
  {
   "cell_type": "code",
   "execution_count": 4,
   "id": "985684f4",
   "metadata": {},
   "outputs": [
    {
     "data": {
      "text/html": [
       "<div>\n",
       "<style scoped>\n",
       "    .dataframe tbody tr th:only-of-type {\n",
       "        vertical-align: middle;\n",
       "    }\n",
       "\n",
       "    .dataframe tbody tr th {\n",
       "        vertical-align: top;\n",
       "    }\n",
       "\n",
       "    .dataframe thead th {\n",
       "        text-align: right;\n",
       "    }\n",
       "</style>\n",
       "<table border=\"1\" class=\"dataframe\">\n",
       "  <thead>\n",
       "    <tr style=\"text-align: right;\">\n",
       "      <th></th>\n",
       "      <th>tBodyAcc-mean()-X</th>\n",
       "      <th>tBodyAcc-mean()-Y</th>\n",
       "      <th>tBodyAcc-mean()-Z</th>\n",
       "      <th>tBodyAcc-std()-X</th>\n",
       "      <th>tBodyAcc-std()-Y</th>\n",
       "      <th>tBodyAcc-std()-Z</th>\n",
       "      <th>tBodyAcc-mad()-X</th>\n",
       "      <th>tBodyAcc-mad()-Y</th>\n",
       "      <th>tBodyAcc-mad()-Z</th>\n",
       "      <th>tBodyAcc-max()-X</th>\n",
       "      <th>...</th>\n",
       "      <th>fBodyBodyGyroJerkMag-skewness()</th>\n",
       "      <th>fBodyBodyGyroJerkMag-kurtosis()</th>\n",
       "      <th>angle(tBodyAccMean,gravity)</th>\n",
       "      <th>angle(tBodyAccJerkMean),gravityMean)</th>\n",
       "      <th>angle(tBodyGyroMean,gravityMean)</th>\n",
       "      <th>angle(tBodyGyroJerkMean,gravityMean)</th>\n",
       "      <th>angle(X,gravityMean)</th>\n",
       "      <th>angle(Y,gravityMean)</th>\n",
       "      <th>angle(Z,gravityMean)</th>\n",
       "      <th>activity</th>\n",
       "    </tr>\n",
       "  </thead>\n",
       "  <tbody>\n",
       "    <tr>\n",
       "      <th>0</th>\n",
       "      <td>0.257178</td>\n",
       "      <td>-0.023285</td>\n",
       "      <td>-0.014654</td>\n",
       "      <td>-0.938404</td>\n",
       "      <td>-0.920091</td>\n",
       "      <td>-0.667683</td>\n",
       "      <td>-0.952501</td>\n",
       "      <td>-0.925249</td>\n",
       "      <td>-0.674302</td>\n",
       "      <td>-0.894088</td>\n",
       "      <td>...</td>\n",
       "      <td>-0.330370</td>\n",
       "      <td>-0.705974</td>\n",
       "      <td>0.006462</td>\n",
       "      <td>0.162920</td>\n",
       "      <td>-0.825886</td>\n",
       "      <td>0.271151</td>\n",
       "      <td>-0.720009</td>\n",
       "      <td>0.276801</td>\n",
       "      <td>-0.057978</td>\n",
       "      <td>0</td>\n",
       "    </tr>\n",
       "    <tr>\n",
       "      <th>1</th>\n",
       "      <td>0.286027</td>\n",
       "      <td>-0.013163</td>\n",
       "      <td>-0.119083</td>\n",
       "      <td>-0.975415</td>\n",
       "      <td>-0.967458</td>\n",
       "      <td>-0.944958</td>\n",
       "      <td>-0.986799</td>\n",
       "      <td>-0.968401</td>\n",
       "      <td>-0.945823</td>\n",
       "      <td>-0.894088</td>\n",
       "      <td>...</td>\n",
       "      <td>-0.121845</td>\n",
       "      <td>-0.594944</td>\n",
       "      <td>-0.083495</td>\n",
       "      <td>0.017500</td>\n",
       "      <td>-0.434375</td>\n",
       "      <td>0.920593</td>\n",
       "      <td>-0.698091</td>\n",
       "      <td>0.281343</td>\n",
       "      <td>-0.083898</td>\n",
       "      <td>0</td>\n",
       "    </tr>\n",
       "    <tr>\n",
       "      <th>2</th>\n",
       "      <td>0.275485</td>\n",
       "      <td>-0.026050</td>\n",
       "      <td>-0.118152</td>\n",
       "      <td>-0.993819</td>\n",
       "      <td>-0.969926</td>\n",
       "      <td>-0.962748</td>\n",
       "      <td>-0.994403</td>\n",
       "      <td>-0.970735</td>\n",
       "      <td>-0.963483</td>\n",
       "      <td>-0.939260</td>\n",
       "      <td>...</td>\n",
       "      <td>-0.190422</td>\n",
       "      <td>-0.640736</td>\n",
       "      <td>-0.034956</td>\n",
       "      <td>0.202302</td>\n",
       "      <td>0.064103</td>\n",
       "      <td>0.145068</td>\n",
       "      <td>-0.702771</td>\n",
       "      <td>0.280083</td>\n",
       "      <td>-0.079346</td>\n",
       "      <td>0</td>\n",
       "    </tr>\n",
       "  </tbody>\n",
       "</table>\n",
       "<p>3 rows × 562 columns</p>\n",
       "</div>"
      ],
      "text/plain": [
       "   tBodyAcc-mean()-X  tBodyAcc-mean()-Y  tBodyAcc-mean()-Z  tBodyAcc-std()-X  \\\n",
       "0           0.257178          -0.023285          -0.014654         -0.938404   \n",
       "1           0.286027          -0.013163          -0.119083         -0.975415   \n",
       "2           0.275485          -0.026050          -0.118152         -0.993819   \n",
       "\n",
       "   tBodyAcc-std()-Y  tBodyAcc-std()-Z  tBodyAcc-mad()-X  tBodyAcc-mad()-Y  \\\n",
       "0         -0.920091         -0.667683         -0.952501         -0.925249   \n",
       "1         -0.967458         -0.944958         -0.986799         -0.968401   \n",
       "2         -0.969926         -0.962748         -0.994403         -0.970735   \n",
       "\n",
       "   tBodyAcc-mad()-Z  tBodyAcc-max()-X  ...  fBodyBodyGyroJerkMag-skewness()  \\\n",
       "0         -0.674302         -0.894088  ...                        -0.330370   \n",
       "1         -0.945823         -0.894088  ...                        -0.121845   \n",
       "2         -0.963483         -0.939260  ...                        -0.190422   \n",
       "\n",
       "   fBodyBodyGyroJerkMag-kurtosis()  angle(tBodyAccMean,gravity)  \\\n",
       "0                        -0.705974                     0.006462   \n",
       "1                        -0.594944                    -0.083495   \n",
       "2                        -0.640736                    -0.034956   \n",
       "\n",
       "   angle(tBodyAccJerkMean),gravityMean)  angle(tBodyGyroMean,gravityMean)  \\\n",
       "0                              0.162920                         -0.825886   \n",
       "1                              0.017500                         -0.434375   \n",
       "2                              0.202302                          0.064103   \n",
       "\n",
       "   angle(tBodyGyroJerkMean,gravityMean)  angle(X,gravityMean)  \\\n",
       "0                              0.271151             -0.720009   \n",
       "1                              0.920593             -0.698091   \n",
       "2                              0.145068             -0.702771   \n",
       "\n",
       "   angle(Y,gravityMean)  angle(Z,gravityMean)  activity  \n",
       "0              0.276801             -0.057978         0  \n",
       "1              0.281343             -0.083898         0  \n",
       "2              0.280083             -0.079346         0  \n",
       "\n",
       "[3 rows x 562 columns]"
      ]
     },
     "execution_count": 4,
     "metadata": {},
     "output_type": "execute_result"
    }
   ],
   "source": [
    "# Test dataset\n",
    "test = pd.read_csv(\"../data/human-activity-recognition/test.csv\")\n",
    "\n",
    "# Convert labels to binary\n",
    "test[target] = pd.DataFrame(np.where(test['Activity']=='WALKING_DOWNSTAIRS', 1, 0))\n",
    "\n",
    "# Drop unused columns\n",
    "test.drop(['subject', 'Activity'], axis=1, inplace=True)\n",
    "\n",
    "test.head(3)"
   ]
  },
  {
   "cell_type": "code",
   "execution_count": null,
   "id": "1ec50aa4",
   "metadata": {},
   "outputs": [],
   "source": [
    "print('Train dataset shape:', train.shape)\n",
    "print('Test dataset shape:', test.shape)"
   ]
  },
  {
   "cell_type": "markdown",
   "id": "1976d0f8",
   "metadata": {},
   "source": [
    "## Preprocess data"
   ]
  },
  {
   "cell_type": "code",
   "execution_count": 5,
   "id": "b9af196a",
   "metadata": {},
   "outputs": [
    {
     "name": "stdout",
     "output_type": "stream",
     "text": [
      "Train dataset shape: (7352, 1) (7352,)\n",
      "Test dataset shape: (2947, 1) (2947,)\n"
     ]
    }
   ],
   "source": [
    "# Convert to nested dataframe\n",
    "features = train.columns.difference([target, 'datetime'])\n",
    "\n",
    "X_train = train[features]\n",
    "X_train = from_2d_array_to_nested(X_train)\n",
    "y_train = train[target]\n",
    "\n",
    "X_test = test[features]\n",
    "X_test = from_2d_array_to_nested(X_test)\n",
    "y_test = test[target]\n",
    "\n",
    "# X_train, X_val, y_train, y_val = train_test_split(X, y, random_state=42, shuffle=False, test_size=0.2)\n",
    "\n",
    "# print('Dataset shape:', X_train.shape, y_train.shape, X_val.shape, y_val.shape)\n",
    "\n",
    "print('Train dataset shape:', X_train.shape, y_train.shape)\n",
    "print('Test dataset shape:', X_test.shape, y_test.shape)"
   ]
  },
  {
   "cell_type": "code",
   "execution_count": null,
   "id": "2c3b4225",
   "metadata": {},
   "outputs": [],
   "source": [
    "from sktime.registry import all_estimators\n",
    "\n",
    "# all_estimators?\n",
    "# A list of all available classifiers\n",
    "all_estimators(estimator_types='classifier', return_names=False)"
   ]
  },
  {
   "cell_type": "markdown",
   "id": "5d0e1dd0",
   "metadata": {},
   "source": [
    "A list of all available classifiers:\n",
    "\n",
    "```\n",
    "[sktime.classification.kernel_based._arsenal.Arsenal,\n",
    " sktime.classification.dictionary_based._boss.BOSSEnsemble,\n",
    " sktime.classification.interval_based._cif.CanonicalIntervalForest,\n",
    " sktime.classification.feature_based._catch22_classifier.Catch22Classifier,\n",
    " sktime.classification.compose._pipeline.ClassifierPipeline,\n",
    " sktime.classification.compose._column_ensemble.ColumnEnsembleClassifier,\n",
    " sktime.classification.compose._ensemble.ComposableTimeSeriesForestClassifier,\n",
    " sktime.classification.dictionary_based._cboss.ContractableBOSS,\n",
    " sktime.classification.interval_based._drcif.DrCIF,\n",
    " sktime.classification.distance_based._elastic_ensemble.ElasticEnsemble,\n",
    " sktime.classification.feature_based._fresh_prince.FreshPRINCE,\n",
    " sktime.classification.hybrid._hivecote_v1.HIVECOTEV1,\n",
    " sktime.classification.hybrid._hivecote_v2.HIVECOTEV2,\n",
    " sktime.classification.dictionary_based._boss.IndividualBOSS,\n",
    " sktime.classification.dictionary_based._tde.IndividualTDE,\n",
    " sktime.classification.distance_based._time_series_neighbors.KNeighborsTimeSeriesClassifier,\n",
    " sktime.classification.dictionary_based._muse.MUSE,\n",
    " sktime.classification.feature_based._matrix_profile_classifier.MatrixProfileClassifier,\n",
    " sktime.classification.early_classification._probability_threshold.ProbabilityThresholdEarlyClassifier,\n",
    " sktime.classification.distance_based._proximity_forest.ProximityForest,\n",
    " sktime.classification.distance_based._proximity_forest.ProximityStump,\n",
    " sktime.classification.distance_based._proximity_forest.ProximityTree,\n",
    " sktime.classification.feature_based._random_interval_classifier.RandomIntervalClassifier,\n",
    " sktime.classification.interval_based._rise.RandomIntervalSpectralEnsemble,\n",
    " sktime.classification.kernel_based._rocket_classifier.RocketClassifier,\n",
    " sktime.classification.distance_based._shape_dtw.ShapeDTW,\n",
    " sktime.classification.shapelet_based._stc.ShapeletTransformClassifier,\n",
    " sktime.classification.feature_based._signature_classifier.SignatureClassifier,\n",
    " sktime.classification.feature_based._summary_classifier.SummaryClassifier,\n",
    " sktime.classification.interval_based._stsf.SupervisedTimeSeriesForest,\n",
    " sktime.classification.early_classification._teaser.TEASER,\n",
    " sktime.classification.feature_based._tsfresh_classifier.TSFreshClassifier,\n",
    " sktime.classification.dictionary_based._tde.TemporalDictionaryEnsemble,\n",
    " sktime.classification.interval_based._tsf.TimeSeriesForestClassifier,\n",
    " sktime.classification.dictionary_based._weasel.WEASEL]\n",
    "```"
   ]
  },
  {
   "cell_type": "markdown",
   "id": "ea9f6ab0",
   "metadata": {},
   "source": [
    "## Train Model"
   ]
  },
  {
   "cell_type": "markdown",
   "id": "aae4ebe3",
   "metadata": {},
   "source": [
    "sktime offers three main ways of solving multivariate time series classification problems:\n",
    "* Concatenation \n",
    "* Column-wise ensembling \n",
    "* Bespoke estimator-specific methods\n",
    "\n",
    "Reference: [Multivariate time series classification with sktime](https://www.sktime.org/en/v0.8.1/examples/03_classification_multivariate.html)"
   ]
  },
  {
   "cell_type": "markdown",
   "id": "6ea390c5",
   "metadata": {},
   "source": [
    "### Column ensembling"
   ]
  },
  {
   "cell_type": "code",
   "execution_count": 6,
   "id": "652bbdfc",
   "metadata": {},
   "outputs": [
    {
     "name": "stdout",
     "output_type": "stream",
     "text": [
      "Training accuracy score 0.9995919477693145\n"
     ]
    }
   ],
   "source": [
    "clf = ColumnEnsembleClassifier(\n",
    "    estimators=[\n",
    "        # (\"TSF0\", TimeSeriesForestClassifier(random_state=42), 0),\n",
    "        # (\"BOSSEnsemble3\", BOSSEnsemble(max_ensemble_size=5,random_state=42), 0),\n",
    "        ('STSF0', SupervisedTimeSeriesForest(n_estimators=5, random_state=42), 0)\n",
    "    ]\n",
    ")\n",
    "\n",
    "clf.fit(X_train, y_train)\n",
    "\n",
    "print('Training accuracy score', clf.score(X_train, y_train))"
   ]
  },
  {
   "cell_type": "markdown",
   "id": "2f1d43ba",
   "metadata": {},
   "source": [
    "Exception while using BOSSEnsemble3:\n",
    "\n",
    "```\n",
    "TypeError: loop of ufunc does not support argument 0 of type float which has no callable sqrt method\n",
    "```"
   ]
  },
  {
   "cell_type": "code",
   "execution_count": 7,
   "id": "28295f49",
   "metadata": {},
   "outputs": [
    {
     "name": "stdout",
     "output_type": "stream",
     "text": [
      "Accuracy:  0.9701391245334238\n",
      "Classification report:\n",
      "              precision    recall  f1-score   support\n",
      "\n",
      "           0       0.97      0.99      0.98      2527\n",
      "           1       0.95      0.83      0.89       420\n",
      "\n",
      "    accuracy                           0.97      2947\n",
      "   macro avg       0.96      0.91      0.94      2947\n",
      "weighted avg       0.97      0.97      0.97      2947\n",
      "\n",
      "Confusion matrix\n",
      "[[2510   17]\n",
      " [  71  349]]\n"
     ]
    }
   ],
   "source": [
    "# Evaluate the model\n",
    "\n",
    "# Predict y testues\n",
    "y_pred = clf.predict(X_test)\n",
    "\n",
    "# print accuracy\n",
    "print(\"Accuracy: \", accuracy_score(y_test, y_pred))\n",
    "\n",
    "# print precision, recall, F1-score per each class/tag\n",
    "print('Classification report:')\n",
    "print(classification_report(y_test, y_pred))\n",
    "\n",
    "# print confusion matrix, check documentation for sorting rows/columns\n",
    "print('Confusion matrix')\n",
    "print(confusion_matrix(y_test, y_pred))"
   ]
  },
  {
   "cell_type": "code",
   "execution_count": 12,
   "id": "20ab1f86",
   "metadata": {},
   "outputs": [
    {
     "data": {
      "image/png": "[encoded data removed]",
      "text/plain": [
       "<Figure size 432x288 with 2 Axes>"
      ]
     },
     "metadata": {
      "needs_background": "light"
     },
     "output_type": "display_data"
    }
   ],
   "source": [
    "cm = confusion_matrix(y_test, y_pred, labels=clf.classes_)\n",
    "disp = ConfusionMatrixDisplay(confusion_matrix=cm, display_labels=clf.classes_)\n",
    "disp.plot()\n",
    "plt.title('Confusion Matrix for the test dataset')\n",
    "plt.show()"
   ]
  },
  {
   "cell_type": "markdown",
   "id": "3514e691",
   "metadata": {},
   "source": [
    "### Time series concatenation"
   ]
  },
  {
   "cell_type": "code",
   "execution_count": 13,
   "id": "1dfa22fa",
   "metadata": {},
   "outputs": [
    {
     "data": {
      "text/plain": [
       "Pipeline(steps=[('concatenate', ColumnConcatenator()),\n",
       "                ('classify',\n",
       "                 SupervisedTimeSeriesForest(n_estimators=5, random_state=42))])"
      ]
     },
     "execution_count": 13,
     "metadata": {},
     "output_type": "execute_result"
    }
   ],
   "source": [
    "steps = [\n",
    "    (\"concatenate\", ColumnConcatenator()),\n",
    "    (\"classify\", SupervisedTimeSeriesForest(n_estimators=5, random_state=42)),\n",
    "]\n",
    "\n",
    "clf = Pipeline(steps)\n",
    "clf.fit(X_train, y_train)"
   ]
  },
  {
   "cell_type": "code",
   "execution_count": 16,
   "id": "8db36eaa",
   "metadata": {},
   "outputs": [
    {
     "name": "stdout",
     "output_type": "stream",
     "text": [
      "Test Accuracy:  0.9701391245334238\n",
      "Classification report:\n",
      "              precision    recall  f1-score   support\n",
      "\n",
      "           0       0.97      0.99      0.98      2527\n",
      "           1       0.95      0.83      0.89       420\n",
      "\n",
      "    accuracy                           0.97      2947\n",
      "   macro avg       0.96      0.91      0.94      2947\n",
      "weighted avg       0.97      0.97      0.97      2947\n",
      "\n",
      "Confusion matrix\n",
      "[[2510   17]\n",
      " [  71  349]]\n"
     ]
    }
   ],
   "source": [
    "# Evaluate the model\n",
    "\n",
    "# Predict y testues\n",
    "y_pred = clf.predict(X_test)\n",
    "\n",
    "# print accuracy\n",
    "print(\"Test Accuracy: \", accuracy_score(y_test, y_pred))\n",
    "\n",
    "# print precision, recall, F1-score per each class/tag\n",
    "print('Classification report:')\n",
    "print(classification_report(y_test, y_pred))\n",
    "\n",
    "# print confusion matrix, check documentation for sorting rows/columns\n",
    "print('Confusion matrix')\n",
    "print(confusion_matrix(y_test, y_pred))"
   ]
  },
  {
   "cell_type": "code",
   "execution_count": 15,
   "id": "08ee4079",
   "metadata": {},
   "outputs": [
    {
     "data": {
      "image/png": "[encoded data removed]",
      "text/plain": [
       "<Figure size 432x288 with 2 Axes>"
      ]
     },
     "metadata": {
      "needs_background": "light"
     },
     "output_type": "display_data"
    }
   ],
   "source": [
    "cm = confusion_matrix(y_test, y_pred, labels=clf.classes_)\n",
    "disp = ConfusionMatrixDisplay(confusion_matrix=cm, display_labels=clf.classes_)\n",
    "disp.plot()\n",
    "plt.title('Confusion Matrix for the test dataset')\n",
    "plt.show()"
   ]
  },
  {
   "cell_type": "code",
   "execution_count": 17,
   "id": "bbb07193",
   "metadata": {},
   "outputs": [],
   "source": [
    "# Get the predicited probability of testing data\n",
    "y_score = clf.predict_proba(X_test)[:, 1]"
   ]
  },
  {
   "cell_type": "code",
   "execution_count": 18,
   "id": "eaa6d607",
   "metadata": {},
   "outputs": [
    {
     "name": "stdout",
     "output_type": "stream",
     "text": [
      "AVG Precision: 0.9277776334012855\n"
     ]
    }
   ],
   "source": [
    "# Average precision score\n",
    "average_precision = average_precision_score(y_test, y_score)\n",
    "print('AVG Precision:', average_precision)"
   ]
  },
  {
   "cell_type": "code",
   "execution_count": 19,
   "id": "d09027d3",
   "metadata": {},
   "outputs": [
    {
     "name": "stdout",
     "output_type": "stream",
     "text": [
      "AUC: 0.9499754060286587\n"
     ]
    }
   ],
   "source": [
    "# Data to plot precision - recall curve\n",
    "precision, recall, thresholds = precision_recall_curve(y_test, y_score)\n",
    "# Use AUC function to calculate the area under the curve of precision recall curve\n",
    "auc_precision_recall = auc(recall, precision)\n",
    "print('AUC:', auc_precision_recall)"
   ]
  },
  {
   "cell_type": "code",
   "execution_count": 20,
   "id": "9e01af4c",
   "metadata": {},
   "outputs": [
    {
     "data": {
      "image/png": "[encoded data removed]",
      "text/plain": [
       "<Figure size 432x288 with 1 Axes>"
      ]
     },
     "metadata": {
      "needs_background": "light"
     },
     "output_type": "display_data"
    }
   ],
   "source": [
    "plt.plot(recall, precision)\n",
    "plt.title('Binary class Precision-Recall curve')\n",
    "plt.xlabel('Recall')\n",
    "plt.ylabel('Precision')\n",
    "plt.show()"
   ]
  },
  {
   "cell_type": "markdown",
   "id": "da1b9384",
   "metadata": {},
   "source": [
    " "
   ]
  },
  {
   "cell_type": "markdown",
   "id": "46f46f0c",
   "metadata": {},
   "source": [
    "===================================="
   ]
  },
  {
   "cell_type": "code",
   "execution_count": 23,
   "id": "5a2a69ec",
   "metadata": {
    "scrolled": true
   },
   "outputs": [
    {
     "data": {
      "text/html": [
       "<div>\n",
       "<style scoped>\n",
       "    .dataframe tbody tr th:only-of-type {\n",
       "        vertical-align: middle;\n",
       "    }\n",
       "\n",
       "    .dataframe tbody tr th {\n",
       "        vertical-align: top;\n",
       "    }\n",
       "\n",
       "    .dataframe thead th {\n",
       "        text-align: right;\n",
       "    }\n",
       "</style>\n",
       "<table border=\"1\" class=\"dataframe\">\n",
       "  <thead>\n",
       "    <tr style=\"text-align: right;\">\n",
       "      <th></th>\n",
       "      <th>tBodyAcc-mean()-X</th>\n",
       "      <th>tBodyAcc-mean()-Y</th>\n",
       "      <th>tBodyAcc-mean()-Z</th>\n",
       "      <th>tBodyAcc-std()-X</th>\n",
       "      <th>tBodyAcc-std()-Y</th>\n",
       "      <th>tBodyAcc-std()-Z</th>\n",
       "      <th>tBodyAcc-mad()-X</th>\n",
       "      <th>tBodyAcc-mad()-Y</th>\n",
       "      <th>tBodyAcc-mad()-Z</th>\n",
       "      <th>tBodyAcc-max()-X</th>\n",
       "      <th>...</th>\n",
       "      <th>fBodyBodyGyroJerkMag-kurtosis()</th>\n",
       "      <th>angle(tBodyAccMean,gravity)</th>\n",
       "      <th>angle(tBodyAccJerkMean),gravityMean)</th>\n",
       "      <th>angle(tBodyGyroMean,gravityMean)</th>\n",
       "      <th>angle(tBodyGyroJerkMean,gravityMean)</th>\n",
       "      <th>angle(X,gravityMean)</th>\n",
       "      <th>angle(Y,gravityMean)</th>\n",
       "      <th>angle(Z,gravityMean)</th>\n",
       "      <th>subject</th>\n",
       "      <th>Activity</th>\n",
       "    </tr>\n",
       "  </thead>\n",
       "  <tbody>\n",
       "    <tr>\n",
       "      <th>0</th>\n",
       "      <td>0.288585</td>\n",
       "      <td>-0.020294</td>\n",
       "      <td>-0.132905</td>\n",
       "      <td>-0.995279</td>\n",
       "      <td>-0.983111</td>\n",
       "      <td>-0.913526</td>\n",
       "      <td>-0.995112</td>\n",
       "      <td>-0.983185</td>\n",
       "      <td>-0.923527</td>\n",
       "      <td>-0.934724</td>\n",
       "      <td>...</td>\n",
       "      <td>-0.710304</td>\n",
       "      <td>-0.112754</td>\n",
       "      <td>0.030400</td>\n",
       "      <td>-0.464761</td>\n",
       "      <td>-0.018446</td>\n",
       "      <td>-0.841247</td>\n",
       "      <td>0.179941</td>\n",
       "      <td>-0.058627</td>\n",
       "      <td>1</td>\n",
       "      <td>STANDING</td>\n",
       "    </tr>\n",
       "    <tr>\n",
       "      <th>1</th>\n",
       "      <td>0.278419</td>\n",
       "      <td>-0.016411</td>\n",
       "      <td>-0.123520</td>\n",
       "      <td>-0.998245</td>\n",
       "      <td>-0.975300</td>\n",
       "      <td>-0.960322</td>\n",
       "      <td>-0.998807</td>\n",
       "      <td>-0.974914</td>\n",
       "      <td>-0.957686</td>\n",
       "      <td>-0.943068</td>\n",
       "      <td>...</td>\n",
       "      <td>-0.861499</td>\n",
       "      <td>0.053477</td>\n",
       "      <td>-0.007435</td>\n",
       "      <td>-0.732626</td>\n",
       "      <td>0.703511</td>\n",
       "      <td>-0.844788</td>\n",
       "      <td>0.180289</td>\n",
       "      <td>-0.054317</td>\n",
       "      <td>1</td>\n",
       "      <td>STANDING</td>\n",
       "    </tr>\n",
       "    <tr>\n",
       "      <th>2</th>\n",
       "      <td>0.279653</td>\n",
       "      <td>-0.019467</td>\n",
       "      <td>-0.113462</td>\n",
       "      <td>-0.995380</td>\n",
       "      <td>-0.967187</td>\n",
       "      <td>-0.978944</td>\n",
       "      <td>-0.996520</td>\n",
       "      <td>-0.963668</td>\n",
       "      <td>-0.977469</td>\n",
       "      <td>-0.938692</td>\n",
       "      <td>...</td>\n",
       "      <td>-0.760104</td>\n",
       "      <td>-0.118559</td>\n",
       "      <td>0.177899</td>\n",
       "      <td>0.100699</td>\n",
       "      <td>0.808529</td>\n",
       "      <td>-0.848933</td>\n",
       "      <td>0.180637</td>\n",
       "      <td>-0.049118</td>\n",
       "      <td>1</td>\n",
       "      <td>STANDING</td>\n",
       "    </tr>\n",
       "    <tr>\n",
       "      <th>3</th>\n",
       "      <td>0.279174</td>\n",
       "      <td>-0.026201</td>\n",
       "      <td>-0.123283</td>\n",
       "      <td>-0.996091</td>\n",
       "      <td>-0.983403</td>\n",
       "      <td>-0.990675</td>\n",
       "      <td>-0.997099</td>\n",
       "      <td>-0.982750</td>\n",
       "      <td>-0.989302</td>\n",
       "      <td>-0.938692</td>\n",
       "      <td>...</td>\n",
       "      <td>-0.482845</td>\n",
       "      <td>-0.036788</td>\n",
       "      <td>-0.012892</td>\n",
       "      <td>0.640011</td>\n",
       "      <td>-0.485366</td>\n",
       "      <td>-0.848649</td>\n",
       "      <td>0.181935</td>\n",
       "      <td>-0.047663</td>\n",
       "      <td>1</td>\n",
       "      <td>STANDING</td>\n",
       "    </tr>\n",
       "    <tr>\n",
       "      <th>4</th>\n",
       "      <td>0.276629</td>\n",
       "      <td>-0.016570</td>\n",
       "      <td>-0.115362</td>\n",
       "      <td>-0.998139</td>\n",
       "      <td>-0.980817</td>\n",
       "      <td>-0.990482</td>\n",
       "      <td>-0.998321</td>\n",
       "      <td>-0.979672</td>\n",
       "      <td>-0.990441</td>\n",
       "      <td>-0.942469</td>\n",
       "      <td>...</td>\n",
       "      <td>-0.699205</td>\n",
       "      <td>0.123320</td>\n",
       "      <td>0.122542</td>\n",
       "      <td>0.693578</td>\n",
       "      <td>-0.615971</td>\n",
       "      <td>-0.847865</td>\n",
       "      <td>0.185151</td>\n",
       "      <td>-0.043892</td>\n",
       "      <td>1</td>\n",
       "      <td>STANDING</td>\n",
       "    </tr>\n",
       "  </tbody>\n",
       "</table>\n",
       "<p>5 rows × 563 columns</p>\n",
       "</div>"
      ],
      "text/plain": [
       "   tBodyAcc-mean()-X  tBodyAcc-mean()-Y  tBodyAcc-mean()-Z  tBodyAcc-std()-X  \\\n",
       "0           0.288585          -0.020294          -0.132905         -0.995279   \n",
       "1           0.278419          -0.016411          -0.123520         -0.998245   \n",
       "2           0.279653          -0.019467          -0.113462         -0.995380   \n",
       "3           0.279174          -0.026201          -0.123283         -0.996091   \n",
       "4           0.276629          -0.016570          -0.115362         -0.998139   \n",
       "\n",
       "   tBodyAcc-std()-Y  tBodyAcc-std()-Z  tBodyAcc-mad()-X  tBodyAcc-mad()-Y  \\\n",
       "0         -0.983111         -0.913526         -0.995112         -0.983185   \n",
       "1         -0.975300         -0.960322         -0.998807         -0.974914   \n",
       "2         -0.967187         -0.978944         -0.996520         -0.963668   \n",
       "3         -0.983403         -0.990675         -0.997099         -0.982750   \n",
       "4         -0.980817         -0.990482         -0.998321         -0.979672   \n",
       "\n",
       "   tBodyAcc-mad()-Z  tBodyAcc-max()-X  ...  fBodyBodyGyroJerkMag-kurtosis()  \\\n",
       "0         -0.923527         -0.934724  ...                        -0.710304   \n",
       "1         -0.957686         -0.943068  ...                        -0.861499   \n",
       "2         -0.977469         -0.938692  ...                        -0.760104   \n",
       "3         -0.989302         -0.938692  ...                        -0.482845   \n",
       "4         -0.990441         -0.942469  ...                        -0.699205   \n",
       "\n",
       "   angle(tBodyAccMean,gravity)  angle(tBodyAccJerkMean),gravityMean)  \\\n",
       "0                    -0.112754                              0.030400   \n",
       "1                     0.053477                             -0.007435   \n",
       "2                    -0.118559                              0.177899   \n",
       "3                    -0.036788                             -0.012892   \n",
       "4                     0.123320                              0.122542   \n",
       "\n",
       "   angle(tBodyGyroMean,gravityMean)  angle(tBodyGyroJerkMean,gravityMean)  \\\n",
       "0                         -0.464761                             -0.018446   \n",
       "1                         -0.732626                              0.703511   \n",
       "2                          0.100699                              0.808529   \n",
       "3                          0.640011                             -0.485366   \n",
       "4                          0.693578                             -0.615971   \n",
       "\n",
       "   angle(X,gravityMean)  angle(Y,gravityMean)  angle(Z,gravityMean)  subject  \\\n",
       "0             -0.841247              0.179941             -0.058627        1   \n",
       "1             -0.844788              0.180289             -0.054317        1   \n",
       "2             -0.848933              0.180637             -0.049118        1   \n",
       "3             -0.848649              0.181935             -0.047663        1   \n",
       "4             -0.847865              0.185151             -0.043892        1   \n",
       "\n",
       "   Activity  \n",
       "0  STANDING  \n",
       "1  STANDING  \n",
       "2  STANDING  \n",
       "3  STANDING  \n",
       "4  STANDING  \n",
       "\n",
       "[5 rows x 563 columns]"
      ]
     },
     "execution_count": 23,
     "metadata": {},
     "output_type": "execute_result"
    }
   ],
   "source": [
    "trainx = pd.read_csv(\"../data/human-activity-recognition/train.csv\")\n",
    "trainx.head()"
   ]
  },
  {
   "cell_type": "code",
   "execution_count": 24,
   "id": "4d4f30a8",
   "metadata": {},
   "outputs": [
    {
     "data": {
      "text/plain": [
       "(7352, 563)"
      ]
     },
     "execution_count": 24,
     "metadata": {},
     "output_type": "execute_result"
    }
   ],
   "source": [
    "trainx.shape"
   ]
  },
  {
   "cell_type": "code",
   "execution_count": 26,
   "id": "05b95442",
   "metadata": {},
   "outputs": [
    {
     "data": {
      "text/plain": [
       "(347, 563)"
      ]
     },
     "execution_count": 26,
     "metadata": {},
     "output_type": "execute_result"
    }
   ],
   "source": [
    "trainx[trainx['subject'] == 1].shape"
   ]
  },
  {
   "cell_type": "code",
   "execution_count": 32,
   "id": "f210ce2a",
   "metadata": {},
   "outputs": [
    {
     "data": {
      "text/plain": [
       "WALKING               95\n",
       "STANDING              53\n",
       "WALKING_UPSTAIRS      53\n",
       "LAYING                50\n",
       "WALKING_DOWNSTAIRS    49\n",
       "SITTING               47\n",
       "Name: Activity, dtype: int64"
      ]
     },
     "execution_count": 32,
     "metadata": {},
     "output_type": "execute_result"
    }
   ],
   "source": [
    "trainx[trainx['subject'] == 1]['Activity'].value_counts()"
   ]
  },
  {
   "cell_type": "code",
   "execution_count": 31,
   "id": "07ab2982",
   "metadata": {},
   "outputs": [
    {
     "data": {
      "text/plain": [
       "array(['STANDING', 'STANDING', 'STANDING', 'STANDING', 'STANDING',\n",
       "       'STANDING', 'STANDING', 'STANDING', 'STANDING', 'STANDING',\n",
       "       'STANDING', 'STANDING', 'STANDING', 'STANDING', 'STANDING',\n",
       "       'STANDING', 'STANDING', 'STANDING', 'STANDING', 'STANDING',\n",
       "       'STANDING', 'STANDING', 'STANDING', 'STANDING', 'STANDING',\n",
       "       'STANDING', 'STANDING', 'SITTING', 'SITTING', 'SITTING', 'SITTING',\n",
       "       'SITTING', 'SITTING', 'SITTING', 'SITTING', 'SITTING', 'SITTING',\n",
       "       'SITTING', 'SITTING', 'SITTING', 'SITTING', 'SITTING', 'SITTING',\n",
       "       'SITTING', 'SITTING', 'SITTING', 'SITTING', 'SITTING', 'SITTING',\n",
       "       'SITTING', 'SITTING', 'LAYING', 'LAYING', 'LAYING', 'LAYING',\n",
       "       'LAYING', 'LAYING', 'LAYING', 'LAYING', 'LAYING', 'LAYING',\n",
       "       'LAYING', 'LAYING', 'LAYING', 'LAYING', 'LAYING', 'LAYING',\n",
       "       'LAYING', 'LAYING', 'LAYING', 'LAYING', 'LAYING', 'LAYING',\n",
       "       'LAYING', 'LAYING', 'LAYING', 'LAYING', 'LAYING', 'WALKING',\n",
       "       'WALKING', 'WALKING', 'WALKING', 'WALKING', 'WALKING', 'WALKING',\n",
       "       'WALKING', 'WALKING', 'WALKING', 'WALKING', 'WALKING', 'WALKING',\n",
       "       'WALKING', 'WALKING', 'WALKING', 'WALKING', 'WALKING', 'WALKING',\n",
       "       'WALKING', 'WALKING', 'WALKING', 'WALKING', 'WALKING', 'WALKING',\n",
       "       'WALKING', 'WALKING', 'WALKING', 'WALKING', 'WALKING', 'WALKING',\n",
       "       'WALKING', 'WALKING', 'WALKING', 'WALKING', 'WALKING', 'WALKING',\n",
       "       'WALKING', 'WALKING', 'WALKING', 'WALKING', 'WALKING', 'WALKING',\n",
       "       'WALKING', 'WALKING', 'WALKING', 'WALKING', 'WALKING_DOWNSTAIRS',\n",
       "       'WALKING_DOWNSTAIRS', 'WALKING_DOWNSTAIRS', 'WALKING_DOWNSTAIRS',\n",
       "       'WALKING_DOWNSTAIRS', 'WALKING_DOWNSTAIRS', 'WALKING_DOWNSTAIRS',\n",
       "       'WALKING_DOWNSTAIRS', 'WALKING_DOWNSTAIRS', 'WALKING_DOWNSTAIRS',\n",
       "       'WALKING_DOWNSTAIRS', 'WALKING_DOWNSTAIRS', 'WALKING_DOWNSTAIRS',\n",
       "       'WALKING_DOWNSTAIRS', 'WALKING_DOWNSTAIRS', 'WALKING_DOWNSTAIRS',\n",
       "       'WALKING_DOWNSTAIRS', 'WALKING_DOWNSTAIRS', 'WALKING_DOWNSTAIRS',\n",
       "       'WALKING_DOWNSTAIRS', 'WALKING_DOWNSTAIRS', 'WALKING_DOWNSTAIRS',\n",
       "       'WALKING_DOWNSTAIRS', 'WALKING_DOWNSTAIRS', 'WALKING_DOWNSTAIRS',\n",
       "       'WALKING_UPSTAIRS', 'WALKING_UPSTAIRS', 'WALKING_UPSTAIRS',\n",
       "       'WALKING_UPSTAIRS', 'WALKING_UPSTAIRS', 'WALKING_UPSTAIRS',\n",
       "       'WALKING_UPSTAIRS', 'WALKING_UPSTAIRS', 'WALKING_UPSTAIRS',\n",
       "       'WALKING_UPSTAIRS', 'WALKING_UPSTAIRS', 'WALKING_UPSTAIRS',\n",
       "       'WALKING_UPSTAIRS', 'WALKING_UPSTAIRS', 'WALKING_UPSTAIRS',\n",
       "       'WALKING_UPSTAIRS', 'WALKING_UPSTAIRS', 'WALKING_UPSTAIRS',\n",
       "       'WALKING_UPSTAIRS', 'WALKING_UPSTAIRS', 'WALKING_UPSTAIRS',\n",
       "       'WALKING_UPSTAIRS', 'WALKING_UPSTAIRS', 'WALKING_UPSTAIRS',\n",
       "       'WALKING_UPSTAIRS', 'WALKING_UPSTAIRS', 'STANDING', 'STANDING',\n",
       "       'STANDING', 'STANDING', 'STANDING', 'STANDING', 'STANDING',\n",
       "       'STANDING', 'STANDING', 'STANDING', 'STANDING', 'STANDING',\n",
       "       'STANDING', 'STANDING', 'STANDING', 'STANDING', 'STANDING',\n",
       "       'STANDING', 'STANDING', 'STANDING', 'STANDING', 'STANDING',\n",
       "       'STANDING', 'STANDING', 'STANDING', 'STANDING', 'SITTING',\n",
       "       'SITTING', 'SITTING', 'SITTING', 'SITTING', 'SITTING', 'SITTING',\n",
       "       'SITTING', 'SITTING', 'SITTING', 'SITTING', 'LAYING', 'LAYING',\n",
       "       'LAYING', 'LAYING', 'LAYING', 'LAYING', 'LAYING', 'LAYING',\n",
       "       'LAYING', 'LAYING', 'LAYING', 'LAYING', 'SITTING', 'SITTING',\n",
       "       'SITTING', 'SITTING', 'SITTING', 'SITTING', 'SITTING', 'SITTING',\n",
       "       'SITTING', 'SITTING', 'SITTING', 'SITTING', 'LAYING', 'LAYING',\n",
       "       'LAYING', 'LAYING', 'LAYING', 'LAYING', 'LAYING', 'LAYING',\n",
       "       'LAYING', 'LAYING', 'LAYING', 'WALKING', 'WALKING', 'WALKING',\n",
       "       'WALKING', 'WALKING', 'WALKING', 'WALKING', 'WALKING', 'WALKING',\n",
       "       'WALKING', 'WALKING', 'WALKING', 'WALKING', 'WALKING', 'WALKING',\n",
       "       'WALKING', 'WALKING', 'WALKING', 'WALKING', 'WALKING', 'WALKING',\n",
       "       'WALKING', 'WALKING', 'WALKING', 'WALKING', 'WALKING', 'WALKING',\n",
       "       'WALKING', 'WALKING', 'WALKING', 'WALKING', 'WALKING', 'WALKING',\n",
       "       'WALKING', 'WALKING', 'WALKING', 'WALKING', 'WALKING', 'WALKING',\n",
       "       'WALKING', 'WALKING', 'WALKING', 'WALKING', 'WALKING', 'WALKING',\n",
       "       'WALKING', 'WALKING', 'WALKING', 'WALKING_DOWNSTAIRS',\n",
       "       'WALKING_DOWNSTAIRS', 'WALKING_DOWNSTAIRS', 'WALKING_DOWNSTAIRS',\n",
       "       'WALKING_DOWNSTAIRS', 'WALKING_DOWNSTAIRS', 'WALKING_DOWNSTAIRS',\n",
       "       'WALKING_UPSTAIRS', 'WALKING_UPSTAIRS', 'WALKING_UPSTAIRS',\n",
       "       'WALKING_UPSTAIRS', 'WALKING_UPSTAIRS', 'WALKING_UPSTAIRS',\n",
       "       'WALKING_UPSTAIRS', 'WALKING_UPSTAIRS', 'WALKING_UPSTAIRS',\n",
       "       'WALKING_UPSTAIRS', 'WALKING_UPSTAIRS', 'WALKING_UPSTAIRS',\n",
       "       'WALKING_UPSTAIRS', 'WALKING_UPSTAIRS', 'WALKING_UPSTAIRS',\n",
       "       'WALKING_UPSTAIRS', 'WALKING_UPSTAIRS', 'WALKING_UPSTAIRS',\n",
       "       'WALKING_UPSTAIRS', 'WALKING_UPSTAIRS', 'WALKING_UPSTAIRS',\n",
       "       'WALKING_UPSTAIRS', 'WALKING_UPSTAIRS', 'WALKING_UPSTAIRS',\n",
       "       'WALKING_UPSTAIRS', 'WALKING_UPSTAIRS', 'WALKING_UPSTAIRS',\n",
       "       'WALKING_DOWNSTAIRS', 'WALKING_DOWNSTAIRS', 'WALKING_DOWNSTAIRS',\n",
       "       'WALKING_DOWNSTAIRS', 'WALKING_DOWNSTAIRS', 'WALKING_DOWNSTAIRS',\n",
       "       'WALKING_DOWNSTAIRS', 'WALKING_DOWNSTAIRS', 'WALKING_DOWNSTAIRS',\n",
       "       'WALKING_DOWNSTAIRS', 'WALKING_DOWNSTAIRS', 'WALKING_DOWNSTAIRS',\n",
       "       'WALKING_DOWNSTAIRS', 'WALKING_DOWNSTAIRS', 'WALKING_DOWNSTAIRS',\n",
       "       'WALKING_DOWNSTAIRS', 'WALKING_DOWNSTAIRS'], dtype=object)"
      ]
     },
     "execution_count": 31,
     "metadata": {},
     "output_type": "execute_result"
    }
   ],
   "source": [
    "trainx[trainx['subject'] == 1]['Activity'].values #.value_counts()"
   ]
  },
  {
   "cell_type": "code",
   "execution_count": 49,
   "id": "5fac88c0",
   "metadata": {},
   "outputs": [
    {
     "data": {
      "text/html": [
       "<div>\n",
       "<style scoped>\n",
       "    .dataframe tbody tr th:only-of-type {\n",
       "        vertical-align: middle;\n",
       "    }\n",
       "\n",
       "    .dataframe tbody tr th {\n",
       "        vertical-align: top;\n",
       "    }\n",
       "\n",
       "    .dataframe thead th {\n",
       "        text-align: right;\n",
       "    }\n",
       "</style>\n",
       "<table border=\"1\" class=\"dataframe\">\n",
       "  <thead>\n",
       "    <tr style=\"text-align: right;\">\n",
       "      <th></th>\n",
       "      <th>ID</th>\n",
       "      <th>X</th>\n",
       "      <th>Y</th>\n",
       "      <th>Z</th>\n",
       "    </tr>\n",
       "  </thead>\n",
       "  <tbody>\n",
       "    <tr>\n",
       "      <th>0</th>\n",
       "      <td>1</td>\n",
       "      <td>120</td>\n",
       "      <td>0.105414</td>\n",
       "      <td>-0.861162</td>\n",
       "    </tr>\n",
       "    <tr>\n",
       "      <th>1</th>\n",
       "      <td>2</td>\n",
       "      <td>118</td>\n",
       "      <td>0.917096</td>\n",
       "      <td>0.862859</td>\n",
       "    </tr>\n",
       "    <tr>\n",
       "      <th>2</th>\n",
       "      <td>3</td>\n",
       "      <td>119</td>\n",
       "      <td>0.852389</td>\n",
       "      <td>-0.062282</td>\n",
       "    </tr>\n",
       "    <tr>\n",
       "      <th>3</th>\n",
       "      <td>4</td>\n",
       "      <td>119</td>\n",
       "      <td>0.325224</td>\n",
       "      <td>-0.526002</td>\n",
       "    </tr>\n",
       "    <tr>\n",
       "      <th>4</th>\n",
       "      <td>5</td>\n",
       "      <td>119</td>\n",
       "      <td>0.131289</td>\n",
       "      <td>-0.801114</td>\n",
       "    </tr>\n",
       "  </tbody>\n",
       "</table>\n",
       "</div>"
      ],
      "text/plain": [
       "   ID    X         Y         Z\n",
       "0   1  120  0.105414 -0.861162\n",
       "1   2  118  0.917096  0.862859\n",
       "2   3  119  0.852389 -0.062282\n",
       "3   4  119  0.325224 -0.526002\n",
       "4   5  119  0.131289 -0.801114"
      ]
     },
     "metadata": {},
     "output_type": "display_data"
    },
    {
     "data": {
      "text/plain": [
       "'df.shape==(10, 4)'"
      ]
     },
     "metadata": {},
     "output_type": "display_data"
    },
    {
     "data": {
      "text/html": [
       "<div>\n",
       "<style scoped>\n",
       "    .dataframe tbody tr th:only-of-type {\n",
       "        vertical-align: middle;\n",
       "    }\n",
       "\n",
       "    .dataframe tbody tr th {\n",
       "        vertical-align: top;\n",
       "    }\n",
       "\n",
       "    .dataframe thead th {\n",
       "        text-align: right;\n",
       "    }\n",
       "</style>\n",
       "<table border=\"1\" class=\"dataframe\">\n",
       "  <thead>\n",
       "    <tr style=\"text-align: right;\">\n",
       "      <th></th>\n",
       "      <th>X</th>\n",
       "      <th>Y</th>\n",
       "      <th>Z</th>\n",
       "    </tr>\n",
       "  </thead>\n",
       "  <tbody>\n",
       "    <tr>\n",
       "      <th>0</th>\n",
       "      <td>[120, 118, 119]</td>\n",
       "      <td>[0.1054136059669537, 0.917096212912355, 0.8523...</td>\n",
       "      <td>[-0.8611621913032916, 0.862858929919786, -0.06...</td>\n",
       "    </tr>\n",
       "    <tr>\n",
       "      <th>1</th>\n",
       "      <td>[118, 119, 119]</td>\n",
       "      <td>[0.917096212912355, 0.8523885692471003, 0.3252...</td>\n",
       "      <td>[0.862858929919786, -0.06228233909002956, -0.5...</td>\n",
       "    </tr>\n",
       "    <tr>\n",
       "      <th>2</th>\n",
       "      <td>[119, 119, 119]</td>\n",
       "      <td>[0.8523885692471003, 0.32522420910395256, 0.13...</td>\n",
       "      <td>[-0.06228233909002956, -0.5260023018061704, -0...</td>\n",
       "    </tr>\n",
       "    <tr>\n",
       "      <th>3</th>\n",
       "      <td>[119, 119, 118]</td>\n",
       "      <td>[0.32522420910395256, 0.1312888254020823, -0.2...</td>\n",
       "      <td>[-0.5260023018061704, -0.8011138220480165, -0....</td>\n",
       "    </tr>\n",
       "    <tr>\n",
       "      <th>4</th>\n",
       "      <td>[119, 118, 121]</td>\n",
       "      <td>[0.1312888254020823, -0.2318320739076012, -0.5...</td>\n",
       "      <td>[-0.8011138220480165, -0.38261461586121204, -0...</td>\n",
       "    </tr>\n",
       "    <tr>\n",
       "      <th>5</th>\n",
       "      <td>[118, 121, 118]</td>\n",
       "      <td>[-0.2318320739076012, -0.5063388434141689, -0....</td>\n",
       "      <td>[-0.38261461586121204, -0.8970912695450088, 0....</td>\n",
       "    </tr>\n",
       "    <tr>\n",
       "      <th>6</th>\n",
       "      <td>[121, 118, 119]</td>\n",
       "      <td>[-0.5063388434141689, -0.6759681072996198, 0.9...</td>\n",
       "      <td>[-0.8970912695450088, 0.5114296490037451, 0.97...</td>\n",
       "    </tr>\n",
       "    <tr>\n",
       "      <th>7</th>\n",
       "      <td>[118, 119, 118]</td>\n",
       "      <td>[-0.6759681072996198, 0.9026202074294911, 0.90...</td>\n",
       "      <td>[0.5114296490037451, 0.9742543491433295, -0.76...</td>\n",
       "    </tr>\n",
       "  </tbody>\n",
       "</table>\n",
       "</div>"
      ],
      "text/plain": [
       "                 X                                                  Y  \\\n",
       "0  [120, 118, 119]  [0.1054136059669537, 0.917096212912355, 0.8523...   \n",
       "1  [118, 119, 119]  [0.917096212912355, 0.8523885692471003, 0.3252...   \n",
       "2  [119, 119, 119]  [0.8523885692471003, 0.32522420910395256, 0.13...   \n",
       "3  [119, 119, 118]  [0.32522420910395256, 0.1312888254020823, -0.2...   \n",
       "4  [119, 118, 121]  [0.1312888254020823, -0.2318320739076012, -0.5...   \n",
       "5  [118, 121, 118]  [-0.2318320739076012, -0.5063388434141689, -0....   \n",
       "6  [121, 118, 119]  [-0.5063388434141689, -0.6759681072996198, 0.9...   \n",
       "7  [118, 119, 118]  [-0.6759681072996198, 0.9026202074294911, 0.90...   \n",
       "\n",
       "                                                   Z  \n",
       "0  [-0.8611621913032916, 0.862858929919786, -0.06...  \n",
       "1  [0.862858929919786, -0.06228233909002956, -0.5...  \n",
       "2  [-0.06228233909002956, -0.5260023018061704, -0...  \n",
       "3  [-0.5260023018061704, -0.8011138220480165, -0....  \n",
       "4  [-0.8011138220480165, -0.38261461586121204, -0...  \n",
       "5  [-0.38261461586121204, -0.8970912695450088, 0....  \n",
       "6  [-0.8970912695450088, 0.5114296490037451, 0.97...  \n",
       "7  [0.5114296490037451, 0.9742543491433295, -0.76...  "
      ]
     },
     "metadata": {},
     "output_type": "display_data"
    },
    {
     "data": {
      "text/plain": [
       "'new_df.shape==(8, 3)'"
      ]
     },
     "metadata": {},
     "output_type": "display_data"
    }
   ],
   "source": [
    "def rolling_agg_list(src_frame, cols, window):\n",
    "    frame = src_frame[cols]\n",
    "    d = {v: list for v in cols}\n",
    "    values = [frame.iloc[i:i + window].agg(d)\n",
    "              for i in range(len(frame) - window + 1)]\n",
    "    return pd.DataFrame(values, columns=cols)\n",
    "\n",
    "df = pd.DataFrame({\n",
    "    'ID': np.arange(1, 11),\n",
    "    'X': np.random.randint(118, 122, size=10),\n",
    "    'Y': np.random.random(size=10) * 2 - 1,\n",
    "    'Z': np.random.random(size=10) * 2 - 1\n",
    "})\n",
    "\n",
    "display(df.head())\n",
    "display(f'df.shape=={df.shape}')\n",
    "\n",
    "new_df = rolling_agg_list(df, ['X', 'Y', 'Z'], 3)\n",
    "\n",
    "display(new_df)\n",
    "display(f'new_df.shape=={new_df.shape}')"
   ]
  },
  {
   "cell_type": "markdown",
   "id": "93458f8c",
   "metadata": {},
   "source": [
    "### FordA Dataset"
   ]
  },
  {
   "cell_type": "code",
   "execution_count": 74,
   "id": "0611b749",
   "metadata": {},
   "outputs": [],
   "source": [
    "def readucr(filename):\n",
    "    data = np.loadtxt(filename, delimiter=\"\\t\")\n",
    "    y = data[:, 0]\n",
    "    x = data[:, 1:]\n",
    "    return x, y.astype(int)\n",
    "\n",
    "\n",
    "root_url = \"https://raw.githubusercontent.com/hfawaz/cd-diagram/master/FordA/\"\n",
    "\n",
    "X_train, y_train = readucr(root_url + \"FordA_TRAIN.tsv\")\n",
    "X_test, y_test = readucr(root_url + \"FordA_TEST.tsv\")"
   ]
  },
  {
   "cell_type": "code",
   "execution_count": 80,
   "id": "af0cac81",
   "metadata": {},
   "outputs": [
    {
     "data": {
      "text/plain": [
       "((3601, 500), (3601,), (1320, 500), (1320,))"
      ]
     },
     "execution_count": 80,
     "metadata": {},
     "output_type": "execute_result"
    }
   ],
   "source": [
    "X_train.shape, y_train.shape, X_test.shape, y_test.shape"
   ]
  },
  {
   "cell_type": "code",
   "execution_count": 76,
   "id": "e8dc1aac",
   "metadata": {},
   "outputs": [
    {
     "data": {
      "text/plain": [
       "array([-1,  1])"
      ]
     },
     "execution_count": 76,
     "metadata": {},
     "output_type": "execute_result"
    }
   ],
   "source": [
    "np.unique(np.concatenate((y_train, y_test), axis=0))"
   ]
  },
  {
   "cell_type": "code",
   "execution_count": 77,
   "id": "00cc9a7a",
   "metadata": {},
   "outputs": [],
   "source": [
    "y_train[y_train == -1] = 0\n",
    "y_test[y_test == -1] = 0"
   ]
  },
  {
   "cell_type": "code",
   "execution_count": 78,
   "id": "adb374a6",
   "metadata": {},
   "outputs": [
    {
     "data": {
      "text/plain": [
       "array([0, 1])"
      ]
     },
     "execution_count": 78,
     "metadata": {},
     "output_type": "execute_result"
    }
   ],
   "source": [
    "np.unique(np.concatenate((y_train, y_test), axis=0))"
   ]
  },
  {
   "cell_type": "code",
   "execution_count": 79,
   "id": "9cc6d825",
   "metadata": {},
   "outputs": [
    {
     "data": {
      "image/png": "[encoded data removed]",
      "text/plain": [
       "<Figure size 432x288 with 1 Axes>"
      ]
     },
     "metadata": {
      "needs_background": "light"
     },
     "output_type": "display_data"
    }
   ],
   "source": [
    "classes = np.unique(np.concatenate((y_train, y_test), axis=0))\n",
    "\n",
    "plt.figure()\n",
    "for c in classes:\n",
    "    c_X_train = X_train[y_train == c]\n",
    "    plt.plot(c_X_train[0], label=\"class \" + str(c))\n",
    "plt.legend(loc=\"best\")\n",
    "plt.title('Timeseries of the first instance in each class')\n",
    "plt.xlabel('Time')\n",
    "plt.ylabel('Sensor value')\n",
    "plt.show()\n",
    "plt.close()\n"
   ]
  },
  {
   "cell_type": "markdown",
   "id": "ee99d53a",
   "metadata": {},
   "source": [
    "### Column ensembling (FordA Dataset)"
   ]
  },
  {
   "cell_type": "code",
   "execution_count": 81,
   "id": "19fa0781",
   "metadata": {},
   "outputs": [
    {
     "data": {
      "text/plain": [
       "ColumnEnsembleClassifier(estimators=[('STSF0',\n",
       "                                      SupervisedTimeSeriesForest(n_estimators=5,\n",
       "                                                                 random_state=42),\n",
       "                                      0)])"
      ]
     },
     "execution_count": 81,
     "metadata": {},
     "output_type": "execute_result"
    }
   ],
   "source": [
    "clf = ColumnEnsembleClassifier(\n",
    "    estimators=[\n",
    "        ('STSF0', SupervisedTimeSeriesForest(n_estimators=5, random_state=42), 0)\n",
    "    ]\n",
    ")\n",
    "\n",
    "clf.fit(X_train, y_train)"
   ]
  },
  {
   "cell_type": "code",
   "execution_count": 82,
   "id": "1ca49208",
   "metadata": {},
   "outputs": [],
   "source": [
    "print('Training accuracy score', clf.score(X_train, y_train))"
   ]
  },
  {
   "cell_type": "code",
   "execution_count": 84,
   "id": "132b086f",
   "metadata": {},
   "outputs": [],
   "source": [
    "# Evaluate the model\n",
    "\n",
    "# Predict y testues\n",
    "y_pred = clf.predict(X_test)\n",
    "\n",
    "# print accuracy\n",
    "print(\"Test Accuracy: \", accuracy_score(y_test, y_pred))\n",
    "\n",
    "# print precision, recall, F1-score per each class/tag\n",
    "print('Classification report:')\n",
    "print(classification_report(y_test, y_pred))\n",
    "\n",
    "# print confusion matrix, check documentation for sorting rows/columns\n",
    "print('Confusion matrix')\n",
    "print(confusion_matrix(y_test, y_pred))"
   ]
  },
  {
   "cell_type": "markdown",
   "id": "918ad7e0",
   "metadata": {},
   "source": [
    "### Data splitting"
   ]
  },
  {
   "cell_type": "code",
   "execution_count": 3,
   "id": "7d43bf7a",
   "metadata": {},
   "outputs": [],
   "source": [
    "X, y = load_from_tsfile('../data/Car_TRAIN.ts') # "
   ]
  },
  {
   "cell_type": "code",
   "execution_count": 7,
   "id": "0a249b12",
   "metadata": {},
   "outputs": [],
   "source": [
    "a, b, c, d = temporal_train_test_split(y, X, train_size=0.8)"
   ]
  },
  {
   "cell_type": "code",
   "execution_count": 9,
   "id": "624dad2a",
   "metadata": {},
   "outputs": [
    {
     "data": {
      "text/plain": [
       "(array(['1', '4', '2', '1', '2', '4', '1', '4', '4', '4', '1', '2', '3',\n",
       "        '1', '2', '2', '1', '1', '4', '2', '1', '4', '4', '1', '3', '3',\n",
       "        '1', '4', '3', '4', '2', '2', '3', '4', '3', '3', '1', '3', '2',\n",
       "        '2', '4', '1', '1', '2', '4', '2', '4', '1'], dtype='<U1'),\n",
       " 48)"
      ]
     },
     "execution_count": 9,
     "metadata": {},
     "output_type": "execute_result"
    }
   ],
   "source": [
    "a, len(a)"
   ]
  },
  {
   "cell_type": "code",
   "execution_count": 11,
   "id": "a36f4dec",
   "metadata": {},
   "outputs": [
    {
     "data": {
      "text/plain": [
       "(array(['3', '2', '1', '4', '2', '4', '1', '3', '2', '4', '3', '2'],\n",
       "       dtype='<U1'),\n",
       " 12)"
      ]
     },
     "execution_count": 11,
     "metadata": {},
     "output_type": "execute_result"
    }
   ],
   "source": [
    "b, len(b)"
   ]
  },
  {
   "cell_type": "code",
   "execution_count": 12,
   "id": "f27e00c2",
   "metadata": {},
   "outputs": [
    {
     "data": {
      "text/plain": [
       "(48, 12)"
      ]
     },
     "execution_count": 12,
     "metadata": {},
     "output_type": "execute_result"
    }
   ],
   "source": [
    "len(c), len(d)"
   ]
  },
  {
   "cell_type": "code",
   "execution_count": 13,
   "id": "fb266b37",
   "metadata": {},
   "outputs": [],
   "source": [
    "y_train, y_test, X_train, X_test = temporal_train_test_split(y, X, train_size=0.8)"
   ]
  },
  {
   "cell_type": "code",
   "execution_count": 14,
   "id": "a4066389",
   "metadata": {},
   "outputs": [
    {
     "data": {
      "text/plain": [
       "(array(['1', '4', '2', '1', '2', '4', '1', '4', '4', '4', '1', '2', '3',\n",
       "        '1', '2', '2', '1', '1', '4', '2', '1', '4', '4', '1', '3', '3',\n",
       "        '1', '4', '3', '4', '2', '2', '3', '4', '3', '3', '1', '3', '2',\n",
       "        '2', '4', '1', '1', '2', '4', '2', '4', '1'], dtype='<U1'),\n",
       " array(['3', '2', '1', '4', '2', '4', '1', '3', '2', '4', '3', '2'],\n",
       "       dtype='<U1'))"
      ]
     },
     "execution_count": 14,
     "metadata": {},
     "output_type": "execute_result"
    }
   ],
   "source": [
    "y_train, y_test"
   ]
  },
  {
   "cell_type": "code",
   "execution_count": 15,
   "id": "0f34732f",
   "metadata": {},
   "outputs": [
    {
     "data": {
      "text/plain": [
       "dict_items([('x', 4)])"
      ]
     },
     "execution_count": 15,
     "metadata": {},
     "output_type": "execute_result"
    }
   ],
   "source": [
    "{\"x\": 4}.items()"
   ]
  },
  {
   "cell_type": "code",
   "execution_count": 19,
   "id": "8e3abbf0",
   "metadata": {},
   "outputs": [],
   "source": [
    "from enum import Enum, unique\n",
    "\n",
    "@unique\n",
    "class DataType(Enum):\n",
    "    DATATYPE_UNKNOW = 0\n",
    "    DATATYPE_STRING = 1\n",
    "    DATATYPE_INT = 2\n",
    "    DATATYPE_FLOAT = 3\n",
    "    DATATYPE_CATEGORY = 4\n",
    "    DATATYPE_BOOLEAN = 5\n",
    "    DATATYPE_DATETIME = 6\n",
    "    DATATYPE_IGNORE = 7\n",
    "\n",
    "@unique\n",
    "class SplitMethod(Enum):\n",
    "    SPLIT_METHOD_RANDOM = 0\n",
    "    SPLIT_METHOD_END = 1\n",
    "\n",
    "def feature_preparation(X, features):\n",
    "    for column, dt in features:\n",
    "        if DataType(dt) is DataType.DATATYPE_IGNORE:\n",
    "            X.drop(column, axis=1, inplace=True)\n",
    "        elif DataType(dt) is DataType.DATATYPE_CATEGORY:\n",
    "            X[column] = X[column].astype('category')\n",
    "        elif DataType(dt) is DataType.DATATYPE_BOOLEAN:\n",
    "            X[column] = X[column].astype('bool')\n",
    "        elif DataType(dt) is DataType.DATATYPE_INT:\n",
    "            X[column] = X[column].astype('int')\n",
    "        elif DataType(dt) is DataType.DATATYPE_FLOAT:\n",
    "            X[column] = X[column].astype('float')\n",
    "    return X"
   ]
  },
  {
   "cell_type": "code",
   "execution_count": 17,
   "id": "70008cd3",
   "metadata": {},
   "outputs": [],
   "source": [
    "df = pd.concat([X_train, pd.DataFrame(y_train, columns=[\"target\"])], axis=1)"
   ]
  },
  {
   "cell_type": "code",
   "execution_count": 18,
   "id": "bf3ede40",
   "metadata": {},
   "outputs": [
    {
     "data": {
      "text/html": [
       "<div>\n",
       "<style scoped>\n",
       "    .dataframe tbody tr th:only-of-type {\n",
       "        vertical-align: middle;\n",
       "    }\n",
       "\n",
       "    .dataframe tbody tr th {\n",
       "        vertical-align: top;\n",
       "    }\n",
       "\n",
       "    .dataframe thead th {\n",
       "        text-align: right;\n",
       "    }\n",
       "</style>\n",
       "<table border=\"1\" class=\"dataframe\">\n",
       "  <thead>\n",
       "    <tr style=\"text-align: right;\">\n",
       "      <th></th>\n",
       "      <th>dim_0</th>\n",
       "      <th>target</th>\n",
       "    </tr>\n",
       "  </thead>\n",
       "  <tbody>\n",
       "    <tr>\n",
       "      <th>0</th>\n",
       "      <td>0      1.654107\n",
       "1      1.621582\n",
       "2      1.58921...</td>\n",
       "      <td>1</td>\n",
       "    </tr>\n",
       "    <tr>\n",
       "      <th>1</th>\n",
       "      <td>0      1.750569\n",
       "1      1.710457\n",
       "2      1.67046...</td>\n",
       "      <td>4</td>\n",
       "    </tr>\n",
       "    <tr>\n",
       "      <th>2</th>\n",
       "      <td>0      1.551691\n",
       "1      1.517339\n",
       "2      1.48199...</td>\n",
       "      <td>2</td>\n",
       "    </tr>\n",
       "    <tr>\n",
       "      <th>3</th>\n",
       "      <td>0      1.495626\n",
       "1      1.457534\n",
       "2      1.43109...</td>\n",
       "      <td>1</td>\n",
       "    </tr>\n",
       "    <tr>\n",
       "      <th>4</th>\n",
       "      <td>0      1.713808\n",
       "1      1.675160\n",
       "2      1.65091...</td>\n",
       "      <td>2</td>\n",
       "    </tr>\n",
       "  </tbody>\n",
       "</table>\n",
       "</div>"
      ],
      "text/plain": [
       "                                               dim_0 target\n",
       "0  0      1.654107\n",
       "1      1.621582\n",
       "2      1.58921...      1\n",
       "1  0      1.750569\n",
       "1      1.710457\n",
       "2      1.67046...      4\n",
       "2  0      1.551691\n",
       "1      1.517339\n",
       "2      1.48199...      2\n",
       "3  0      1.495626\n",
       "1      1.457534\n",
       "2      1.43109...      1\n",
       "4  0      1.713808\n",
       "1      1.675160\n",
       "2      1.65091...      2"
      ]
     },
     "execution_count": 18,
     "metadata": {},
     "output_type": "execute_result"
    }
   ],
   "source": [
    "df.head()"
   ]
  },
  {
   "cell_type": "code",
   "execution_count": 29,
   "id": "f54fa29a",
   "metadata": {},
   "outputs": [],
   "source": [
    "from sktime.datatypes import convert_to"
   ]
  },
  {
   "cell_type": "code",
   "execution_count": 32,
   "id": "2af74642",
   "metadata": {},
   "outputs": [
    {
     "data": {
      "text/plain": [
       "(60, 1, 577)"
      ]
     },
     "execution_count": 32,
     "metadata": {},
     "output_type": "execute_result"
    }
   ],
   "source": [
    "X_np = (convert_to(X, to_type=\"numpy3D\"))\n",
    "X_np.shape"
   ]
  },
  {
   "cell_type": "code",
   "execution_count": 42,
   "id": "acdc4a14",
   "metadata": {},
   "outputs": [
    {
     "data": {
      "text/plain": [
       "(60, 577, 1)"
      ]
     },
     "execution_count": 42,
     "metadata": {},
     "output_type": "execute_result"
    }
   ],
   "source": [
    "xs = X_np.shape\n",
    "\n",
    "X_np.reshape((xs[0], xs[2],xs[1])).shape"
   ]
  },
  {
   "cell_type": "code",
   "execution_count": 35,
   "id": "6d80d8a0",
   "metadata": {},
   "outputs": [],
   "source": [
    "from tensorflow.keras.utils import to_categorical"
   ]
  },
  {
   "cell_type": "code",
   "execution_count": 38,
   "id": "697f9de1",
   "metadata": {},
   "outputs": [
    {
     "data": {
      "text/plain": [
       "array([[0., 0., 0., 1., 0.],\n",
       "       [0., 0., 1., 0., 0.],\n",
       "       [0., 1., 0., 0., 0.],\n",
       "       [0., 0., 0., 0., 1.],\n",
       "       [0., 0., 1., 0., 0.],\n",
       "       [0., 0., 0., 0., 1.],\n",
       "       [0., 1., 0., 0., 0.],\n",
       "       [0., 0., 0., 1., 0.],\n",
       "       [0., 0., 1., 0., 0.],\n",
       "       [0., 0., 0., 0., 1.],\n",
       "       [0., 0., 0., 1., 0.],\n",
       "       [0., 0., 1., 0., 0.]], dtype=float32)"
      ]
     },
     "execution_count": 38,
     "metadata": {},
     "output_type": "execute_result"
    }
   ],
   "source": [
    "to_categorical(y_test)"
   ]
  },
  {
   "cell_type": "code",
   "execution_count": 40,
   "id": "93e838f9",
   "metadata": {},
   "outputs": [
    {
     "name": "stdout",
     "output_type": "stream",
     "text": [
      "['3' '2' '1' '4' '2' '4' '1' '3' '2' '4' '3' '2']\n"
     ]
    }
   ],
   "source": [
    "print(y_test)"
   ]
  },
  {
   "cell_type": "markdown",
   "id": "217586d0",
   "metadata": {},
   "source": [
    "## Car dataset"
   ]
  },
  {
   "cell_type": "code",
   "execution_count": 4,
   "id": "6a39881e",
   "metadata": {},
   "outputs": [],
   "source": [
    "X, y = load_from_tsfile('../data/Car_TRAIN.ts')"
   ]
  },
  {
   "cell_type": "code",
   "execution_count": 5,
   "id": "fb3b885b",
   "metadata": {},
   "outputs": [
    {
     "data": {
      "text/html": [
       "<div>\n",
       "<style scoped>\n",
       "    .dataframe tbody tr th:only-of-type {\n",
       "        vertical-align: middle;\n",
       "    }\n",
       "\n",
       "    .dataframe tbody tr th {\n",
       "        vertical-align: top;\n",
       "    }\n",
       "\n",
       "    .dataframe thead th {\n",
       "        text-align: right;\n",
       "    }\n",
       "</style>\n",
       "<table border=\"1\" class=\"dataframe\">\n",
       "  <thead>\n",
       "    <tr style=\"text-align: right;\">\n",
       "      <th></th>\n",
       "      <th>dim_0</th>\n",
       "    </tr>\n",
       "  </thead>\n",
       "  <tbody>\n",
       "    <tr>\n",
       "      <th>0</th>\n",
       "      <td>0      1.654107\n",
       "1      1.621582\n",
       "2      1.58921...</td>\n",
       "    </tr>\n",
       "    <tr>\n",
       "      <th>1</th>\n",
       "      <td>0      1.750569\n",
       "1      1.710457\n",
       "2      1.67046...</td>\n",
       "    </tr>\n",
       "    <tr>\n",
       "      <th>2</th>\n",
       "      <td>0      1.551691\n",
       "1      1.517339\n",
       "2      1.48199...</td>\n",
       "    </tr>\n",
       "    <tr>\n",
       "      <th>3</th>\n",
       "      <td>0      1.495626\n",
       "1      1.457534\n",
       "2      1.43109...</td>\n",
       "    </tr>\n",
       "    <tr>\n",
       "      <th>4</th>\n",
       "      <td>0      1.713808\n",
       "1      1.675160\n",
       "2      1.65091...</td>\n",
       "    </tr>\n",
       "  </tbody>\n",
       "</table>\n",
       "</div>"
      ],
      "text/plain": [
       "                                               dim_0\n",
       "0  0      1.654107\n",
       "1      1.621582\n",
       "2      1.58921...\n",
       "1  0      1.750569\n",
       "1      1.710457\n",
       "2      1.67046...\n",
       "2  0      1.551691\n",
       "1      1.517339\n",
       "2      1.48199...\n",
       "3  0      1.495626\n",
       "1      1.457534\n",
       "2      1.43109...\n",
       "4  0      1.713808\n",
       "1      1.675160\n",
       "2      1.65091..."
      ]
     },
     "execution_count": 5,
     "metadata": {},
     "output_type": "execute_result"
    }
   ],
   "source": [
    "X.head()"
   ]
  },
  {
   "cell_type": "code",
   "execution_count": 6,
   "id": "56653e84",
   "metadata": {},
   "outputs": [
    {
     "data": {
      "text/plain": [
       "array(['1', '4', '2', '1', '2', '4', '1', '4', '4', '4', '1', '2', '3',\n",
       "       '1', '2', '2', '1', '1', '4', '2', '1', '4', '4', '1', '3', '3',\n",
       "       '1', '4', '3', '4', '2', '2', '3', '4', '3', '3', '1', '3', '2',\n",
       "       '2', '4', '1', '1', '2', '4', '2', '4', '1', '3', '2', '1', '4',\n",
       "       '2', '4', '1', '3', '2', '4', '3', '2'], dtype='<U1')"
      ]
     },
     "execution_count": 6,
     "metadata": {},
     "output_type": "execute_result"
    }
   ],
   "source": [
    "y"
   ]
  },
  {
   "cell_type": "code",
   "execution_count": 12,
   "id": "19b5d42a",
   "metadata": {},
   "outputs": [
    {
     "data": {
      "text/html": [
       "<div>\n",
       "<style scoped>\n",
       "    .dataframe tbody tr th:only-of-type {\n",
       "        vertical-align: middle;\n",
       "    }\n",
       "\n",
       "    .dataframe tbody tr th {\n",
       "        vertical-align: top;\n",
       "    }\n",
       "\n",
       "    .dataframe thead th {\n",
       "        text-align: right;\n",
       "    }\n",
       "</style>\n",
       "<table border=\"1\" class=\"dataframe\">\n",
       "  <thead>\n",
       "    <tr style=\"text-align: right;\">\n",
       "      <th></th>\n",
       "      <th></th>\n",
       "      <th>dim_0</th>\n",
       "    </tr>\n",
       "    <tr>\n",
       "      <th>instances</th>\n",
       "      <th>timepoints</th>\n",
       "      <th></th>\n",
       "    </tr>\n",
       "  </thead>\n",
       "  <tbody>\n",
       "    <tr>\n",
       "      <th rowspan=\"5\" valign=\"top\">0</th>\n",
       "      <th>0</th>\n",
       "      <td>1.654107</td>\n",
       "    </tr>\n",
       "    <tr>\n",
       "      <th>1</th>\n",
       "      <td>1.621582</td>\n",
       "    </tr>\n",
       "    <tr>\n",
       "      <th>2</th>\n",
       "      <td>1.589211</td>\n",
       "    </tr>\n",
       "    <tr>\n",
       "      <th>3</th>\n",
       "      <td>1.557358</td>\n",
       "    </tr>\n",
       "    <tr>\n",
       "      <th>4</th>\n",
       "      <td>1.525398</td>\n",
       "    </tr>\n",
       "  </tbody>\n",
       "</table>\n",
       "</div>"
      ],
      "text/plain": [
       "                         dim_0\n",
       "instances timepoints          \n",
       "0         0           1.654107\n",
       "          1           1.621582\n",
       "          2           1.589211\n",
       "          3           1.557358\n",
       "          4           1.525398"
      ]
     },
     "execution_count": 12,
     "metadata": {},
     "output_type": "execute_result"
    }
   ],
   "source": [
    "df = convert_to(X, to_type='pd-multiindex')\n",
    "df.head()"
   ]
  },
  {
   "cell_type": "code",
   "execution_count": 13,
   "id": "a25e16cf",
   "metadata": {},
   "outputs": [
    {
     "data": {
      "text/plain": [
       "Index(['dim_0'], dtype='object')"
      ]
     },
     "execution_count": 13,
     "metadata": {},
     "output_type": "execute_result"
    }
   ],
   "source": [
    "df.columns"
   ]
  },
  {
   "cell_type": "code",
   "execution_count": 15,
   "id": "2434bb68",
   "metadata": {},
   "outputs": [
    {
     "name": "stdout",
     "output_type": "stream",
     "text": [
      "<class 'pandas.core.series.Series'>\n",
      "MultiIndex: 34620 entries, (0, 0) to (59, 576)\n",
      "Series name: dim_0\n",
      "Non-Null Count  Dtype  \n",
      "--------------  -----  \n",
      "34620 non-null  float64\n",
      "dtypes: float64(1)\n",
      "memory usage: 395.2 KB\n"
     ]
    }
   ],
   "source": [
    "df['dim_0'].info()"
   ]
  },
  {
   "cell_type": "code",
   "execution_count": 18,
   "id": "9f0140a1",
   "metadata": {},
   "outputs": [
    {
     "data": {
      "text/html": [
       "<div>\n",
       "<style scoped>\n",
       "    .dataframe tbody tr th:only-of-type {\n",
       "        vertical-align: middle;\n",
       "    }\n",
       "\n",
       "    .dataframe tbody tr th {\n",
       "        vertical-align: top;\n",
       "    }\n",
       "\n",
       "    .dataframe thead th {\n",
       "        text-align: right;\n",
       "    }\n",
       "</style>\n",
       "<table border=\"1\" class=\"dataframe\">\n",
       "  <thead>\n",
       "    <tr style=\"text-align: right;\">\n",
       "      <th></th>\n",
       "      <th>target</th>\n",
       "    </tr>\n",
       "  </thead>\n",
       "  <tbody>\n",
       "    <tr>\n",
       "      <th>0</th>\n",
       "      <td>1</td>\n",
       "    </tr>\n",
       "    <tr>\n",
       "      <th>1</th>\n",
       "      <td>4</td>\n",
       "    </tr>\n",
       "    <tr>\n",
       "      <th>2</th>\n",
       "      <td>2</td>\n",
       "    </tr>\n",
       "    <tr>\n",
       "      <th>3</th>\n",
       "      <td>1</td>\n",
       "    </tr>\n",
       "    <tr>\n",
       "      <th>4</th>\n",
       "      <td>2</td>\n",
       "    </tr>\n",
       "  </tbody>\n",
       "</table>\n",
       "</div>"
      ],
      "text/plain": [
       "  target\n",
       "0      1\n",
       "1      4\n",
       "2      2\n",
       "3      1\n",
       "4      2"
      ]
     },
     "execution_count": 18,
     "metadata": {},
     "output_type": "execute_result"
    }
   ],
   "source": [
    "df_target = pd.DataFrame(y, columns=[\"target\"])\n",
    "df_target.head()\n"
   ]
  },
  {
   "cell_type": "code",
   "execution_count": 28,
   "id": "e6ba4258",
   "metadata": {},
   "outputs": [
    {
     "data": {
      "text/html": [
       "<div>\n",
       "<style scoped>\n",
       "    .dataframe tbody tr th:only-of-type {\n",
       "        vertical-align: middle;\n",
       "    }\n",
       "\n",
       "    .dataframe tbody tr th {\n",
       "        vertical-align: top;\n",
       "    }\n",
       "\n",
       "    .dataframe thead th {\n",
       "        text-align: right;\n",
       "    }\n",
       "</style>\n",
       "<table border=\"1\" class=\"dataframe\">\n",
       "  <thead>\n",
       "    <tr style=\"text-align: right;\">\n",
       "      <th></th>\n",
       "      <th></th>\n",
       "      <th>dim_0</th>\n",
       "      <th>target</th>\n",
       "    </tr>\n",
       "    <tr>\n",
       "      <th>instances</th>\n",
       "      <th>timepoints</th>\n",
       "      <th></th>\n",
       "      <th></th>\n",
       "    </tr>\n",
       "  </thead>\n",
       "  <tbody>\n",
       "    <tr>\n",
       "      <th rowspan=\"5\" valign=\"top\">0</th>\n",
       "      <th>0</th>\n",
       "      <td>1.654107</td>\n",
       "      <td>1</td>\n",
       "    </tr>\n",
       "    <tr>\n",
       "      <th>1</th>\n",
       "      <td>1.621582</td>\n",
       "      <td>1</td>\n",
       "    </tr>\n",
       "    <tr>\n",
       "      <th>2</th>\n",
       "      <td>1.589211</td>\n",
       "      <td>1</td>\n",
       "    </tr>\n",
       "    <tr>\n",
       "      <th>3</th>\n",
       "      <td>1.557358</td>\n",
       "      <td>1</td>\n",
       "    </tr>\n",
       "    <tr>\n",
       "      <th>4</th>\n",
       "      <td>1.525398</td>\n",
       "      <td>1</td>\n",
       "    </tr>\n",
       "  </tbody>\n",
       "</table>\n",
       "</div>"
      ],
      "text/plain": [
       "                         dim_0 target\n",
       "instances timepoints                 \n",
       "0         0           1.654107      1\n",
       "          1           1.621582      1\n",
       "          2           1.589211      1\n",
       "          3           1.557358      1\n",
       "          4           1.525398      1"
      ]
     },
     "execution_count": 28,
     "metadata": {},
     "output_type": "execute_result"
    }
   ],
   "source": [
    "df_merged = df.merge(df_target, left_on='instances', right_index=True)\n",
    "df_merged.head()"
   ]
  },
  {
   "cell_type": "code",
   "execution_count": 29,
   "id": "b7d5d0f1",
   "metadata": {},
   "outputs": [
    {
     "data": {
      "text/plain": [
       "Index(['dim_0', 'target'], dtype='object')"
      ]
     },
     "execution_count": 29,
     "metadata": {},
     "output_type": "execute_result"
    }
   ],
   "source": [
    "df_merged.columns"
   ]
  },
  {
   "cell_type": "code",
   "execution_count": 31,
   "id": "6ea94072",
   "metadata": {},
   "outputs": [
    {
     "data": {
      "text/plain": [
       "instances  timepoints\n",
       "0          0             1\n",
       "           1             1\n",
       "           2             1\n",
       "           3             1\n",
       "           4             1\n",
       "                        ..\n",
       "59         572           2\n",
       "           573           2\n",
       "           574           2\n",
       "           575           2\n",
       "           576           2\n",
       "Name: target, Length: 34620, dtype: object"
      ]
     },
     "execution_count": 31,
     "metadata": {},
     "output_type": "execute_result"
    }
   ],
   "source": [
    "df_merged['target']"
   ]
  }
 ],
 "metadata": {
  "kernelspec": {
   "display_name": "Python 3 (ipykernel)",
   "language": "python",
   "name": "python3"
  },
  "language_info": {
   "codemirror_mode": {
    "name": "ipython",
    "version": 3
   },
   "file_extension": ".py",
   "mimetype": "text/x-python",
   "name": "python",
   "nbconvert_exporter": "python",
   "pygments_lexer": "ipython3",
   "version": "3.8.10"
  }
 },
 "nbformat": 4,
 "nbformat_minor": 5
}
